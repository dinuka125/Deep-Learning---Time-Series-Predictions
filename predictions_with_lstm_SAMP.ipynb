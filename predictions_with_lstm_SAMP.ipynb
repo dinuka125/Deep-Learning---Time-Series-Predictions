{
  "nbformat": 4,
  "nbformat_minor": 0,
  "metadata": {
    "colab": {
      "name": " predictions with lstm  SAMP",
      "provenance": [],
      "collapsed_sections": [],
      "authorship_tag": "ABX9TyPkCvJSw7hA1GpMnLbP0gEx",
      "include_colab_link": true
    },
    "kernelspec": {
      "name": "python3",
      "display_name": "Python 3"
    },
    "accelerator": "GPU"
  },
  "cells": [
    {
      "cell_type": "markdown",
      "metadata": {
        "id": "view-in-github",
        "colab_type": "text"
      },
      "source": [
        "<a href=\"https://colab.research.google.com/github/dinuka125/japura-Git-Workshop/blob/master/predictions_with_lstm_SAMP.ipynb\" target=\"_parent\"><img src=\"https://colab.research.google.com/assets/colab-badge.svg\" alt=\"Open In Colab\"/></a>"
      ]
    },
    {
      "cell_type": "code",
      "metadata": {
        "colab": {
          "base_uri": "https://localhost:8080/"
        },
        "id": "fBinlnehdWq8",
        "outputId": "233132d1-b82f-4660-f800-5b4a4d6aa3f1"
      },
      "source": [
        "from google.colab import drive\n",
        "drive.mount('/content/drive')\n",
        "path ='/content/drive/My Drive/csv_files/'"
      ],
      "execution_count": 4,
      "outputs": [
        {
          "output_type": "stream",
          "text": [
            "Drive already mounted at /content/drive; to attempt to forcibly remount, call drive.mount(\"/content/drive\", force_remount=True).\n"
          ],
          "name": "stdout"
        }
      ]
    },
    {
      "cell_type": "code",
      "metadata": {
        "id": "CMMxqtgqcoQ-"
      },
      "source": [
        "import numpy as np\n",
        "\n",
        "data=np.load(path+'datasamp.npy')\n",
        "target=np.load(path+'targetsamp.npy')"
      ],
      "execution_count": 5,
      "outputs": []
    },
    {
      "cell_type": "code",
      "metadata": {
        "colab": {
          "base_uri": "https://localhost:8080/"
        },
        "id": "7Ll0G9PjeiHV",
        "outputId": "072d788a-2b45-42a9-dd6a-fc5f42442ffd"
      },
      "source": [
        "data.shape\n",
        "target.shape"
      ],
      "execution_count": 6,
      "outputs": [
        {
          "output_type": "execute_result",
          "data": {
            "text/plain": [
              "(2559,)"
            ]
          },
          "metadata": {
            "tags": []
          },
          "execution_count": 6
        }
      ]
    },
    {
      "cell_type": "code",
      "metadata": {
        "id": "X489EpW6cyH1"
      },
      "source": [
        "train_data=data[:1791]\n",
        "train_target=target[:1791]\n",
        "\n",
        "test_data=data[1791:]\n",
        "test_target=target[1791:]"
      ],
      "execution_count": 7,
      "outputs": []
    },
    {
      "cell_type": "code",
      "metadata": {
        "colab": {
          "base_uri": "https://localhost:8080/",
          "height": 279
        },
        "id": "TnPUxVY_c1tU",
        "outputId": "8f78e1cf-ffa8-459e-9185-739727f5d771"
      },
      "source": [
        "from matplotlib import pyplot as plt\n",
        "\n",
        "test_x_range=np.arange(1791,2559,1)\n",
        "#test_x_range is an array of values between 1000-1208\n",
        "\n",
        "plt.plot(train_target,'r',label='train')\n",
        "plt.plot(test_x_range,test_target,'b',label='test')\n",
        "plt.xlabel('Date')\n",
        "plt.ylabel('Open Value/$')\n",
        "plt.show()"
      ],
      "execution_count": 8,
      "outputs": [
        {
          "output_type": "display_data",
          "data": {
            "image/png": "[encoded data removed]",
            "text/plain": [
              "<Figure size 432x288 with 1 Axes>"
            ]
          },
          "metadata": {
            "tags": [],
            "needs_background": "light"
          }
        }
      ]
    },
    {
      "cell_type": "code",
      "metadata": {
        "id": "Aobw1dY1c9eT"
      },
      "source": [
        "from keras.models import Sequential\n",
        "from keras.layers import LSTM,Dense,Dropout\n",
        "\n",
        "model=Sequential()\n",
        "\n",
        "model.add(LSTM(units=96,return_sequences=True,input_shape=(data.shape[1:])))\n",
        "model.add(Dropout(0.2))\n",
        "\n",
        "model.add(LSTM(units=96,return_sequences=True))\n",
        "model.add(Dropout(0.2))\n",
        "\n",
        "model.add(LSTM(units=96,return_sequences=True))\n",
        "model.add(Dropout(0.2))\n",
        "\n",
        "model.add(LSTM(units=96,return_sequences=False))\n",
        "model.add(Dropout(0.2))\n",
        "\n",
        "model.add(Dense(units=1,activation='linear'))\n",
        "\n",
        "model.compile(loss='mse',optimizer='adam',metrics=['mse', 'mae', 'mape'])"
      ],
      "execution_count": 9,
      "outputs": []
    },
    {
      "cell_type": "code",
      "metadata": {
        "colab": {
          "base_uri": "https://localhost:8080/"
        },
        "id": "cAgTN16WdBP8",
        "outputId": "4477dd3a-dc54-4631-fb25-3ac3d1626f36"
      },
      "source": [
        "history=model.fit(train_data,train_target,epochs=200,validation_split=0.10)"
      ],
      "execution_count": 10,
      "outputs": [
        {
          "output_type": "stream",
          "text": [
            "Epoch 1/200\n",
            "51/51 [==============================] - 15s 176ms/step - loss: 0.0739 - mse: 0.0739 - mae: 0.1922 - mape: 31.2481 - val_loss: 0.0029 - val_mse: 0.0029 - val_mae: 0.0456 - val_mape: 6.0964\n",
            "Epoch 2/200\n",
            "51/51 [==============================] - 7s 144ms/step - loss: 0.0054 - mse: 0.0054 - mae: 0.0579 - mape: 9.7019 - val_loss: 0.0015 - val_mse: 0.0015 - val_mae: 0.0305 - val_mape: 4.0855\n",
            "Epoch 3/200\n",
            "51/51 [==============================] - 7s 144ms/step - loss: 0.0040 - mse: 0.0040 - mae: 0.0499 - mape: 7.9796 - val_loss: 0.0021 - val_mse: 0.0021 - val_mae: 0.0379 - val_mape: 5.1070\n",
            "Epoch 4/200\n",
            "51/51 [==============================] - 7s 143ms/step - loss: 0.0040 - mse: 0.0040 - mae: 0.0501 - mape: 8.0594 - val_loss: 0.0029 - val_mse: 0.0029 - val_mae: 0.0467 - val_mape: 6.3088\n",
            "Epoch 5/200\n",
            "51/51 [==============================] - 7s 143ms/step - loss: 0.0034 - mse: 0.0034 - mae: 0.0467 - mape: 7.5172 - val_loss: 0.0013 - val_mse: 0.0013 - val_mae: 0.0291 - val_mape: 3.9086\n",
            "Epoch 6/200\n",
            "51/51 [==============================] - 7s 143ms/step - loss: 0.0032 - mse: 0.0032 - mae: 0.0439 - mape: 7.0782 - val_loss: 0.0022 - val_mse: 0.0022 - val_mae: 0.0400 - val_mape: 5.3944\n",
            "Epoch 7/200\n",
            "51/51 [==============================] - 7s 145ms/step - loss: 0.0032 - mse: 0.0032 - mae: 0.0444 - mape: 7.1075 - val_loss: 0.0023 - val_mse: 0.0023 - val_mae: 0.0415 - val_mape: 5.6151\n",
            "Epoch 8/200\n",
            "51/51 [==============================] - 7s 144ms/step - loss: 0.0036 - mse: 0.0036 - mae: 0.0467 - mape: 7.5092 - val_loss: 0.0019 - val_mse: 0.0019 - val_mae: 0.0365 - val_mape: 4.9260\n",
            "Epoch 9/200\n",
            "51/51 [==============================] - 7s 144ms/step - loss: 0.0031 - mse: 0.0031 - mae: 0.0436 - mape: 6.9673 - val_loss: 6.1240e-04 - val_mse: 6.1240e-04 - val_mae: 0.0197 - val_mape: 2.6600\n",
            "Epoch 10/200\n",
            "51/51 [==============================] - 7s 145ms/step - loss: 0.0028 - mse: 0.0028 - mae: 0.0409 - mape: 6.5083 - val_loss: 0.0016 - val_mse: 0.0016 - val_mae: 0.0335 - val_mape: 4.6801\n",
            "Epoch 11/200\n",
            "51/51 [==============================] - 7s 145ms/step - loss: 0.0033 - mse: 0.0033 - mae: 0.0450 - mape: 7.2831 - val_loss: 0.0020 - val_mse: 0.0020 - val_mae: 0.0387 - val_mape: 5.2419\n",
            "Epoch 12/200\n",
            "51/51 [==============================] - 7s 145ms/step - loss: 0.0030 - mse: 0.0030 - mae: 0.0420 - mape: 6.7055 - val_loss: 5.4458e-04 - val_mse: 5.4458e-04 - val_mae: 0.0192 - val_mape: 2.6184\n",
            "Epoch 13/200\n",
            "51/51 [==============================] - 7s 145ms/step - loss: 0.0026 - mse: 0.0026 - mae: 0.0395 - mape: 6.4142 - val_loss: 7.9584e-04 - val_mse: 7.9584e-04 - val_mae: 0.0225 - val_mape: 3.0300\n",
            "Epoch 14/200\n",
            "51/51 [==============================] - 7s 145ms/step - loss: 0.0025 - mse: 0.0025 - mae: 0.0386 - mape: 6.1707 - val_loss: 6.6523e-04 - val_mse: 6.6523e-04 - val_mae: 0.0202 - val_mape: 2.7225\n",
            "Epoch 15/200\n",
            "51/51 [==============================] - 7s 145ms/step - loss: 0.0022 - mse: 0.0022 - mae: 0.0379 - mape: 6.2016 - val_loss: 4.8556e-04 - val_mse: 4.8556e-04 - val_mae: 0.0173 - val_mape: 2.3444\n",
            "Epoch 16/200\n",
            "51/51 [==============================] - 7s 145ms/step - loss: 0.0025 - mse: 0.0025 - mae: 0.0392 - mape: 6.3020 - val_loss: 6.0068e-04 - val_mse: 6.0068e-04 - val_mae: 0.0192 - val_mape: 2.5855\n",
            "Epoch 17/200\n",
            "51/51 [==============================] - 7s 145ms/step - loss: 0.0023 - mse: 0.0023 - mae: 0.0369 - mape: 5.9471 - val_loss: 0.0016 - val_mse: 0.0016 - val_mae: 0.0353 - val_mape: 4.7940\n",
            "Epoch 18/200\n",
            "51/51 [==============================] - 7s 145ms/step - loss: 0.0027 - mse: 0.0027 - mae: 0.0409 - mape: 6.5717 - val_loss: 8.3316e-04 - val_mse: 8.3316e-04 - val_mae: 0.0239 - val_mape: 3.2371\n",
            "Epoch 19/200\n",
            "51/51 [==============================] - 7s 146ms/step - loss: 0.0023 - mse: 0.0023 - mae: 0.0369 - mape: 5.9429 - val_loss: 7.2968e-04 - val_mse: 7.2968e-04 - val_mae: 0.0220 - val_mape: 2.9689\n",
            "Epoch 20/200\n",
            "51/51 [==============================] - 7s 145ms/step - loss: 0.0021 - mse: 0.0021 - mae: 0.0362 - mape: 5.8307 - val_loss: 4.2981e-04 - val_mse: 4.2981e-04 - val_mae: 0.0160 - val_mape: 2.1698\n",
            "Epoch 21/200\n",
            "51/51 [==============================] - 7s 145ms/step - loss: 0.0023 - mse: 0.0023 - mae: 0.0368 - mape: 5.8970 - val_loss: 0.0012 - val_mse: 0.0012 - val_mae: 0.0301 - val_mape: 4.1980\n",
            "Epoch 22/200\n",
            "51/51 [==============================] - 7s 146ms/step - loss: 0.0026 - mse: 0.0026 - mae: 0.0396 - mape: 6.3814 - val_loss: 3.8115e-04 - val_mse: 3.8115e-04 - val_mae: 0.0151 - val_mape: 2.0514\n",
            "Epoch 23/200\n",
            "51/51 [==============================] - 7s 147ms/step - loss: 0.0022 - mse: 0.0022 - mae: 0.0363 - mape: 5.8226 - val_loss: 5.7968e-04 - val_mse: 5.7968e-04 - val_mae: 0.0198 - val_mape: 2.7549\n",
            "Epoch 24/200\n",
            "51/51 [==============================] - 7s 146ms/step - loss: 0.0020 - mse: 0.0020 - mae: 0.0346 - mape: 5.5726 - val_loss: 5.6855e-04 - val_mse: 5.6855e-04 - val_mae: 0.0192 - val_mape: 2.5887\n",
            "Epoch 25/200\n",
            "51/51 [==============================] - 7s 146ms/step - loss: 0.0022 - mse: 0.0022 - mae: 0.0362 - mape: 5.8151 - val_loss: 0.0020 - val_mse: 0.0020 - val_mae: 0.0409 - val_mape: 5.5780\n",
            "Epoch 26/200\n",
            "51/51 [==============================] - 8s 148ms/step - loss: 0.0019 - mse: 0.0019 - mae: 0.0342 - mape: 5.5025 - val_loss: 3.2037e-04 - val_mse: 3.2037e-04 - val_mae: 0.0142 - val_mape: 1.9416\n",
            "Epoch 27/200\n",
            "51/51 [==============================] - 8s 148ms/step - loss: 0.0022 - mse: 0.0022 - mae: 0.0365 - mape: 5.9270 - val_loss: 4.0560e-04 - val_mse: 4.0560e-04 - val_mae: 0.0156 - val_mape: 2.1150\n",
            "Epoch 28/200\n",
            "51/51 [==============================] - 8s 148ms/step - loss: 0.0019 - mse: 0.0019 - mae: 0.0328 - mape: 5.3160 - val_loss: 2.8856e-04 - val_mse: 2.8856e-04 - val_mae: 0.0131 - val_mape: 1.7934\n",
            "Epoch 29/200\n",
            "51/51 [==============================] - 8s 147ms/step - loss: 0.0020 - mse: 0.0020 - mae: 0.0345 - mape: 5.4940 - val_loss: 3.0367e-04 - val_mse: 3.0367e-04 - val_mae: 0.0132 - val_mape: 1.7805\n",
            "Epoch 30/200\n",
            "51/51 [==============================] - 8s 149ms/step - loss: 0.0017 - mse: 0.0017 - mae: 0.0325 - mape: 5.2259 - val_loss: 3.9766e-04 - val_mse: 3.9766e-04 - val_mae: 0.0157 - val_mape: 2.1241\n",
            "Epoch 31/200\n",
            "51/51 [==============================] - 8s 150ms/step - loss: 0.0019 - mse: 0.0019 - mae: 0.0343 - mape: 5.5415 - val_loss: 7.9128e-04 - val_mse: 7.9128e-04 - val_mae: 0.0239 - val_mape: 3.2401\n",
            "Epoch 32/200\n",
            "51/51 [==============================] - 8s 148ms/step - loss: 0.0019 - mse: 0.0019 - mae: 0.0334 - mape: 5.3628 - val_loss: 9.9809e-04 - val_mse: 9.9809e-04 - val_mae: 0.0277 - val_mape: 3.7600\n",
            "Epoch 33/200\n",
            "51/51 [==============================] - 8s 152ms/step - loss: 0.0016 - mse: 0.0016 - mae: 0.0317 - mape: 5.1604 - val_loss: 5.9797e-04 - val_mse: 5.9797e-04 - val_mae: 0.0204 - val_mape: 2.7539\n",
            "Epoch 34/200\n",
            "51/51 [==============================] - 8s 152ms/step - loss: 0.0015 - mse: 0.0015 - mae: 0.0304 - mape: 4.9664 - val_loss: 0.0011 - val_mse: 0.0011 - val_mae: 0.0289 - val_mape: 4.0027\n",
            "Epoch 35/200\n",
            "51/51 [==============================] - 8s 153ms/step - loss: 0.0019 - mse: 0.0019 - mae: 0.0339 - mape: 5.4773 - val_loss: 2.4216e-04 - val_mse: 2.4216e-04 - val_mae: 0.0124 - val_mape: 1.6918\n",
            "Epoch 36/200\n",
            "51/51 [==============================] - 8s 152ms/step - loss: 0.0016 - mse: 0.0016 - mae: 0.0317 - mape: 5.1490 - val_loss: 2.8075e-04 - val_mse: 2.8075e-04 - val_mae: 0.0127 - val_mape: 1.7234\n",
            "Epoch 37/200\n",
            "51/51 [==============================] - 8s 151ms/step - loss: 0.0015 - mse: 0.0015 - mae: 0.0307 - mape: 4.9680 - val_loss: 4.9452e-04 - val_mse: 4.9452e-04 - val_mae: 0.0184 - val_mape: 2.4910\n",
            "Epoch 38/200\n",
            "51/51 [==============================] - 8s 153ms/step - loss: 0.0018 - mse: 0.0018 - mae: 0.0335 - mape: 5.3233 - val_loss: 2.8755e-04 - val_mse: 2.8755e-04 - val_mae: 0.0137 - val_mape: 1.8962\n",
            "Epoch 39/200\n",
            "51/51 [==============================] - 8s 154ms/step - loss: 0.0013 - mse: 0.0013 - mae: 0.0281 - mape: 4.5763 - val_loss: 2.3327e-04 - val_mse: 2.3327e-04 - val_mae: 0.0122 - val_mape: 1.6739\n",
            "Epoch 40/200\n",
            "51/51 [==============================] - 8s 154ms/step - loss: 0.0014 - mse: 0.0014 - mae: 0.0293 - mape: 4.7106 - val_loss: 4.6242e-04 - val_mse: 4.6242e-04 - val_mae: 0.0177 - val_mape: 2.3902\n",
            "Epoch 41/200\n",
            "51/51 [==============================] - 8s 153ms/step - loss: 0.0013 - mse: 0.0013 - mae: 0.0284 - mape: 4.5982 - val_loss: 6.9449e-04 - val_mse: 6.9449e-04 - val_mae: 0.0232 - val_mape: 3.2312\n",
            "Epoch 42/200\n",
            "51/51 [==============================] - 8s 152ms/step - loss: 0.0015 - mse: 0.0015 - mae: 0.0301 - mape: 4.8427 - val_loss: 2.6368e-04 - val_mse: 2.6368e-04 - val_mae: 0.0135 - val_mape: 1.8783\n",
            "Epoch 43/200\n",
            "51/51 [==============================] - 8s 153ms/step - loss: 0.0016 - mse: 0.0016 - mae: 0.0308 - mape: 4.9232 - val_loss: 2.6187e-04 - val_mse: 2.6187e-04 - val_mae: 0.0122 - val_mape: 1.6444\n",
            "Epoch 44/200\n",
            "51/51 [==============================] - 8s 153ms/step - loss: 0.0016 - mse: 0.0016 - mae: 0.0312 - mape: 5.0435 - val_loss: 1.9538e-04 - val_mse: 1.9538e-04 - val_mae: 0.0108 - val_mape: 1.4698\n",
            "Epoch 45/200\n",
            "51/51 [==============================] - 8s 153ms/step - loss: 0.0014 - mse: 0.0014 - mae: 0.0289 - mape: 4.6184 - val_loss: 2.0742e-04 - val_mse: 2.0742e-04 - val_mae: 0.0107 - val_mape: 1.4516\n",
            "Epoch 46/200\n",
            "51/51 [==============================] - 8s 154ms/step - loss: 0.0014 - mse: 0.0014 - mae: 0.0292 - mape: 4.6568 - val_loss: 2.0981e-04 - val_mse: 2.0981e-04 - val_mae: 0.0109 - val_mape: 1.4682\n",
            "Epoch 47/200\n",
            "51/51 [==============================] - 8s 151ms/step - loss: 0.0013 - mse: 0.0013 - mae: 0.0272 - mape: 4.4094 - val_loss: 1.8180e-04 - val_mse: 1.8180e-04 - val_mae: 0.0104 - val_mape: 1.4132\n",
            "Epoch 48/200\n",
            "51/51 [==============================] - 8s 153ms/step - loss: 0.0013 - mse: 0.0013 - mae: 0.0277 - mape: 4.5898 - val_loss: 1.7336e-04 - val_mse: 1.7336e-04 - val_mae: 0.0098 - val_mape: 1.3267\n",
            "Epoch 49/200\n",
            "51/51 [==============================] - 8s 153ms/step - loss: 0.0012 - mse: 0.0012 - mae: 0.0266 - mape: 4.3333 - val_loss: 1.9615e-04 - val_mse: 1.9615e-04 - val_mae: 0.0104 - val_mape: 1.4025\n",
            "Epoch 50/200\n",
            "51/51 [==============================] - 8s 154ms/step - loss: 0.0014 - mse: 0.0014 - mae: 0.0291 - mape: 4.6746 - val_loss: 0.0017 - val_mse: 0.0017 - val_mae: 0.0395 - val_mape: 5.3908\n",
            "Epoch 51/200\n",
            "51/51 [==============================] - 8s 154ms/step - loss: 0.0014 - mse: 0.0014 - mae: 0.0286 - mape: 4.5341 - val_loss: 3.6068e-04 - val_mse: 3.6068e-04 - val_mae: 0.0156 - val_mape: 2.1143\n",
            "Epoch 52/200\n",
            "51/51 [==============================] - 8s 155ms/step - loss: 0.0012 - mse: 0.0012 - mae: 0.0265 - mape: 4.2547 - val_loss: 2.6511e-04 - val_mse: 2.6511e-04 - val_mae: 0.0134 - val_mape: 1.8591\n",
            "Epoch 53/200\n",
            "51/51 [==============================] - 8s 155ms/step - loss: 0.0012 - mse: 0.0012 - mae: 0.0267 - mape: 4.2485 - val_loss: 3.8999e-04 - val_mse: 3.8999e-04 - val_mae: 0.0170 - val_mape: 2.3770\n",
            "Epoch 54/200\n",
            "51/51 [==============================] - 8s 155ms/step - loss: 0.0011 - mse: 0.0011 - mae: 0.0255 - mape: 4.1229 - val_loss: 1.7289e-04 - val_mse: 1.7289e-04 - val_mae: 0.0097 - val_mape: 1.3162\n",
            "Epoch 55/200\n",
            "51/51 [==============================] - 8s 153ms/step - loss: 0.0011 - mse: 0.0011 - mae: 0.0262 - mape: 4.3028 - val_loss: 3.0081e-04 - val_mse: 3.0081e-04 - val_mae: 0.0148 - val_mape: 2.0605\n",
            "Epoch 56/200\n",
            "51/51 [==============================] - 8s 154ms/step - loss: 0.0014 - mse: 0.0014 - mae: 0.0295 - mape: 4.7764 - val_loss: 3.1946e-04 - val_mse: 3.1946e-04 - val_mae: 0.0153 - val_mape: 2.1347\n",
            "Epoch 57/200\n",
            "51/51 [==============================] - 8s 155ms/step - loss: 0.0012 - mse: 0.0012 - mae: 0.0274 - mape: 4.3693 - val_loss: 2.6116e-04 - val_mse: 2.6116e-04 - val_mae: 0.0134 - val_mape: 1.8562\n",
            "Epoch 58/200\n",
            "51/51 [==============================] - 8s 154ms/step - loss: 0.0014 - mse: 0.0014 - mae: 0.0291 - mape: 4.6061 - val_loss: 1.7207e-04 - val_mse: 1.7207e-04 - val_mae: 0.0096 - val_mape: 1.3025\n",
            "Epoch 59/200\n",
            "51/51 [==============================] - 8s 154ms/step - loss: 0.0011 - mse: 0.0011 - mae: 0.0262 - mape: 4.2255 - val_loss: 1.6618e-04 - val_mse: 1.6618e-04 - val_mae: 0.0098 - val_mape: 1.3458\n",
            "Epoch 60/200\n",
            "51/51 [==============================] - 8s 153ms/step - loss: 9.8978e-04 - mse: 9.8978e-04 - mae: 0.0242 - mape: 3.9092 - val_loss: 1.6366e-04 - val_mse: 1.6366e-04 - val_mae: 0.0093 - val_mape: 1.2623\n",
            "Epoch 61/200\n",
            "51/51 [==============================] - 8s 154ms/step - loss: 0.0012 - mse: 0.0012 - mae: 0.0267 - mape: 4.2830 - val_loss: 6.6988e-04 - val_mse: 6.6988e-04 - val_mae: 0.0231 - val_mape: 3.1439\n",
            "Epoch 62/200\n",
            "51/51 [==============================] - 8s 153ms/step - loss: 0.0011 - mse: 0.0011 - mae: 0.0259 - mape: 4.1526 - val_loss: 6.8446e-04 - val_mse: 6.8446e-04 - val_mae: 0.0237 - val_mape: 3.2803\n",
            "Epoch 63/200\n",
            "51/51 [==============================] - 8s 152ms/step - loss: 0.0011 - mse: 0.0011 - mae: 0.0253 - mape: 4.0545 - val_loss: 2.0356e-04 - val_mse: 2.0356e-04 - val_mae: 0.0110 - val_mape: 1.4853\n",
            "Epoch 64/200\n",
            "51/51 [==============================] - 8s 154ms/step - loss: 9.4973e-04 - mse: 9.4973e-04 - mae: 0.0241 - mape: 3.8651 - val_loss: 2.3837e-04 - val_mse: 2.3837e-04 - val_mae: 0.0121 - val_mape: 1.6349\n",
            "Epoch 65/200\n",
            "51/51 [==============================] - 8s 154ms/step - loss: 0.0010 - mse: 0.0010 - mae: 0.0249 - mape: 3.9769 - val_loss: 1.4766e-04 - val_mse: 1.4766e-04 - val_mae: 0.0088 - val_mape: 1.1935\n",
            "Epoch 66/200\n",
            "51/51 [==============================] - 8s 153ms/step - loss: 8.7766e-04 - mse: 8.7766e-04 - mae: 0.0225 - mape: 3.5930 - val_loss: 1.4787e-04 - val_mse: 1.4787e-04 - val_mae: 0.0087 - val_mape: 1.1851\n",
            "Epoch 67/200\n",
            "51/51 [==============================] - 8s 153ms/step - loss: 9.2618e-04 - mse: 9.2618e-04 - mae: 0.0238 - mape: 3.8323 - val_loss: 1.6603e-04 - val_mse: 1.6603e-04 - val_mae: 0.0104 - val_mape: 1.4326\n",
            "Epoch 68/200\n",
            "51/51 [==============================] - 8s 153ms/step - loss: 9.4910e-04 - mse: 9.4910e-04 - mae: 0.0242 - mape: 3.9226 - val_loss: 2.0245e-04 - val_mse: 2.0245e-04 - val_mae: 0.0118 - val_mape: 1.6330\n",
            "Epoch 69/200\n",
            "51/51 [==============================] - 8s 154ms/step - loss: 9.0890e-04 - mse: 9.0890e-04 - mae: 0.0237 - mape: 3.7679 - val_loss: 2.5668e-04 - val_mse: 2.5668e-04 - val_mae: 0.0136 - val_mape: 1.8883\n",
            "Epoch 70/200\n",
            "51/51 [==============================] - 8s 154ms/step - loss: 7.3368e-04 - mse: 7.3368e-04 - mae: 0.0209 - mape: 3.4195 - val_loss: 1.2947e-04 - val_mse: 1.2947e-04 - val_mae: 0.0081 - val_mape: 1.1096\n",
            "Epoch 71/200\n",
            "51/51 [==============================] - 8s 154ms/step - loss: 8.7276e-04 - mse: 8.7276e-04 - mae: 0.0224 - mape: 3.5678 - val_loss: 2.0512e-04 - val_mse: 2.0512e-04 - val_mae: 0.0119 - val_mape: 1.6522\n",
            "Epoch 72/200\n",
            "51/51 [==============================] - 8s 153ms/step - loss: 9.0289e-04 - mse: 9.0289e-04 - mae: 0.0233 - mape: 3.7641 - val_loss: 2.8905e-04 - val_mse: 2.8905e-04 - val_mae: 0.0142 - val_mape: 1.9240\n",
            "Epoch 73/200\n",
            "51/51 [==============================] - 8s 153ms/step - loss: 7.4256e-04 - mse: 7.4256e-04 - mae: 0.0209 - mape: 3.3950 - val_loss: 1.8147e-04 - val_mse: 1.8147e-04 - val_mae: 0.0103 - val_mape: 1.3953\n",
            "Epoch 74/200\n",
            "51/51 [==============================] - 8s 153ms/step - loss: 7.7910e-04 - mse: 7.7910e-04 - mae: 0.0219 - mape: 3.5183 - val_loss: 4.0739e-04 - val_mse: 4.0739e-04 - val_mae: 0.0177 - val_mape: 2.4041\n",
            "Epoch 75/200\n",
            "51/51 [==============================] - 8s 155ms/step - loss: 8.8029e-04 - mse: 8.8029e-04 - mae: 0.0228 - mape: 3.6690 - val_loss: 1.6451e-04 - val_mse: 1.6451e-04 - val_mae: 0.0097 - val_mape: 1.3116\n",
            "Epoch 76/200\n",
            "51/51 [==============================] - 8s 155ms/step - loss: 7.7126e-04 - mse: 7.7126e-04 - mae: 0.0214 - mape: 3.4503 - val_loss: 3.9559e-04 - val_mse: 3.9559e-04 - val_mae: 0.0176 - val_mape: 2.4360\n",
            "Epoch 77/200\n",
            "51/51 [==============================] - 8s 154ms/step - loss: 8.6245e-04 - mse: 8.6245e-04 - mae: 0.0223 - mape: 3.5221 - val_loss: 2.4823e-04 - val_mse: 2.4823e-04 - val_mae: 0.0134 - val_mape: 1.8563\n",
            "Epoch 78/200\n",
            "51/51 [==============================] - 8s 153ms/step - loss: 8.0985e-04 - mse: 8.0985e-04 - mae: 0.0220 - mape: 3.5336 - val_loss: 1.3936e-04 - val_mse: 1.3936e-04 - val_mae: 0.0087 - val_mape: 1.1762\n",
            "Epoch 79/200\n",
            "51/51 [==============================] - 8s 154ms/step - loss: 7.4518e-04 - mse: 7.4518e-04 - mae: 0.0207 - mape: 3.3396 - val_loss: 1.2263e-04 - val_mse: 1.2263e-04 - val_mae: 0.0086 - val_mape: 1.1923\n",
            "Epoch 80/200\n",
            "51/51 [==============================] - 8s 155ms/step - loss: 7.1647e-04 - mse: 7.1647e-04 - mae: 0.0204 - mape: 3.2986 - val_loss: 2.9202e-04 - val_mse: 2.9202e-04 - val_mae: 0.0150 - val_mape: 2.0752\n",
            "Epoch 81/200\n",
            "51/51 [==============================] - 8s 152ms/step - loss: 7.6592e-04 - mse: 7.6592e-04 - mae: 0.0213 - mape: 3.4212 - val_loss: 2.2454e-04 - val_mse: 2.2454e-04 - val_mae: 0.0124 - val_mape: 1.6858\n",
            "Epoch 82/200\n",
            "51/51 [==============================] - 8s 153ms/step - loss: 7.2710e-04 - mse: 7.2710e-04 - mae: 0.0210 - mape: 3.3883 - val_loss: 3.6660e-04 - val_mse: 3.6660e-04 - val_mae: 0.0169 - val_mape: 2.3030\n",
            "Epoch 83/200\n",
            "51/51 [==============================] - 8s 153ms/step - loss: 7.7642e-04 - mse: 7.7642e-04 - mae: 0.0216 - mape: 3.4532 - val_loss: 1.1679e-04 - val_mse: 1.1679e-04 - val_mae: 0.0078 - val_mape: 1.0649\n",
            "Epoch 84/200\n",
            "51/51 [==============================] - 8s 153ms/step - loss: 6.3342e-04 - mse: 6.3342e-04 - mae: 0.0190 - mape: 3.0746 - val_loss: 1.2684e-04 - val_mse: 1.2684e-04 - val_mae: 0.0083 - val_mape: 1.1252\n",
            "Epoch 85/200\n",
            "51/51 [==============================] - 8s 154ms/step - loss: 6.2220e-04 - mse: 6.2220e-04 - mae: 0.0195 - mape: 3.1573 - val_loss: 1.0163e-04 - val_mse: 1.0163e-04 - val_mae: 0.0074 - val_mape: 1.0152\n",
            "Epoch 86/200\n",
            "51/51 [==============================] - 8s 154ms/step - loss: 8.1618e-04 - mse: 8.1618e-04 - mae: 0.0225 - mape: 3.5828 - val_loss: 1.0808e-04 - val_mse: 1.0808e-04 - val_mae: 0.0079 - val_mape: 1.0903\n",
            "Epoch 87/200\n",
            "51/51 [==============================] - 8s 155ms/step - loss: 6.3554e-04 - mse: 6.3554e-04 - mae: 0.0189 - mape: 2.9883 - val_loss: 1.7207e-04 - val_mse: 1.7207e-04 - val_mae: 0.0104 - val_mape: 1.4229\n",
            "Epoch 88/200\n",
            "51/51 [==============================] - 8s 155ms/step - loss: 5.9033e-04 - mse: 5.9033e-04 - mae: 0.0190 - mape: 3.0955 - val_loss: 1.0214e-04 - val_mse: 1.0214e-04 - val_mae: 0.0077 - val_mape: 1.0701\n",
            "Epoch 89/200\n",
            "51/51 [==============================] - 8s 156ms/step - loss: 7.2079e-04 - mse: 7.2079e-04 - mae: 0.0208 - mape: 3.3512 - val_loss: 9.9540e-05 - val_mse: 9.9540e-05 - val_mae: 0.0075 - val_mape: 1.0407\n",
            "Epoch 90/200\n",
            "51/51 [==============================] - 8s 155ms/step - loss: 5.4144e-04 - mse: 5.4144e-04 - mae: 0.0183 - mape: 2.9809 - val_loss: 3.9844e-04 - val_mse: 3.9844e-04 - val_mae: 0.0179 - val_mape: 2.4522\n",
            "Epoch 91/200\n",
            "51/51 [==============================] - 8s 154ms/step - loss: 6.1982e-04 - mse: 6.1982e-04 - mae: 0.0193 - mape: 3.0893 - val_loss: 3.7585e-04 - val_mse: 3.7585e-04 - val_mae: 0.0172 - val_mape: 2.3398\n",
            "Epoch 92/200\n",
            "51/51 [==============================] - 8s 157ms/step - loss: 6.7364e-04 - mse: 6.7364e-04 - mae: 0.0196 - mape: 3.1447 - val_loss: 1.3046e-04 - val_mse: 1.3046e-04 - val_mae: 0.0092 - val_mape: 1.2722\n",
            "Epoch 93/200\n",
            "51/51 [==============================] - 8s 155ms/step - loss: 5.6722e-04 - mse: 5.6722e-04 - mae: 0.0180 - mape: 2.9241 - val_loss: 7.1422e-04 - val_mse: 7.1422e-04 - val_mae: 0.0251 - val_mape: 3.4369\n",
            "Epoch 94/200\n",
            "51/51 [==============================] - 8s 156ms/step - loss: 5.7386e-04 - mse: 5.7386e-04 - mae: 0.0186 - mape: 3.0182 - val_loss: 9.9272e-05 - val_mse: 9.9272e-05 - val_mae: 0.0076 - val_mape: 1.0557\n",
            "Epoch 95/200\n",
            "51/51 [==============================] - 8s 154ms/step - loss: 5.5699e-04 - mse: 5.5699e-04 - mae: 0.0180 - mape: 2.8585 - val_loss: 1.7081e-04 - val_mse: 1.7081e-04 - val_mae: 0.0105 - val_mape: 1.4124\n",
            "Epoch 96/200\n",
            "51/51 [==============================] - 8s 156ms/step - loss: 6.3031e-04 - mse: 6.3031e-04 - mae: 0.0191 - mape: 3.1311 - val_loss: 9.0067e-05 - val_mse: 9.0067e-05 - val_mae: 0.0070 - val_mape: 0.9658\n",
            "Epoch 97/200\n",
            "51/51 [==============================] - 8s 154ms/step - loss: 5.5603e-04 - mse: 5.5603e-04 - mae: 0.0184 - mape: 2.9649 - val_loss: 2.3312e-04 - val_mse: 2.3312e-04 - val_mae: 0.0131 - val_mape: 1.7861\n",
            "Epoch 98/200\n",
            "51/51 [==============================] - 8s 155ms/step - loss: 5.5134e-04 - mse: 5.5134e-04 - mae: 0.0182 - mape: 2.8942 - val_loss: 1.3175e-04 - val_mse: 1.3175e-04 - val_mae: 0.0088 - val_mape: 1.1940\n",
            "Epoch 99/200\n",
            "51/51 [==============================] - 8s 155ms/step - loss: 5.8595e-04 - mse: 5.8595e-04 - mae: 0.0186 - mape: 2.9972 - val_loss: 8.5974e-05 - val_mse: 8.5974e-05 - val_mae: 0.0068 - val_mape: 0.9397\n",
            "Epoch 100/200\n",
            "51/51 [==============================] - 8s 156ms/step - loss: 4.7659e-04 - mse: 4.7659e-04 - mae: 0.0166 - mape: 2.6648 - val_loss: 1.0903e-04 - val_mse: 1.0903e-04 - val_mae: 0.0083 - val_mape: 1.1523\n",
            "Epoch 101/200\n",
            "51/51 [==============================] - 8s 154ms/step - loss: 4.9571e-04 - mse: 4.9571e-04 - mae: 0.0172 - mape: 2.7791 - val_loss: 8.4401e-05 - val_mse: 8.4401e-05 - val_mae: 0.0065 - val_mape: 0.8935\n",
            "Epoch 102/200\n",
            "51/51 [==============================] - 8s 155ms/step - loss: 5.6439e-04 - mse: 5.6439e-04 - mae: 0.0182 - mape: 2.9703 - val_loss: 1.3877e-04 - val_mse: 1.3877e-04 - val_mae: 0.0091 - val_mape: 1.2369\n",
            "Epoch 103/200\n",
            "51/51 [==============================] - 8s 155ms/step - loss: 5.0494e-04 - mse: 5.0494e-04 - mae: 0.0173 - mape: 2.8002 - val_loss: 9.1575e-05 - val_mse: 9.1575e-05 - val_mae: 0.0072 - val_mape: 0.9999\n",
            "Epoch 104/200\n",
            "51/51 [==============================] - 8s 155ms/step - loss: 4.4428e-04 - mse: 4.4428e-04 - mae: 0.0165 - mape: 2.7091 - val_loss: 2.1452e-04 - val_mse: 2.1452e-04 - val_mae: 0.0128 - val_mape: 1.7723\n",
            "Epoch 105/200\n",
            "51/51 [==============================] - 8s 155ms/step - loss: 7.3357e-04 - mse: 7.3357e-04 - mae: 0.0210 - mape: 3.3728 - val_loss: 3.9506e-04 - val_mse: 3.9506e-04 - val_mae: 0.0181 - val_mape: 2.4842\n",
            "Epoch 106/200\n",
            "51/51 [==============================] - 8s 156ms/step - loss: 5.2764e-04 - mse: 5.2764e-04 - mae: 0.0177 - mape: 2.8657 - val_loss: 1.2256e-04 - val_mse: 1.2256e-04 - val_mae: 0.0089 - val_mape: 1.2406\n",
            "Epoch 107/200\n",
            "51/51 [==============================] - 8s 156ms/step - loss: 5.4478e-04 - mse: 5.4478e-04 - mae: 0.0181 - mape: 2.9649 - val_loss: 8.3933e-05 - val_mse: 8.3933e-05 - val_mae: 0.0068 - val_mape: 0.9469\n",
            "Epoch 108/200\n",
            "51/51 [==============================] - 8s 155ms/step - loss: 4.8769e-04 - mse: 4.8769e-04 - mae: 0.0167 - mape: 2.7225 - val_loss: 7.9150e-05 - val_mse: 7.9150e-05 - val_mae: 0.0063 - val_mape: 0.8686\n",
            "Epoch 109/200\n",
            "51/51 [==============================] - 8s 154ms/step - loss: 5.2677e-04 - mse: 5.2677e-04 - mae: 0.0175 - mape: 2.8118 - val_loss: 9.8518e-05 - val_mse: 9.8518e-05 - val_mae: 0.0073 - val_mape: 0.9950\n",
            "Epoch 110/200\n",
            "51/51 [==============================] - 8s 155ms/step - loss: 4.3541e-04 - mse: 4.3541e-04 - mae: 0.0159 - mape: 2.5932 - val_loss: 7.4029e-05 - val_mse: 7.4029e-05 - val_mae: 0.0060 - val_mape: 0.8274\n",
            "Epoch 111/200\n",
            "51/51 [==============================] - 8s 154ms/step - loss: 4.3915e-04 - mse: 4.3915e-04 - mae: 0.0159 - mape: 2.6222 - val_loss: 9.7874e-05 - val_mse: 9.7874e-05 - val_mae: 0.0073 - val_mape: 0.9926\n",
            "Epoch 112/200\n",
            "51/51 [==============================] - 8s 155ms/step - loss: 5.3476e-04 - mse: 5.3476e-04 - mae: 0.0180 - mape: 2.9414 - val_loss: 1.0939e-04 - val_mse: 1.0939e-04 - val_mae: 0.0084 - val_mape: 1.1563\n",
            "Epoch 113/200\n",
            "51/51 [==============================] - 8s 155ms/step - loss: 4.1789e-04 - mse: 4.1789e-04 - mae: 0.0155 - mape: 2.5145 - val_loss: 4.0320e-04 - val_mse: 4.0320e-04 - val_mae: 0.0184 - val_mape: 2.5152\n",
            "Epoch 114/200\n",
            "51/51 [==============================] - 8s 156ms/step - loss: 5.1642e-04 - mse: 5.1642e-04 - mae: 0.0178 - mape: 2.8796 - val_loss: 9.6953e-05 - val_mse: 9.6953e-05 - val_mae: 0.0073 - val_mape: 0.9837\n",
            "Epoch 115/200\n",
            "51/51 [==============================] - 8s 157ms/step - loss: 4.0819e-04 - mse: 4.0819e-04 - mae: 0.0150 - mape: 2.5236 - val_loss: 7.8777e-05 - val_mse: 7.8777e-05 - val_mae: 0.0063 - val_mape: 0.8569\n",
            "Epoch 116/200\n",
            "51/51 [==============================] - 8s 155ms/step - loss: 4.7896e-04 - mse: 4.7896e-04 - mae: 0.0168 - mape: 2.7816 - val_loss: 9.2681e-05 - val_mse: 9.2681e-05 - val_mae: 0.0075 - val_mape: 1.0323\n",
            "Epoch 117/200\n",
            "51/51 [==============================] - 8s 156ms/step - loss: 4.8907e-04 - mse: 4.8907e-04 - mae: 0.0167 - mape: 2.6735 - val_loss: 1.0237e-04 - val_mse: 1.0237e-04 - val_mae: 0.0076 - val_mape: 1.0219\n",
            "Epoch 118/200\n",
            "51/51 [==============================] - 8s 157ms/step - loss: 4.4573e-04 - mse: 4.4573e-04 - mae: 0.0163 - mape: 2.7110 - val_loss: 7.7085e-05 - val_mse: 7.7085e-05 - val_mae: 0.0064 - val_mape: 0.8731\n",
            "Epoch 119/200\n",
            "51/51 [==============================] - 8s 158ms/step - loss: 4.8190e-04 - mse: 4.8190e-04 - mae: 0.0168 - mape: 2.7216 - val_loss: 1.0492e-04 - val_mse: 1.0492e-04 - val_mae: 0.0077 - val_mape: 1.0488\n",
            "Epoch 120/200\n",
            "51/51 [==============================] - 8s 156ms/step - loss: 4.4538e-04 - mse: 4.4538e-04 - mae: 0.0163 - mape: 2.6739 - val_loss: 1.6980e-04 - val_mse: 1.6980e-04 - val_mae: 0.0107 - val_mape: 1.4511\n",
            "Epoch 121/200\n",
            "51/51 [==============================] - 8s 155ms/step - loss: 4.0056e-04 - mse: 4.0056e-04 - mae: 0.0154 - mape: 2.5197 - val_loss: 1.3648e-04 - val_mse: 1.3648e-04 - val_mae: 0.0094 - val_mape: 1.2754\n",
            "Epoch 122/200\n",
            "51/51 [==============================] - 8s 157ms/step - loss: 3.9292e-04 - mse: 3.9292e-04 - mae: 0.0152 - mape: 2.4825 - val_loss: 8.0141e-05 - val_mse: 8.0141e-05 - val_mae: 0.0065 - val_mape: 0.8815\n",
            "Epoch 123/200\n",
            "51/51 [==============================] - 8s 156ms/step - loss: 4.1992e-04 - mse: 4.1992e-04 - mae: 0.0157 - mape: 2.6131 - val_loss: 1.9460e-04 - val_mse: 1.9460e-04 - val_mae: 0.0118 - val_mape: 1.5979\n",
            "Epoch 124/200\n",
            "51/51 [==============================] - 8s 156ms/step - loss: 3.6910e-04 - mse: 3.6910e-04 - mae: 0.0149 - mape: 2.4225 - val_loss: 8.1582e-05 - val_mse: 8.1582e-05 - val_mae: 0.0068 - val_mape: 0.9338\n",
            "Epoch 125/200\n",
            "51/51 [==============================] - 8s 156ms/step - loss: 3.3627e-04 - mse: 3.3627e-04 - mae: 0.0141 - mape: 2.2767 - val_loss: 1.4239e-04 - val_mse: 1.4239e-04 - val_mae: 0.0096 - val_mape: 1.3091\n",
            "Epoch 126/200\n",
            "51/51 [==============================] - 8s 156ms/step - loss: 4.2837e-04 - mse: 4.2837e-04 - mae: 0.0158 - mape: 2.5533 - val_loss: 7.4239e-05 - val_mse: 7.4239e-05 - val_mae: 0.0061 - val_mape: 0.8284\n",
            "Epoch 127/200\n",
            "51/51 [==============================] - 8s 156ms/step - loss: 3.9258e-04 - mse: 3.9258e-04 - mae: 0.0151 - mape: 2.4774 - val_loss: 8.0585e-05 - val_mse: 8.0585e-05 - val_mae: 0.0065 - val_mape: 0.8884\n",
            "Epoch 128/200\n",
            "51/51 [==============================] - 8s 156ms/step - loss: 4.0206e-04 - mse: 4.0206e-04 - mae: 0.0151 - mape: 2.4801 - val_loss: 9.3547e-05 - val_mse: 9.3547e-05 - val_mae: 0.0072 - val_mape: 0.9740\n",
            "Epoch 129/200\n",
            "51/51 [==============================] - 8s 157ms/step - loss: 3.5271e-04 - mse: 3.5271e-04 - mae: 0.0140 - mape: 2.2966 - val_loss: 1.4657e-04 - val_mse: 1.4657e-04 - val_mae: 0.0100 - val_mape: 1.3588\n",
            "Epoch 130/200\n",
            "51/51 [==============================] - 8s 156ms/step - loss: 3.3837e-04 - mse: 3.3837e-04 - mae: 0.0141 - mape: 2.3142 - val_loss: 1.0586e-04 - val_mse: 1.0586e-04 - val_mae: 0.0079 - val_mape: 1.0739\n",
            "Epoch 131/200\n",
            "51/51 [==============================] - 8s 155ms/step - loss: 3.6548e-04 - mse: 3.6548e-04 - mae: 0.0145 - mape: 2.3378 - val_loss: 6.6514e-05 - val_mse: 6.6514e-05 - val_mae: 0.0057 - val_mape: 0.7814\n",
            "Epoch 132/200\n",
            "51/51 [==============================] - 8s 155ms/step - loss: 3.6794e-04 - mse: 3.6794e-04 - mae: 0.0144 - mape: 2.3707 - val_loss: 8.0255e-05 - val_mse: 8.0255e-05 - val_mae: 0.0068 - val_mape: 0.9411\n",
            "Epoch 133/200\n",
            "51/51 [==============================] - 8s 157ms/step - loss: 3.6290e-04 - mse: 3.6290e-04 - mae: 0.0147 - mape: 2.3944 - val_loss: 1.0851e-04 - val_mse: 1.0851e-04 - val_mae: 0.0080 - val_mape: 1.0915\n",
            "Epoch 134/200\n",
            "51/51 [==============================] - 8s 157ms/step - loss: 3.5929e-04 - mse: 3.5929e-04 - mae: 0.0147 - mape: 2.4343 - val_loss: 9.6528e-05 - val_mse: 9.6528e-05 - val_mae: 0.0074 - val_mape: 0.9982\n",
            "Epoch 135/200\n",
            "51/51 [==============================] - 8s 157ms/step - loss: 3.7037e-04 - mse: 3.7037e-04 - mae: 0.0147 - mape: 2.4754 - val_loss: 6.5434e-05 - val_mse: 6.5434e-05 - val_mae: 0.0056 - val_mape: 0.7726\n",
            "Epoch 136/200\n",
            "51/51 [==============================] - 8s 156ms/step - loss: 3.5790e-04 - mse: 3.5790e-04 - mae: 0.0144 - mape: 2.3651 - val_loss: 6.8592e-05 - val_mse: 6.8592e-05 - val_mae: 0.0057 - val_mape: 0.7787\n",
            "Epoch 137/200\n",
            "51/51 [==============================] - 8s 156ms/step - loss: 3.5732e-04 - mse: 3.5732e-04 - mae: 0.0143 - mape: 2.4270 - val_loss: 7.6815e-05 - val_mse: 7.6815e-05 - val_mae: 0.0062 - val_mape: 0.8458\n",
            "Epoch 138/200\n",
            "51/51 [==============================] - 8s 155ms/step - loss: 3.0429e-04 - mse: 3.0429e-04 - mae: 0.0132 - mape: 2.1700 - val_loss: 8.2315e-05 - val_mse: 8.2315e-05 - val_mae: 0.0066 - val_mape: 0.9047\n",
            "Epoch 139/200\n",
            "51/51 [==============================] - 8s 155ms/step - loss: 3.6596e-04 - mse: 3.6596e-04 - mae: 0.0146 - mape: 2.3972 - val_loss: 6.5180e-05 - val_mse: 6.5180e-05 - val_mae: 0.0054 - val_mape: 0.7414\n",
            "Epoch 140/200\n",
            "51/51 [==============================] - 8s 157ms/step - loss: 3.3267e-04 - mse: 3.3267e-04 - mae: 0.0139 - mape: 2.2673 - val_loss: 6.2726e-05 - val_mse: 6.2726e-05 - val_mae: 0.0053 - val_mape: 0.7343\n",
            "Epoch 141/200\n",
            "51/51 [==============================] - 8s 156ms/step - loss: 2.9742e-04 - mse: 2.9742e-04 - mae: 0.0130 - mape: 2.1396 - val_loss: 1.3508e-04 - val_mse: 1.3508e-04 - val_mae: 0.0098 - val_mape: 1.3655\n",
            "Epoch 142/200\n",
            "51/51 [==============================] - 8s 155ms/step - loss: 3.1519e-04 - mse: 3.1519e-04 - mae: 0.0134 - mape: 2.2412 - val_loss: 6.5695e-05 - val_mse: 6.5695e-05 - val_mae: 0.0055 - val_mape: 0.7528\n",
            "Epoch 143/200\n",
            "51/51 [==============================] - 8s 155ms/step - loss: 3.8681e-04 - mse: 3.8681e-04 - mae: 0.0148 - mape: 2.5051 - val_loss: 6.5453e-05 - val_mse: 6.5453e-05 - val_mae: 0.0057 - val_mape: 0.7908\n",
            "Epoch 144/200\n",
            "51/51 [==============================] - 8s 155ms/step - loss: 2.8535e-04 - mse: 2.8535e-04 - mae: 0.0127 - mape: 2.1065 - val_loss: 2.9457e-04 - val_mse: 2.9457e-04 - val_mae: 0.0152 - val_mape: 2.0521\n",
            "Epoch 145/200\n",
            "51/51 [==============================] - 8s 156ms/step - loss: 3.4542e-04 - mse: 3.4542e-04 - mae: 0.0138 - mape: 2.2722 - val_loss: 1.3197e-04 - val_mse: 1.3197e-04 - val_mae: 0.0092 - val_mape: 1.2371\n",
            "Epoch 146/200\n",
            "51/51 [==============================] - 8s 156ms/step - loss: 3.3944e-04 - mse: 3.3944e-04 - mae: 0.0138 - mape: 2.2491 - val_loss: 1.1630e-04 - val_mse: 1.1630e-04 - val_mae: 0.0090 - val_mape: 1.2503\n",
            "Epoch 147/200\n",
            "51/51 [==============================] - 8s 155ms/step - loss: 3.5071e-04 - mse: 3.5071e-04 - mae: 0.0146 - mape: 2.4005 - val_loss: 7.7963e-05 - val_mse: 7.7963e-05 - val_mae: 0.0067 - val_mape: 0.9297\n",
            "Epoch 148/200\n",
            "51/51 [==============================] - 8s 155ms/step - loss: 2.9324e-04 - mse: 2.9324e-04 - mae: 0.0130 - mape: 2.1356 - val_loss: 1.2950e-04 - val_mse: 1.2950e-04 - val_mae: 0.0097 - val_mape: 1.3442\n",
            "Epoch 149/200\n",
            "51/51 [==============================] - 8s 156ms/step - loss: 3.7168e-04 - mse: 3.7168e-04 - mae: 0.0147 - mape: 2.4887 - val_loss: 4.6086e-04 - val_mse: 4.6086e-04 - val_mae: 0.0200 - val_mape: 2.7261\n",
            "Epoch 150/200\n",
            "51/51 [==============================] - 8s 155ms/step - loss: 4.7473e-04 - mse: 4.7473e-04 - mae: 0.0165 - mape: 2.8103 - val_loss: 6.6744e-05 - val_mse: 6.6744e-05 - val_mae: 0.0056 - val_mape: 0.7660\n",
            "Epoch 151/200\n",
            "51/51 [==============================] - 8s 155ms/step - loss: 2.6557e-04 - mse: 2.6557e-04 - mae: 0.0119 - mape: 1.9403 - val_loss: 9.6695e-05 - val_mse: 9.6695e-05 - val_mae: 0.0075 - val_mape: 1.0212\n",
            "Epoch 152/200\n",
            "51/51 [==============================] - 8s 156ms/step - loss: 2.9425e-04 - mse: 2.9425e-04 - mae: 0.0131 - mape: 2.1839 - val_loss: 1.2132e-04 - val_mse: 1.2132e-04 - val_mae: 0.0089 - val_mape: 1.2084\n",
            "Epoch 153/200\n",
            "51/51 [==============================] - 8s 157ms/step - loss: 3.3029e-04 - mse: 3.3029e-04 - mae: 0.0136 - mape: 2.2062 - val_loss: 1.0022e-04 - val_mse: 1.0022e-04 - val_mae: 0.0077 - val_mape: 1.0349\n",
            "Epoch 154/200\n",
            "51/51 [==============================] - 8s 155ms/step - loss: 3.0538e-04 - mse: 3.0538e-04 - mae: 0.0132 - mape: 2.2427 - val_loss: 6.8960e-05 - val_mse: 6.8960e-05 - val_mae: 0.0060 - val_mape: 0.8339\n",
            "Epoch 155/200\n",
            "51/51 [==============================] - 8s 155ms/step - loss: 3.1175e-04 - mse: 3.1175e-04 - mae: 0.0132 - mape: 2.2773 - val_loss: 1.1490e-04 - val_mse: 1.1490e-04 - val_mae: 0.0085 - val_mape: 1.1653\n",
            "Epoch 156/200\n",
            "51/51 [==============================] - 8s 157ms/step - loss: 3.2657e-04 - mse: 3.2657e-04 - mae: 0.0133 - mape: 2.2309 - val_loss: 6.1043e-05 - val_mse: 6.1043e-05 - val_mae: 0.0054 - val_mape: 0.7369\n",
            "Epoch 157/200\n",
            "51/51 [==============================] - 8s 155ms/step - loss: 2.7263e-04 - mse: 2.7263e-04 - mae: 0.0126 - mape: 2.1109 - val_loss: 6.6239e-05 - val_mse: 6.6239e-05 - val_mae: 0.0056 - val_mape: 0.7614\n",
            "Epoch 158/200\n",
            "51/51 [==============================] - 8s 159ms/step - loss: 3.0832e-04 - mse: 3.0832e-04 - mae: 0.0132 - mape: 2.2395 - val_loss: 6.2699e-05 - val_mse: 6.2699e-05 - val_mae: 0.0055 - val_mape: 0.7522\n",
            "Epoch 159/200\n",
            "51/51 [==============================] - 8s 157ms/step - loss: 3.1988e-04 - mse: 3.1988e-04 - mae: 0.0136 - mape: 2.2576 - val_loss: 6.8877e-05 - val_mse: 6.8877e-05 - val_mae: 0.0058 - val_mape: 0.7920\n",
            "Epoch 160/200\n",
            "51/51 [==============================] - 8s 157ms/step - loss: 3.2272e-04 - mse: 3.2272e-04 - mae: 0.0135 - mape: 2.2168 - val_loss: 1.9601e-04 - val_mse: 1.9601e-04 - val_mae: 0.0122 - val_mape: 1.6557\n",
            "Epoch 161/200\n",
            "51/51 [==============================] - 8s 156ms/step - loss: 4.6106e-04 - mse: 4.6106e-04 - mae: 0.0164 - mape: 2.8478 - val_loss: 6.4909e-05 - val_mse: 6.4909e-05 - val_mae: 0.0058 - val_mape: 0.7964\n",
            "Epoch 162/200\n",
            "51/51 [==============================] - 8s 156ms/step - loss: 2.6866e-04 - mse: 2.6866e-04 - mae: 0.0123 - mape: 2.0372 - val_loss: 9.1791e-05 - val_mse: 9.1791e-05 - val_mae: 0.0073 - val_mape: 0.9960\n",
            "Epoch 163/200\n",
            "51/51 [==============================] - 8s 156ms/step - loss: 2.5644e-04 - mse: 2.5644e-04 - mae: 0.0122 - mape: 2.0160 - val_loss: 6.3953e-05 - val_mse: 6.3953e-05 - val_mae: 0.0056 - val_mape: 0.7600\n",
            "Epoch 164/200\n",
            "51/51 [==============================] - 8s 155ms/step - loss: 2.8907e-04 - mse: 2.8907e-04 - mae: 0.0129 - mape: 2.1637 - val_loss: 1.7383e-04 - val_mse: 1.7383e-04 - val_mae: 0.0113 - val_mape: 1.5329\n",
            "Epoch 165/200\n",
            "51/51 [==============================] - 8s 156ms/step - loss: 2.9475e-04 - mse: 2.9475e-04 - mae: 0.0131 - mape: 2.1847 - val_loss: 8.8279e-05 - val_mse: 8.8279e-05 - val_mae: 0.0070 - val_mape: 0.9541\n",
            "Epoch 166/200\n",
            "51/51 [==============================] - 8s 156ms/step - loss: 3.2327e-04 - mse: 3.2327e-04 - mae: 0.0131 - mape: 2.2275 - val_loss: 8.7498e-05 - val_mse: 8.7498e-05 - val_mae: 0.0074 - val_mape: 1.0146\n",
            "Epoch 167/200\n",
            "51/51 [==============================] - 8s 156ms/step - loss: 2.7020e-04 - mse: 2.7020e-04 - mae: 0.0122 - mape: 2.0440 - val_loss: 2.6883e-04 - val_mse: 2.6883e-04 - val_mae: 0.0149 - val_mape: 2.0427\n",
            "Epoch 168/200\n",
            "51/51 [==============================] - 8s 156ms/step - loss: 3.2949e-04 - mse: 3.2949e-04 - mae: 0.0141 - mape: 2.3712 - val_loss: 8.6843e-05 - val_mse: 8.6843e-05 - val_mae: 0.0070 - val_mape: 0.9454\n",
            "Epoch 169/200\n",
            "51/51 [==============================] - 8s 156ms/step - loss: 3.0600e-04 - mse: 3.0600e-04 - mae: 0.0131 - mape: 2.2630 - val_loss: 1.4645e-04 - val_mse: 1.4645e-04 - val_mae: 0.0102 - val_mape: 1.3949\n",
            "Epoch 170/200\n",
            "51/51 [==============================] - 8s 156ms/step - loss: 3.4743e-04 - mse: 3.4743e-04 - mae: 0.0143 - mape: 2.3496 - val_loss: 8.6255e-05 - val_mse: 8.6255e-05 - val_mae: 0.0069 - val_mape: 0.9315\n",
            "Epoch 171/200\n",
            "51/51 [==============================] - 8s 156ms/step - loss: 2.6448e-04 - mse: 2.6448e-04 - mae: 0.0120 - mape: 2.0664 - val_loss: 9.2045e-05 - val_mse: 9.2045e-05 - val_mae: 0.0073 - val_mape: 0.9878\n",
            "Epoch 172/200\n",
            "51/51 [==============================] - 8s 156ms/step - loss: 2.4205e-04 - mse: 2.4205e-04 - mae: 0.0117 - mape: 1.9573 - val_loss: 8.7194e-05 - val_mse: 8.7194e-05 - val_mae: 0.0074 - val_mape: 1.0207\n",
            "Epoch 173/200\n",
            "51/51 [==============================] - 8s 155ms/step - loss: 2.8511e-04 - mse: 2.8511e-04 - mae: 0.0126 - mape: 2.1233 - val_loss: 2.0347e-04 - val_mse: 2.0347e-04 - val_mae: 0.0128 - val_mape: 1.7729\n",
            "Epoch 174/200\n",
            "51/51 [==============================] - 8s 155ms/step - loss: 3.4362e-04 - mse: 3.4362e-04 - mae: 0.0145 - mape: 2.4073 - val_loss: 6.0584e-05 - val_mse: 6.0584e-05 - val_mae: 0.0052 - val_mape: 0.7114\n",
            "Epoch 175/200\n",
            "51/51 [==============================] - 8s 156ms/step - loss: 2.7534e-04 - mse: 2.7534e-04 - mae: 0.0125 - mape: 2.0894 - val_loss: 5.9187e-05 - val_mse: 5.9187e-05 - val_mae: 0.0052 - val_mape: 0.7096\n",
            "Epoch 176/200\n",
            "51/51 [==============================] - 8s 157ms/step - loss: 2.6292e-04 - mse: 2.6292e-04 - mae: 0.0122 - mape: 2.0001 - val_loss: 8.2417e-05 - val_mse: 8.2417e-05 - val_mae: 0.0067 - val_mape: 0.9049\n",
            "Epoch 177/200\n",
            "51/51 [==============================] - 8s 156ms/step - loss: 2.8822e-04 - mse: 2.8822e-04 - mae: 0.0125 - mape: 2.1535 - val_loss: 5.9347e-05 - val_mse: 5.9347e-05 - val_mae: 0.0051 - val_mape: 0.6963\n",
            "Epoch 178/200\n",
            "51/51 [==============================] - 8s 156ms/step - loss: 2.9321e-04 - mse: 2.9321e-04 - mae: 0.0126 - mape: 2.0849 - val_loss: 6.0043e-05 - val_mse: 6.0043e-05 - val_mae: 0.0052 - val_mape: 0.7193\n",
            "Epoch 179/200\n",
            "51/51 [==============================] - 8s 156ms/step - loss: 2.6122e-04 - mse: 2.6122e-04 - mae: 0.0119 - mape: 2.0052 - val_loss: 1.2682e-04 - val_mse: 1.2682e-04 - val_mae: 0.0096 - val_mape: 1.3206\n",
            "Epoch 180/200\n",
            "51/51 [==============================] - 8s 157ms/step - loss: 2.7442e-04 - mse: 2.7442e-04 - mae: 0.0123 - mape: 2.0672 - val_loss: 6.1615e-05 - val_mse: 6.1615e-05 - val_mae: 0.0053 - val_mape: 0.7245\n",
            "Epoch 181/200\n",
            "51/51 [==============================] - 8s 156ms/step - loss: 2.5341e-04 - mse: 2.5341e-04 - mae: 0.0118 - mape: 2.0265 - val_loss: 7.9821e-05 - val_mse: 7.9821e-05 - val_mae: 0.0069 - val_mape: 0.9551\n",
            "Epoch 182/200\n",
            "51/51 [==============================] - 8s 156ms/step - loss: 2.9319e-04 - mse: 2.9319e-04 - mae: 0.0128 - mape: 2.1103 - val_loss: 8.2553e-05 - val_mse: 8.2553e-05 - val_mae: 0.0068 - val_mape: 0.9257\n",
            "Epoch 183/200\n",
            "51/51 [==============================] - 8s 157ms/step - loss: 2.3982e-04 - mse: 2.3982e-04 - mae: 0.0117 - mape: 1.9939 - val_loss: 5.7321e-05 - val_mse: 5.7321e-05 - val_mae: 0.0051 - val_mape: 0.6969\n",
            "Epoch 184/200\n",
            "51/51 [==============================] - 8s 156ms/step - loss: 3.2493e-04 - mse: 3.2493e-04 - mae: 0.0138 - mape: 2.3254 - val_loss: 6.9099e-05 - val_mse: 6.9099e-05 - val_mae: 0.0061 - val_mape: 0.8493\n",
            "Epoch 185/200\n",
            "51/51 [==============================] - 8s 158ms/step - loss: 2.7817e-04 - mse: 2.7817e-04 - mae: 0.0127 - mape: 2.1418 - val_loss: 2.7056e-04 - val_mse: 2.7056e-04 - val_mae: 0.0149 - val_mape: 2.0404\n",
            "Epoch 186/200\n",
            "51/51 [==============================] - 8s 157ms/step - loss: 2.8255e-04 - mse: 2.8255e-04 - mae: 0.0128 - mape: 2.0756 - val_loss: 7.2690e-05 - val_mse: 7.2690e-05 - val_mae: 0.0061 - val_mape: 0.8316\n",
            "Epoch 187/200\n",
            "51/51 [==============================] - 8s 158ms/step - loss: 2.7613e-04 - mse: 2.7613e-04 - mae: 0.0122 - mape: 2.0889 - val_loss: 9.4616e-05 - val_mse: 9.4616e-05 - val_mae: 0.0078 - val_mape: 1.0919\n",
            "Epoch 188/200\n",
            "51/51 [==============================] - 8s 156ms/step - loss: 3.5665e-04 - mse: 3.5665e-04 - mae: 0.0142 - mape: 2.4791 - val_loss: 6.1155e-05 - val_mse: 6.1155e-05 - val_mae: 0.0053 - val_mape: 0.7208\n",
            "Epoch 189/200\n",
            "51/51 [==============================] - 8s 158ms/step - loss: 2.7158e-04 - mse: 2.7158e-04 - mae: 0.0123 - mape: 2.0782 - val_loss: 1.2407e-04 - val_mse: 1.2407e-04 - val_mae: 0.0094 - val_mape: 1.2991\n",
            "Epoch 190/200\n",
            "51/51 [==============================] - 8s 158ms/step - loss: 2.4825e-04 - mse: 2.4825e-04 - mae: 0.0119 - mape: 2.0479 - val_loss: 6.2118e-05 - val_mse: 6.2118e-05 - val_mae: 0.0055 - val_mape: 0.7555\n",
            "Epoch 191/200\n",
            "51/51 [==============================] - 8s 157ms/step - loss: 2.4101e-04 - mse: 2.4101e-04 - mae: 0.0115 - mape: 1.9465 - val_loss: 8.8546e-05 - val_mse: 8.8546e-05 - val_mae: 0.0075 - val_mape: 1.0392\n",
            "Epoch 192/200\n",
            "51/51 [==============================] - 8s 158ms/step - loss: 2.5678e-04 - mse: 2.5678e-04 - mae: 0.0120 - mape: 1.9788 - val_loss: 6.7015e-05 - val_mse: 6.7015e-05 - val_mae: 0.0057 - val_mape: 0.7850\n",
            "Epoch 193/200\n",
            "51/51 [==============================] - 8s 157ms/step - loss: 2.4407e-04 - mse: 2.4407e-04 - mae: 0.0117 - mape: 1.9369 - val_loss: 1.4936e-04 - val_mse: 1.4936e-04 - val_mae: 0.0103 - val_mape: 1.4033\n",
            "Epoch 194/200\n",
            "51/51 [==============================] - 8s 156ms/step - loss: 2.6268e-04 - mse: 2.6268e-04 - mae: 0.0122 - mape: 1.9994 - val_loss: 2.5640e-04 - val_mse: 2.5640e-04 - val_mae: 0.0145 - val_mape: 1.9985\n",
            "Epoch 195/200\n",
            "51/51 [==============================] - 8s 156ms/step - loss: 2.8350e-04 - mse: 2.8350e-04 - mae: 0.0126 - mape: 2.1330 - val_loss: 6.8925e-05 - val_mse: 6.8925e-05 - val_mae: 0.0061 - val_mape: 0.8456\n",
            "Epoch 196/200\n",
            "51/51 [==============================] - 8s 156ms/step - loss: 2.6062e-04 - mse: 2.6062e-04 - mae: 0.0120 - mape: 1.9528 - val_loss: 5.8097e-05 - val_mse: 5.8097e-05 - val_mae: 0.0051 - val_mape: 0.7040\n",
            "Epoch 197/200\n",
            "51/51 [==============================] - 8s 157ms/step - loss: 2.3594e-04 - mse: 2.3594e-04 - mae: 0.0114 - mape: 1.8981 - val_loss: 1.2644e-04 - val_mse: 1.2644e-04 - val_mae: 0.0095 - val_mape: 1.3103\n",
            "Epoch 198/200\n",
            "51/51 [==============================] - 8s 157ms/step - loss: 2.4005e-04 - mse: 2.4005e-04 - mae: 0.0114 - mape: 1.8777 - val_loss: 9.5749e-05 - val_mse: 9.5749e-05 - val_mae: 0.0078 - val_mape: 1.0677\n",
            "Epoch 199/200\n",
            "51/51 [==============================] - 8s 158ms/step - loss: 2.5026e-04 - mse: 2.5026e-04 - mae: 0.0116 - mape: 1.9576 - val_loss: 1.0640e-04 - val_mse: 1.0640e-04 - val_mae: 0.0082 - val_mape: 1.1204\n",
            "Epoch 200/200\n",
            "51/51 [==============================] - 8s 157ms/step - loss: 2.9916e-04 - mse: 2.9916e-04 - mae: 0.0128 - mape: 2.1908 - val_loss: 7.0084e-05 - val_mse: 7.0084e-05 - val_mae: 0.0061 - val_mape: 0.8328\n"
          ],
          "name": "stdout"
        }
      ]
    },
    {
      "cell_type": "code",
      "metadata": {
        "colab": {
          "base_uri": "https://localhost:8080/",
          "height": 279
        },
        "id": "ZJIR3so0dDTs",
        "outputId": "fc115898-357a-4a3d-9e83-f68316ba365c"
      },
      "source": [
        "plt.plot(history.history['loss'],'r',label='train loss')\n",
        "plt.plot(history.history['val_loss'],'g',label='val loss')\n",
        "plt.xlabel('# epoch')\n",
        "plt.ylabel('loss')\n",
        "plt.legend()\n",
        "plt.show()"
      ],
      "execution_count": 11,
      "outputs": [
        {
          "output_type": "display_data",
          "data": {
            "image/png": "[encoded data removed]",
            "text/plain": [
              "<Figure size 432x288 with 1 Axes>"
            ]
          },
          "metadata": {
            "tags": [],
            "needs_background": "light"
          }
        }
      ]
    },
    {
      "cell_type": "code",
      "metadata": {
        "colab": {
          "base_uri": "https://localhost:8080/"
        },
        "id": "EO4kpglmdF9r",
        "outputId": "4ba1ebe0-6144-4287-cf9b-c43e45955983"
      },
      "source": [
        "result=model.predict(test_data)\n",
        "\n",
        "from sklearn.metrics import r2_score\n",
        "\n",
        "r2=r2_score(test_target,result)\n",
        "print('r2 score:',r2)\n",
        "print(result.shape)\n",
        "print(test_target.shape)"
      ],
      "execution_count": 12,
      "outputs": [
        {
          "output_type": "stream",
          "text": [
            "r2 score: 0.9874976272209205\n",
            "(768, 1)\n",
            "(768,)\n"
          ],
          "name": "stdout"
        }
      ]
    },
    {
      "cell_type": "code",
      "metadata": {
        "colab": {
          "base_uri": "https://localhost:8080/",
          "height": 279
        },
        "id": "dO6F1Dd5dJPU",
        "outputId": "023cd6a9-986f-4574-a6c5-7edc6be42931"
      },
      "source": [
        "#test_x_range=np.arange(1000,1209,1)\n",
        "test_x_range=np.arange(1791,2559,1)\n",
        "#test_x_range is an array of values between 1000-1208\n",
        "\n",
        "plt.plot(train_target,'r',label='train')\n",
        "plt.plot(test_x_range,test_target,'b',label='test')\n",
        "plt.plot(test_x_range,result,'g',label='predicted')\n",
        "\n",
        "plt.xlabel('Date')\n",
        "plt.ylabel('Open Value/$')\n",
        "plt.legend()\n",
        "plt.show()"
      ],
      "execution_count": 13,
      "outputs": [
        {
          "output_type": "display_data",
          "data": {
            "image/png": "[encoded data removed]",
            "text/plain": [
              "<Figure size 432x288 with 1 Axes>"
            ]
          },
          "metadata": {
            "tags": [],
            "needs_background": "light"
          }
        }
      ]
    },
    {
      "cell_type": "code",
      "metadata": {
        "colab": {
          "base_uri": "https://localhost:8080/",
          "height": 279
        },
        "id": "elPBAiHhdMOE",
        "outputId": "c864b494-74d4-442f-e220-85bf93a139ce"
      },
      "source": [
        "plt.plot(test_target,'b',label='test')\n",
        "plt.plot(result,'r',label='predicted')\n",
        "\n",
        "plt.xlabel('Date')\n",
        "plt.ylabel('Open Value/$')\n",
        "plt.legend()\n",
        "plt.show()"
      ],
      "execution_count": 14,
      "outputs": [
        {
          "output_type": "display_data",
          "data": {
            "image/png": "[encoded data removed]",
            "text/plain": [
              "<Figure size 432x288 with 1 Axes>"
            ]
          },
          "metadata": {
            "tags": [],
            "needs_background": "light"
          }
        }
      ]
    },
    {
      "cell_type": "code",
      "metadata": {
        "id": "t7zxpkI0dObU"
      },
      "source": [
        "model.save_weights(\"JHK Stock Model new.h5\")"
      ],
      "execution_count": 15,
      "outputs": []
    }
  ]
}