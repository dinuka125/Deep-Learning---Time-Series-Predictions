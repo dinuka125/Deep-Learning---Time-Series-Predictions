{
  "nbformat": 4,
  "nbformat_minor": 0,
  "metadata": {
    "colab": {
      "name": "jkh predictions with FFD SAMP",
      "provenance": [],
      "collapsed_sections": [],
      "authorship_tag": "ABX9TyOb/4B/2QM58ug0jMDNBfy6",
      "include_colab_link": true
    },
    "kernelspec": {
      "name": "python3",
      "display_name": "Python 3"
    },
    "accelerator": "GPU"
  },
  "cells": [
    {
      "cell_type": "markdown",
      "metadata": {
        "id": "view-in-github",
        "colab_type": "text"
      },
      "source": [
        "<a href=\"https://colab.research.google.com/github/dinuka125/japura-Git-Workshop/blob/master/jkh_predictions_with_FFD_SAMP.ipynb\" target=\"_parent\"><img src=\"https://colab.research.google.com/assets/colab-badge.svg\" alt=\"Open In Colab\"/></a>"
      ]
    },
    {
      "cell_type": "code",
      "metadata": {
        "colab": {
          "base_uri": "https://localhost:8080/"
        },
        "id": "H8EpD08_L0FO",
        "outputId": "7989325e-ed99-4859-f64d-72cb0b0245cf"
      },
      "source": [
        "from google.colab import drive\n",
        "drive.mount('/content/drive')\n",
        "path ='/content/drive/My Drive/csv_files/'"
      ],
      "execution_count": 13,
      "outputs": [
        {
          "output_type": "stream",
          "text": [
            "Drive already mounted at /content/drive; to attempt to forcibly remount, call drive.mount(\"/content/drive\", force_remount=True).\n"
          ],
          "name": "stdout"
        }
      ]
    },
    {
      "cell_type": "code",
      "metadata": {
        "id": "qWPXHXoXMAm9"
      },
      "source": [
        "import numpy as np\n",
        "\n",
        "data=np.load(path+'datasamp.npy')\n",
        "target=np.load(path+'targetsamp.npy')"
      ],
      "execution_count": 14,
      "outputs": []
    },
    {
      "cell_type": "code",
      "metadata": {
        "colab": {
          "base_uri": "https://localhost:8080/"
        },
        "id": "dxmZjLygMCFW",
        "outputId": "4dd389f1-96fe-4448-ec88-b8c8f2309e3f"
      },
      "source": [
        "print(data.shape)\n",
        "print(target.shape)\n",
        "print(data.shape[1:])"
      ],
      "execution_count": 15,
      "outputs": [
        {
          "output_type": "stream",
          "text": [
            "(2559, 50, 4)\n",
            "(2559,)\n",
            "(50, 4)\n"
          ],
          "name": "stdout"
        }
      ]
    },
    {
      "cell_type": "code",
      "metadata": {
        "id": "Wi2Sot8SMDhW"
      },
      "source": [
        "train_data=data[:1791]\n",
        "train_target=target[:1791]\n",
        "\n",
        "test_data=data[1791:]\n",
        "test_target=target[1791:]"
      ],
      "execution_count": 16,
      "outputs": []
    },
    {
      "cell_type": "code",
      "metadata": {
        "colab": {
          "base_uri": "https://localhost:8080/",
          "height": 279
        },
        "id": "WyQ3kzcRMF4G",
        "outputId": "ca1a0e58-b4bc-4431-afdf-bf22f3c1a535"
      },
      "source": [
        "from matplotlib import pyplot as plt\n",
        "\n",
        "test_x_range=np.arange(1791,2559,1)\n",
        "#test_x_range is an array of values between 1000-1208\n",
        "\n",
        "plt.plot(train_target,'r',label='train')\n",
        "plt.plot(test_x_range,test_target,'b',label='test')\n",
        "plt.xlabel('Date')\n",
        "plt.ylabel('Open Value/$')\n",
        "plt.show()"
      ],
      "execution_count": 17,
      "outputs": [
        {
          "output_type": "display_data",
          "data": {
            "image/png": "[encoded data removed]",
            "text/plain": [
              "<Figure size 432x288 with 1 Axes>"
            ]
          },
          "metadata": {
            "tags": [],
            "needs_background": "light"
          }
        }
      ]
    },
    {
      "cell_type": "code",
      "metadata": {
        "colab": {
          "base_uri": "https://localhost:8080/"
        },
        "id": "2Gn0KmwnO4lu",
        "outputId": "a6ec9a72-a38c-48bf-d02a-654191af6197"
      },
      "source": [
        "print(data.shape[1:])"
      ],
      "execution_count": 18,
      "outputs": [
        {
          "output_type": "stream",
          "text": [
            "(50, 4)\n"
          ],
          "name": "stdout"
        }
      ]
    },
    {
      "cell_type": "code",
      "metadata": {
        "colab": {
          "base_uri": "https://localhost:8080/"
        },
        "id": "obw0CUsPMGzv",
        "outputId": "aef1ac02-d9c0-4374-e0a0-b277996a7859"
      },
      "source": [
        "from keras.models import Sequential\n",
        "from keras.layers import Dense, Dropout, Flatten\n",
        "\n",
        "model=Sequential()\n",
        "\n",
        "model.add(Dense(512,activation=\"relu\",input_shape=(data.shape[1:])))\n",
        "#model.add(Dropout(0.5))\n",
        "#model.add(Dense(512,activation=\"relu\"))\n",
        "model.add(Dense(256,activation=\"relu\"))\n",
        "#model.add(Dropout(0.5))\n",
        "model.add(Dense(128,activation=\"relu\"))\n",
        "#model.add(Dropout(0.5))\n",
        "model.add(Dense(64,activation=\"relu\"))\n",
        "#model.add(Dropout(0.5))\n",
        "model.add(Flatten())\n",
        "model.add(Dense(1,activation=\"linear\"))\n",
        "\n",
        "model.compile(loss='mse',optimizer='adam', metrics=['Accuracy','mse', 'mae', 'mape'])\n",
        "model.summary()\n"
      ],
      "execution_count": 19,
      "outputs": [
        {
          "output_type": "stream",
          "text": [
            "Model: \"sequential_1\"\n",
            "_________________________________________________________________\n",
            "Layer (type)                 Output Shape              Param #   \n",
            "=================================================================\n",
            "dense_5 (Dense)              (None, 50, 512)           2560      \n",
            "_________________________________________________________________\n",
            "dense_6 (Dense)              (None, 50, 256)           131328    \n",
            "_________________________________________________________________\n",
            "dense_7 (Dense)              (None, 50, 128)           32896     \n",
            "_________________________________________________________________\n",
            "dense_8 (Dense)              (None, 50, 64)            8256      \n",
            "_________________________________________________________________\n",
            "flatten_1 (Flatten)          (None, 3200)              0         \n",
            "_________________________________________________________________\n",
            "dense_9 (Dense)              (None, 1)                 3201      \n",
            "=================================================================\n",
            "Total params: 178,241\n",
            "Trainable params: 178,241\n",
            "Non-trainable params: 0\n",
            "_________________________________________________________________\n"
          ],
          "name": "stdout"
        }
      ]
    },
    {
      "cell_type": "code",
      "metadata": {
        "colab": {
          "base_uri": "https://localhost:8080/"
        },
        "id": "PLdBR6HjNl8m",
        "outputId": "655c6c89-1264-49df-ba28-f475a4fd3461"
      },
      "source": [
        "history=model.fit(train_data,train_target,epochs=200,validation_split=0.10)"
      ],
      "execution_count": 20,
      "outputs": [
        {
          "output_type": "stream",
          "text": [
            "Epoch 1/200\n",
            "51/51 [==============================] - 3s 49ms/step - loss: 0.0505 - accuracy: 0.0000e+00 - mse: 0.0505 - mae: 0.1588 - mape: 25.1086 - val_loss: 7.1537e-04 - val_accuracy: 0.0000e+00 - val_mse: 7.1537e-04 - val_mae: 0.0218 - val_mape: 2.9635\n",
            "Epoch 2/200\n",
            "51/51 [==============================] - 2s 44ms/step - loss: 0.0021 - accuracy: 0.0000e+00 - mse: 0.0021 - mae: 0.0353 - mape: 5.9392 - val_loss: 0.0012 - val_accuracy: 0.0000e+00 - val_mse: 0.0012 - val_mae: 0.0269 - val_mape: 3.6020\n",
            "Epoch 3/200\n",
            "51/51 [==============================] - 2s 44ms/step - loss: 0.0014 - accuracy: 0.0000e+00 - mse: 0.0014 - mae: 0.0277 - mape: 4.6412 - val_loss: 5.9784e-04 - val_accuracy: 0.0000e+00 - val_mse: 5.9784e-04 - val_mae: 0.0193 - val_mape: 2.5934\n",
            "Epoch 4/200\n",
            "51/51 [==============================] - 2s 44ms/step - loss: 0.0011 - accuracy: 0.0000e+00 - mse: 0.0011 - mae: 0.0252 - mape: 4.2227 - val_loss: 5.3576e-04 - val_accuracy: 0.0000e+00 - val_mse: 5.3576e-04 - val_mae: 0.0192 - val_mape: 2.6025\n",
            "Epoch 5/200\n",
            "51/51 [==============================] - 2s 44ms/step - loss: 8.0194e-04 - accuracy: 0.0000e+00 - mse: 8.0194e-04 - mae: 0.0213 - mape: 3.4843 - val_loss: 5.5274e-04 - val_accuracy: 0.0000e+00 - val_mse: 5.5274e-04 - val_mae: 0.0191 - val_mape: 2.5769\n",
            "Epoch 6/200\n",
            "51/51 [==============================] - 2s 44ms/step - loss: 8.7261e-04 - accuracy: 0.0000e+00 - mse: 8.7261e-04 - mae: 0.0224 - mape: 3.6205 - val_loss: 5.7021e-04 - val_accuracy: 0.0000e+00 - val_mse: 5.7021e-04 - val_mae: 0.0192 - val_mape: 2.5984\n",
            "Epoch 7/200\n",
            "51/51 [==============================] - 2s 44ms/step - loss: 6.5605e-04 - accuracy: 0.0000e+00 - mse: 6.5605e-04 - mae: 0.0192 - mape: 3.1081 - val_loss: 3.8405e-04 - val_accuracy: 0.0000e+00 - val_mse: 3.8405e-04 - val_mae: 0.0160 - val_mape: 2.1717\n",
            "Epoch 8/200\n",
            "51/51 [==============================] - 2s 44ms/step - loss: 5.1114e-04 - accuracy: 0.0000e+00 - mse: 5.1114e-04 - mae: 0.0168 - mape: 2.7201 - val_loss: 6.3472e-04 - val_accuracy: 0.0000e+00 - val_mse: 6.3472e-04 - val_mae: 0.0207 - val_mape: 2.8128\n",
            "Epoch 9/200\n",
            "51/51 [==============================] - 2s 44ms/step - loss: 5.5833e-04 - accuracy: 0.0000e+00 - mse: 5.5833e-04 - mae: 0.0175 - mape: 2.8393 - val_loss: 2.9705e-04 - val_accuracy: 0.0000e+00 - val_mse: 2.9705e-04 - val_mae: 0.0136 - val_mape: 1.8355\n",
            "Epoch 10/200\n",
            "51/51 [==============================] - 2s 43ms/step - loss: 4.7269e-04 - accuracy: 0.0000e+00 - mse: 4.7269e-04 - mae: 0.0163 - mape: 2.6415 - val_loss: 6.0926e-04 - val_accuracy: 0.0000e+00 - val_mse: 6.0926e-04 - val_mae: 0.0210 - val_mape: 2.8579\n",
            "Epoch 11/200\n",
            "51/51 [==============================] - 2s 43ms/step - loss: 4.3036e-04 - accuracy: 0.0000e+00 - mse: 4.3036e-04 - mae: 0.0147 - mape: 2.3926 - val_loss: 2.9124e-04 - val_accuracy: 0.0000e+00 - val_mse: 2.9124e-04 - val_mae: 0.0135 - val_mape: 1.8599\n",
            "Epoch 12/200\n",
            "51/51 [==============================] - 2s 43ms/step - loss: 4.1669e-04 - accuracy: 0.0000e+00 - mse: 4.1669e-04 - mae: 0.0154 - mape: 2.5186 - val_loss: 2.9339e-04 - val_accuracy: 0.0000e+00 - val_mse: 2.9339e-04 - val_mae: 0.0142 - val_mape: 1.9353\n",
            "Epoch 13/200\n",
            "51/51 [==============================] - 2s 44ms/step - loss: 3.6343e-04 - accuracy: 0.0000e+00 - mse: 3.6343e-04 - mae: 0.0139 - mape: 2.2698 - val_loss: 0.0017 - val_accuracy: 0.0000e+00 - val_mse: 0.0017 - val_mae: 0.0392 - val_mape: 5.3692\n",
            "Epoch 14/200\n",
            "51/51 [==============================] - 2s 43ms/step - loss: 6.2987e-04 - accuracy: 0.0000e+00 - mse: 6.2987e-04 - mae: 0.0206 - mape: 3.3205 - val_loss: 1.3929e-04 - val_accuracy: 0.0000e+00 - val_mse: 1.3929e-04 - val_mae: 0.0087 - val_mape: 1.1825\n",
            "Epoch 15/200\n",
            "51/51 [==============================] - 2s 44ms/step - loss: 2.6737e-04 - accuracy: 0.0000e+00 - mse: 2.6737e-04 - mae: 0.0115 - mape: 1.9163 - val_loss: 2.9766e-04 - val_accuracy: 0.0000e+00 - val_mse: 2.9766e-04 - val_mae: 0.0148 - val_mape: 2.0219\n",
            "Epoch 16/200\n",
            "51/51 [==============================] - 2s 44ms/step - loss: 2.4410e-04 - accuracy: 0.0000e+00 - mse: 2.4410e-04 - mae: 0.0114 - mape: 1.8936 - val_loss: 8.1168e-04 - val_accuracy: 0.0000e+00 - val_mse: 8.1168e-04 - val_mae: 0.0265 - val_mape: 3.6154\n",
            "Epoch 17/200\n",
            "51/51 [==============================] - 2s 44ms/step - loss: 3.0042e-04 - accuracy: 0.0000e+00 - mse: 3.0042e-04 - mae: 0.0128 - mape: 2.1229 - val_loss: 1.2213e-04 - val_accuracy: 0.0000e+00 - val_mse: 1.2213e-04 - val_mae: 0.0084 - val_mape: 1.1505\n",
            "Epoch 18/200\n",
            "51/51 [==============================] - 2s 44ms/step - loss: 3.0983e-04 - accuracy: 0.0000e+00 - mse: 3.0983e-04 - mae: 0.0138 - mape: 2.2864 - val_loss: 1.2593e-04 - val_accuracy: 0.0000e+00 - val_mse: 1.2593e-04 - val_mae: 0.0086 - val_mape: 1.1798\n",
            "Epoch 19/200\n",
            "51/51 [==============================] - 2s 44ms/step - loss: 1.7773e-04 - accuracy: 0.0000e+00 - mse: 1.7773e-04 - mae: 0.0098 - mape: 1.6012 - val_loss: 2.1108e-04 - val_accuracy: 0.0000e+00 - val_mse: 2.1108e-04 - val_mae: 0.0124 - val_mape: 1.7148\n",
            "Epoch 20/200\n",
            "51/51 [==============================] - 2s 44ms/step - loss: 2.5192e-04 - accuracy: 0.0000e+00 - mse: 2.5192e-04 - mae: 0.0116 - mape: 1.9114 - val_loss: 1.0391e-04 - val_accuracy: 0.0000e+00 - val_mse: 1.0391e-04 - val_mae: 0.0075 - val_mape: 1.0171\n",
            "Epoch 21/200\n",
            "51/51 [==============================] - 2s 43ms/step - loss: 2.1352e-04 - accuracy: 0.0000e+00 - mse: 2.1352e-04 - mae: 0.0108 - mape: 1.7659 - val_loss: 6.4612e-04 - val_accuracy: 0.0000e+00 - val_mse: 6.4612e-04 - val_mae: 0.0238 - val_mape: 3.2608\n",
            "Epoch 22/200\n",
            "51/51 [==============================] - 2s 44ms/step - loss: 3.7253e-04 - accuracy: 0.0000e+00 - mse: 3.7253e-04 - mae: 0.0153 - mape: 2.4913 - val_loss: 2.0812e-04 - val_accuracy: 0.0000e+00 - val_mse: 2.0812e-04 - val_mae: 0.0123 - val_mape: 1.6976\n",
            "Epoch 23/200\n",
            "51/51 [==============================] - 2s 44ms/step - loss: 3.3377e-04 - accuracy: 0.0000e+00 - mse: 3.3377e-04 - mae: 0.0142 - mape: 2.3252 - val_loss: 9.2914e-05 - val_accuracy: 0.0000e+00 - val_mse: 9.2914e-05 - val_mae: 0.0069 - val_mape: 0.9436\n",
            "Epoch 24/200\n",
            "51/51 [==============================] - 2s 44ms/step - loss: 2.0266e-04 - accuracy: 0.0000e+00 - mse: 2.0266e-04 - mae: 0.0101 - mape: 1.7384 - val_loss: 1.1403e-04 - val_accuracy: 0.0000e+00 - val_mse: 1.1403e-04 - val_mae: 0.0081 - val_mape: 1.1086\n",
            "Epoch 25/200\n",
            "51/51 [==============================] - 2s 44ms/step - loss: 1.8375e-04 - accuracy: 0.0000e+00 - mse: 1.8375e-04 - mae: 0.0101 - mape: 1.6973 - val_loss: 7.9023e-05 - val_accuracy: 0.0000e+00 - val_mse: 7.9023e-05 - val_mae: 0.0064 - val_mape: 0.8752\n",
            "Epoch 26/200\n",
            "51/51 [==============================] - 2s 44ms/step - loss: 2.2001e-04 - accuracy: 0.0000e+00 - mse: 2.2001e-04 - mae: 0.0112 - mape: 1.8900 - val_loss: 4.2446e-04 - val_accuracy: 0.0000e+00 - val_mse: 4.2446e-04 - val_mae: 0.0190 - val_mape: 2.6042\n",
            "Epoch 27/200\n",
            "51/51 [==============================] - 2s 44ms/step - loss: 2.0620e-04 - accuracy: 0.0000e+00 - mse: 2.0620e-04 - mae: 0.0110 - mape: 1.8229 - val_loss: 8.6374e-04 - val_accuracy: 0.0000e+00 - val_mse: 8.6374e-04 - val_mae: 0.0281 - val_mape: 3.8498\n",
            "Epoch 28/200\n",
            "51/51 [==============================] - 2s 44ms/step - loss: 3.4169e-04 - accuracy: 0.0000e+00 - mse: 3.4169e-04 - mae: 0.0146 - mape: 2.3950 - val_loss: 3.4277e-04 - val_accuracy: 0.0000e+00 - val_mse: 3.4277e-04 - val_mae: 0.0168 - val_mape: 2.2941\n",
            "Epoch 29/200\n",
            "51/51 [==============================] - 2s 45ms/step - loss: 1.9777e-04 - accuracy: 0.0000e+00 - mse: 1.9777e-04 - mae: 0.0101 - mape: 1.6360 - val_loss: 2.1414e-04 - val_accuracy: 0.0000e+00 - val_mse: 2.1414e-04 - val_mae: 0.0126 - val_mape: 1.7188\n",
            "Epoch 30/200\n",
            "51/51 [==============================] - 2s 44ms/step - loss: 2.9089e-04 - accuracy: 0.0000e+00 - mse: 2.9089e-04 - mae: 0.0133 - mape: 2.2187 - val_loss: 3.2854e-04 - val_accuracy: 0.0000e+00 - val_mse: 3.2854e-04 - val_mae: 0.0162 - val_mape: 2.1968\n",
            "Epoch 31/200\n",
            "51/51 [==============================] - 2s 44ms/step - loss: 2.1882e-04 - accuracy: 0.0000e+00 - mse: 2.1882e-04 - mae: 0.0112 - mape: 1.8988 - val_loss: 1.5058e-04 - val_accuracy: 0.0000e+00 - val_mse: 1.5058e-04 - val_mae: 0.0101 - val_mape: 1.3803\n",
            "Epoch 32/200\n",
            "51/51 [==============================] - 2s 45ms/step - loss: 1.4106e-04 - accuracy: 0.0000e+00 - mse: 1.4106e-04 - mae: 0.0086 - mape: 1.4347 - val_loss: 1.0186e-04 - val_accuracy: 0.0000e+00 - val_mse: 1.0186e-04 - val_mae: 0.0078 - val_mape: 1.0607\n",
            "Epoch 33/200\n",
            "51/51 [==============================] - 2s 44ms/step - loss: 1.7117e-04 - accuracy: 0.0000e+00 - mse: 1.7117e-04 - mae: 0.0096 - mape: 1.5887 - val_loss: 8.7107e-05 - val_accuracy: 0.0000e+00 - val_mse: 8.7107e-05 - val_mae: 0.0070 - val_mape: 0.9734\n",
            "Epoch 34/200\n",
            "51/51 [==============================] - 2s 44ms/step - loss: 1.5705e-04 - accuracy: 0.0000e+00 - mse: 1.5705e-04 - mae: 0.0094 - mape: 1.5683 - val_loss: 2.3015e-04 - val_accuracy: 0.0000e+00 - val_mse: 2.3015e-04 - val_mae: 0.0133 - val_mape: 1.8136\n",
            "Epoch 35/200\n",
            "51/51 [==============================] - 2s 45ms/step - loss: 1.4982e-04 - accuracy: 0.0000e+00 - mse: 1.4982e-04 - mae: 0.0090 - mape: 1.5272 - val_loss: 8.9766e-05 - val_accuracy: 0.0000e+00 - val_mse: 8.9766e-05 - val_mae: 0.0073 - val_mape: 1.0024\n",
            "Epoch 36/200\n",
            "51/51 [==============================] - 2s 44ms/step - loss: 1.9138e-04 - accuracy: 0.0000e+00 - mse: 1.9138e-04 - mae: 0.0105 - mape: 1.7329 - val_loss: 2.8730e-04 - val_accuracy: 0.0000e+00 - val_mse: 2.8730e-04 - val_mae: 0.0154 - val_mape: 2.1181\n",
            "Epoch 37/200\n",
            "51/51 [==============================] - 2s 44ms/step - loss: 1.8143e-04 - accuracy: 0.0000e+00 - mse: 1.8143e-04 - mae: 0.0099 - mape: 1.6311 - val_loss: 2.4381e-04 - val_accuracy: 0.0000e+00 - val_mse: 2.4381e-04 - val_mae: 0.0139 - val_mape: 1.9258\n",
            "Epoch 38/200\n",
            "51/51 [==============================] - 2s 45ms/step - loss: 3.1503e-04 - accuracy: 0.0000e+00 - mse: 3.1503e-04 - mae: 0.0143 - mape: 2.3540 - val_loss: 1.4266e-04 - val_accuracy: 0.0000e+00 - val_mse: 1.4266e-04 - val_mae: 0.0099 - val_mape: 1.3684\n",
            "Epoch 39/200\n",
            "51/51 [==============================] - 2s 44ms/step - loss: 1.3498e-04 - accuracy: 0.0000e+00 - mse: 1.3498e-04 - mae: 0.0086 - mape: 1.4294 - val_loss: 7.3891e-05 - val_accuracy: 0.0000e+00 - val_mse: 7.3891e-05 - val_mae: 0.0061 - val_mape: 0.8343\n",
            "Epoch 40/200\n",
            "51/51 [==============================] - 2s 44ms/step - loss: 1.0885e-04 - accuracy: 0.0000e+00 - mse: 1.0885e-04 - mae: 0.0075 - mape: 1.2625 - val_loss: 1.4918e-04 - val_accuracy: 0.0000e+00 - val_mse: 1.4918e-04 - val_mae: 0.0102 - val_mape: 1.3858\n",
            "Epoch 41/200\n",
            "51/51 [==============================] - 2s 45ms/step - loss: 1.4559e-04 - accuracy: 0.0000e+00 - mse: 1.4559e-04 - mae: 0.0086 - mape: 1.4598 - val_loss: 7.6605e-05 - val_accuracy: 0.0000e+00 - val_mse: 7.6605e-05 - val_mae: 0.0064 - val_mape: 0.8839\n",
            "Epoch 42/200\n",
            "51/51 [==============================] - 2s 44ms/step - loss: 1.6523e-04 - accuracy: 0.0000e+00 - mse: 1.6523e-04 - mae: 0.0093 - mape: 1.5463 - val_loss: 7.3040e-05 - val_accuracy: 0.0000e+00 - val_mse: 7.3040e-05 - val_mae: 0.0061 - val_mape: 0.8446\n",
            "Epoch 43/200\n",
            "51/51 [==============================] - 2s 45ms/step - loss: 1.6909e-04 - accuracy: 0.0000e+00 - mse: 1.6909e-04 - mae: 0.0096 - mape: 1.5792 - val_loss: 1.9081e-04 - val_accuracy: 0.0000e+00 - val_mse: 1.9081e-04 - val_mae: 0.0120 - val_mape: 1.6635\n",
            "Epoch 44/200\n",
            "51/51 [==============================] - 2s 44ms/step - loss: 2.8611e-04 - accuracy: 0.0000e+00 - mse: 2.8611e-04 - mae: 0.0134 - mape: 2.1957 - val_loss: 1.3524e-04 - val_accuracy: 0.0000e+00 - val_mse: 1.3524e-04 - val_mae: 0.0095 - val_mape: 1.2986\n",
            "Epoch 45/200\n",
            "51/51 [==============================] - 2s 44ms/step - loss: 1.5482e-04 - accuracy: 0.0000e+00 - mse: 1.5482e-04 - mae: 0.0092 - mape: 1.5360 - val_loss: 9.1680e-05 - val_accuracy: 0.0000e+00 - val_mse: 9.1680e-05 - val_mae: 0.0073 - val_mape: 0.9979\n",
            "Epoch 46/200\n",
            "51/51 [==============================] - 2s 44ms/step - loss: 1.9690e-04 - accuracy: 0.0000e+00 - mse: 1.9690e-04 - mae: 0.0108 - mape: 1.8090 - val_loss: 1.1937e-04 - val_accuracy: 0.0000e+00 - val_mse: 1.1937e-04 - val_mae: 0.0090 - val_mape: 1.2405\n",
            "Epoch 47/200\n",
            "51/51 [==============================] - 2s 44ms/step - loss: 1.6190e-04 - accuracy: 0.0000e+00 - mse: 1.6190e-04 - mae: 0.0096 - mape: 1.6264 - val_loss: 9.8229e-05 - val_accuracy: 0.0000e+00 - val_mse: 9.8229e-05 - val_mae: 0.0078 - val_mape: 1.0774\n",
            "Epoch 48/200\n",
            "51/51 [==============================] - 2s 45ms/step - loss: 2.2305e-04 - accuracy: 0.0000e+00 - mse: 2.2305e-04 - mae: 0.0114 - mape: 1.8667 - val_loss: 3.6527e-04 - val_accuracy: 0.0000e+00 - val_mse: 3.6527e-04 - val_mae: 0.0174 - val_mape: 2.3752\n",
            "Epoch 49/200\n",
            "51/51 [==============================] - 2s 44ms/step - loss: 1.7492e-04 - accuracy: 0.0000e+00 - mse: 1.7492e-04 - mae: 0.0099 - mape: 1.6453 - val_loss: 2.0874e-04 - val_accuracy: 0.0000e+00 - val_mse: 2.0874e-04 - val_mae: 0.0126 - val_mape: 1.7170\n",
            "Epoch 50/200\n",
            "51/51 [==============================] - 2s 44ms/step - loss: 2.4045e-04 - accuracy: 0.0000e+00 - mse: 2.4045e-04 - mae: 0.0122 - mape: 1.9944 - val_loss: 3.1248e-04 - val_accuracy: 0.0000e+00 - val_mse: 3.1248e-04 - val_mae: 0.0159 - val_mape: 2.1671\n",
            "Epoch 51/200\n",
            "51/51 [==============================] - 2s 44ms/step - loss: 2.9201e-04 - accuracy: 0.0000e+00 - mse: 2.9201e-04 - mae: 0.0134 - mape: 2.1924 - val_loss: 1.4133e-04 - val_accuracy: 0.0000e+00 - val_mse: 1.4133e-04 - val_mae: 0.0098 - val_mape: 1.3418\n",
            "Epoch 52/200\n",
            "51/51 [==============================] - 2s 44ms/step - loss: 1.3060e-04 - accuracy: 0.0000e+00 - mse: 1.3060e-04 - mae: 0.0082 - mape: 1.3861 - val_loss: 1.5158e-04 - val_accuracy: 0.0000e+00 - val_mse: 1.5158e-04 - val_mae: 0.0103 - val_mape: 1.4063\n",
            "Epoch 53/200\n",
            "51/51 [==============================] - 2s 44ms/step - loss: 1.8200e-04 - accuracy: 0.0000e+00 - mse: 1.8200e-04 - mae: 0.0102 - mape: 1.6732 - val_loss: 1.0202e-04 - val_accuracy: 0.0000e+00 - val_mse: 1.0202e-04 - val_mae: 0.0081 - val_mape: 1.1115\n",
            "Epoch 54/200\n",
            "51/51 [==============================] - 2s 44ms/step - loss: 1.4780e-04 - accuracy: 0.0000e+00 - mse: 1.4780e-04 - mae: 0.0092 - mape: 1.5369 - val_loss: 1.3198e-04 - val_accuracy: 0.0000e+00 - val_mse: 1.3198e-04 - val_mae: 0.0092 - val_mape: 1.2686\n",
            "Epoch 55/200\n",
            "51/51 [==============================] - 2s 44ms/step - loss: 1.4891e-04 - accuracy: 0.0000e+00 - mse: 1.4891e-04 - mae: 0.0091 - mape: 1.4936 - val_loss: 6.7744e-05 - val_accuracy: 0.0000e+00 - val_mse: 6.7744e-05 - val_mae: 0.0057 - val_mape: 0.7824\n",
            "Epoch 56/200\n",
            "51/51 [==============================] - 2s 45ms/step - loss: 1.6225e-04 - accuracy: 0.0000e+00 - mse: 1.6225e-04 - mae: 0.0096 - mape: 1.5640 - val_loss: 4.4601e-04 - val_accuracy: 0.0000e+00 - val_mse: 4.4601e-04 - val_mae: 0.0197 - val_mape: 2.6948\n",
            "Epoch 57/200\n",
            "51/51 [==============================] - 2s 45ms/step - loss: 2.2473e-04 - accuracy: 0.0000e+00 - mse: 2.2473e-04 - mae: 0.0117 - mape: 1.8944 - val_loss: 3.0004e-04 - val_accuracy: 0.0000e+00 - val_mse: 3.0004e-04 - val_mae: 0.0157 - val_mape: 2.1670\n",
            "Epoch 58/200\n",
            "51/51 [==============================] - 2s 44ms/step - loss: 2.4871e-04 - accuracy: 0.0000e+00 - mse: 2.4871e-04 - mae: 0.0122 - mape: 1.9980 - val_loss: 1.4490e-04 - val_accuracy: 0.0000e+00 - val_mse: 1.4490e-04 - val_mae: 0.0101 - val_mape: 1.4024\n",
            "Epoch 59/200\n",
            "51/51 [==============================] - 2s 44ms/step - loss: 1.7848e-04 - accuracy: 0.0000e+00 - mse: 1.7848e-04 - mae: 0.0100 - mape: 1.6738 - val_loss: 6.9518e-04 - val_accuracy: 0.0000e+00 - val_mse: 6.9518e-04 - val_mae: 0.0251 - val_mape: 3.4332\n",
            "Epoch 60/200\n",
            "51/51 [==============================] - 2s 45ms/step - loss: 2.0748e-04 - accuracy: 0.0000e+00 - mse: 2.0748e-04 - mae: 0.0113 - mape: 1.8529 - val_loss: 9.1755e-05 - val_accuracy: 0.0000e+00 - val_mse: 9.1755e-05 - val_mae: 0.0075 - val_mape: 1.0344\n",
            "Epoch 61/200\n",
            "51/51 [==============================] - 2s 45ms/step - loss: 1.6601e-04 - accuracy: 0.0000e+00 - mse: 1.6601e-04 - mae: 0.0097 - mape: 1.5854 - val_loss: 2.1692e-04 - val_accuracy: 0.0000e+00 - val_mse: 2.1692e-04 - val_mae: 0.0129 - val_mape: 1.7704\n",
            "Epoch 62/200\n",
            "51/51 [==============================] - 2s 45ms/step - loss: 2.4762e-04 - accuracy: 0.0000e+00 - mse: 2.4762e-04 - mae: 0.0123 - mape: 2.0071 - val_loss: 1.0871e-04 - val_accuracy: 0.0000e+00 - val_mse: 1.0871e-04 - val_mae: 0.0084 - val_mape: 1.1639\n",
            "Epoch 63/200\n",
            "51/51 [==============================] - 2s 45ms/step - loss: 1.9074e-04 - accuracy: 0.0000e+00 - mse: 1.9074e-04 - mae: 0.0105 - mape: 1.7435 - val_loss: 1.2258e-04 - val_accuracy: 0.0000e+00 - val_mse: 1.2258e-04 - val_mae: 0.0090 - val_mape: 1.2263\n",
            "Epoch 64/200\n",
            "51/51 [==============================] - 2s 44ms/step - loss: 1.4980e-04 - accuracy: 0.0000e+00 - mse: 1.4980e-04 - mae: 0.0087 - mape: 1.4620 - val_loss: 8.3149e-05 - val_accuracy: 0.0000e+00 - val_mse: 8.3149e-05 - val_mae: 0.0069 - val_mape: 0.9569\n",
            "Epoch 65/200\n",
            "51/51 [==============================] - 2s 44ms/step - loss: 1.4623e-04 - accuracy: 0.0000e+00 - mse: 1.4623e-04 - mae: 0.0090 - mape: 1.4929 - val_loss: 2.7942e-04 - val_accuracy: 0.0000e+00 - val_mse: 2.7942e-04 - val_mae: 0.0151 - val_mape: 2.0697\n",
            "Epoch 66/200\n",
            "51/51 [==============================] - 2s 44ms/step - loss: 3.2452e-04 - accuracy: 0.0000e+00 - mse: 3.2452e-04 - mae: 0.0148 - mape: 2.4302 - val_loss: 1.0221e-04 - val_accuracy: 0.0000e+00 - val_mse: 1.0221e-04 - val_mae: 0.0081 - val_mape: 1.1145\n",
            "Epoch 67/200\n",
            "51/51 [==============================] - 2s 45ms/step - loss: 1.4685e-04 - accuracy: 0.0000e+00 - mse: 1.4685e-04 - mae: 0.0090 - mape: 1.4946 - val_loss: 1.8759e-04 - val_accuracy: 0.0000e+00 - val_mse: 1.8759e-04 - val_mae: 0.0118 - val_mape: 1.6182\n",
            "Epoch 68/200\n",
            "51/51 [==============================] - 2s 45ms/step - loss: 1.6561e-04 - accuracy: 0.0000e+00 - mse: 1.6561e-04 - mae: 0.0100 - mape: 1.6191 - val_loss: 2.5104e-04 - val_accuracy: 0.0000e+00 - val_mse: 2.5104e-04 - val_mae: 0.0141 - val_mape: 1.9536\n",
            "Epoch 69/200\n",
            "51/51 [==============================] - 2s 45ms/step - loss: 2.1161e-04 - accuracy: 0.0000e+00 - mse: 2.1161e-04 - mae: 0.0115 - mape: 1.8833 - val_loss: 7.3587e-05 - val_accuracy: 0.0000e+00 - val_mse: 7.3587e-05 - val_mae: 0.0063 - val_mape: 0.8614\n",
            "Epoch 70/200\n",
            "51/51 [==============================] - 2s 44ms/step - loss: 1.6459e-04 - accuracy: 0.0000e+00 - mse: 1.6459e-04 - mae: 0.0099 - mape: 1.6077 - val_loss: 6.5701e-05 - val_accuracy: 0.0000e+00 - val_mse: 6.5701e-05 - val_mae: 0.0056 - val_mape: 0.7656\n",
            "Epoch 71/200\n",
            "51/51 [==============================] - 2s 45ms/step - loss: 1.4008e-04 - accuracy: 0.0000e+00 - mse: 1.4008e-04 - mae: 0.0089 - mape: 1.4770 - val_loss: 7.3002e-04 - val_accuracy: 0.0000e+00 - val_mse: 7.3002e-04 - val_mae: 0.0258 - val_mape: 3.5357\n",
            "Epoch 72/200\n",
            "51/51 [==============================] - 2s 45ms/step - loss: 2.6297e-04 - accuracy: 0.0000e+00 - mse: 2.6297e-04 - mae: 0.0127 - mape: 2.0623 - val_loss: 1.0579e-04 - val_accuracy: 0.0000e+00 - val_mse: 1.0579e-04 - val_mae: 0.0082 - val_mape: 1.1308\n",
            "Epoch 73/200\n",
            "51/51 [==============================] - 2s 44ms/step - loss: 1.5568e-04 - accuracy: 0.0000e+00 - mse: 1.5568e-04 - mae: 0.0095 - mape: 1.5762 - val_loss: 6.9410e-05 - val_accuracy: 0.0000e+00 - val_mse: 6.9410e-05 - val_mae: 0.0059 - val_mape: 0.8088\n",
            "Epoch 74/200\n",
            "51/51 [==============================] - 2s 45ms/step - loss: 1.2675e-04 - accuracy: 0.0000e+00 - mse: 1.2675e-04 - mae: 0.0084 - mape: 1.3937 - val_loss: 9.6523e-05 - val_accuracy: 0.0000e+00 - val_mse: 9.6523e-05 - val_mae: 0.0078 - val_mape: 1.0755\n",
            "Epoch 75/200\n",
            "51/51 [==============================] - 2s 45ms/step - loss: 4.6540e-04 - accuracy: 0.0000e+00 - mse: 4.6540e-04 - mae: 0.0179 - mape: 2.9130 - val_loss: 1.5220e-04 - val_accuracy: 0.0000e+00 - val_mse: 1.5220e-04 - val_mae: 0.0104 - val_mape: 1.4473\n",
            "Epoch 76/200\n",
            "51/51 [==============================] - 2s 45ms/step - loss: 1.9058e-04 - accuracy: 0.0000e+00 - mse: 1.9058e-04 - mae: 0.0103 - mape: 1.7000 - val_loss: 6.4974e-05 - val_accuracy: 0.0000e+00 - val_mse: 6.4974e-05 - val_mae: 0.0056 - val_mape: 0.7639\n",
            "Epoch 77/200\n",
            "51/51 [==============================] - 2s 46ms/step - loss: 1.5086e-04 - accuracy: 0.0000e+00 - mse: 1.5086e-04 - mae: 0.0087 - mape: 1.4399 - val_loss: 6.7366e-05 - val_accuracy: 0.0000e+00 - val_mse: 6.7366e-05 - val_mae: 0.0057 - val_mape: 0.7861\n",
            "Epoch 78/200\n",
            "51/51 [==============================] - 2s 45ms/step - loss: 1.8924e-04 - accuracy: 0.0000e+00 - mse: 1.8924e-04 - mae: 0.0108 - mape: 1.7622 - val_loss: 0.0012 - val_accuracy: 0.0000e+00 - val_mse: 0.0012 - val_mae: 0.0328 - val_mape: 4.4962\n",
            "Epoch 79/200\n",
            "51/51 [==============================] - 2s 45ms/step - loss: 3.0945e-04 - accuracy: 0.0000e+00 - mse: 3.0945e-04 - mae: 0.0140 - mape: 2.2676 - val_loss: 2.2175e-04 - val_accuracy: 0.0000e+00 - val_mse: 2.2175e-04 - val_mae: 0.0131 - val_mape: 1.8067\n",
            "Epoch 80/200\n",
            "51/51 [==============================] - 2s 44ms/step - loss: 1.9109e-04 - accuracy: 0.0000e+00 - mse: 1.9109e-04 - mae: 0.0104 - mape: 1.7157 - val_loss: 9.6203e-05 - val_accuracy: 0.0000e+00 - val_mse: 9.6203e-05 - val_mae: 0.0078 - val_mape: 1.0716\n",
            "Epoch 81/200\n",
            "51/51 [==============================] - 2s 46ms/step - loss: 1.5506e-04 - accuracy: 0.0000e+00 - mse: 1.5506e-04 - mae: 0.0093 - mape: 1.5208 - val_loss: 2.0841e-04 - val_accuracy: 0.0000e+00 - val_mse: 2.0841e-04 - val_mae: 0.0126 - val_mape: 1.7203\n",
            "Epoch 82/200\n",
            "51/51 [==============================] - 2s 45ms/step - loss: 1.6958e-04 - accuracy: 0.0000e+00 - mse: 1.6958e-04 - mae: 0.0101 - mape: 1.6443 - val_loss: 6.4283e-05 - val_accuracy: 0.0000e+00 - val_mse: 6.4283e-05 - val_mae: 0.0055 - val_mape: 0.7567\n",
            "Epoch 83/200\n",
            "51/51 [==============================] - 2s 45ms/step - loss: 1.3247e-04 - accuracy: 0.0000e+00 - mse: 1.3247e-04 - mae: 0.0083 - mape: 1.3728 - val_loss: 6.8595e-05 - val_accuracy: 0.0000e+00 - val_mse: 6.8595e-05 - val_mae: 0.0058 - val_mape: 0.7989\n",
            "Epoch 84/200\n",
            "51/51 [==============================] - 2s 45ms/step - loss: 1.4886e-04 - accuracy: 0.0000e+00 - mse: 1.4886e-04 - mae: 0.0088 - mape: 1.4630 - val_loss: 6.6561e-05 - val_accuracy: 0.0000e+00 - val_mse: 6.6561e-05 - val_mae: 0.0058 - val_mape: 0.7961\n",
            "Epoch 85/200\n",
            "51/51 [==============================] - 2s 44ms/step - loss: 1.2765e-04 - accuracy: 0.0000e+00 - mse: 1.2765e-04 - mae: 0.0083 - mape: 1.3597 - val_loss: 8.9377e-05 - val_accuracy: 0.0000e+00 - val_mse: 8.9377e-05 - val_mae: 0.0073 - val_mape: 0.9924\n",
            "Epoch 86/200\n",
            "51/51 [==============================] - 2s 45ms/step - loss: 1.4823e-04 - accuracy: 0.0000e+00 - mse: 1.4823e-04 - mae: 0.0090 - mape: 1.4858 - val_loss: 7.8057e-04 - val_accuracy: 0.0000e+00 - val_mse: 7.8057e-04 - val_mae: 0.0267 - val_mape: 3.6892\n",
            "Epoch 87/200\n",
            "51/51 [==============================] - 2s 45ms/step - loss: 3.2374e-04 - accuracy: 0.0000e+00 - mse: 3.2374e-04 - mae: 0.0138 - mape: 2.2424 - val_loss: 9.4937e-05 - val_accuracy: 0.0000e+00 - val_mse: 9.4937e-05 - val_mae: 0.0076 - val_mape: 1.0412\n",
            "Epoch 88/200\n",
            "51/51 [==============================] - 2s 46ms/step - loss: 1.8831e-04 - accuracy: 0.0000e+00 - mse: 1.8831e-04 - mae: 0.0105 - mape: 1.7166 - val_loss: 6.9749e-05 - val_accuracy: 0.0000e+00 - val_mse: 6.9749e-05 - val_mae: 0.0059 - val_mape: 0.8118\n",
            "Epoch 89/200\n",
            "51/51 [==============================] - 2s 45ms/step - loss: 1.5443e-04 - accuracy: 0.0000e+00 - mse: 1.5443e-04 - mae: 0.0092 - mape: 1.5384 - val_loss: 9.2350e-04 - val_accuracy: 0.0000e+00 - val_mse: 9.2350e-04 - val_mae: 0.0292 - val_mape: 4.0002\n",
            "Epoch 90/200\n",
            "51/51 [==============================] - 2s 45ms/step - loss: 3.4124e-04 - accuracy: 0.0000e+00 - mse: 3.4124e-04 - mae: 0.0150 - mape: 2.4081 - val_loss: 6.9562e-05 - val_accuracy: 0.0000e+00 - val_mse: 6.9562e-05 - val_mae: 0.0059 - val_mape: 0.8099\n",
            "Epoch 91/200\n",
            "51/51 [==============================] - 2s 45ms/step - loss: 1.7458e-04 - accuracy: 0.0000e+00 - mse: 1.7458e-04 - mae: 0.0102 - mape: 1.6958 - val_loss: 1.8577e-04 - val_accuracy: 0.0000e+00 - val_mse: 1.8577e-04 - val_mae: 0.0118 - val_mape: 1.6109\n",
            "Epoch 92/200\n",
            "51/51 [==============================] - 2s 45ms/step - loss: 1.8581e-04 - accuracy: 0.0000e+00 - mse: 1.8581e-04 - mae: 0.0106 - mape: 1.7319 - val_loss: 9.5264e-05 - val_accuracy: 0.0000e+00 - val_mse: 9.5264e-05 - val_mae: 0.0075 - val_mape: 1.0311\n",
            "Epoch 93/200\n",
            "51/51 [==============================] - 2s 44ms/step - loss: 1.3939e-04 - accuracy: 0.0000e+00 - mse: 1.3939e-04 - mae: 0.0089 - mape: 1.4699 - val_loss: 2.2857e-04 - val_accuracy: 0.0000e+00 - val_mse: 2.2857e-04 - val_mae: 0.0133 - val_mape: 1.8193\n",
            "Epoch 94/200\n",
            "51/51 [==============================] - 2s 45ms/step - loss: 2.0523e-04 - accuracy: 0.0000e+00 - mse: 2.0523e-04 - mae: 0.0113 - mape: 1.8065 - val_loss: 8.5464e-05 - val_accuracy: 0.0000e+00 - val_mse: 8.5464e-05 - val_mae: 0.0071 - val_mape: 0.9787\n",
            "Epoch 95/200\n",
            "51/51 [==============================] - 2s 46ms/step - loss: 1.6726e-04 - accuracy: 0.0000e+00 - mse: 1.6726e-04 - mae: 0.0097 - mape: 1.5910 - val_loss: 2.4599e-04 - val_accuracy: 0.0000e+00 - val_mse: 2.4599e-04 - val_mae: 0.0138 - val_mape: 1.9115\n",
            "Epoch 96/200\n",
            "51/51 [==============================] - 2s 45ms/step - loss: 3.6006e-04 - accuracy: 0.0000e+00 - mse: 3.6006e-04 - mae: 0.0159 - mape: 2.6186 - val_loss: 9.9975e-05 - val_accuracy: 0.0000e+00 - val_mse: 9.9975e-05 - val_mae: 0.0078 - val_mape: 1.0711\n",
            "Epoch 97/200\n",
            "51/51 [==============================] - 2s 45ms/step - loss: 1.9856e-04 - accuracy: 0.0000e+00 - mse: 1.9856e-04 - mae: 0.0109 - mape: 1.7851 - val_loss: 4.1463e-04 - val_accuracy: 0.0000e+00 - val_mse: 4.1463e-04 - val_mae: 0.0189 - val_mape: 2.6097\n",
            "Epoch 98/200\n",
            "51/51 [==============================] - 2s 45ms/step - loss: 1.6689e-04 - accuracy: 0.0000e+00 - mse: 1.6689e-04 - mae: 0.0097 - mape: 1.5743 - val_loss: 1.1805e-04 - val_accuracy: 0.0000e+00 - val_mse: 1.1805e-04 - val_mae: 0.0086 - val_mape: 1.1874\n",
            "Epoch 99/200\n",
            "51/51 [==============================] - 2s 45ms/step - loss: 1.4604e-04 - accuracy: 0.0000e+00 - mse: 1.4604e-04 - mae: 0.0090 - mape: 1.4952 - val_loss: 8.6151e-05 - val_accuracy: 0.0000e+00 - val_mse: 8.6151e-05 - val_mae: 0.0070 - val_mape: 0.9526\n",
            "Epoch 100/200\n",
            "51/51 [==============================] - 2s 45ms/step - loss: 1.3911e-04 - accuracy: 0.0000e+00 - mse: 1.3911e-04 - mae: 0.0086 - mape: 1.3981 - val_loss: 2.1607e-04 - val_accuracy: 0.0000e+00 - val_mse: 2.1607e-04 - val_mae: 0.0129 - val_mape: 1.7562\n",
            "Epoch 101/200\n",
            "51/51 [==============================] - 2s 45ms/step - loss: 1.4171e-04 - accuracy: 0.0000e+00 - mse: 1.4171e-04 - mae: 0.0090 - mape: 1.4962 - val_loss: 3.1278e-04 - val_accuracy: 0.0000e+00 - val_mse: 3.1278e-04 - val_mae: 0.0161 - val_mape: 2.2262\n",
            "Epoch 102/200\n",
            "51/51 [==============================] - 2s 45ms/step - loss: 1.5182e-04 - accuracy: 0.0000e+00 - mse: 1.5182e-04 - mae: 0.0090 - mape: 1.4944 - val_loss: 1.6949e-04 - val_accuracy: 0.0000e+00 - val_mse: 1.6949e-04 - val_mae: 0.0113 - val_mape: 1.5523\n",
            "Epoch 103/200\n",
            "51/51 [==============================] - 2s 45ms/step - loss: 1.6187e-04 - accuracy: 0.0000e+00 - mse: 1.6187e-04 - mae: 0.0098 - mape: 1.6156 - val_loss: 8.7661e-05 - val_accuracy: 0.0000e+00 - val_mse: 8.7661e-05 - val_mae: 0.0071 - val_mape: 0.9648\n",
            "Epoch 104/200\n",
            "51/51 [==============================] - 2s 45ms/step - loss: 1.3111e-04 - accuracy: 0.0000e+00 - mse: 1.3111e-04 - mae: 0.0087 - mape: 1.4285 - val_loss: 1.9761e-04 - val_accuracy: 0.0000e+00 - val_mse: 1.9761e-04 - val_mae: 0.0123 - val_mape: 1.7015\n",
            "Epoch 105/200\n",
            "51/51 [==============================] - 2s 45ms/step - loss: 1.6448e-04 - accuracy: 0.0000e+00 - mse: 1.6448e-04 - mae: 0.0100 - mape: 1.6530 - val_loss: 1.2293e-04 - val_accuracy: 0.0000e+00 - val_mse: 1.2293e-04 - val_mae: 0.0092 - val_mape: 1.2669\n",
            "Epoch 106/200\n",
            "51/51 [==============================] - 2s 45ms/step - loss: 1.6995e-04 - accuracy: 0.0000e+00 - mse: 1.6995e-04 - mae: 0.0102 - mape: 1.6365 - val_loss: 8.6400e-05 - val_accuracy: 0.0000e+00 - val_mse: 8.6400e-05 - val_mae: 0.0070 - val_mape: 0.9472\n",
            "Epoch 107/200\n",
            "51/51 [==============================] - 2s 45ms/step - loss: 1.7578e-04 - accuracy: 0.0000e+00 - mse: 1.7578e-04 - mae: 0.0100 - mape: 1.6280 - val_loss: 6.4153e-04 - val_accuracy: 0.0000e+00 - val_mse: 6.4153e-04 - val_mae: 0.0240 - val_mape: 3.2890\n",
            "Epoch 108/200\n",
            "51/51 [==============================] - 2s 45ms/step - loss: 3.8123e-04 - accuracy: 0.0000e+00 - mse: 3.8123e-04 - mae: 0.0164 - mape: 2.6528 - val_loss: 1.0447e-04 - val_accuracy: 0.0000e+00 - val_mse: 1.0447e-04 - val_mae: 0.0082 - val_mape: 1.1298\n",
            "Epoch 109/200\n",
            "51/51 [==============================] - 2s 46ms/step - loss: 1.5790e-04 - accuracy: 0.0000e+00 - mse: 1.5790e-04 - mae: 0.0096 - mape: 1.5614 - val_loss: 2.3802e-04 - val_accuracy: 0.0000e+00 - val_mse: 2.3802e-04 - val_mae: 0.0137 - val_mape: 1.8668\n",
            "Epoch 110/200\n",
            "51/51 [==============================] - 2s 45ms/step - loss: 1.6764e-04 - accuracy: 0.0000e+00 - mse: 1.6764e-04 - mae: 0.0098 - mape: 1.5688 - val_loss: 1.8707e-04 - val_accuracy: 0.0000e+00 - val_mse: 1.8707e-04 - val_mae: 0.0120 - val_mape: 1.6490\n",
            "Epoch 111/200\n",
            "51/51 [==============================] - 2s 45ms/step - loss: 1.8251e-04 - accuracy: 0.0000e+00 - mse: 1.8251e-04 - mae: 0.0107 - mape: 1.7830 - val_loss: 1.1623e-04 - val_accuracy: 0.0000e+00 - val_mse: 1.1623e-04 - val_mae: 0.0088 - val_mape: 1.2228\n",
            "Epoch 112/200\n",
            "51/51 [==============================] - 2s 46ms/step - loss: 1.2886e-04 - accuracy: 0.0000e+00 - mse: 1.2886e-04 - mae: 0.0081 - mape: 1.3418 - val_loss: 1.1236e-04 - val_accuracy: 0.0000e+00 - val_mse: 1.1236e-04 - val_mae: 0.0087 - val_mape: 1.2021\n",
            "Epoch 113/200\n",
            "51/51 [==============================] - 2s 46ms/step - loss: 1.3808e-04 - accuracy: 0.0000e+00 - mse: 1.3808e-04 - mae: 0.0086 - mape: 1.4047 - val_loss: 3.5884e-04 - val_accuracy: 0.0000e+00 - val_mse: 3.5884e-04 - val_mae: 0.0174 - val_mape: 2.3818\n",
            "Epoch 114/200\n",
            "51/51 [==============================] - 2s 47ms/step - loss: 1.6399e-04 - accuracy: 0.0000e+00 - mse: 1.6399e-04 - mae: 0.0101 - mape: 1.6372 - val_loss: 2.1048e-04 - val_accuracy: 0.0000e+00 - val_mse: 2.1048e-04 - val_mae: 0.0127 - val_mape: 1.7387\n",
            "Epoch 115/200\n",
            "51/51 [==============================] - 2s 46ms/step - loss: 1.5362e-04 - accuracy: 0.0000e+00 - mse: 1.5362e-04 - mae: 0.0094 - mape: 1.5757 - val_loss: 1.5663e-04 - val_accuracy: 0.0000e+00 - val_mse: 1.5663e-04 - val_mae: 0.0106 - val_mape: 1.4431\n",
            "Epoch 116/200\n",
            "51/51 [==============================] - 2s 45ms/step - loss: 1.3978e-04 - accuracy: 0.0000e+00 - mse: 1.3978e-04 - mae: 0.0089 - mape: 1.4529 - val_loss: 8.3800e-05 - val_accuracy: 0.0000e+00 - val_mse: 8.3800e-05 - val_mae: 0.0069 - val_mape: 0.9430\n",
            "Epoch 117/200\n",
            "51/51 [==============================] - 2s 45ms/step - loss: 1.5098e-04 - accuracy: 0.0000e+00 - mse: 1.5098e-04 - mae: 0.0093 - mape: 1.5221 - val_loss: 3.8139e-04 - val_accuracy: 0.0000e+00 - val_mse: 3.8139e-04 - val_mae: 0.0180 - val_mape: 2.4694\n",
            "Epoch 118/200\n",
            "51/51 [==============================] - 2s 45ms/step - loss: 1.5288e-04 - accuracy: 0.0000e+00 - mse: 1.5288e-04 - mae: 0.0095 - mape: 1.5478 - val_loss: 1.6253e-04 - val_accuracy: 0.0000e+00 - val_mse: 1.6253e-04 - val_mae: 0.0108 - val_mape: 1.4761\n",
            "Epoch 119/200\n",
            "51/51 [==============================] - 2s 45ms/step - loss: 1.6644e-04 - accuracy: 0.0000e+00 - mse: 1.6644e-04 - mae: 0.0099 - mape: 1.6220 - val_loss: 1.7628e-04 - val_accuracy: 0.0000e+00 - val_mse: 1.7628e-04 - val_mae: 0.0116 - val_mape: 1.5972\n",
            "Epoch 120/200\n",
            "51/51 [==============================] - 2s 46ms/step - loss: 1.5488e-04 - accuracy: 0.0000e+00 - mse: 1.5488e-04 - mae: 0.0097 - mape: 1.6092 - val_loss: 8.2217e-05 - val_accuracy: 0.0000e+00 - val_mse: 8.2217e-05 - val_mae: 0.0068 - val_mape: 0.9401\n",
            "Epoch 121/200\n",
            "51/51 [==============================] - 2s 46ms/step - loss: 1.6075e-04 - accuracy: 0.0000e+00 - mse: 1.6075e-04 - mae: 0.0095 - mape: 1.5710 - val_loss: 6.7085e-05 - val_accuracy: 0.0000e+00 - val_mse: 6.7085e-05 - val_mae: 0.0057 - val_mape: 0.7836\n",
            "Epoch 122/200\n",
            "51/51 [==============================] - 2s 46ms/step - loss: 1.3438e-04 - accuracy: 0.0000e+00 - mse: 1.3438e-04 - mae: 0.0085 - mape: 1.3944 - val_loss: 7.0554e-05 - val_accuracy: 0.0000e+00 - val_mse: 7.0554e-05 - val_mae: 0.0060 - val_mape: 0.8178\n",
            "Epoch 123/200\n",
            "51/51 [==============================] - 2s 45ms/step - loss: 1.2932e-04 - accuracy: 0.0000e+00 - mse: 1.2932e-04 - mae: 0.0083 - mape: 1.3604 - val_loss: 8.8604e-05 - val_accuracy: 0.0000e+00 - val_mse: 8.8604e-05 - val_mae: 0.0072 - val_mape: 0.9823\n",
            "Epoch 124/200\n",
            "51/51 [==============================] - 2s 46ms/step - loss: 1.3747e-04 - accuracy: 0.0000e+00 - mse: 1.3747e-04 - mae: 0.0089 - mape: 1.4755 - val_loss: 7.0918e-05 - val_accuracy: 0.0000e+00 - val_mse: 7.0918e-05 - val_mae: 0.0060 - val_mape: 0.8209\n",
            "Epoch 125/200\n",
            "51/51 [==============================] - 2s 45ms/step - loss: 1.3568e-04 - accuracy: 0.0000e+00 - mse: 1.3568e-04 - mae: 0.0085 - mape: 1.3759 - val_loss: 3.2992e-04 - val_accuracy: 0.0000e+00 - val_mse: 3.2992e-04 - val_mae: 0.0166 - val_mape: 2.2726\n",
            "Epoch 126/200\n",
            "51/51 [==============================] - 2s 46ms/step - loss: 1.8544e-04 - accuracy: 0.0000e+00 - mse: 1.8544e-04 - mae: 0.0106 - mape: 1.7092 - val_loss: 7.3372e-04 - val_accuracy: 0.0000e+00 - val_mse: 7.3372e-04 - val_mae: 0.0257 - val_mape: 3.5194\n",
            "Epoch 127/200\n",
            "51/51 [==============================] - 2s 46ms/step - loss: 2.8097e-04 - accuracy: 0.0000e+00 - mse: 2.8097e-04 - mae: 0.0135 - mape: 2.1843 - val_loss: 1.4397e-04 - val_accuracy: 0.0000e+00 - val_mse: 1.4397e-04 - val_mae: 0.0102 - val_mape: 1.4097\n",
            "Epoch 128/200\n",
            "51/51 [==============================] - 2s 46ms/step - loss: 1.9808e-04 - accuracy: 0.0000e+00 - mse: 1.9808e-04 - mae: 0.0108 - mape: 1.7800 - val_loss: 1.4027e-04 - val_accuracy: 0.0000e+00 - val_mse: 1.4027e-04 - val_mae: 0.0099 - val_mape: 1.3427\n",
            "Epoch 129/200\n",
            "51/51 [==============================] - 2s 47ms/step - loss: 1.7608e-04 - accuracy: 0.0000e+00 - mse: 1.7608e-04 - mae: 0.0101 - mape: 1.6554 - val_loss: 6.6457e-05 - val_accuracy: 0.0000e+00 - val_mse: 6.6457e-05 - val_mae: 0.0057 - val_mape: 0.7863\n",
            "Epoch 130/200\n",
            "51/51 [==============================] - 2s 46ms/step - loss: 1.3620e-04 - accuracy: 0.0000e+00 - mse: 1.3620e-04 - mae: 0.0086 - mape: 1.4229 - val_loss: 1.0234e-04 - val_accuracy: 0.0000e+00 - val_mse: 1.0234e-04 - val_mae: 0.0079 - val_mape: 1.0812\n",
            "Epoch 131/200\n",
            "51/51 [==============================] - 2s 46ms/step - loss: 1.7903e-04 - accuracy: 0.0000e+00 - mse: 1.7903e-04 - mae: 0.0106 - mape: 1.7449 - val_loss: 6.8439e-05 - val_accuracy: 0.0000e+00 - val_mse: 6.8439e-05 - val_mae: 0.0058 - val_mape: 0.7976\n",
            "Epoch 132/200\n",
            "51/51 [==============================] - 2s 46ms/step - loss: 1.4856e-04 - accuracy: 0.0000e+00 - mse: 1.4856e-04 - mae: 0.0094 - mape: 1.5542 - val_loss: 1.1923e-04 - val_accuracy: 0.0000e+00 - val_mse: 1.1923e-04 - val_mae: 0.0089 - val_mape: 1.2109\n",
            "Epoch 133/200\n",
            "51/51 [==============================] - 2s 46ms/step - loss: 1.4307e-04 - accuracy: 0.0000e+00 - mse: 1.4307e-04 - mae: 0.0090 - mape: 1.4889 - val_loss: 2.1401e-04 - val_accuracy: 0.0000e+00 - val_mse: 2.1401e-04 - val_mae: 0.0130 - val_mape: 1.7873\n",
            "Epoch 134/200\n",
            "51/51 [==============================] - 2s 46ms/step - loss: 1.7785e-04 - accuracy: 0.0000e+00 - mse: 1.7785e-04 - mae: 0.0102 - mape: 1.6649 - val_loss: 1.2144e-04 - val_accuracy: 0.0000e+00 - val_mse: 1.2144e-04 - val_mae: 0.0091 - val_mape: 1.2615\n",
            "Epoch 135/200\n",
            "51/51 [==============================] - 2s 46ms/step - loss: 1.8881e-04 - accuracy: 0.0000e+00 - mse: 1.8881e-04 - mae: 0.0106 - mape: 1.7488 - val_loss: 1.5216e-04 - val_accuracy: 0.0000e+00 - val_mse: 1.5216e-04 - val_mae: 0.0103 - val_mape: 1.4126\n",
            "Epoch 136/200\n",
            "51/51 [==============================] - 2s 46ms/step - loss: 1.7274e-04 - accuracy: 0.0000e+00 - mse: 1.7274e-04 - mae: 0.0098 - mape: 1.6086 - val_loss: 1.0446e-04 - val_accuracy: 0.0000e+00 - val_mse: 1.0446e-04 - val_mae: 0.0082 - val_mape: 1.1392\n",
            "Epoch 137/200\n",
            "51/51 [==============================] - 2s 46ms/step - loss: 1.9754e-04 - accuracy: 0.0000e+00 - mse: 1.9754e-04 - mae: 0.0106 - mape: 1.7235 - val_loss: 2.4539e-04 - val_accuracy: 0.0000e+00 - val_mse: 2.4539e-04 - val_mae: 0.0140 - val_mape: 1.9133\n",
            "Epoch 138/200\n",
            "51/51 [==============================] - 2s 46ms/step - loss: 1.6802e-04 - accuracy: 0.0000e+00 - mse: 1.6802e-04 - mae: 0.0099 - mape: 1.6123 - val_loss: 5.4130e-04 - val_accuracy: 0.0000e+00 - val_mse: 5.4130e-04 - val_mae: 0.0219 - val_mape: 2.9971\n",
            "Epoch 139/200\n",
            "51/51 [==============================] - 2s 46ms/step - loss: 1.6246e-04 - accuracy: 0.0000e+00 - mse: 1.6246e-04 - mae: 0.0097 - mape: 1.6024 - val_loss: 8.3499e-05 - val_accuracy: 0.0000e+00 - val_mse: 8.3499e-05 - val_mae: 0.0070 - val_mape: 0.9681\n",
            "Epoch 140/200\n",
            "51/51 [==============================] - 2s 47ms/step - loss: 1.6025e-04 - accuracy: 0.0000e+00 - mse: 1.6025e-04 - mae: 0.0099 - mape: 1.6091 - val_loss: 1.5590e-04 - val_accuracy: 0.0000e+00 - val_mse: 1.5590e-04 - val_mae: 0.0106 - val_mape: 1.4669\n",
            "Epoch 141/200\n",
            "51/51 [==============================] - 2s 46ms/step - loss: 1.6092e-04 - accuracy: 0.0000e+00 - mse: 1.6092e-04 - mae: 0.0100 - mape: 1.6414 - val_loss: 3.6904e-04 - val_accuracy: 0.0000e+00 - val_mse: 3.6904e-04 - val_mae: 0.0178 - val_mape: 2.4308\n",
            "Epoch 142/200\n",
            "51/51 [==============================] - 2s 46ms/step - loss: 1.9977e-04 - accuracy: 0.0000e+00 - mse: 1.9977e-04 - mae: 0.0113 - mape: 1.7957 - val_loss: 6.7066e-05 - val_accuracy: 0.0000e+00 - val_mse: 6.7066e-05 - val_mae: 0.0057 - val_mape: 0.7807\n",
            "Epoch 143/200\n",
            "51/51 [==============================] - 2s 46ms/step - loss: 1.2670e-04 - accuracy: 0.0000e+00 - mse: 1.2670e-04 - mae: 0.0081 - mape: 1.3001 - val_loss: 6.9131e-05 - val_accuracy: 0.0000e+00 - val_mse: 6.9131e-05 - val_mae: 0.0058 - val_mape: 0.7958\n",
            "Epoch 144/200\n",
            "51/51 [==============================] - 2s 46ms/step - loss: 2.0667e-04 - accuracy: 0.0000e+00 - mse: 2.0667e-04 - mae: 0.0113 - mape: 1.8501 - val_loss: 2.5857e-04 - val_accuracy: 0.0000e+00 - val_mse: 2.5857e-04 - val_mae: 0.0142 - val_mape: 1.9344\n",
            "Epoch 145/200\n",
            "51/51 [==============================] - 2s 46ms/step - loss: 2.1973e-04 - accuracy: 0.0000e+00 - mse: 2.1973e-04 - mae: 0.0115 - mape: 1.9167 - val_loss: 8.9094e-05 - val_accuracy: 0.0000e+00 - val_mse: 8.9094e-05 - val_mae: 0.0072 - val_mape: 0.9851\n",
            "Epoch 146/200\n",
            "51/51 [==============================] - 2s 46ms/step - loss: 1.7927e-04 - accuracy: 0.0000e+00 - mse: 1.7927e-04 - mae: 0.0102 - mape: 1.6724 - val_loss: 1.2977e-04 - val_accuracy: 0.0000e+00 - val_mse: 1.2977e-04 - val_mae: 0.0094 - val_mape: 1.2779\n",
            "Epoch 147/200\n",
            "51/51 [==============================] - 2s 46ms/step - loss: 1.3320e-04 - accuracy: 0.0000e+00 - mse: 1.3320e-04 - mae: 0.0084 - mape: 1.3896 - val_loss: 6.7167e-05 - val_accuracy: 0.0000e+00 - val_mse: 6.7167e-05 - val_mae: 0.0057 - val_mape: 0.7763\n",
            "Epoch 148/200\n",
            "51/51 [==============================] - 2s 47ms/step - loss: 1.4512e-04 - accuracy: 0.0000e+00 - mse: 1.4512e-04 - mae: 0.0089 - mape: 1.4646 - val_loss: 8.5107e-05 - val_accuracy: 0.0000e+00 - val_mse: 8.5107e-05 - val_mae: 0.0070 - val_mape: 0.9531\n",
            "Epoch 149/200\n",
            "51/51 [==============================] - 2s 46ms/step - loss: 1.3973e-04 - accuracy: 0.0000e+00 - mse: 1.3973e-04 - mae: 0.0086 - mape: 1.4074 - val_loss: 6.5875e-05 - val_accuracy: 0.0000e+00 - val_mse: 6.5875e-05 - val_mae: 0.0056 - val_mape: 0.7665\n",
            "Epoch 150/200\n",
            "51/51 [==============================] - 2s 46ms/step - loss: 1.1514e-04 - accuracy: 0.0000e+00 - mse: 1.1514e-04 - mae: 0.0080 - mape: 1.3039 - val_loss: 2.4776e-04 - val_accuracy: 0.0000e+00 - val_mse: 2.4776e-04 - val_mae: 0.0142 - val_mape: 1.9603\n",
            "Epoch 151/200\n",
            "51/51 [==============================] - 2s 47ms/step - loss: 1.3402e-04 - accuracy: 0.0000e+00 - mse: 1.3402e-04 - mae: 0.0087 - mape: 1.4283 - val_loss: 7.0381e-05 - val_accuracy: 0.0000e+00 - val_mse: 7.0381e-05 - val_mae: 0.0060 - val_mape: 0.8296\n",
            "Epoch 152/200\n",
            "51/51 [==============================] - 2s 46ms/step - loss: 1.2154e-04 - accuracy: 0.0000e+00 - mse: 1.2154e-04 - mae: 0.0079 - mape: 1.2805 - val_loss: 4.1833e-04 - val_accuracy: 0.0000e+00 - val_mse: 4.1833e-04 - val_mae: 0.0190 - val_mape: 2.6137\n",
            "Epoch 153/200\n",
            "51/51 [==============================] - 2s 47ms/step - loss: 2.8393e-04 - accuracy: 0.0000e+00 - mse: 2.8393e-04 - mae: 0.0137 - mape: 2.1916 - val_loss: 1.4450e-04 - val_accuracy: 0.0000e+00 - val_mse: 1.4450e-04 - val_mae: 0.0100 - val_mape: 1.3823\n",
            "Epoch 154/200\n",
            "51/51 [==============================] - 2s 46ms/step - loss: 1.3901e-04 - accuracy: 0.0000e+00 - mse: 1.3901e-04 - mae: 0.0089 - mape: 1.4728 - val_loss: 1.0927e-04 - val_accuracy: 0.0000e+00 - val_mse: 1.0927e-04 - val_mae: 0.0084 - val_mape: 1.1425\n",
            "Epoch 155/200\n",
            "51/51 [==============================] - 2s 46ms/step - loss: 1.5342e-04 - accuracy: 0.0000e+00 - mse: 1.5342e-04 - mae: 0.0092 - mape: 1.5049 - val_loss: 6.2745e-05 - val_accuracy: 0.0000e+00 - val_mse: 6.2745e-05 - val_mae: 0.0054 - val_mape: 0.7469\n",
            "Epoch 156/200\n",
            "51/51 [==============================] - 2s 47ms/step - loss: 1.3715e-04 - accuracy: 0.0000e+00 - mse: 1.3715e-04 - mae: 0.0089 - mape: 1.4867 - val_loss: 1.1837e-04 - val_accuracy: 0.0000e+00 - val_mse: 1.1837e-04 - val_mae: 0.0088 - val_mape: 1.2030\n",
            "Epoch 157/200\n",
            "51/51 [==============================] - 2s 47ms/step - loss: 1.5236e-04 - accuracy: 0.0000e+00 - mse: 1.5236e-04 - mae: 0.0093 - mape: 1.5515 - val_loss: 8.8496e-05 - val_accuracy: 0.0000e+00 - val_mse: 8.8496e-05 - val_mae: 0.0073 - val_mape: 1.0071\n",
            "Epoch 158/200\n",
            "51/51 [==============================] - 2s 47ms/step - loss: 2.1059e-04 - accuracy: 0.0000e+00 - mse: 2.1059e-04 - mae: 0.0116 - mape: 1.8744 - val_loss: 3.3042e-04 - val_accuracy: 0.0000e+00 - val_mse: 3.3042e-04 - val_mae: 0.0165 - val_mape: 2.2768\n",
            "Epoch 159/200\n",
            "51/51 [==============================] - 2s 46ms/step - loss: 1.7719e-04 - accuracy: 0.0000e+00 - mse: 1.7719e-04 - mae: 0.0104 - mape: 1.6674 - val_loss: 1.0107e-04 - val_accuracy: 0.0000e+00 - val_mse: 1.0107e-04 - val_mae: 0.0078 - val_mape: 1.0738\n",
            "Epoch 160/200\n",
            "51/51 [==============================] - 2s 47ms/step - loss: 1.6902e-04 - accuracy: 0.0000e+00 - mse: 1.6902e-04 - mae: 0.0100 - mape: 1.6148 - val_loss: 6.6069e-05 - val_accuracy: 0.0000e+00 - val_mse: 6.6069e-05 - val_mae: 0.0057 - val_mape: 0.7819\n",
            "Epoch 161/200\n",
            "51/51 [==============================] - 2s 47ms/step - loss: 1.1482e-04 - accuracy: 0.0000e+00 - mse: 1.1482e-04 - mae: 0.0076 - mape: 1.2614 - val_loss: 6.7845e-04 - val_accuracy: 0.0000e+00 - val_mse: 6.7845e-04 - val_mae: 0.0247 - val_mape: 3.3968\n",
            "Epoch 162/200\n",
            "51/51 [==============================] - 2s 47ms/step - loss: 2.6252e-04 - accuracy: 0.0000e+00 - mse: 2.6252e-04 - mae: 0.0123 - mape: 1.9883 - val_loss: 6.3795e-05 - val_accuracy: 0.0000e+00 - val_mse: 6.3795e-05 - val_mae: 0.0056 - val_mape: 0.7628\n",
            "Epoch 163/200\n",
            "51/51 [==============================] - 2s 47ms/step - loss: 1.0578e-04 - accuracy: 0.0000e+00 - mse: 1.0578e-04 - mae: 0.0075 - mape: 1.2398 - val_loss: 6.6706e-05 - val_accuracy: 0.0000e+00 - val_mse: 6.6706e-05 - val_mae: 0.0058 - val_mape: 0.7973\n",
            "Epoch 164/200\n",
            "51/51 [==============================] - 2s 47ms/step - loss: 1.3832e-04 - accuracy: 0.0000e+00 - mse: 1.3832e-04 - mae: 0.0087 - mape: 1.4195 - val_loss: 8.5738e-05 - val_accuracy: 0.0000e+00 - val_mse: 8.5738e-05 - val_mae: 0.0070 - val_mape: 0.9477\n",
            "Epoch 165/200\n",
            "51/51 [==============================] - 2s 48ms/step - loss: 1.1610e-04 - accuracy: 0.0000e+00 - mse: 1.1610e-04 - mae: 0.0079 - mape: 1.2978 - val_loss: 7.7141e-05 - val_accuracy: 0.0000e+00 - val_mse: 7.7141e-05 - val_mae: 0.0064 - val_mape: 0.8801\n",
            "Epoch 166/200\n",
            "51/51 [==============================] - 2s 48ms/step - loss: 1.1350e-04 - accuracy: 0.0000e+00 - mse: 1.1350e-04 - mae: 0.0077 - mape: 1.2590 - val_loss: 2.5692e-04 - val_accuracy: 0.0000e+00 - val_mse: 2.5692e-04 - val_mae: 0.0144 - val_mape: 1.9656\n",
            "Epoch 167/200\n",
            "51/51 [==============================] - 2s 47ms/step - loss: 1.3689e-04 - accuracy: 0.0000e+00 - mse: 1.3689e-04 - mae: 0.0087 - mape: 1.4333 - val_loss: 1.2089e-04 - val_accuracy: 0.0000e+00 - val_mse: 1.2089e-04 - val_mae: 0.0089 - val_mape: 1.2099\n",
            "Epoch 168/200\n",
            "51/51 [==============================] - 2s 47ms/step - loss: 1.5367e-04 - accuracy: 0.0000e+00 - mse: 1.5367e-04 - mae: 0.0092 - mape: 1.4725 - val_loss: 7.2271e-05 - val_accuracy: 0.0000e+00 - val_mse: 7.2271e-05 - val_mae: 0.0060 - val_mape: 0.8166\n",
            "Epoch 169/200\n",
            "51/51 [==============================] - 2s 46ms/step - loss: 1.4392e-04 - accuracy: 0.0000e+00 - mse: 1.4392e-04 - mae: 0.0090 - mape: 1.4650 - val_loss: 1.2477e-04 - val_accuracy: 0.0000e+00 - val_mse: 1.2477e-04 - val_mae: 0.0093 - val_mape: 1.2861\n",
            "Epoch 170/200\n",
            "51/51 [==============================] - 2s 47ms/step - loss: 1.9178e-04 - accuracy: 0.0000e+00 - mse: 1.9178e-04 - mae: 0.0109 - mape: 1.7950 - val_loss: 8.1325e-05 - val_accuracy: 0.0000e+00 - val_mse: 8.1325e-05 - val_mae: 0.0066 - val_mape: 0.9081\n",
            "Epoch 171/200\n",
            "51/51 [==============================] - 2s 46ms/step - loss: 1.4011e-04 - accuracy: 0.0000e+00 - mse: 1.4011e-04 - mae: 0.0089 - mape: 1.4612 - val_loss: 1.4551e-04 - val_accuracy: 0.0000e+00 - val_mse: 1.4551e-04 - val_mae: 0.0101 - val_mape: 1.3732\n",
            "Epoch 172/200\n",
            "51/51 [==============================] - 2s 47ms/step - loss: 1.4819e-04 - accuracy: 0.0000e+00 - mse: 1.4819e-04 - mae: 0.0094 - mape: 1.5399 - val_loss: 1.1267e-04 - val_accuracy: 0.0000e+00 - val_mse: 1.1267e-04 - val_mae: 0.0086 - val_mape: 1.1658\n",
            "Epoch 173/200\n",
            "51/51 [==============================] - 2s 47ms/step - loss: 1.5143e-04 - accuracy: 0.0000e+00 - mse: 1.5143e-04 - mae: 0.0093 - mape: 1.5125 - val_loss: 9.0153e-05 - val_accuracy: 0.0000e+00 - val_mse: 9.0153e-05 - val_mae: 0.0073 - val_mape: 0.9954\n",
            "Epoch 174/200\n",
            "51/51 [==============================] - 2s 46ms/step - loss: 1.1045e-04 - accuracy: 0.0000e+00 - mse: 1.1045e-04 - mae: 0.0075 - mape: 1.2306 - val_loss: 3.0342e-04 - val_accuracy: 0.0000e+00 - val_mse: 3.0342e-04 - val_mae: 0.0158 - val_mape: 2.1674\n",
            "Epoch 175/200\n",
            "51/51 [==============================] - 2s 47ms/step - loss: 2.1741e-04 - accuracy: 0.0000e+00 - mse: 2.1741e-04 - mae: 0.0119 - mape: 1.9142 - val_loss: 9.8111e-05 - val_accuracy: 0.0000e+00 - val_mse: 9.8111e-05 - val_mae: 0.0079 - val_mape: 1.0890\n",
            "Epoch 176/200\n",
            "51/51 [==============================] - 2s 47ms/step - loss: 1.3831e-04 - accuracy: 0.0000e+00 - mse: 1.3831e-04 - mae: 0.0088 - mape: 1.4536 - val_loss: 1.1667e-04 - val_accuracy: 0.0000e+00 - val_mse: 1.1667e-04 - val_mae: 0.0088 - val_mape: 1.2215\n",
            "Epoch 177/200\n",
            "51/51 [==============================] - 2s 47ms/step - loss: 1.0858e-04 - accuracy: 0.0000e+00 - mse: 1.0858e-04 - mae: 0.0077 - mape: 1.2709 - val_loss: 1.6231e-04 - val_accuracy: 0.0000e+00 - val_mse: 1.6231e-04 - val_mae: 0.0107 - val_mape: 1.4624\n",
            "Epoch 178/200\n",
            "51/51 [==============================] - 2s 48ms/step - loss: 1.3208e-04 - accuracy: 0.0000e+00 - mse: 1.3208e-04 - mae: 0.0086 - mape: 1.4142 - val_loss: 8.7408e-05 - val_accuracy: 0.0000e+00 - val_mse: 8.7408e-05 - val_mae: 0.0071 - val_mape: 0.9784\n",
            "Epoch 179/200\n",
            "51/51 [==============================] - 2s 47ms/step - loss: 1.3993e-04 - accuracy: 0.0000e+00 - mse: 1.3993e-04 - mae: 0.0088 - mape: 1.4486 - val_loss: 6.9946e-05 - val_accuracy: 0.0000e+00 - val_mse: 6.9946e-05 - val_mae: 0.0060 - val_mape: 0.8212\n",
            "Epoch 180/200\n",
            "51/51 [==============================] - 2s 47ms/step - loss: 1.1289e-04 - accuracy: 0.0000e+00 - mse: 1.1289e-04 - mae: 0.0076 - mape: 1.2691 - val_loss: 2.6437e-04 - val_accuracy: 0.0000e+00 - val_mse: 2.6437e-04 - val_mae: 0.0145 - val_mape: 1.9866\n",
            "Epoch 181/200\n",
            "51/51 [==============================] - 2s 47ms/step - loss: 1.4246e-04 - accuracy: 0.0000e+00 - mse: 1.4246e-04 - mae: 0.0092 - mape: 1.4968 - val_loss: 4.8966e-04 - val_accuracy: 0.0000e+00 - val_mse: 4.8966e-04 - val_mae: 0.0209 - val_mape: 2.8618\n",
            "Epoch 182/200\n",
            "51/51 [==============================] - 2s 47ms/step - loss: 1.4164e-04 - accuracy: 0.0000e+00 - mse: 1.4164e-04 - mae: 0.0090 - mape: 1.4768 - val_loss: 3.7740e-04 - val_accuracy: 0.0000e+00 - val_mse: 3.7740e-04 - val_mae: 0.0180 - val_mape: 2.4597\n",
            "Epoch 183/200\n",
            "51/51 [==============================] - 2s 47ms/step - loss: 1.7487e-04 - accuracy: 0.0000e+00 - mse: 1.7487e-04 - mae: 0.0103 - mape: 1.6817 - val_loss: 1.3660e-04 - val_accuracy: 0.0000e+00 - val_mse: 1.3660e-04 - val_mae: 0.0096 - val_mape: 1.3129\n",
            "Epoch 184/200\n",
            "51/51 [==============================] - 2s 48ms/step - loss: 1.4433e-04 - accuracy: 0.0000e+00 - mse: 1.4433e-04 - mae: 0.0088 - mape: 1.4752 - val_loss: 1.6594e-04 - val_accuracy: 0.0000e+00 - val_mse: 1.6594e-04 - val_mae: 0.0109 - val_mape: 1.4855\n",
            "Epoch 185/200\n",
            "51/51 [==============================] - 2s 47ms/step - loss: 1.2543e-04 - accuracy: 0.0000e+00 - mse: 1.2543e-04 - mae: 0.0080 - mape: 1.3152 - val_loss: 7.6934e-05 - val_accuracy: 0.0000e+00 - val_mse: 7.6934e-05 - val_mae: 0.0064 - val_mape: 0.8777\n",
            "Epoch 186/200\n",
            "51/51 [==============================] - 2s 47ms/step - loss: 1.5597e-04 - accuracy: 0.0000e+00 - mse: 1.5597e-04 - mae: 0.0095 - mape: 1.5437 - val_loss: 1.3066e-04 - val_accuracy: 0.0000e+00 - val_mse: 1.3066e-04 - val_mae: 0.0096 - val_mape: 1.3286\n",
            "Epoch 187/200\n",
            "51/51 [==============================] - 2s 47ms/step - loss: 1.2421e-04 - accuracy: 0.0000e+00 - mse: 1.2421e-04 - mae: 0.0080 - mape: 1.3178 - val_loss: 2.0180e-04 - val_accuracy: 0.0000e+00 - val_mse: 2.0180e-04 - val_mae: 0.0124 - val_mape: 1.6995\n",
            "Epoch 188/200\n",
            "51/51 [==============================] - 2s 47ms/step - loss: 1.5645e-04 - accuracy: 0.0000e+00 - mse: 1.5645e-04 - mae: 0.0097 - mape: 1.6109 - val_loss: 1.2284e-04 - val_accuracy: 0.0000e+00 - val_mse: 1.2284e-04 - val_mae: 0.0092 - val_mape: 1.2701\n",
            "Epoch 189/200\n",
            "51/51 [==============================] - 2s 46ms/step - loss: 1.5025e-04 - accuracy: 0.0000e+00 - mse: 1.5025e-04 - mae: 0.0091 - mape: 1.4600 - val_loss: 6.2222e-05 - val_accuracy: 0.0000e+00 - val_mse: 6.2222e-05 - val_mae: 0.0055 - val_mape: 0.7555\n",
            "Epoch 190/200\n",
            "51/51 [==============================] - 2s 48ms/step - loss: 1.3247e-04 - accuracy: 0.0000e+00 - mse: 1.3247e-04 - mae: 0.0087 - mape: 1.4250 - val_loss: 1.0786e-04 - val_accuracy: 0.0000e+00 - val_mse: 1.0786e-04 - val_mae: 0.0083 - val_mape: 1.1315\n",
            "Epoch 191/200\n",
            "51/51 [==============================] - 2s 47ms/step - loss: 1.2502e-04 - accuracy: 0.0000e+00 - mse: 1.2502e-04 - mae: 0.0084 - mape: 1.3760 - val_loss: 6.9524e-05 - val_accuracy: 0.0000e+00 - val_mse: 6.9524e-05 - val_mae: 0.0059 - val_mape: 0.8105\n",
            "Epoch 192/200\n",
            "51/51 [==============================] - 2s 46ms/step - loss: 1.2211e-04 - accuracy: 0.0000e+00 - mse: 1.2211e-04 - mae: 0.0079 - mape: 1.3132 - val_loss: 6.9415e-05 - val_accuracy: 0.0000e+00 - val_mse: 6.9415e-05 - val_mae: 0.0059 - val_mape: 0.8104\n",
            "Epoch 193/200\n",
            "51/51 [==============================] - 2s 48ms/step - loss: 1.2853e-04 - accuracy: 0.0000e+00 - mse: 1.2853e-04 - mae: 0.0085 - mape: 1.3926 - val_loss: 9.6287e-05 - val_accuracy: 0.0000e+00 - val_mse: 9.6287e-05 - val_mae: 0.0078 - val_mape: 1.0818\n",
            "Epoch 194/200\n",
            "51/51 [==============================] - 2s 48ms/step - loss: 9.8341e-05 - accuracy: 0.0000e+00 - mse: 9.8341e-05 - mae: 0.0072 - mape: 1.1904 - val_loss: 2.3981e-04 - val_accuracy: 0.0000e+00 - val_mse: 2.3981e-04 - val_mae: 0.0137 - val_mape: 1.8678\n",
            "Epoch 195/200\n",
            "51/51 [==============================] - 2s 48ms/step - loss: 1.8199e-04 - accuracy: 0.0000e+00 - mse: 1.8199e-04 - mae: 0.0104 - mape: 1.7252 - val_loss: 6.3602e-05 - val_accuracy: 0.0000e+00 - val_mse: 6.3602e-05 - val_mae: 0.0055 - val_mape: 0.7533\n",
            "Epoch 196/200\n",
            "51/51 [==============================] - 2s 47ms/step - loss: 1.7176e-04 - accuracy: 0.0000e+00 - mse: 1.7176e-04 - mae: 0.0098 - mape: 1.6040 - val_loss: 8.7821e-05 - val_accuracy: 0.0000e+00 - val_mse: 8.7821e-05 - val_mae: 0.0074 - val_mape: 1.0218\n",
            "Epoch 197/200\n",
            "51/51 [==============================] - 2s 47ms/step - loss: 1.3097e-04 - accuracy: 0.0000e+00 - mse: 1.3097e-04 - mae: 0.0087 - mape: 1.4551 - val_loss: 6.9001e-05 - val_accuracy: 0.0000e+00 - val_mse: 6.9001e-05 - val_mae: 0.0060 - val_mape: 0.8318\n",
            "Epoch 198/200\n",
            "51/51 [==============================] - 2s 48ms/step - loss: 1.2048e-04 - accuracy: 0.0000e+00 - mse: 1.2048e-04 - mae: 0.0078 - mape: 1.2698 - val_loss: 6.8136e-05 - val_accuracy: 0.0000e+00 - val_mse: 6.8136e-05 - val_mae: 0.0058 - val_mape: 0.7982\n",
            "Epoch 199/200\n",
            "51/51 [==============================] - 2s 48ms/step - loss: 1.3302e-04 - accuracy: 0.0000e+00 - mse: 1.3302e-04 - mae: 0.0087 - mape: 1.4461 - val_loss: 8.4350e-05 - val_accuracy: 0.0000e+00 - val_mse: 8.4350e-05 - val_mae: 0.0070 - val_mape: 0.9658\n",
            "Epoch 200/200\n",
            "51/51 [==============================] - 2s 48ms/step - loss: 1.4286e-04 - accuracy: 0.0000e+00 - mse: 1.4286e-04 - mae: 0.0089 - mape: 1.4451 - val_loss: 7.1967e-05 - val_accuracy: 0.0000e+00 - val_mse: 7.1967e-05 - val_mae: 0.0063 - val_mape: 0.8646\n"
          ],
          "name": "stdout"
        }
      ]
    },
    {
      "cell_type": "code",
      "metadata": {
        "id": "01SMZ_8b_ICf",
        "colab": {
          "base_uri": "https://localhost:8080/",
          "height": 541
        },
        "outputId": "95bb8c75-3085-4b1b-b31f-6ff44bd416d0"
      },
      "source": [
        "plt.plot(history.history['loss'],'r',label='train loss')\n",
        "plt.plot(history.history['val_loss'],'g',label='val loss')\n",
        "plt.xlabel('# epoch')\n",
        "plt.ylabel('loss')\n",
        "plt.legend()\n",
        "plt.show()\n",
        "\n",
        "plt.plot(history.history['accuracy'],'y',label='train Acc')\n",
        "plt.plot(history.history['val_accuracy'],'b',label='val _acc')\n",
        "plt.xlabel('#epoch')\n",
        "plt.ylabel('loss')\n",
        "plt.legend()\n",
        "plt.show()"
      ],
      "execution_count": 21,
      "outputs": [
        {
          "output_type": "display_data",
          "data": {
            "image/png": "[encoded data removed]",
            "text/plain": [
              "<Figure size 432x288 with 1 Axes>"
            ]
          },
          "metadata": {
            "tags": [],
            "needs_background": "light"
          }
        },
        {
          "output_type": "display_data",
          "data": {
            "image/png": "[encoded data removed]",
            "text/plain": [
              "<Figure size 432x288 with 1 Axes>"
            ]
          },
          "metadata": {
            "tags": [],
            "needs_background": "light"
          }
        }
      ]
    },
    {
      "cell_type": "code",
      "metadata": {
        "id": "U1Qqwb3s_L0X",
        "colab": {
          "base_uri": "https://localhost:8080/"
        },
        "outputId": "e2f8c12e-4a76-4194-d381-c608b816b8a3"
      },
      "source": [
        "result=model.predict(test_data)\n",
        "\n",
        "from sklearn.metrics import r2_score\n",
        "\n",
        "r2=r2_score(test_target,result)\n",
        "print('r2 score:',r2)"
      ],
      "execution_count": 22,
      "outputs": [
        {
          "output_type": "stream",
          "text": [
            "r2 score: 0.9594690249511225\n"
          ],
          "name": "stdout"
        }
      ]
    },
    {
      "cell_type": "code",
      "metadata": {
        "id": "5bl108WL_PjH",
        "colab": {
          "base_uri": "https://localhost:8080/",
          "height": 279
        },
        "outputId": "33c64b9d-1f39-453b-8adc-8ca5936997d3"
      },
      "source": [
        "#test_x_range=np.arange(1000,1209,1)\n",
        "test_x_range=np.arange(1791,2559,1)\n",
        "#test_x_range is an array of values between 1000-1208\n",
        "\n",
        "plt.plot(train_target,'r',label='train')\n",
        "plt.plot(test_x_range,test_target,'b',label='test')\n",
        "plt.plot(test_x_range,result,'g',label='predicted')\n",
        "\n",
        "plt.xlabel('Date')\n",
        "plt.ylabel('Open Value/$')\n",
        "plt.legend()\n",
        "plt.show()"
      ],
      "execution_count": 23,
      "outputs": [
        {
          "output_type": "display_data",
          "data": {
            "image/png": "[encoded data removed]",
            "text/plain": [
              "<Figure size 432x288 with 1 Axes>"
            ]
          },
          "metadata": {
            "tags": [],
            "needs_background": "light"
          }
        }
      ]
    },
    {
      "cell_type": "code",
      "metadata": {
        "id": "-EUKgl98_So-",
        "colab": {
          "base_uri": "https://localhost:8080/",
          "height": 279
        },
        "outputId": "2afa2ac9-d177-4a18-c8e6-fb14f96c036c"
      },
      "source": [
        "plt.plot(test_target,'b',label='test')\n",
        "plt.plot(result,'r',label='predicted')\n",
        "\n",
        "plt.xlabel('Date')\n",
        "plt.ylabel('Open Value/$')\n",
        "plt.legend()\n",
        "plt.show()"
      ],
      "execution_count": 24,
      "outputs": [
        {
          "output_type": "display_data",
          "data": {
            "image/png": "[encoded data removed]",
            "text/plain": [
              "<Figure size 432x288 with 1 Axes>"
            ]
          },
          "metadata": {
            "tags": [],
            "needs_background": "light"
          }
        }
      ]
    }
  ]
}