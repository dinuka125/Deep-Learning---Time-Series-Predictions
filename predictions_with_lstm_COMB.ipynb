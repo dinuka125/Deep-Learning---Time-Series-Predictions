{
  "nbformat": 4,
  "nbformat_minor": 0,
  "metadata": {
    "colab": {
      "name": " predictions with lstm  COMB",
      "provenance": [],
      "collapsed_sections": [],
      "authorship_tag": "ABX9TyPY6DDQcDzEjCo+nM21EPZR",
      "include_colab_link": true
    },
    "kernelspec": {
      "name": "python3",
      "display_name": "Python 3"
    },
    "accelerator": "GPU"
  },
  "cells": [
    {
      "cell_type": "markdown",
      "metadata": {
        "id": "view-in-github",
        "colab_type": "text"
      },
      "source": [
        "<a href=\"https://colab.research.google.com/github/dinuka125/japura-Git-Workshop/blob/master/predictions_with_lstm_COMB.ipynb\" target=\"_parent\"><img src=\"https://colab.research.google.com/assets/colab-badge.svg\" alt=\"Open In Colab\"/></a>"
      ]
    },
    {
      "cell_type": "code",
      "metadata": {
        "colab": {
          "base_uri": "https://localhost:8080/"
        },
        "id": "fBinlnehdWq8",
        "outputId": "d8d49a6d-6312-4d8d-d874-04cc7453f530"
      },
      "source": [
        "from google.colab import drive\n",
        "drive.mount('/content/drive')\n",
        "path ='/content/drive/My Drive/csv_files/'"
      ],
      "execution_count": 1,
      "outputs": [
        {
          "output_type": "stream",
          "text": [
            "Drive already mounted at /content/drive; to attempt to forcibly remount, call drive.mount(\"/content/drive\", force_remount=True).\n"
          ],
          "name": "stdout"
        }
      ]
    },
    {
      "cell_type": "code",
      "metadata": {
        "id": "CMMxqtgqcoQ-"
      },
      "source": [
        "import numpy as np\n",
        "\n",
        "data=np.load(path+'datacomb.npy')\n",
        "target=np.load(path+'targetcomb.npy')"
      ],
      "execution_count": 2,
      "outputs": []
    },
    {
      "cell_type": "code",
      "metadata": {
        "colab": {
          "base_uri": "https://localhost:8080/"
        },
        "id": "7Ll0G9PjeiHV",
        "outputId": "5d9518c3-1854-4562-90bc-1442932e22f4"
      },
      "source": [
        "data.shape\n",
        "target.shape"
      ],
      "execution_count": 3,
      "outputs": [
        {
          "output_type": "execute_result",
          "data": {
            "text/plain": [
              "(2561,)"
            ]
          },
          "metadata": {
            "tags": []
          },
          "execution_count": 3
        }
      ]
    },
    {
      "cell_type": "code",
      "metadata": {
        "id": "X489EpW6cyH1"
      },
      "source": [
        "train_data=data[:1792]\n",
        "train_target=target[:1792]\n",
        "\n",
        "test_data=data[1792:]\n",
        "test_target=target[1792:]"
      ],
      "execution_count": 4,
      "outputs": []
    },
    {
      "cell_type": "code",
      "metadata": {
        "colab": {
          "base_uri": "https://localhost:8080/",
          "height": 279
        },
        "id": "TnPUxVY_c1tU",
        "outputId": "38f3377f-3729-49d1-f959-7dd9afa11031"
      },
      "source": [
        "from matplotlib import pyplot as plt\n",
        "\n",
        "test_x_range=np.arange(1792,2561,1)\n",
        "#test_x_range is an array of values between 1000-1208\n",
        "\n",
        "plt.plot(train_target,'r',label='train')\n",
        "plt.plot(test_x_range,test_target,'b',label='test')\n",
        "plt.xlabel('Date')\n",
        "plt.ylabel('Open Value/$')\n",
        "plt.show()"
      ],
      "execution_count": 5,
      "outputs": [
        {
          "output_type": "display_data",
          "data": {
            "image/png": "[encoded data removed]",
            "text/plain": [
              "<Figure size 432x288 with 1 Axes>"
            ]
          },
          "metadata": {
            "tags": [],
            "needs_background": "light"
          }
        }
      ]
    },
    {
      "cell_type": "code",
      "metadata": {
        "id": "Aobw1dY1c9eT"
      },
      "source": [
        "from keras.models import Sequential\n",
        "from keras.layers import LSTM,Dense,Dropout\n",
        "\n",
        "model=Sequential()\n",
        "\n",
        "model.add(LSTM(units=96,return_sequences=True,input_shape=(data.shape[1:])))\n",
        "model.add(Dropout(0.2))\n",
        "\n",
        "model.add(LSTM(units=96,return_sequences=True))\n",
        "model.add(Dropout(0.2))\n",
        "\n",
        "model.add(LSTM(units=96,return_sequences=True))\n",
        "model.add(Dropout(0.2))\n",
        "\n",
        "model.add(LSTM(units=96,return_sequences=False))\n",
        "model.add(Dropout(0.2))\n",
        "\n",
        "model.add(Dense(units=1,activation='linear'))\n",
        "\n",
        "model.compile(loss='mse',optimizer='adam',metrics=['mse', 'mae', 'mape'])"
      ],
      "execution_count": 6,
      "outputs": []
    },
    {
      "cell_type": "code",
      "metadata": {
        "colab": {
          "base_uri": "https://localhost:8080/"
        },
        "id": "cAgTN16WdBP8",
        "outputId": "5252a54b-73d7-4b59-c35e-503bac25baa1"
      },
      "source": [
        "history=model.fit(train_data,train_target,epochs=200,validation_split=0.10)"
      ],
      "execution_count": 7,
      "outputs": [
        {
          "output_type": "stream",
          "text": [
            "Epoch 1/200\n",
            "51/51 [==============================] - 8s 41ms/step - loss: 0.0647 - mse: 0.0647 - mae: 0.1858 - mape: 36.6648 - val_loss: 0.0028 - val_mse: 0.0028 - val_mae: 0.0465 - val_mape: 7.3952\n",
            "Epoch 2/200\n",
            "51/51 [==============================] - 1s 14ms/step - loss: 0.0038 - mse: 0.0038 - mae: 0.0470 - mape: 9.3996 - val_loss: 0.0019 - val_mse: 0.0019 - val_mae: 0.0374 - val_mape: 5.9612\n",
            "Epoch 3/200\n",
            "51/51 [==============================] - 1s 14ms/step - loss: 0.0039 - mse: 0.0039 - mae: 0.0471 - mape: 9.2228 - val_loss: 9.9578e-04 - val_mse: 9.9578e-04 - val_mae: 0.0240 - val_mape: 3.9597\n",
            "Epoch 4/200\n",
            "51/51 [==============================] - 1s 14ms/step - loss: 0.0031 - mse: 0.0031 - mae: 0.0419 - mape: 8.2655 - val_loss: 0.0020 - val_mse: 0.0020 - val_mae: 0.0383 - val_mape: 6.1094\n",
            "Epoch 5/200\n",
            "51/51 [==============================] - 1s 14ms/step - loss: 0.0039 - mse: 0.0039 - mae: 0.0475 - mape: 9.3605 - val_loss: 9.8003e-04 - val_mse: 9.8003e-04 - val_mae: 0.0246 - val_mape: 3.9855\n",
            "Epoch 6/200\n",
            "51/51 [==============================] - 1s 14ms/step - loss: 0.0029 - mse: 0.0029 - mae: 0.0404 - mape: 7.9659 - val_loss: 8.6548e-04 - val_mse: 8.6548e-04 - val_mae: 0.0223 - val_mape: 3.6770\n",
            "Epoch 7/200\n",
            "51/51 [==============================] - 1s 13ms/step - loss: 0.0035 - mse: 0.0035 - mae: 0.0445 - mape: 8.7205 - val_loss: 0.0019 - val_mse: 0.0019 - val_mae: 0.0378 - val_mape: 6.0281\n",
            "Epoch 8/200\n",
            "51/51 [==============================] - 1s 14ms/step - loss: 0.0029 - mse: 0.0029 - mae: 0.0409 - mape: 8.1183 - val_loss: 0.0013 - val_mse: 0.0013 - val_mae: 0.0311 - val_mape: 4.9830\n",
            "Epoch 9/200\n",
            "51/51 [==============================] - 1s 14ms/step - loss: 0.0033 - mse: 0.0033 - mae: 0.0434 - mape: 8.4903 - val_loss: 0.0024 - val_mse: 0.0024 - val_mae: 0.0426 - val_mape: 6.7862\n",
            "Epoch 10/200\n",
            "51/51 [==============================] - 1s 13ms/step - loss: 0.0030 - mse: 0.0030 - mae: 0.0423 - mape: 8.1718 - val_loss: 7.5964e-04 - val_mse: 7.5964e-04 - val_mae: 0.0212 - val_mape: 3.4910\n",
            "Epoch 11/200\n",
            "51/51 [==============================] - 1s 14ms/step - loss: 0.0025 - mse: 0.0025 - mae: 0.0379 - mape: 7.3054 - val_loss: 0.0011 - val_mse: 0.0011 - val_mae: 0.0282 - val_mape: 4.5152\n",
            "Epoch 12/200\n",
            "51/51 [==============================] - 1s 14ms/step - loss: 0.0025 - mse: 0.0025 - mae: 0.0370 - mape: 7.4503 - val_loss: 0.0011 - val_mse: 0.0011 - val_mae: 0.0264 - val_mape: 4.3700\n",
            "Epoch 13/200\n",
            "51/51 [==============================] - 1s 14ms/step - loss: 0.0025 - mse: 0.0025 - mae: 0.0382 - mape: 7.6470 - val_loss: 7.5964e-04 - val_mse: 7.5964e-04 - val_mae: 0.0224 - val_mape: 3.6248\n",
            "Epoch 14/200\n",
            "51/51 [==============================] - 1s 14ms/step - loss: 0.0025 - mse: 0.0025 - mae: 0.0369 - mape: 7.1969 - val_loss: 7.6375e-04 - val_mse: 7.6375e-04 - val_mae: 0.0220 - val_mape: 3.6279\n",
            "Epoch 15/200\n",
            "51/51 [==============================] - 1s 13ms/step - loss: 0.0023 - mse: 0.0023 - mae: 0.0364 - mape: 7.2624 - val_loss: 0.0013 - val_mse: 0.0013 - val_mae: 0.0309 - val_mape: 4.9284\n",
            "Epoch 16/200\n",
            "51/51 [==============================] - 1s 14ms/step - loss: 0.0023 - mse: 0.0023 - mae: 0.0367 - mape: 7.1098 - val_loss: 8.8840e-04 - val_mse: 8.8840e-04 - val_mae: 0.0252 - val_mape: 4.0393\n",
            "Epoch 17/200\n",
            "51/51 [==============================] - 1s 13ms/step - loss: 0.0026 - mse: 0.0026 - mae: 0.0376 - mape: 7.4215 - val_loss: 8.7870e-04 - val_mse: 8.7870e-04 - val_mae: 0.0250 - val_mape: 4.0111\n",
            "Epoch 18/200\n",
            "51/51 [==============================] - 1s 14ms/step - loss: 0.0022 - mse: 0.0022 - mae: 0.0349 - mape: 6.7582 - val_loss: 0.0011 - val_mse: 0.0011 - val_mae: 0.0283 - val_mape: 4.5203\n",
            "Epoch 19/200\n",
            "51/51 [==============================] - 1s 14ms/step - loss: 0.0021 - mse: 0.0021 - mae: 0.0341 - mape: 6.5706 - val_loss: 8.2841e-04 - val_mse: 8.2841e-04 - val_mae: 0.0234 - val_mape: 3.8579\n",
            "Epoch 20/200\n",
            "51/51 [==============================] - 1s 14ms/step - loss: 0.0024 - mse: 0.0024 - mae: 0.0368 - mape: 7.1146 - val_loss: 6.5395e-04 - val_mse: 6.5395e-04 - val_mae: 0.0215 - val_mape: 3.4571\n",
            "Epoch 21/200\n",
            "51/51 [==============================] - 1s 14ms/step - loss: 0.0022 - mse: 0.0022 - mae: 0.0336 - mape: 6.5833 - val_loss: 0.0011 - val_mse: 0.0011 - val_mae: 0.0284 - val_mape: 4.6783\n",
            "Epoch 22/200\n",
            "51/51 [==============================] - 1s 14ms/step - loss: 0.0019 - mse: 0.0019 - mae: 0.0331 - mape: 6.4103 - val_loss: 7.5784e-04 - val_mse: 7.5784e-04 - val_mae: 0.0224 - val_mape: 3.6955\n",
            "Epoch 23/200\n",
            "51/51 [==============================] - 1s 14ms/step - loss: 0.0019 - mse: 0.0019 - mae: 0.0334 - mape: 6.6230 - val_loss: 0.0019 - val_mse: 0.0019 - val_mae: 0.0401 - val_mape: 6.4018\n",
            "Epoch 24/200\n",
            "51/51 [==============================] - 1s 13ms/step - loss: 0.0020 - mse: 0.0020 - mae: 0.0333 - mape: 6.4951 - val_loss: 4.0429e-04 - val_mse: 4.0429e-04 - val_mae: 0.0164 - val_mape: 2.6572\n",
            "Epoch 25/200\n",
            "51/51 [==============================] - 1s 14ms/step - loss: 0.0020 - mse: 0.0020 - mae: 0.0344 - mape: 6.6492 - val_loss: 4.2163e-04 - val_mse: 4.2163e-04 - val_mae: 0.0157 - val_mape: 2.5911\n",
            "Epoch 26/200\n",
            "51/51 [==============================] - 1s 14ms/step - loss: 0.0021 - mse: 0.0021 - mae: 0.0335 - mape: 6.4957 - val_loss: 3.2797e-04 - val_mse: 3.2797e-04 - val_mae: 0.0137 - val_mape: 2.2415\n",
            "Epoch 27/200\n",
            "51/51 [==============================] - 1s 14ms/step - loss: 0.0018 - mse: 0.0018 - mae: 0.0322 - mape: 6.2062 - val_loss: 3.3369e-04 - val_mse: 3.3369e-04 - val_mae: 0.0147 - val_mape: 2.3744\n",
            "Epoch 28/200\n",
            "51/51 [==============================] - 1s 14ms/step - loss: 0.0015 - mse: 0.0015 - mae: 0.0287 - mape: 5.5410 - val_loss: 4.5668e-04 - val_mse: 4.5668e-04 - val_mae: 0.0168 - val_mape: 2.7681\n",
            "Epoch 29/200\n",
            "51/51 [==============================] - 1s 13ms/step - loss: 0.0015 - mse: 0.0015 - mae: 0.0286 - mape: 5.4607 - val_loss: 2.7372e-04 - val_mse: 2.7372e-04 - val_mae: 0.0125 - val_mape: 2.0430\n",
            "Epoch 30/200\n",
            "51/51 [==============================] - 1s 14ms/step - loss: 0.0017 - mse: 0.0017 - mae: 0.0305 - mape: 5.8907 - val_loss: 5.9055e-04 - val_mse: 5.9055e-04 - val_mae: 0.0199 - val_mape: 3.2790\n",
            "Epoch 31/200\n",
            "51/51 [==============================] - 1s 13ms/step - loss: 0.0020 - mse: 0.0020 - mae: 0.0339 - mape: 6.5803 - val_loss: 9.1985e-04 - val_mse: 9.1985e-04 - val_mae: 0.0263 - val_mape: 4.3065\n",
            "Epoch 32/200\n",
            "51/51 [==============================] - 1s 14ms/step - loss: 0.0016 - mse: 0.0016 - mae: 0.0293 - mape: 5.7309 - val_loss: 4.4550e-04 - val_mse: 4.4550e-04 - val_mae: 0.0169 - val_mape: 2.7813\n",
            "Epoch 33/200\n",
            "51/51 [==============================] - 1s 14ms/step - loss: 0.0014 - mse: 0.0014 - mae: 0.0280 - mape: 5.4022 - val_loss: 3.4359e-04 - val_mse: 3.4359e-04 - val_mae: 0.0152 - val_mape: 2.4437\n",
            "Epoch 34/200\n",
            "51/51 [==============================] - 1s 13ms/step - loss: 0.0016 - mse: 0.0016 - mae: 0.0289 - mape: 5.5694 - val_loss: 4.8258e-04 - val_mse: 4.8258e-04 - val_mae: 0.0179 - val_mape: 2.9392\n",
            "Epoch 35/200\n",
            "51/51 [==============================] - 1s 14ms/step - loss: 0.0015 - mse: 0.0015 - mae: 0.0285 - mape: 5.6527 - val_loss: 2.9689e-04 - val_mse: 2.9689e-04 - val_mae: 0.0139 - val_mape: 2.2364\n",
            "Epoch 36/200\n",
            "51/51 [==============================] - 1s 14ms/step - loss: 0.0015 - mse: 0.0015 - mae: 0.0285 - mape: 5.4959 - val_loss: 8.8166e-04 - val_mse: 8.8166e-04 - val_mae: 0.0259 - val_mape: 4.2393\n",
            "Epoch 37/200\n",
            "51/51 [==============================] - 1s 14ms/step - loss: 0.0016 - mse: 0.0016 - mae: 0.0311 - mape: 5.8580 - val_loss: 0.0011 - val_mse: 0.0011 - val_mae: 0.0300 - val_mape: 4.7988\n",
            "Epoch 38/200\n",
            "51/51 [==============================] - 1s 14ms/step - loss: 0.0015 - mse: 0.0015 - mae: 0.0286 - mape: 5.5196 - val_loss: 3.8027e-04 - val_mse: 3.8027e-04 - val_mae: 0.0157 - val_mape: 2.5730\n",
            "Epoch 39/200\n",
            "51/51 [==============================] - 1s 14ms/step - loss: 0.0014 - mse: 0.0014 - mae: 0.0280 - mape: 5.5721 - val_loss: 2.4687e-04 - val_mse: 2.4687e-04 - val_mae: 0.0117 - val_mape: 1.9222\n",
            "Epoch 40/200\n",
            "51/51 [==============================] - 1s 14ms/step - loss: 0.0012 - mse: 0.0012 - mae: 0.0265 - mape: 5.0311 - val_loss: 3.9445e-04 - val_mse: 3.9445e-04 - val_mae: 0.0168 - val_mape: 2.7058\n",
            "Epoch 41/200\n",
            "51/51 [==============================] - 1s 14ms/step - loss: 0.0013 - mse: 0.0013 - mae: 0.0263 - mape: 5.1008 - val_loss: 9.0032e-04 - val_mse: 9.0032e-04 - val_mae: 0.0268 - val_mape: 4.2858\n",
            "Epoch 42/200\n",
            "51/51 [==============================] - 1s 14ms/step - loss: 0.0013 - mse: 0.0013 - mae: 0.0273 - mape: 5.3163 - val_loss: 2.1844e-04 - val_mse: 2.1844e-04 - val_mae: 0.0110 - val_mape: 1.7944\n",
            "Epoch 43/200\n",
            "51/51 [==============================] - 1s 14ms/step - loss: 0.0012 - mse: 0.0012 - mae: 0.0256 - mape: 5.0377 - val_loss: 4.4308e-04 - val_mse: 4.4308e-04 - val_mae: 0.0179 - val_mape: 2.8703\n",
            "Epoch 44/200\n",
            "51/51 [==============================] - 1s 13ms/step - loss: 0.0012 - mse: 0.0012 - mae: 0.0258 - mape: 5.0066 - val_loss: 2.5675e-04 - val_mse: 2.5675e-04 - val_mae: 0.0123 - val_mape: 2.0241\n",
            "Epoch 45/200\n",
            "51/51 [==============================] - 1s 14ms/step - loss: 0.0011 - mse: 0.0011 - mae: 0.0244 - mape: 4.7238 - val_loss: 0.0014 - val_mse: 0.0014 - val_mae: 0.0353 - val_mape: 5.6457\n",
            "Epoch 46/200\n",
            "51/51 [==============================] - 1s 14ms/step - loss: 0.0012 - mse: 0.0012 - mae: 0.0258 - mape: 5.1450 - val_loss: 6.2360e-04 - val_mse: 6.2360e-04 - val_mae: 0.0219 - val_mape: 3.5142\n",
            "Epoch 47/200\n",
            "51/51 [==============================] - 1s 14ms/step - loss: 0.0012 - mse: 0.0012 - mae: 0.0264 - mape: 5.2031 - val_loss: 3.1732e-04 - val_mse: 3.1732e-04 - val_mae: 0.0144 - val_mape: 2.3629\n",
            "Epoch 48/200\n",
            "51/51 [==============================] - 1s 14ms/step - loss: 0.0011 - mse: 0.0011 - mae: 0.0254 - mape: 4.8972 - val_loss: 4.1833e-04 - val_mse: 4.1833e-04 - val_mae: 0.0174 - val_mape: 2.7859\n",
            "Epoch 49/200\n",
            "51/51 [==============================] - 1s 14ms/step - loss: 0.0011 - mse: 0.0011 - mae: 0.0248 - mape: 4.8744 - val_loss: 3.4550e-04 - val_mse: 3.4550e-04 - val_mae: 0.0153 - val_mape: 2.5244\n",
            "Epoch 50/200\n",
            "51/51 [==============================] - 1s 14ms/step - loss: 0.0011 - mse: 0.0011 - mae: 0.0247 - mape: 4.9795 - val_loss: 3.1580e-04 - val_mse: 3.1580e-04 - val_mae: 0.0145 - val_mape: 2.3899\n",
            "Epoch 51/200\n",
            "51/51 [==============================] - 1s 14ms/step - loss: 0.0010 - mse: 0.0010 - mae: 0.0236 - mape: 4.5908 - val_loss: 7.6299e-04 - val_mse: 7.6299e-04 - val_mae: 0.0247 - val_mape: 3.9636\n",
            "Epoch 52/200\n",
            "51/51 [==============================] - 1s 14ms/step - loss: 0.0013 - mse: 0.0013 - mae: 0.0267 - mape: 5.2484 - val_loss: 3.7431e-04 - val_mse: 3.7431e-04 - val_mae: 0.0162 - val_mape: 2.5963\n",
            "Epoch 53/200\n",
            "51/51 [==============================] - 1s 14ms/step - loss: 0.0012 - mse: 0.0012 - mae: 0.0264 - mape: 5.1191 - val_loss: 2.2280e-04 - val_mse: 2.2280e-04 - val_mae: 0.0115 - val_mape: 1.8629\n",
            "Epoch 54/200\n",
            "51/51 [==============================] - 1s 14ms/step - loss: 9.7142e-04 - mse: 9.7142e-04 - mae: 0.0238 - mape: 4.7676 - val_loss: 2.0396e-04 - val_mse: 2.0396e-04 - val_mae: 0.0107 - val_mape: 1.7382\n",
            "Epoch 55/200\n",
            "51/51 [==============================] - 1s 14ms/step - loss: 0.0012 - mse: 0.0012 - mae: 0.0244 - mape: 4.7059 - val_loss: 2.7905e-04 - val_mse: 2.7905e-04 - val_mae: 0.0136 - val_mape: 2.1834\n",
            "Epoch 56/200\n",
            "51/51 [==============================] - 1s 14ms/step - loss: 0.0011 - mse: 0.0011 - mae: 0.0248 - mape: 4.9412 - val_loss: 2.5107e-04 - val_mse: 2.5107e-04 - val_mae: 0.0126 - val_mape: 2.0262\n",
            "Epoch 57/200\n",
            "51/51 [==============================] - 1s 14ms/step - loss: 0.0013 - mse: 0.0013 - mae: 0.0271 - mape: 5.3790 - val_loss: 8.4480e-04 - val_mse: 8.4480e-04 - val_mae: 0.0263 - val_mape: 4.2142\n",
            "Epoch 58/200\n",
            "51/51 [==============================] - 1s 14ms/step - loss: 0.0010 - mse: 0.0010 - mae: 0.0243 - mape: 4.9740 - val_loss: 3.3962e-04 - val_mse: 3.3962e-04 - val_mae: 0.0155 - val_mape: 2.5409\n",
            "Epoch 59/200\n",
            "51/51 [==============================] - 1s 14ms/step - loss: 9.0501e-04 - mse: 9.0501e-04 - mae: 0.0217 - mape: 4.3822 - val_loss: 1.6967e-04 - val_mse: 1.6967e-04 - val_mae: 0.0095 - val_mape: 1.5390\n",
            "Epoch 60/200\n",
            "51/51 [==============================] - 1s 14ms/step - loss: 8.6090e-04 - mse: 8.6090e-04 - mae: 0.0220 - mape: 4.3518 - val_loss: 3.0504e-04 - val_mse: 3.0504e-04 - val_mae: 0.0145 - val_mape: 2.3218\n",
            "Epoch 61/200\n",
            "51/51 [==============================] - 1s 14ms/step - loss: 8.9121e-04 - mse: 8.9121e-04 - mae: 0.0219 - mape: 4.2485 - val_loss: 7.7771e-04 - val_mse: 7.7771e-04 - val_mae: 0.0253 - val_mape: 4.0514\n",
            "Epoch 62/200\n",
            "51/51 [==============================] - 1s 14ms/step - loss: 0.0010 - mse: 0.0010 - mae: 0.0241 - mape: 4.6285 - val_loss: 3.2887e-04 - val_mse: 3.2887e-04 - val_mae: 0.0152 - val_mape: 2.4270\n",
            "Epoch 63/200\n",
            "51/51 [==============================] - 1s 14ms/step - loss: 8.5712e-04 - mse: 8.5712e-04 - mae: 0.0215 - mape: 4.2467 - val_loss: 2.3086e-04 - val_mse: 2.3086e-04 - val_mae: 0.0121 - val_mape: 1.9473\n",
            "Epoch 64/200\n",
            "51/51 [==============================] - 1s 14ms/step - loss: 0.0011 - mse: 0.0011 - mae: 0.0242 - mape: 4.5680 - val_loss: 1.6225e-04 - val_mse: 1.6225e-04 - val_mae: 0.0093 - val_mape: 1.5174\n",
            "Epoch 65/200\n",
            "51/51 [==============================] - 1s 14ms/step - loss: 8.8667e-04 - mse: 8.8667e-04 - mae: 0.0218 - mape: 4.2688 - val_loss: 5.3670e-04 - val_mse: 5.3670e-04 - val_mae: 0.0205 - val_mape: 3.2919\n",
            "Epoch 66/200\n",
            "51/51 [==============================] - 1s 14ms/step - loss: 0.0010 - mse: 0.0010 - mae: 0.0236 - mape: 4.7588 - val_loss: 1.5649e-04 - val_mse: 1.5649e-04 - val_mae: 0.0090 - val_mape: 1.4744\n",
            "Epoch 67/200\n",
            "51/51 [==============================] - 1s 14ms/step - loss: 9.3067e-04 - mse: 9.3067e-04 - mae: 0.0225 - mape: 4.2823 - val_loss: 3.2403e-04 - val_mse: 3.2403e-04 - val_mae: 0.0152 - val_mape: 2.4354\n",
            "Epoch 68/200\n",
            "51/51 [==============================] - 1s 14ms/step - loss: 7.6636e-04 - mse: 7.6636e-04 - mae: 0.0207 - mape: 4.0702 - val_loss: 2.1685e-04 - val_mse: 2.1685e-04 - val_mae: 0.0117 - val_mape: 1.8849\n",
            "Epoch 69/200\n",
            "51/51 [==============================] - 1s 14ms/step - loss: 8.1765e-04 - mse: 8.1765e-04 - mae: 0.0214 - mape: 4.3097 - val_loss: 1.4457e-04 - val_mse: 1.4457e-04 - val_mae: 0.0088 - val_mape: 1.4347\n",
            "Epoch 70/200\n",
            "51/51 [==============================] - 1s 14ms/step - loss: 7.7237e-04 - mse: 7.7237e-04 - mae: 0.0206 - mape: 4.0408 - val_loss: 2.0517e-04 - val_mse: 2.0517e-04 - val_mae: 0.0115 - val_mape: 1.8837\n",
            "Epoch 71/200\n",
            "51/51 [==============================] - 1s 14ms/step - loss: 8.7461e-04 - mse: 8.7461e-04 - mae: 0.0212 - mape: 4.3512 - val_loss: 3.4455e-04 - val_mse: 3.4455e-04 - val_mae: 0.0160 - val_mape: 2.6190\n",
            "Epoch 72/200\n",
            "51/51 [==============================] - 1s 14ms/step - loss: 9.1833e-04 - mse: 9.1833e-04 - mae: 0.0229 - mape: 4.4912 - val_loss: 2.2298e-04 - val_mse: 2.2298e-04 - val_mae: 0.0120 - val_mape: 1.9346\n",
            "Epoch 73/200\n",
            "51/51 [==============================] - 1s 14ms/step - loss: 7.2906e-04 - mse: 7.2906e-04 - mae: 0.0200 - mape: 3.9860 - val_loss: 1.3851e-04 - val_mse: 1.3851e-04 - val_mae: 0.0085 - val_mape: 1.3806\n",
            "Epoch 74/200\n",
            "51/51 [==============================] - 1s 14ms/step - loss: 6.8556e-04 - mse: 6.8556e-04 - mae: 0.0197 - mape: 4.0336 - val_loss: 2.8676e-04 - val_mse: 2.8676e-04 - val_mae: 0.0143 - val_mape: 2.2942\n",
            "Epoch 75/200\n",
            "51/51 [==============================] - 1s 14ms/step - loss: 8.8268e-04 - mse: 8.8268e-04 - mae: 0.0221 - mape: 4.5822 - val_loss: 1.3576e-04 - val_mse: 1.3576e-04 - val_mae: 0.0084 - val_mape: 1.3650\n",
            "Epoch 76/200\n",
            "51/51 [==============================] - 1s 14ms/step - loss: 6.9355e-04 - mse: 6.9355e-04 - mae: 0.0198 - mape: 3.8824 - val_loss: 4.1978e-04 - val_mse: 4.1978e-04 - val_mae: 0.0180 - val_mape: 2.8763\n",
            "Epoch 77/200\n",
            "51/51 [==============================] - 1s 14ms/step - loss: 8.6412e-04 - mse: 8.6412e-04 - mae: 0.0223 - mape: 4.4897 - val_loss: 3.6166e-04 - val_mse: 3.6166e-04 - val_mae: 0.0165 - val_mape: 2.6420\n",
            "Epoch 78/200\n",
            "51/51 [==============================] - 1s 14ms/step - loss: 7.6316e-04 - mse: 7.6316e-04 - mae: 0.0203 - mape: 4.0474 - val_loss: 3.7268e-04 - val_mse: 3.7268e-04 - val_mae: 0.0168 - val_mape: 2.6893\n",
            "Epoch 79/200\n",
            "51/51 [==============================] - 1s 14ms/step - loss: 6.4063e-04 - mse: 6.4063e-04 - mae: 0.0188 - mape: 3.6320 - val_loss: 4.7050e-04 - val_mse: 4.7050e-04 - val_mae: 0.0193 - val_mape: 3.0923\n",
            "Epoch 80/200\n",
            "51/51 [==============================] - 1s 14ms/step - loss: 7.4120e-04 - mse: 7.4120e-04 - mae: 0.0206 - mape: 4.1021 - val_loss: 1.7160e-04 - val_mse: 1.7160e-04 - val_mae: 0.0102 - val_mape: 1.6710\n",
            "Epoch 81/200\n",
            "51/51 [==============================] - 1s 14ms/step - loss: 7.2121e-04 - mse: 7.2121e-04 - mae: 0.0188 - mape: 3.6254 - val_loss: 1.3844e-04 - val_mse: 1.3844e-04 - val_mae: 0.0086 - val_mape: 1.3995\n",
            "Epoch 82/200\n",
            "51/51 [==============================] - 1s 14ms/step - loss: 6.5549e-04 - mse: 6.5549e-04 - mae: 0.0189 - mape: 3.6867 - val_loss: 1.7132e-04 - val_mse: 1.7132e-04 - val_mae: 0.0104 - val_mape: 1.7112\n",
            "Epoch 83/200\n",
            "51/51 [==============================] - 1s 14ms/step - loss: 7.1429e-04 - mse: 7.1429e-04 - mae: 0.0195 - mape: 3.8441 - val_loss: 1.4153e-04 - val_mse: 1.4153e-04 - val_mae: 0.0089 - val_mape: 1.4493\n",
            "Epoch 84/200\n",
            "51/51 [==============================] - 1s 14ms/step - loss: 7.1431e-04 - mse: 7.1431e-04 - mae: 0.0192 - mape: 3.8141 - val_loss: 1.1823e-04 - val_mse: 1.1823e-04 - val_mae: 0.0077 - val_mape: 1.2589\n",
            "Epoch 85/200\n",
            "51/51 [==============================] - 1s 14ms/step - loss: 7.4496e-04 - mse: 7.4496e-04 - mae: 0.0204 - mape: 4.0377 - val_loss: 3.2538e-04 - val_mse: 3.2538e-04 - val_mae: 0.0156 - val_mape: 2.5013\n",
            "Epoch 86/200\n",
            "51/51 [==============================] - 1s 14ms/step - loss: 7.7077e-04 - mse: 7.7077e-04 - mae: 0.0204 - mape: 4.3600 - val_loss: 1.4736e-04 - val_mse: 1.4736e-04 - val_mae: 0.0093 - val_mape: 1.5254\n",
            "Epoch 87/200\n",
            "51/51 [==============================] - 1s 14ms/step - loss: 7.3128e-04 - mse: 7.3128e-04 - mae: 0.0197 - mape: 3.8796 - val_loss: 2.4575e-04 - val_mse: 2.4575e-04 - val_mae: 0.0132 - val_mape: 2.1122\n",
            "Epoch 88/200\n",
            "51/51 [==============================] - 1s 14ms/step - loss: 6.8253e-04 - mse: 6.8253e-04 - mae: 0.0189 - mape: 4.1273 - val_loss: 1.3237e-04 - val_mse: 1.3237e-04 - val_mae: 0.0084 - val_mape: 1.3760\n",
            "Epoch 89/200\n",
            "51/51 [==============================] - 1s 14ms/step - loss: 8.1552e-04 - mse: 8.1552e-04 - mae: 0.0215 - mape: 4.4299 - val_loss: 1.6281e-04 - val_mse: 1.6281e-04 - val_mae: 0.0100 - val_mape: 1.6425\n",
            "Epoch 90/200\n",
            "51/51 [==============================] - 1s 14ms/step - loss: 6.6260e-04 - mse: 6.6260e-04 - mae: 0.0190 - mape: 3.7761 - val_loss: 2.6448e-04 - val_mse: 2.6448e-04 - val_mae: 0.0138 - val_mape: 2.2154\n",
            "Epoch 91/200\n",
            "51/51 [==============================] - 1s 14ms/step - loss: 6.6323e-04 - mse: 6.6323e-04 - mae: 0.0189 - mape: 3.8670 - val_loss: 1.7429e-04 - val_mse: 1.7429e-04 - val_mae: 0.0105 - val_mape: 1.6932\n",
            "Epoch 92/200\n",
            "51/51 [==============================] - 1s 14ms/step - loss: 6.1200e-04 - mse: 6.1200e-04 - mae: 0.0184 - mape: 3.6185 - val_loss: 1.2022e-04 - val_mse: 1.2022e-04 - val_mae: 0.0081 - val_mape: 1.3102\n",
            "Epoch 93/200\n",
            "51/51 [==============================] - 1s 14ms/step - loss: 6.3800e-04 - mse: 6.3800e-04 - mae: 0.0187 - mape: 3.9694 - val_loss: 1.4211e-04 - val_mse: 1.4211e-04 - val_mae: 0.0090 - val_mape: 1.4706\n",
            "Epoch 94/200\n",
            "51/51 [==============================] - 1s 14ms/step - loss: 6.6029e-04 - mse: 6.6029e-04 - mae: 0.0192 - mape: 4.0367 - val_loss: 1.3052e-04 - val_mse: 1.3052e-04 - val_mae: 0.0086 - val_mape: 1.3893\n",
            "Epoch 95/200\n",
            "51/51 [==============================] - 1s 14ms/step - loss: 7.8605e-04 - mse: 7.8605e-04 - mae: 0.0205 - mape: 3.9321 - val_loss: 2.6890e-04 - val_mse: 2.6890e-04 - val_mae: 0.0139 - val_mape: 2.2297\n",
            "Epoch 96/200\n",
            "51/51 [==============================] - 1s 14ms/step - loss: 7.5528e-04 - mse: 7.5528e-04 - mae: 0.0203 - mape: 4.0875 - val_loss: 1.4421e-04 - val_mse: 1.4421e-04 - val_mae: 0.0094 - val_mape: 1.5330\n",
            "Epoch 97/200\n",
            "51/51 [==============================] - 1s 14ms/step - loss: 5.7109e-04 - mse: 5.7109e-04 - mae: 0.0174 - mape: 3.4355 - val_loss: 1.2528e-04 - val_mse: 1.2528e-04 - val_mae: 0.0082 - val_mape: 1.3257\n",
            "Epoch 98/200\n",
            "51/51 [==============================] - 1s 14ms/step - loss: 7.9604e-04 - mse: 7.9604e-04 - mae: 0.0212 - mape: 4.2692 - val_loss: 1.5576e-04 - val_mse: 1.5576e-04 - val_mae: 0.0098 - val_mape: 1.6037\n",
            "Epoch 99/200\n",
            "51/51 [==============================] - 1s 14ms/step - loss: 5.7101e-04 - mse: 5.7101e-04 - mae: 0.0175 - mape: 3.5562 - val_loss: 6.1586e-04 - val_mse: 6.1586e-04 - val_mae: 0.0229 - val_mape: 3.7334\n",
            "Epoch 100/200\n",
            "51/51 [==============================] - 1s 14ms/step - loss: 6.2426e-04 - mse: 6.2426e-04 - mae: 0.0183 - mape: 3.7063 - val_loss: 1.7394e-04 - val_mse: 1.7394e-04 - val_mae: 0.0107 - val_mape: 1.7237\n",
            "Epoch 101/200\n",
            "51/51 [==============================] - 1s 14ms/step - loss: 6.1064e-04 - mse: 6.1064e-04 - mae: 0.0177 - mape: 3.4952 - val_loss: 1.0811e-04 - val_mse: 1.0811e-04 - val_mae: 0.0074 - val_mape: 1.2155\n",
            "Epoch 102/200\n",
            "51/51 [==============================] - 1s 14ms/step - loss: 5.8973e-04 - mse: 5.8973e-04 - mae: 0.0177 - mape: 3.4862 - val_loss: 1.0576e-04 - val_mse: 1.0576e-04 - val_mae: 0.0072 - val_mape: 1.1768\n",
            "Epoch 103/200\n",
            "51/51 [==============================] - 1s 14ms/step - loss: 5.1237e-04 - mse: 5.1237e-04 - mae: 0.0166 - mape: 3.4061 - val_loss: 1.6716e-04 - val_mse: 1.6716e-04 - val_mae: 0.0106 - val_mape: 1.6928\n",
            "Epoch 104/200\n",
            "51/51 [==============================] - 1s 14ms/step - loss: 5.9268e-04 - mse: 5.9268e-04 - mae: 0.0178 - mape: 3.9387 - val_loss: 1.4880e-04 - val_mse: 1.4880e-04 - val_mae: 0.0097 - val_mape: 1.5884\n",
            "Epoch 105/200\n",
            "51/51 [==============================] - 1s 14ms/step - loss: 6.3936e-04 - mse: 6.3936e-04 - mae: 0.0186 - mape: 3.6366 - val_loss: 1.0248e-04 - val_mse: 1.0248e-04 - val_mae: 0.0071 - val_mape: 1.1558\n",
            "Epoch 106/200\n",
            "51/51 [==============================] - 1s 14ms/step - loss: 5.8426e-04 - mse: 5.8426e-04 - mae: 0.0176 - mape: 3.4825 - val_loss: 1.2136e-04 - val_mse: 1.2136e-04 - val_mae: 0.0082 - val_mape: 1.3320\n",
            "Epoch 107/200\n",
            "51/51 [==============================] - 1s 15ms/step - loss: 5.5131e-04 - mse: 5.5131e-04 - mae: 0.0172 - mape: 3.5560 - val_loss: 1.3399e-04 - val_mse: 1.3399e-04 - val_mae: 0.0091 - val_mape: 1.4705\n",
            "Epoch 108/200\n",
            "51/51 [==============================] - 1s 14ms/step - loss: 5.1203e-04 - mse: 5.1203e-04 - mae: 0.0166 - mape: 3.5397 - val_loss: 2.2424e-04 - val_mse: 2.2424e-04 - val_mae: 0.0126 - val_mape: 2.0185\n",
            "Epoch 109/200\n",
            "51/51 [==============================] - 1s 14ms/step - loss: 5.5953e-04 - mse: 5.5953e-04 - mae: 0.0170 - mape: 3.3809 - val_loss: 1.0093e-04 - val_mse: 1.0093e-04 - val_mae: 0.0070 - val_mape: 1.1329\n",
            "Epoch 110/200\n",
            "51/51 [==============================] - 1s 14ms/step - loss: 4.9867e-04 - mse: 4.9867e-04 - mae: 0.0166 - mape: 3.3585 - val_loss: 1.1249e-04 - val_mse: 1.1249e-04 - val_mae: 0.0076 - val_mape: 1.2426\n",
            "Epoch 111/200\n",
            "51/51 [==============================] - 1s 14ms/step - loss: 5.9097e-04 - mse: 5.9097e-04 - mae: 0.0180 - mape: 3.6296 - val_loss: 2.3429e-04 - val_mse: 2.3429e-04 - val_mae: 0.0130 - val_mape: 2.0890\n",
            "Epoch 112/200\n",
            "51/51 [==============================] - 1s 14ms/step - loss: 5.8195e-04 - mse: 5.8195e-04 - mae: 0.0173 - mape: 3.5510 - val_loss: 1.1676e-04 - val_mse: 1.1676e-04 - val_mae: 0.0081 - val_mape: 1.3187\n",
            "Epoch 113/200\n",
            "51/51 [==============================] - 1s 14ms/step - loss: 5.3491e-04 - mse: 5.3491e-04 - mae: 0.0172 - mape: 3.5154 - val_loss: 2.1000e-04 - val_mse: 2.1000e-04 - val_mae: 0.0124 - val_mape: 2.0303\n",
            "Epoch 114/200\n",
            "51/51 [==============================] - 1s 14ms/step - loss: 5.0915e-04 - mse: 5.0915e-04 - mae: 0.0169 - mape: 3.4179 - val_loss: 9.9451e-05 - val_mse: 9.9451e-05 - val_mae: 0.0069 - val_mape: 1.1166\n",
            "Epoch 115/200\n",
            "51/51 [==============================] - 1s 14ms/step - loss: 6.3023e-04 - mse: 6.3023e-04 - mae: 0.0181 - mape: 3.8894 - val_loss: 2.6301e-04 - val_mse: 2.6301e-04 - val_mae: 0.0142 - val_mape: 2.3201\n",
            "Epoch 116/200\n",
            "51/51 [==============================] - 1s 14ms/step - loss: 5.2676e-04 - mse: 5.2676e-04 - mae: 0.0169 - mape: 3.6445 - val_loss: 1.0249e-04 - val_mse: 1.0249e-04 - val_mae: 0.0072 - val_mape: 1.1732\n",
            "Epoch 117/200\n",
            "51/51 [==============================] - 1s 14ms/step - loss: 5.0910e-04 - mse: 5.0910e-04 - mae: 0.0166 - mape: 3.3705 - val_loss: 1.0612e-04 - val_mse: 1.0612e-04 - val_mae: 0.0077 - val_mape: 1.2378\n",
            "Epoch 118/200\n",
            "51/51 [==============================] - 1s 14ms/step - loss: 4.7037e-04 - mse: 4.7037e-04 - mae: 0.0162 - mape: 3.3618 - val_loss: 1.0736e-04 - val_mse: 1.0736e-04 - val_mae: 0.0075 - val_mape: 1.2305\n",
            "Epoch 119/200\n",
            "51/51 [==============================] - 1s 14ms/step - loss: 5.0681e-04 - mse: 5.0681e-04 - mae: 0.0163 - mape: 3.3678 - val_loss: 1.8747e-04 - val_mse: 1.8747e-04 - val_mae: 0.0116 - val_mape: 1.8955\n",
            "Epoch 120/200\n",
            "51/51 [==============================] - 1s 14ms/step - loss: 4.4767e-04 - mse: 4.4767e-04 - mae: 0.0157 - mape: 3.2363 - val_loss: 1.2951e-04 - val_mse: 1.2951e-04 - val_mae: 0.0089 - val_mape: 1.4571\n",
            "Epoch 121/200\n",
            "51/51 [==============================] - 1s 15ms/step - loss: 5.2671e-04 - mse: 5.2671e-04 - mae: 0.0166 - mape: 3.4664 - val_loss: 1.0203e-04 - val_mse: 1.0203e-04 - val_mae: 0.0075 - val_mape: 1.2127\n",
            "Epoch 122/200\n",
            "51/51 [==============================] - 1s 14ms/step - loss: 5.0466e-04 - mse: 5.0466e-04 - mae: 0.0163 - mape: 3.6323 - val_loss: 9.2636e-05 - val_mse: 9.2636e-05 - val_mae: 0.0070 - val_mape: 1.1339\n",
            "Epoch 123/200\n",
            "51/51 [==============================] - 1s 14ms/step - loss: 5.7708e-04 - mse: 5.7708e-04 - mae: 0.0176 - mape: 3.6655 - val_loss: 2.5152e-04 - val_mse: 2.5152e-04 - val_mae: 0.0136 - val_mape: 2.1801\n",
            "Epoch 124/200\n",
            "51/51 [==============================] - 1s 14ms/step - loss: 5.5483e-04 - mse: 5.5483e-04 - mae: 0.0169 - mape: 3.4149 - val_loss: 1.1095e-04 - val_mse: 1.1095e-04 - val_mae: 0.0078 - val_mape: 1.2605\n",
            "Epoch 125/200\n",
            "51/51 [==============================] - 1s 14ms/step - loss: 4.9389e-04 - mse: 4.9389e-04 - mae: 0.0164 - mape: 3.3937 - val_loss: 1.3279e-04 - val_mse: 1.3279e-04 - val_mae: 0.0092 - val_mape: 1.4941\n",
            "Epoch 126/200\n",
            "51/51 [==============================] - 1s 14ms/step - loss: 4.7694e-04 - mse: 4.7694e-04 - mae: 0.0162 - mape: 3.4528 - val_loss: 4.8307e-04 - val_mse: 4.8307e-04 - val_mae: 0.0202 - val_mape: 3.2807\n",
            "Epoch 127/200\n",
            "51/51 [==============================] - 1s 14ms/step - loss: 5.6248e-04 - mse: 5.6248e-04 - mae: 0.0170 - mape: 3.4349 - val_loss: 1.0001e-04 - val_mse: 1.0001e-04 - val_mae: 0.0071 - val_mape: 1.1566\n",
            "Epoch 128/200\n",
            "51/51 [==============================] - 1s 14ms/step - loss: 4.3079e-04 - mse: 4.3079e-04 - mae: 0.0151 - mape: 3.1435 - val_loss: 2.7746e-04 - val_mse: 2.7746e-04 - val_mae: 0.0145 - val_mape: 2.3325\n",
            "Epoch 129/200\n",
            "51/51 [==============================] - 1s 14ms/step - loss: 4.4232e-04 - mse: 4.4232e-04 - mae: 0.0156 - mape: 3.2180 - val_loss: 9.0974e-05 - val_mse: 9.0974e-05 - val_mae: 0.0068 - val_mape: 1.1004\n",
            "Epoch 130/200\n",
            "51/51 [==============================] - 1s 14ms/step - loss: 4.7325e-04 - mse: 4.7325e-04 - mae: 0.0156 - mape: 3.3132 - val_loss: 1.1493e-04 - val_mse: 1.1493e-04 - val_mae: 0.0082 - val_mape: 1.3378\n",
            "Epoch 131/200\n",
            "51/51 [==============================] - 1s 14ms/step - loss: 4.5151e-04 - mse: 4.5151e-04 - mae: 0.0152 - mape: 3.3729 - val_loss: 2.9138e-04 - val_mse: 2.9138e-04 - val_mae: 0.0150 - val_mape: 2.4105\n",
            "Epoch 132/200\n",
            "51/51 [==============================] - 1s 14ms/step - loss: 6.0417e-04 - mse: 6.0417e-04 - mae: 0.0180 - mape: 3.6498 - val_loss: 1.0143e-04 - val_mse: 1.0143e-04 - val_mae: 0.0074 - val_mape: 1.2011\n",
            "Epoch 133/200\n",
            "51/51 [==============================] - 1s 14ms/step - loss: 4.7749e-04 - mse: 4.7749e-04 - mae: 0.0158 - mape: 3.1597 - val_loss: 1.9732e-04 - val_mse: 1.9732e-04 - val_mae: 0.0118 - val_mape: 1.8939\n",
            "Epoch 134/200\n",
            "51/51 [==============================] - 1s 14ms/step - loss: 5.5653e-04 - mse: 5.5653e-04 - mae: 0.0175 - mape: 3.7033 - val_loss: 1.9242e-04 - val_mse: 1.9242e-04 - val_mae: 0.0119 - val_mape: 1.9426\n",
            "Epoch 135/200\n",
            "51/51 [==============================] - 1s 14ms/step - loss: 5.4138e-04 - mse: 5.4138e-04 - mae: 0.0174 - mape: 3.6533 - val_loss: 1.0896e-04 - val_mse: 1.0896e-04 - val_mae: 0.0081 - val_mape: 1.2970\n",
            "Epoch 136/200\n",
            "51/51 [==============================] - 1s 14ms/step - loss: 4.8450e-04 - mse: 4.8450e-04 - mae: 0.0165 - mape: 3.3900 - val_loss: 1.9099e-04 - val_mse: 1.9099e-04 - val_mae: 0.0115 - val_mape: 1.8544\n",
            "Epoch 137/200\n",
            "51/51 [==============================] - 1s 14ms/step - loss: 6.9225e-04 - mse: 6.9225e-04 - mae: 0.0200 - mape: 3.9122 - val_loss: 1.2953e-04 - val_mse: 1.2953e-04 - val_mae: 0.0091 - val_mape: 1.4599\n",
            "Epoch 138/200\n",
            "51/51 [==============================] - 1s 14ms/step - loss: 4.9577e-04 - mse: 4.9577e-04 - mae: 0.0165 - mape: 3.5633 - val_loss: 1.5716e-04 - val_mse: 1.5716e-04 - val_mae: 0.0102 - val_mape: 1.6456\n",
            "Epoch 139/200\n",
            "51/51 [==============================] - 1s 14ms/step - loss: 4.7290e-04 - mse: 4.7290e-04 - mae: 0.0156 - mape: 3.2425 - val_loss: 9.4374e-05 - val_mse: 9.4374e-05 - val_mae: 0.0073 - val_mape: 1.1825\n",
            "Epoch 140/200\n",
            "51/51 [==============================] - 1s 14ms/step - loss: 4.6207e-04 - mse: 4.6207e-04 - mae: 0.0158 - mape: 3.3507 - val_loss: 1.1044e-04 - val_mse: 1.1044e-04 - val_mae: 0.0079 - val_mape: 1.2859\n",
            "Epoch 141/200\n",
            "51/51 [==============================] - 1s 14ms/step - loss: 5.0237e-04 - mse: 5.0237e-04 - mae: 0.0155 - mape: 3.3662 - val_loss: 9.0625e-05 - val_mse: 9.0625e-05 - val_mae: 0.0068 - val_mape: 1.0974\n",
            "Epoch 142/200\n",
            "51/51 [==============================] - 1s 14ms/step - loss: 4.3589e-04 - mse: 4.3589e-04 - mae: 0.0150 - mape: 3.2642 - val_loss: 2.1181e-04 - val_mse: 2.1181e-04 - val_mae: 0.0127 - val_mape: 2.0708\n",
            "Epoch 143/200\n",
            "51/51 [==============================] - 1s 14ms/step - loss: 4.0318e-04 - mse: 4.0318e-04 - mae: 0.0146 - mape: 3.1843 - val_loss: 1.1218e-04 - val_mse: 1.1218e-04 - val_mae: 0.0082 - val_mape: 1.3500\n",
            "Epoch 144/200\n",
            "51/51 [==============================] - 1s 14ms/step - loss: 5.4877e-04 - mse: 5.4877e-04 - mae: 0.0168 - mape: 3.6010 - val_loss: 2.3918e-04 - val_mse: 2.3918e-04 - val_mae: 0.0137 - val_mape: 2.2298\n",
            "Epoch 145/200\n",
            "51/51 [==============================] - 1s 14ms/step - loss: 5.2118e-04 - mse: 5.2118e-04 - mae: 0.0166 - mape: 3.4033 - val_loss: 2.4853e-04 - val_mse: 2.4853e-04 - val_mae: 0.0136 - val_mape: 2.1851\n",
            "Epoch 146/200\n",
            "51/51 [==============================] - 1s 14ms/step - loss: 4.4326e-04 - mse: 4.4326e-04 - mae: 0.0153 - mape: 3.1467 - val_loss: 1.3587e-04 - val_mse: 1.3587e-04 - val_mae: 0.0094 - val_mape: 1.5041\n",
            "Epoch 147/200\n",
            "51/51 [==============================] - 1s 14ms/step - loss: 4.3679e-04 - mse: 4.3679e-04 - mae: 0.0149 - mape: 3.3009 - val_loss: 2.2412e-04 - val_mse: 2.2412e-04 - val_mae: 0.0131 - val_mape: 2.1239\n",
            "Epoch 148/200\n",
            "51/51 [==============================] - 1s 14ms/step - loss: 3.9023e-04 - mse: 3.9023e-04 - mae: 0.0141 - mape: 3.0413 - val_loss: 8.5020e-05 - val_mse: 8.5020e-05 - val_mae: 0.0064 - val_mape: 1.0360\n",
            "Epoch 149/200\n",
            "51/51 [==============================] - 1s 14ms/step - loss: 4.4910e-04 - mse: 4.4910e-04 - mae: 0.0154 - mape: 3.2203 - val_loss: 8.9260e-05 - val_mse: 8.9260e-05 - val_mae: 0.0066 - val_mape: 1.0753\n",
            "Epoch 150/200\n",
            "51/51 [==============================] - 1s 14ms/step - loss: 4.1167e-04 - mse: 4.1167e-04 - mae: 0.0150 - mape: 3.1096 - val_loss: 8.2828e-05 - val_mse: 8.2828e-05 - val_mae: 0.0063 - val_mape: 1.0211\n",
            "Epoch 151/200\n",
            "51/51 [==============================] - 1s 14ms/step - loss: 4.8896e-04 - mse: 4.8896e-04 - mae: 0.0161 - mape: 3.4913 - val_loss: 1.0216e-04 - val_mse: 1.0216e-04 - val_mae: 0.0076 - val_mape: 1.2430\n",
            "Epoch 152/200\n",
            "51/51 [==============================] - 1s 14ms/step - loss: 4.4010e-04 - mse: 4.4010e-04 - mae: 0.0151 - mape: 3.1447 - val_loss: 8.8605e-05 - val_mse: 8.8605e-05 - val_mae: 0.0068 - val_mape: 1.1044\n",
            "Epoch 153/200\n",
            "51/51 [==============================] - 1s 15ms/step - loss: 3.6160e-04 - mse: 3.6160e-04 - mae: 0.0138 - mape: 2.9570 - val_loss: 1.0132e-04 - val_mse: 1.0132e-04 - val_mae: 0.0076 - val_mape: 1.2414\n",
            "Epoch 154/200\n",
            "51/51 [==============================] - 1s 14ms/step - loss: 4.0194e-04 - mse: 4.0194e-04 - mae: 0.0145 - mape: 2.9620 - val_loss: 2.7883e-04 - val_mse: 2.7883e-04 - val_mae: 0.0147 - val_mape: 2.3554\n",
            "Epoch 155/200\n",
            "51/51 [==============================] - 1s 14ms/step - loss: 4.8452e-04 - mse: 4.8452e-04 - mae: 0.0164 - mape: 3.4065 - val_loss: 1.7713e-04 - val_mse: 1.7713e-04 - val_mae: 0.0112 - val_mape: 1.7888\n",
            "Epoch 156/200\n",
            "51/51 [==============================] - 1s 14ms/step - loss: 5.2810e-04 - mse: 5.2810e-04 - mae: 0.0164 - mape: 3.3624 - val_loss: 8.4814e-05 - val_mse: 8.4814e-05 - val_mae: 0.0065 - val_mape: 1.0499\n",
            "Epoch 157/200\n",
            "51/51 [==============================] - 1s 14ms/step - loss: 3.9878e-04 - mse: 3.9878e-04 - mae: 0.0147 - mape: 3.2851 - val_loss: 1.8078e-04 - val_mse: 1.8078e-04 - val_mae: 0.0113 - val_mape: 1.8360\n",
            "Epoch 158/200\n",
            "51/51 [==============================] - 1s 14ms/step - loss: 4.2160e-04 - mse: 4.2160e-04 - mae: 0.0149 - mape: 3.2031 - val_loss: 1.2457e-04 - val_mse: 1.2457e-04 - val_mae: 0.0089 - val_mape: 1.4577\n",
            "Epoch 159/200\n",
            "51/51 [==============================] - 1s 14ms/step - loss: 3.9249e-04 - mse: 3.9249e-04 - mae: 0.0141 - mape: 2.9076 - val_loss: 1.0288e-04 - val_mse: 1.0288e-04 - val_mae: 0.0077 - val_mape: 1.2494\n",
            "Epoch 160/200\n",
            "51/51 [==============================] - 1s 14ms/step - loss: 3.3687e-04 - mse: 3.3687e-04 - mae: 0.0137 - mape: 2.8570 - val_loss: 2.4201e-04 - val_mse: 2.4201e-04 - val_mae: 0.0135 - val_mape: 2.1626\n",
            "Epoch 161/200\n",
            "51/51 [==============================] - 1s 14ms/step - loss: 5.7649e-04 - mse: 5.7649e-04 - mae: 0.0171 - mape: 3.6362 - val_loss: 1.0173e-04 - val_mse: 1.0173e-04 - val_mae: 0.0076 - val_mape: 1.2261\n",
            "Epoch 162/200\n",
            "51/51 [==============================] - 1s 14ms/step - loss: 4.0017e-04 - mse: 4.0017e-04 - mae: 0.0142 - mape: 2.8722 - val_loss: 1.8991e-04 - val_mse: 1.8991e-04 - val_mae: 0.0119 - val_mape: 1.9469\n",
            "Epoch 163/200\n",
            "51/51 [==============================] - 1s 14ms/step - loss: 4.4541e-04 - mse: 4.4541e-04 - mae: 0.0152 - mape: 3.1529 - val_loss: 1.2447e-04 - val_mse: 1.2447e-04 - val_mae: 0.0090 - val_mape: 1.4668\n",
            "Epoch 164/200\n",
            "51/51 [==============================] - 1s 14ms/step - loss: 3.6643e-04 - mse: 3.6643e-04 - mae: 0.0140 - mape: 2.9620 - val_loss: 3.7807e-04 - val_mse: 3.7807e-04 - val_mae: 0.0176 - val_mape: 2.8357\n",
            "Epoch 165/200\n",
            "51/51 [==============================] - 1s 14ms/step - loss: 4.5741e-04 - mse: 4.5741e-04 - mae: 0.0156 - mape: 3.5888 - val_loss: 8.3563e-05 - val_mse: 8.3563e-05 - val_mae: 0.0064 - val_mape: 1.0343\n",
            "Epoch 166/200\n",
            "51/51 [==============================] - 1s 14ms/step - loss: 5.0251e-04 - mse: 5.0251e-04 - mae: 0.0164 - mape: 3.4727 - val_loss: 1.1658e-04 - val_mse: 1.1658e-04 - val_mae: 0.0085 - val_mape: 1.3878\n",
            "Epoch 167/200\n",
            "51/51 [==============================] - 1s 14ms/step - loss: 3.8163e-04 - mse: 3.8163e-04 - mae: 0.0145 - mape: 3.1268 - val_loss: 8.1269e-04 - val_mse: 8.1269e-04 - val_mae: 0.0271 - val_mape: 4.3503\n",
            "Epoch 168/200\n",
            "51/51 [==============================] - 1s 15ms/step - loss: 6.7660e-04 - mse: 6.7660e-04 - mae: 0.0185 - mape: 3.8104 - val_loss: 1.1736e-04 - val_mse: 1.1736e-04 - val_mae: 0.0084 - val_mape: 1.3598\n",
            "Epoch 169/200\n",
            "51/51 [==============================] - 1s 15ms/step - loss: 3.9225e-04 - mse: 3.9225e-04 - mae: 0.0143 - mape: 2.9982 - val_loss: 2.1646e-04 - val_mse: 2.1646e-04 - val_mae: 0.0129 - val_mape: 2.0977\n",
            "Epoch 170/200\n",
            "51/51 [==============================] - 1s 14ms/step - loss: 4.1631e-04 - mse: 4.1631e-04 - mae: 0.0143 - mape: 3.0835 - val_loss: 5.7977e-04 - val_mse: 5.7977e-04 - val_mae: 0.0225 - val_mape: 3.6379\n",
            "Epoch 171/200\n",
            "51/51 [==============================] - 1s 14ms/step - loss: 5.3688e-04 - mse: 5.3688e-04 - mae: 0.0164 - mape: 3.1920 - val_loss: 1.7175e-04 - val_mse: 1.7175e-04 - val_mae: 0.0109 - val_mape: 1.7490\n",
            "Epoch 172/200\n",
            "51/51 [==============================] - 1s 14ms/step - loss: 4.1087e-04 - mse: 4.1087e-04 - mae: 0.0149 - mape: 3.5366 - val_loss: 1.9208e-04 - val_mse: 1.9208e-04 - val_mae: 0.0117 - val_mape: 1.8757\n",
            "Epoch 173/200\n",
            "51/51 [==============================] - 1s 14ms/step - loss: 4.2848e-04 - mse: 4.2848e-04 - mae: 0.0151 - mape: 3.0718 - val_loss: 1.7798e-04 - val_mse: 1.7798e-04 - val_mae: 0.0114 - val_mape: 1.8405\n",
            "Epoch 174/200\n",
            "51/51 [==============================] - 1s 14ms/step - loss: 3.9401e-04 - mse: 3.9401e-04 - mae: 0.0146 - mape: 3.1563 - val_loss: 2.8417e-04 - val_mse: 2.8417e-04 - val_mae: 0.0152 - val_mape: 2.4623\n",
            "Epoch 175/200\n",
            "51/51 [==============================] - 1s 14ms/step - loss: 4.6120e-04 - mse: 4.6120e-04 - mae: 0.0155 - mape: 3.5098 - val_loss: 9.0732e-05 - val_mse: 9.0732e-05 - val_mae: 0.0068 - val_mape: 1.1133\n",
            "Epoch 176/200\n",
            "51/51 [==============================] - 1s 14ms/step - loss: 4.1327e-04 - mse: 4.1327e-04 - mae: 0.0145 - mape: 3.3265 - val_loss: 1.3343e-04 - val_mse: 1.3343e-04 - val_mae: 0.0093 - val_mape: 1.4888\n",
            "Epoch 177/200\n",
            "51/51 [==============================] - 1s 14ms/step - loss: 3.6392e-04 - mse: 3.6392e-04 - mae: 0.0136 - mape: 2.9883 - val_loss: 9.2541e-05 - val_mse: 9.2541e-05 - val_mae: 0.0069 - val_mape: 1.1159\n",
            "Epoch 178/200\n",
            "51/51 [==============================] - 1s 15ms/step - loss: 4.4423e-04 - mse: 4.4423e-04 - mae: 0.0148 - mape: 3.0359 - val_loss: 1.5943e-04 - val_mse: 1.5943e-04 - val_mae: 0.0104 - val_mape: 1.6686\n",
            "Epoch 179/200\n",
            "51/51 [==============================] - 1s 14ms/step - loss: 3.8987e-04 - mse: 3.8987e-04 - mae: 0.0141 - mape: 2.9770 - val_loss: 2.1571e-04 - val_mse: 2.1571e-04 - val_mae: 0.0125 - val_mape: 2.0106\n",
            "Epoch 180/200\n",
            "51/51 [==============================] - 1s 15ms/step - loss: 3.7648e-04 - mse: 3.7648e-04 - mae: 0.0143 - mape: 3.0971 - val_loss: 1.6843e-04 - val_mse: 1.6843e-04 - val_mae: 0.0107 - val_mape: 1.7275\n",
            "Epoch 181/200\n",
            "51/51 [==============================] - 1s 14ms/step - loss: 3.5561e-04 - mse: 3.5561e-04 - mae: 0.0135 - mape: 2.9582 - val_loss: 1.7376e-04 - val_mse: 1.7376e-04 - val_mae: 0.0113 - val_mape: 1.8410\n",
            "Epoch 182/200\n",
            "51/51 [==============================] - 1s 15ms/step - loss: 3.4971e-04 - mse: 3.4971e-04 - mae: 0.0138 - mape: 2.9615 - val_loss: 1.1956e-04 - val_mse: 1.1956e-04 - val_mae: 0.0086 - val_mape: 1.3818\n",
            "Epoch 183/200\n",
            "51/51 [==============================] - 1s 14ms/step - loss: 3.7226e-04 - mse: 3.7226e-04 - mae: 0.0139 - mape: 2.9252 - val_loss: 1.3935e-04 - val_mse: 1.3935e-04 - val_mae: 0.0096 - val_mape: 1.5379\n",
            "Epoch 184/200\n",
            "51/51 [==============================] - 1s 14ms/step - loss: 3.8151e-04 - mse: 3.8151e-04 - mae: 0.0144 - mape: 3.1438 - val_loss: 9.5450e-05 - val_mse: 9.5450e-05 - val_mae: 0.0073 - val_mape: 1.1846\n",
            "Epoch 185/200\n",
            "51/51 [==============================] - 1s 14ms/step - loss: 3.9078e-04 - mse: 3.9078e-04 - mae: 0.0137 - mape: 2.9516 - val_loss: 1.0548e-04 - val_mse: 1.0548e-04 - val_mae: 0.0078 - val_mape: 1.2640\n",
            "Epoch 186/200\n",
            "51/51 [==============================] - 1s 14ms/step - loss: 3.7069e-04 - mse: 3.7069e-04 - mae: 0.0139 - mape: 2.9392 - val_loss: 8.7473e-05 - val_mse: 8.7473e-05 - val_mae: 0.0064 - val_mape: 1.0418\n",
            "Epoch 187/200\n",
            "51/51 [==============================] - 1s 15ms/step - loss: 3.6400e-04 - mse: 3.6400e-04 - mae: 0.0142 - mape: 3.1724 - val_loss: 1.1585e-04 - val_mse: 1.1585e-04 - val_mae: 0.0082 - val_mape: 1.3270\n",
            "Epoch 188/200\n",
            "51/51 [==============================] - 1s 14ms/step - loss: 3.5858e-04 - mse: 3.5858e-04 - mae: 0.0142 - mape: 3.2043 - val_loss: 9.4390e-05 - val_mse: 9.4390e-05 - val_mae: 0.0069 - val_mape: 1.1176\n",
            "Epoch 189/200\n",
            "51/51 [==============================] - 1s 14ms/step - loss: 4.0801e-04 - mse: 4.0801e-04 - mae: 0.0142 - mape: 3.1530 - val_loss: 1.5676e-04 - val_mse: 1.5676e-04 - val_mae: 0.0102 - val_mape: 1.6364\n",
            "Epoch 190/200\n",
            "51/51 [==============================] - 1s 14ms/step - loss: 3.0331e-04 - mse: 3.0331e-04 - mae: 0.0127 - mape: 2.8336 - val_loss: 9.5406e-05 - val_mse: 9.5406e-05 - val_mae: 0.0072 - val_mape: 1.1788\n",
            "Epoch 191/200\n",
            "51/51 [==============================] - 1s 15ms/step - loss: 3.0813e-04 - mse: 3.0813e-04 - mae: 0.0124 - mape: 2.6094 - val_loss: 8.7570e-05 - val_mse: 8.7570e-05 - val_mae: 0.0066 - val_mape: 1.0742\n",
            "Epoch 192/200\n",
            "51/51 [==============================] - 1s 14ms/step - loss: 4.7121e-04 - mse: 4.7121e-04 - mae: 0.0149 - mape: 3.3946 - val_loss: 1.1950e-04 - val_mse: 1.1950e-04 - val_mae: 0.0086 - val_mape: 1.4034\n",
            "Epoch 193/200\n",
            "51/51 [==============================] - 1s 15ms/step - loss: 3.2776e-04 - mse: 3.2776e-04 - mae: 0.0133 - mape: 2.9165 - val_loss: 1.0077e-04 - val_mse: 1.0077e-04 - val_mae: 0.0076 - val_mape: 1.2380\n",
            "Epoch 194/200\n",
            "51/51 [==============================] - 1s 14ms/step - loss: 3.6045e-04 - mse: 3.6045e-04 - mae: 0.0135 - mape: 3.0378 - val_loss: 1.2309e-04 - val_mse: 1.2309e-04 - val_mae: 0.0086 - val_mape: 1.3930\n",
            "Epoch 195/200\n",
            "51/51 [==============================] - 1s 15ms/step - loss: 4.8103e-04 - mse: 4.8103e-04 - mae: 0.0165 - mape: 3.6205 - val_loss: 8.3672e-05 - val_mse: 8.3672e-05 - val_mae: 0.0063 - val_mape: 1.0298\n",
            "Epoch 196/200\n",
            "51/51 [==============================] - 1s 14ms/step - loss: 4.3845e-04 - mse: 4.3845e-04 - mae: 0.0149 - mape: 3.2016 - val_loss: 1.3590e-04 - val_mse: 1.3590e-04 - val_mae: 0.0096 - val_mape: 1.5596\n",
            "Epoch 197/200\n",
            "51/51 [==============================] - 1s 15ms/step - loss: 4.4398e-04 - mse: 4.4398e-04 - mae: 0.0156 - mape: 3.6125 - val_loss: 1.0681e-04 - val_mse: 1.0681e-04 - val_mae: 0.0080 - val_mape: 1.3025\n",
            "Epoch 198/200\n",
            "51/51 [==============================] - 1s 14ms/step - loss: 4.6592e-04 - mse: 4.6592e-04 - mae: 0.0162 - mape: 3.4690 - val_loss: 1.3141e-04 - val_mse: 1.3141e-04 - val_mae: 0.0092 - val_mape: 1.4752\n",
            "Epoch 199/200\n",
            "51/51 [==============================] - 1s 15ms/step - loss: 3.9570e-04 - mse: 3.9570e-04 - mae: 0.0141 - mape: 2.9635 - val_loss: 2.5384e-04 - val_mse: 2.5384e-04 - val_mae: 0.0142 - val_mape: 2.2961\n",
            "Epoch 200/200\n",
            "51/51 [==============================] - 1s 14ms/step - loss: 4.7533e-04 - mse: 4.7533e-04 - mae: 0.0155 - mape: 3.3773 - val_loss: 3.2813e-04 - val_mse: 3.2813e-04 - val_mae: 0.0162 - val_mape: 2.6117\n"
          ],
          "name": "stdout"
        }
      ]
    },
    {
      "cell_type": "code",
      "metadata": {
        "colab": {
          "base_uri": "https://localhost:8080/",
          "height": 279
        },
        "id": "ZJIR3so0dDTs",
        "outputId": "f0ca7e29-eb6a-40b5-b4a1-c055559dc806"
      },
      "source": [
        "plt.plot(history.history['loss'],'r',label='train loss')\n",
        "plt.plot(history.history['val_loss'],'g',label='val loss')\n",
        "plt.xlabel('# epoch')\n",
        "plt.ylabel('loss')\n",
        "plt.legend()\n",
        "plt.show()"
      ],
      "execution_count": 8,
      "outputs": [
        {
          "output_type": "display_data",
          "data": {
            "image/png": "[encoded data removed]",
            "text/plain": [
              "<Figure size 432x288 with 1 Axes>"
            ]
          },
          "metadata": {
            "tags": [],
            "needs_background": "light"
          }
        }
      ]
    },
    {
      "cell_type": "code",
      "metadata": {
        "colab": {
          "base_uri": "https://localhost:8080/"
        },
        "id": "EO4kpglmdF9r",
        "outputId": "9d035bf3-b92b-464b-c3ca-30ea208bb28e"
      },
      "source": [
        "result=model.predict(test_data)\n",
        "\n",
        "from sklearn.metrics import r2_score\n",
        "\n",
        "r2=r2_score(test_target,result)\n",
        "print('r2 score:',r2)\n",
        "print(result.shape)\n",
        "print(test_target.shape)"
      ],
      "execution_count": 9,
      "outputs": [
        {
          "output_type": "stream",
          "text": [
            "r2 score: 0.9892201072246584\n",
            "(769, 1)\n",
            "(769,)\n"
          ],
          "name": "stdout"
        }
      ]
    },
    {
      "cell_type": "code",
      "metadata": {
        "colab": {
          "base_uri": "https://localhost:8080/",
          "height": 279
        },
        "id": "dO6F1Dd5dJPU",
        "outputId": "4b3fdeab-8bd4-44d1-9e08-3f0742f9678a"
      },
      "source": [
        "#test_x_range=np.arange(1000,1209,1)\n",
        "test_x_range=np.arange(1792,2561,1)\n",
        "#test_x_range is an array of values between 1000-1208\n",
        "\n",
        "plt.plot(train_target,'r',label='train')\n",
        "plt.plot(test_x_range,test_target,'b',label='test')\n",
        "plt.plot(test_x_range,result,'g',label='predicted')\n",
        "\n",
        "plt.xlabel('Date')\n",
        "plt.ylabel('Open Value/$')\n",
        "plt.legend()\n",
        "plt.show()"
      ],
      "execution_count": 10,
      "outputs": [
        {
          "output_type": "display_data",
          "data": {
            "image/png": "[encoded data removed]",
            "text/plain": [
              "<Figure size 432x288 with 1 Axes>"
            ]
          },
          "metadata": {
            "tags": [],
            "needs_background": "light"
          }
        }
      ]
    },
    {
      "cell_type": "code",
      "metadata": {
        "colab": {
          "base_uri": "https://localhost:8080/",
          "height": 279
        },
        "id": "elPBAiHhdMOE",
        "outputId": "8124c7c1-8742-4c6c-d2a1-2d581bb63b80"
      },
      "source": [
        "plt.plot(test_target,'b',label='test')\n",
        "plt.plot(result,'r',label='predicted')\n",
        "\n",
        "plt.xlabel('Date')\n",
        "plt.ylabel('Open Value/$')\n",
        "plt.legend()\n",
        "plt.show()"
      ],
      "execution_count": 11,
      "outputs": [
        {
          "output_type": "display_data",
          "data": {
            "image/png": "[encoded data removed]",
            "text/plain": [
              "<Figure size 432x288 with 1 Axes>"
            ]
          },
          "metadata": {
            "tags": [],
            "needs_background": "light"
          }
        }
      ]
    },
    {
      "cell_type": "code",
      "metadata": {
        "id": "t7zxpkI0dObU"
      },
      "source": [
        "model.save_weights(\"JHK Stock Model new.h5\")"
      ],
      "execution_count": 12,
      "outputs": []
    }
  ]
}