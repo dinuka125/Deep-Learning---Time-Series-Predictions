{
  "nbformat": 4,
  "nbformat_minor": 0,
  "metadata": {
    "colab": {
      "name": "CARG CNN+LSTM",
      "provenance": [],
      "authorship_tag": "ABX9TyNEcwOt+KeX3Gmwq8wgVPxd",
      "include_colab_link": true
    },
    "kernelspec": {
      "name": "python3",
      "display_name": "Python 3"
    },
    "language_info": {
      "name": "python"
    },
    "accelerator": "GPU"
  },
  "cells": [
    {
      "cell_type": "markdown",
      "metadata": {
        "id": "view-in-github",
        "colab_type": "text"
      },
      "source": [
        "<a href=\"https://colab.research.google.com/github/dinuka125/japura-Git-Workshop/blob/master/CARG_CNN%2BLSTM.ipynb\" target=\"_parent\"><img src=\"https://colab.research.google.com/assets/colab-badge.svg\" alt=\"Open In Colab\"/></a>"
      ]
    },
    {
      "cell_type": "code",
      "metadata": {
        "colab": {
          "base_uri": "https://localhost:8080/"
        },
        "id": "v3d8LjNo6yDt",
        "outputId": "e6bbd7af-c51d-4596-803d-8d44eff78e16"
      },
      "source": [
        "from google.colab import drive\n",
        "drive.mount('/content/drive')\n",
        "path ='/content/drive/My Drive/csv_files/'"
      ],
      "execution_count": 1,
      "outputs": [
        {
          "output_type": "stream",
          "text": [
            "Mounted at /content/drive\n"
          ],
          "name": "stdout"
        }
      ]
    },
    {
      "cell_type": "markdown",
      "metadata": {
        "id": "3CzghFvQKj_P"
      },
      "source": [
        ""
      ]
    },
    {
      "cell_type": "code",
      "metadata": {
        "id": "vfQUQQA0KOtL"
      },
      "source": [
        "import numpy as np\n",
        "\n",
        "data=np.load(path+'dataCARG.npy')\n",
        "target=np.load(path+'targetCARG.npy')"
      ],
      "execution_count": 2,
      "outputs": []
    },
    {
      "cell_type": "code",
      "metadata": {
        "colab": {
          "base_uri": "https://localhost:8080/"
        },
        "id": "7sOgt9y7KP3Q",
        "outputId": "250826e0-6a0f-476c-eb13-10603a482200"
      },
      "source": [
        "print(data.shape)\n",
        "print(target.shape)\n",
        "print(data.shape[1:])"
      ],
      "execution_count": 3,
      "outputs": [
        {
          "output_type": "stream",
          "text": [
            "(2354, 50, 4)\n",
            "(2354,)\n",
            "(50, 4)\n"
          ],
          "name": "stdout"
        }
      ]
    },
    {
      "cell_type": "code",
      "metadata": {
        "id": "uQNSrgJHKRBg"
      },
      "source": [
        "train_data=data[:1647]\n",
        "train_target=target[:1647]\n",
        "\n",
        "test_data=data[1647:]\n",
        "test_target=target[1647:]"
      ],
      "execution_count": 4,
      "outputs": []
    },
    {
      "cell_type": "code",
      "metadata": {
        "colab": {
          "base_uri": "https://localhost:8080/",
          "height": 279
        },
        "id": "0kSxxj9vKSHg",
        "outputId": "89d04ad6-720d-4668-d37f-bb548dcbf49e"
      },
      "source": [
        "from matplotlib import pyplot as plt\n",
        "\n",
        "test_x_range=np.arange(1647,2354,1)\n",
        "#test_x_range is an array of values between 1000-1208\n",
        "\n",
        "plt.plot(train_target,'r',label='train')\n",
        "plt.plot(test_x_range,test_target,'b',label='test')\n",
        "plt.xlabel('Date')\n",
        "plt.ylabel('Open Value/$')\n",
        "plt.show()"
      ],
      "execution_count": 5,
      "outputs": [
        {
          "output_type": "display_data",
          "data": {
            "image/png": "[encoded data removed]",
            "text/plain": [
              "<Figure size 432x288 with 1 Axes>"
            ]
          },
          "metadata": {
            "tags": [],
            "needs_background": "light"
          }
        }
      ]
    },
    {
      "cell_type": "code",
      "metadata": {
        "colab": {
          "base_uri": "https://localhost:8080/"
        },
        "id": "FCh0PZj-KUJo",
        "outputId": "adac865e-dea7-48f8-e0a4-93cf7c0b2629"
      },
      "source": [
        "\n",
        "from keras.layers import Input\n",
        "from keras.models import Model\n",
        "from keras.layers import LSTM\n",
        "from keras.layers import Conv1D\n",
        "from keras.layers import MaxPooling1D\n",
        "from keras.layers import Dropout\n",
        "from keras.layers import Dense\n",
        "from keras.layers import Flatten\n",
        "\n",
        "input_layer = Input(shape=(data.shape[1:]))\n",
        "conv1 = Conv1D(filters=256,\n",
        "               kernel_size=3,\n",
        "               strides=1,\n",
        "               activation='relu',\n",
        "              padding='same')(input_layer)\n",
        "\n",
        "conv1=(MaxPooling1D(pool_size=2))(conv1)\n",
        "\n",
        "droup0=(Dropout(0.2))(conv1)\n",
        "#conv2=Conv1D(filters=128,kernel_size=3,activation='relu')(conv1)\n",
        "#pool1=(MaxPooling1D(pool_size=2))(conv2)\n",
        "#pool1=(Dropout(0.2))(pool1)\n",
        "#conv3=Conv1D(filters=64,kernel_size=3,activation='relu')(pool1)\n",
        "#pool2=(MaxPooling1D(pool_size=2))(conv3)\n",
        "\n",
        "#flt=Flatten()(pool2)\n",
        "#lstm1 = LSTM(96, return_sequences=True)(droup0)\n",
        "#droup9=(Dropout(0.2))(lstm1)\n",
        "\n",
        "lstm1 = LSTM(96, return_sequences=True)(droup0)\n",
        "droup9=(Dropout(0.2))(lstm1)\n",
        "\n",
        "lstm2=LSTM(units=96,return_sequences=True)(droup9)\n",
        "droup1=(Dropout(0.2))(droup0)\n",
        "\n",
        "lstm3=LSTM(units=96,return_sequences=True)(droup1)\n",
        "drop2=Dropout(0.2)(lstm3)\n",
        "\n",
        "lstm4=LSTM(units=96,return_sequences=False)(drop2)\n",
        "drop3=(Dropout(0.2))(lstm4)\n",
        "\n",
        "\n",
        "#dense1=Dense(units=1,activation='linear')(drop3)\n",
        "\n",
        "output_layer = Dense(1, activation='linear')(drop3)\n",
        "model = Model(inputs=input_layer, outputs=output_layer)\n",
        "\n",
        "model.compile(loss='mse',optimizer='adam',metrics=['mse', 'mae', 'mape'])\n",
        "\n",
        "model.summary()\n",
        "\n"
      ],
      "execution_count": 6,
      "outputs": [
        {
          "output_type": "stream",
          "text": [
            "Model: \"model\"\n",
            "_________________________________________________________________\n",
            "Layer (type)                 Output Shape              Param #   \n",
            "=================================================================\n",
            "input_1 (InputLayer)         [(None, 50, 4)]           0         \n",
            "_________________________________________________________________\n",
            "conv1d (Conv1D)              (None, 50, 256)           3328      \n",
            "_________________________________________________________________\n",
            "max_pooling1d (MaxPooling1D) (None, 25, 256)           0         \n",
            "_________________________________________________________________\n",
            "dropout (Dropout)            (None, 25, 256)           0         \n",
            "_________________________________________________________________\n",
            "dropout_2 (Dropout)          (None, 25, 256)           0         \n",
            "_________________________________________________________________\n",
            "lstm_2 (LSTM)                (None, 25, 96)            135552    \n",
            "_________________________________________________________________\n",
            "dropout_3 (Dropout)          (None, 25, 96)            0         \n",
            "_________________________________________________________________\n",
            "lstm_3 (LSTM)                (None, 96)                74112     \n",
            "_________________________________________________________________\n",
            "dropout_4 (Dropout)          (None, 96)                0         \n",
            "_________________________________________________________________\n",
            "dense (Dense)                (None, 1)                 97        \n",
            "=================================================================\n",
            "Total params: 213,089\n",
            "Trainable params: 213,089\n",
            "Non-trainable params: 0\n",
            "_________________________________________________________________\n"
          ],
          "name": "stdout"
        }
      ]
    },
    {
      "cell_type": "code",
      "metadata": {
        "colab": {
          "base_uri": "https://localhost:8080/"
        },
        "id": "PLNkAsHqKVzI",
        "outputId": "a1e7476c-8bd1-49b4-9ba2-e342291b88fa"
      },
      "source": [
        "history=model.fit(train_data,train_target,epochs=200,validation_split=0.10)"
      ],
      "execution_count": 7,
      "outputs": [
        {
          "output_type": "stream",
          "text": [
            "Epoch 1/200\n",
            "47/47 [==============================] - 35s 50ms/step - loss: 0.0354 - mse: 0.0354 - mae: 0.1399 - mape: 27.3211 - val_loss: 0.0010 - val_mse: 0.0010 - val_mae: 0.0260 - val_mape: 4.6808\n",
            "Epoch 2/200\n",
            "47/47 [==============================] - 1s 20ms/step - loss: 0.0046 - mse: 0.0046 - mae: 0.0502 - mape: 10.1148 - val_loss: 9.8368e-04 - val_mse: 9.8368e-04 - val_mae: 0.0258 - val_mape: 4.5902\n",
            "Epoch 3/200\n",
            "47/47 [==============================] - 1s 20ms/step - loss: 0.0045 - mse: 0.0045 - mae: 0.0492 - mape: 9.7333 - val_loss: 0.0015 - val_mse: 0.0015 - val_mae: 0.0315 - val_mape: 5.7992\n",
            "Epoch 4/200\n",
            "47/47 [==============================] - 1s 20ms/step - loss: 0.0044 - mse: 0.0044 - mae: 0.0494 - mape: 9.8804 - val_loss: 9.6779e-04 - val_mse: 9.6779e-04 - val_mae: 0.0254 - val_mape: 4.4929\n",
            "Epoch 5/200\n",
            "47/47 [==============================] - 1s 20ms/step - loss: 0.0038 - mse: 0.0038 - mae: 0.0467 - mape: 9.6862 - val_loss: 0.0014 - val_mse: 0.0014 - val_mae: 0.0307 - val_mape: 5.3721\n",
            "Epoch 6/200\n",
            "47/47 [==============================] - 1s 20ms/step - loss: 0.0031 - mse: 0.0031 - mae: 0.0419 - mape: 8.1833 - val_loss: 0.0010 - val_mse: 0.0010 - val_mae: 0.0259 - val_mape: 4.5747\n",
            "Epoch 7/200\n",
            "47/47 [==============================] - 1s 20ms/step - loss: 0.0030 - mse: 0.0030 - mae: 0.0420 - mape: 8.2294 - val_loss: 6.2603e-04 - val_mse: 6.2603e-04 - val_mae: 0.0204 - val_mape: 3.6565\n",
            "Epoch 8/200\n",
            "47/47 [==============================] - 1s 20ms/step - loss: 0.0028 - mse: 0.0028 - mae: 0.0399 - mape: 8.3150 - val_loss: 6.9201e-04 - val_mse: 6.9201e-04 - val_mae: 0.0213 - val_mape: 3.7805\n",
            "Epoch 9/200\n",
            "47/47 [==============================] - 1s 20ms/step - loss: 0.0031 - mse: 0.0031 - mae: 0.0423 - mape: 8.4725 - val_loss: 5.8564e-04 - val_mse: 5.8564e-04 - val_mae: 0.0196 - val_mape: 3.5869\n",
            "Epoch 10/200\n",
            "47/47 [==============================] - 1s 20ms/step - loss: 0.0027 - mse: 0.0027 - mae: 0.0387 - mape: 8.0302 - val_loss: 9.6935e-04 - val_mse: 9.6935e-04 - val_mae: 0.0257 - val_mape: 4.7406\n",
            "Epoch 11/200\n",
            "47/47 [==============================] - 1s 20ms/step - loss: 0.0028 - mse: 0.0028 - mae: 0.0403 - mape: 7.8663 - val_loss: 7.8797e-04 - val_mse: 7.8797e-04 - val_mae: 0.0227 - val_mape: 3.9950\n",
            "Epoch 12/200\n",
            "47/47 [==============================] - 1s 20ms/step - loss: 0.0032 - mse: 0.0032 - mae: 0.0430 - mape: 8.2779 - val_loss: 6.7741e-04 - val_mse: 6.7741e-04 - val_mae: 0.0209 - val_mape: 3.7009\n",
            "Epoch 13/200\n",
            "47/47 [==============================] - 1s 20ms/step - loss: 0.0024 - mse: 0.0024 - mae: 0.0370 - mape: 7.3154 - val_loss: 8.7407e-04 - val_mse: 8.7407e-04 - val_mae: 0.0244 - val_mape: 4.4798\n",
            "Epoch 14/200\n",
            "47/47 [==============================] - 1s 20ms/step - loss: 0.0026 - mse: 0.0026 - mae: 0.0378 - mape: 7.2139 - val_loss: 4.6645e-04 - val_mse: 4.6645e-04 - val_mae: 0.0174 - val_mape: 3.1809\n",
            "Epoch 15/200\n",
            "47/47 [==============================] - 1s 20ms/step - loss: 0.0025 - mse: 0.0025 - mae: 0.0373 - mape: 7.4476 - val_loss: 0.0012 - val_mse: 0.0012 - val_mae: 0.0290 - val_mape: 5.0966\n",
            "Epoch 16/200\n",
            "47/47 [==============================] - 1s 20ms/step - loss: 0.0027 - mse: 0.0027 - mae: 0.0396 - mape: 8.2804 - val_loss: 0.0025 - val_mse: 0.0025 - val_mae: 0.0451 - val_mape: 8.1269\n",
            "Epoch 17/200\n",
            "47/47 [==============================] - 1s 20ms/step - loss: 0.0029 - mse: 0.0029 - mae: 0.0403 - mape: 7.6884 - val_loss: 4.5441e-04 - val_mse: 4.5441e-04 - val_mae: 0.0173 - val_mape: 3.1682\n",
            "Epoch 18/200\n",
            "47/47 [==============================] - 1s 20ms/step - loss: 0.0020 - mse: 0.0020 - mae: 0.0341 - mape: 6.8224 - val_loss: 7.2863e-04 - val_mse: 7.2863e-04 - val_mae: 0.0222 - val_mape: 4.0596\n",
            "Epoch 19/200\n",
            "47/47 [==============================] - 1s 20ms/step - loss: 0.0022 - mse: 0.0022 - mae: 0.0358 - mape: 7.2339 - val_loss: 4.6220e-04 - val_mse: 4.6220e-04 - val_mae: 0.0174 - val_mape: 3.1915\n",
            "Epoch 20/200\n",
            "47/47 [==============================] - 1s 20ms/step - loss: 0.0023 - mse: 0.0023 - mae: 0.0371 - mape: 7.5570 - val_loss: 0.0012 - val_mse: 0.0012 - val_mae: 0.0303 - val_mape: 5.3264\n",
            "Epoch 21/200\n",
            "47/47 [==============================] - 1s 20ms/step - loss: 0.0023 - mse: 0.0023 - mae: 0.0367 - mape: 7.1577 - val_loss: 8.6940e-04 - val_mse: 8.6940e-04 - val_mae: 0.0245 - val_mape: 4.4675\n",
            "Epoch 22/200\n",
            "47/47 [==============================] - 1s 20ms/step - loss: 0.0021 - mse: 0.0021 - mae: 0.0353 - mape: 6.8166 - val_loss: 6.5014e-04 - val_mse: 6.5014e-04 - val_mae: 0.0206 - val_mape: 3.6808\n",
            "Epoch 23/200\n",
            "47/47 [==============================] - 1s 20ms/step - loss: 0.0021 - mse: 0.0021 - mae: 0.0359 - mape: 7.3052 - val_loss: 5.2085e-04 - val_mse: 5.2085e-04 - val_mae: 0.0182 - val_mape: 3.2539\n",
            "Epoch 24/200\n",
            "47/47 [==============================] - 1s 20ms/step - loss: 0.0021 - mse: 0.0021 - mae: 0.0341 - mape: 6.9174 - val_loss: 0.0012 - val_mse: 0.0012 - val_mae: 0.0302 - val_mape: 5.3371\n",
            "Epoch 25/200\n",
            "47/47 [==============================] - 1s 20ms/step - loss: 0.0020 - mse: 0.0020 - mae: 0.0342 - mape: 7.1832 - val_loss: 0.0013 - val_mse: 0.0013 - val_mae: 0.0312 - val_mape: 5.4940\n",
            "Epoch 26/200\n",
            "47/47 [==============================] - 1s 20ms/step - loss: 0.0019 - mse: 0.0019 - mae: 0.0334 - mape: 7.3599 - val_loss: 3.3086e-04 - val_mse: 3.3086e-04 - val_mae: 0.0145 - val_mape: 2.6319\n",
            "Epoch 27/200\n",
            "47/47 [==============================] - 1s 20ms/step - loss: 0.0022 - mse: 0.0022 - mae: 0.0361 - mape: 7.6209 - val_loss: 8.7637e-04 - val_mse: 8.7637e-04 - val_mae: 0.0250 - val_mape: 4.5250\n",
            "Epoch 28/200\n",
            "47/47 [==============================] - 1s 20ms/step - loss: 0.0020 - mse: 0.0020 - mae: 0.0339 - mape: 6.6959 - val_loss: 7.4156e-04 - val_mse: 7.4156e-04 - val_mae: 0.0228 - val_mape: 4.0237\n",
            "Epoch 29/200\n",
            "47/47 [==============================] - 1s 20ms/step - loss: 0.0016 - mse: 0.0016 - mae: 0.0294 - mape: 6.4617 - val_loss: 3.2018e-04 - val_mse: 3.2018e-04 - val_mae: 0.0143 - val_mape: 2.5932\n",
            "Epoch 30/200\n",
            "47/47 [==============================] - 1s 20ms/step - loss: 0.0017 - mse: 0.0017 - mae: 0.0308 - mape: 6.2434 - val_loss: 6.0257e-04 - val_mse: 6.0257e-04 - val_mae: 0.0201 - val_mape: 3.5464\n",
            "Epoch 31/200\n",
            "47/47 [==============================] - 1s 20ms/step - loss: 0.0018 - mse: 0.0018 - mae: 0.0312 - mape: 6.2750 - val_loss: 3.2890e-04 - val_mse: 3.2890e-04 - val_mae: 0.0145 - val_mape: 2.6178\n",
            "Epoch 32/200\n",
            "47/47 [==============================] - 1s 20ms/step - loss: 0.0017 - mse: 0.0017 - mae: 0.0309 - mape: 6.9722 - val_loss: 0.0011 - val_mse: 0.0011 - val_mae: 0.0288 - val_mape: 5.1023\n",
            "Epoch 33/200\n",
            "47/47 [==============================] - 1s 20ms/step - loss: 0.0022 - mse: 0.0022 - mae: 0.0355 - mape: 8.2891 - val_loss: 8.7719e-04 - val_mse: 8.7719e-04 - val_mae: 0.0255 - val_mape: 4.5023\n",
            "Epoch 34/200\n",
            "47/47 [==============================] - 1s 20ms/step - loss: 0.0020 - mse: 0.0020 - mae: 0.0336 - mape: 7.3868 - val_loss: 8.1319e-04 - val_mse: 8.1319e-04 - val_mae: 0.0243 - val_mape: 4.3017\n",
            "Epoch 35/200\n",
            "47/47 [==============================] - 1s 19ms/step - loss: 0.0018 - mse: 0.0018 - mae: 0.0319 - mape: 6.3369 - val_loss: 7.3647e-04 - val_mse: 7.3647e-04 - val_mae: 0.0229 - val_mape: 4.0921\n",
            "Epoch 36/200\n",
            "47/47 [==============================] - 1s 20ms/step - loss: 0.0016 - mse: 0.0016 - mae: 0.0293 - mape: 6.2956 - val_loss: 3.0323e-04 - val_mse: 3.0323e-04 - val_mae: 0.0138 - val_mape: 2.5198\n",
            "Epoch 37/200\n",
            "47/47 [==============================] - 1s 20ms/step - loss: 0.0015 - mse: 0.0015 - mae: 0.0300 - mape: 6.1392 - val_loss: 3.0182e-04 - val_mse: 3.0182e-04 - val_mae: 0.0138 - val_mape: 2.5057\n",
            "Epoch 38/200\n",
            "47/47 [==============================] - 1s 20ms/step - loss: 0.0015 - mse: 0.0015 - mae: 0.0292 - mape: 6.4060 - val_loss: 3.0742e-04 - val_mse: 3.0742e-04 - val_mae: 0.0139 - val_mape: 2.5279\n",
            "Epoch 39/200\n",
            "47/47 [==============================] - 1s 20ms/step - loss: 0.0017 - mse: 0.0017 - mae: 0.0308 - mape: 6.2033 - val_loss: 2.8987e-04 - val_mse: 2.8987e-04 - val_mae: 0.0135 - val_mape: 2.4432\n",
            "Epoch 40/200\n",
            "47/47 [==============================] - 1s 20ms/step - loss: 0.0016 - mse: 0.0016 - mae: 0.0306 - mape: 6.7619 - val_loss: 2.8626e-04 - val_mse: 2.8626e-04 - val_mae: 0.0135 - val_mape: 2.4386\n",
            "Epoch 41/200\n",
            "47/47 [==============================] - 1s 20ms/step - loss: 0.0014 - mse: 0.0014 - mae: 0.0287 - mape: 6.1200 - val_loss: 5.1239e-04 - val_mse: 5.1239e-04 - val_mae: 0.0183 - val_mape: 3.2677\n",
            "Epoch 42/200\n",
            "47/47 [==============================] - 1s 20ms/step - loss: 0.0015 - mse: 0.0015 - mae: 0.0293 - mape: 6.6194 - val_loss: 7.9507e-04 - val_mse: 7.9507e-04 - val_mae: 0.0243 - val_mape: 4.2930\n",
            "Epoch 43/200\n",
            "47/47 [==============================] - 1s 20ms/step - loss: 0.0016 - mse: 0.0016 - mae: 0.0299 - mape: 6.2827 - val_loss: 4.7748e-04 - val_mse: 4.7748e-04 - val_mae: 0.0176 - val_mape: 3.1688\n",
            "Epoch 44/200\n",
            "47/47 [==============================] - 1s 20ms/step - loss: 0.0013 - mse: 0.0013 - mae: 0.0271 - mape: 6.3816 - val_loss: 2.9998e-04 - val_mse: 2.9998e-04 - val_mae: 0.0137 - val_mape: 2.4658\n",
            "Epoch 45/200\n",
            "47/47 [==============================] - 1s 20ms/step - loss: 0.0016 - mse: 0.0016 - mae: 0.0294 - mape: 7.0348 - val_loss: 0.0013 - val_mse: 0.0013 - val_mae: 0.0328 - val_mape: 5.7326\n",
            "Epoch 46/200\n",
            "47/47 [==============================] - 1s 20ms/step - loss: 0.0017 - mse: 0.0017 - mae: 0.0301 - mape: 6.1454 - val_loss: 2.7782e-04 - val_mse: 2.7782e-04 - val_mae: 0.0130 - val_mape: 2.3493\n",
            "Epoch 47/200\n",
            "47/47 [==============================] - 1s 20ms/step - loss: 0.0014 - mse: 0.0014 - mae: 0.0283 - mape: 6.3633 - val_loss: 3.3102e-04 - val_mse: 3.3102e-04 - val_mae: 0.0142 - val_mape: 2.5522\n",
            "Epoch 48/200\n",
            "47/47 [==============================] - 1s 20ms/step - loss: 0.0014 - mse: 0.0014 - mae: 0.0277 - mape: 5.6661 - val_loss: 7.9288e-04 - val_mse: 7.9288e-04 - val_mae: 0.0243 - val_mape: 4.3234\n",
            "Epoch 49/200\n",
            "47/47 [==============================] - 1s 20ms/step - loss: 0.0015 - mse: 0.0015 - mae: 0.0291 - mape: 6.2512 - val_loss: 2.9572e-04 - val_mse: 2.9572e-04 - val_mae: 0.0134 - val_mape: 2.4075\n",
            "Epoch 50/200\n",
            "47/47 [==============================] - 1s 20ms/step - loss: 0.0012 - mse: 0.0012 - mae: 0.0256 - mape: 6.0901 - val_loss: 2.6796e-04 - val_mse: 2.6796e-04 - val_mae: 0.0127 - val_mape: 2.2955\n",
            "Epoch 51/200\n",
            "47/47 [==============================] - 1s 20ms/step - loss: 0.0013 - mse: 0.0013 - mae: 0.0269 - mape: 6.1800 - val_loss: 2.7994e-04 - val_mse: 2.7994e-04 - val_mae: 0.0132 - val_mape: 2.3857\n",
            "Epoch 52/200\n",
            "47/47 [==============================] - 1s 20ms/step - loss: 0.0013 - mse: 0.0013 - mae: 0.0267 - mape: 5.7424 - val_loss: 2.9260e-04 - val_mse: 2.9260e-04 - val_mae: 0.0134 - val_mape: 2.4110\n",
            "Epoch 53/200\n",
            "47/47 [==============================] - 1s 20ms/step - loss: 0.0014 - mse: 0.0014 - mae: 0.0277 - mape: 6.4137 - val_loss: 3.2190e-04 - val_mse: 3.2190e-04 - val_mae: 0.0142 - val_mape: 2.5730\n",
            "Epoch 54/200\n",
            "47/47 [==============================] - 1s 20ms/step - loss: 0.0012 - mse: 0.0012 - mae: 0.0255 - mape: 5.4361 - val_loss: 2.8052e-04 - val_mse: 2.8052e-04 - val_mae: 0.0131 - val_mape: 2.3786\n",
            "Epoch 55/200\n",
            "47/47 [==============================] - 1s 20ms/step - loss: 0.0012 - mse: 0.0012 - mae: 0.0258 - mape: 5.7985 - val_loss: 5.9496e-04 - val_mse: 5.9496e-04 - val_mae: 0.0204 - val_mape: 3.5939\n",
            "Epoch 56/200\n",
            "47/47 [==============================] - 1s 20ms/step - loss: 0.0012 - mse: 0.0012 - mae: 0.0268 - mape: 6.5025 - val_loss: 9.3562e-04 - val_mse: 9.3562e-04 - val_mae: 0.0269 - val_mape: 4.7869\n",
            "Epoch 57/200\n",
            "47/47 [==============================] - 1s 20ms/step - loss: 0.0013 - mse: 0.0013 - mae: 0.0268 - mape: 5.9410 - val_loss: 2.5472e-04 - val_mse: 2.5472e-04 - val_mae: 0.0124 - val_mape: 2.2379\n",
            "Epoch 58/200\n",
            "47/47 [==============================] - 1s 20ms/step - loss: 0.0012 - mse: 0.0012 - mae: 0.0261 - mape: 5.8551 - val_loss: 2.8022e-04 - val_mse: 2.8022e-04 - val_mae: 0.0130 - val_mape: 2.3643\n",
            "Epoch 59/200\n",
            "47/47 [==============================] - 1s 20ms/step - loss: 0.0013 - mse: 0.0013 - mae: 0.0268 - mape: 5.5323 - val_loss: 2.8017e-04 - val_mse: 2.8017e-04 - val_mae: 0.0131 - val_mape: 2.3716\n",
            "Epoch 60/200\n",
            "47/47 [==============================] - 1s 21ms/step - loss: 0.0011 - mse: 0.0011 - mae: 0.0246 - mape: 6.0640 - val_loss: 3.9353e-04 - val_mse: 3.9353e-04 - val_mae: 0.0158 - val_mape: 2.7870\n",
            "Epoch 61/200\n",
            "47/47 [==============================] - 1s 20ms/step - loss: 0.0014 - mse: 0.0014 - mae: 0.0264 - mape: 5.8110 - val_loss: 2.8444e-04 - val_mse: 2.8444e-04 - val_mae: 0.0132 - val_mape: 2.3844\n",
            "Epoch 62/200\n",
            "47/47 [==============================] - 1s 20ms/step - loss: 0.0012 - mse: 0.0012 - mae: 0.0263 - mape: 6.0548 - val_loss: 3.9437e-04 - val_mse: 3.9437e-04 - val_mae: 0.0157 - val_mape: 2.7618\n",
            "Epoch 63/200\n",
            "47/47 [==============================] - 1s 20ms/step - loss: 0.0014 - mse: 0.0014 - mae: 0.0273 - mape: 6.6083 - val_loss: 0.0013 - val_mse: 0.0013 - val_mae: 0.0327 - val_mape: 5.7708\n",
            "Epoch 64/200\n",
            "47/47 [==============================] - 1s 20ms/step - loss: 0.0016 - mse: 0.0016 - mae: 0.0302 - mape: 7.1597 - val_loss: 3.8535e-04 - val_mse: 3.8535e-04 - val_mae: 0.0157 - val_mape: 2.8405\n",
            "Epoch 65/200\n",
            "47/47 [==============================] - 1s 20ms/step - loss: 0.0013 - mse: 0.0013 - mae: 0.0267 - mape: 6.4124 - val_loss: 8.4296e-04 - val_mse: 8.4296e-04 - val_mae: 0.0255 - val_mape: 4.5304\n",
            "Epoch 66/200\n",
            "47/47 [==============================] - 1s 20ms/step - loss: 0.0013 - mse: 0.0013 - mae: 0.0271 - mape: 6.0137 - val_loss: 2.5863e-04 - val_mse: 2.5863e-04 - val_mae: 0.0123 - val_mape: 2.2029\n",
            "Epoch 67/200\n",
            "47/47 [==============================] - 1s 20ms/step - loss: 0.0011 - mse: 0.0011 - mae: 0.0250 - mape: 5.6869 - val_loss: 2.8844e-04 - val_mse: 2.8844e-04 - val_mae: 0.0130 - val_mape: 2.3374\n",
            "Epoch 68/200\n",
            "47/47 [==============================] - 1s 20ms/step - loss: 0.0010 - mse: 0.0010 - mae: 0.0236 - mape: 5.2133 - val_loss: 3.5708e-04 - val_mse: 3.5708e-04 - val_mae: 0.0148 - val_mape: 2.6644\n",
            "Epoch 69/200\n",
            "47/47 [==============================] - 1s 20ms/step - loss: 0.0013 - mse: 0.0013 - mae: 0.0270 - mape: 5.9287 - val_loss: 3.3988e-04 - val_mse: 3.3988e-04 - val_mae: 0.0145 - val_mape: 2.5890\n",
            "Epoch 70/200\n",
            "47/47 [==============================] - 1s 20ms/step - loss: 0.0011 - mse: 0.0011 - mae: 0.0243 - mape: 6.7044 - val_loss: 5.6138e-04 - val_mse: 5.6138e-04 - val_mae: 0.0199 - val_mape: 3.5135\n",
            "Epoch 71/200\n",
            "47/47 [==============================] - 1s 20ms/step - loss: 0.0012 - mse: 0.0012 - mae: 0.0256 - mape: 5.4685 - val_loss: 2.8171e-04 - val_mse: 2.8171e-04 - val_mae: 0.0133 - val_mape: 2.4290\n",
            "Epoch 72/200\n",
            "47/47 [==============================] - 1s 20ms/step - loss: 0.0010 - mse: 0.0010 - mae: 0.0231 - mape: 5.1911 - val_loss: 3.5246e-04 - val_mse: 3.5246e-04 - val_mae: 0.0148 - val_mape: 2.5893\n",
            "Epoch 73/200\n",
            "47/47 [==============================] - 1s 20ms/step - loss: 9.7109e-04 - mse: 9.7109e-04 - mae: 0.0236 - mape: 5.6796 - val_loss: 0.0013 - val_mse: 0.0013 - val_mae: 0.0323 - val_mape: 5.6531\n",
            "Epoch 74/200\n",
            "47/47 [==============================] - 1s 20ms/step - loss: 0.0014 - mse: 0.0014 - mae: 0.0277 - mape: 5.8563 - val_loss: 4.6120e-04 - val_mse: 4.6120e-04 - val_mae: 0.0174 - val_mape: 3.1424\n",
            "Epoch 75/200\n",
            "47/47 [==============================] - 1s 20ms/step - loss: 0.0010 - mse: 0.0010 - mae: 0.0235 - mape: 5.6318 - val_loss: 2.4873e-04 - val_mse: 2.4873e-04 - val_mae: 0.0121 - val_mape: 2.1844\n",
            "Epoch 76/200\n",
            "47/47 [==============================] - 1s 20ms/step - loss: 0.0011 - mse: 0.0011 - mae: 0.0240 - mape: 5.8850 - val_loss: 2.9944e-04 - val_mse: 2.9944e-04 - val_mae: 0.0134 - val_mape: 2.3982\n",
            "Epoch 77/200\n",
            "47/47 [==============================] - 1s 20ms/step - loss: 0.0010 - mse: 0.0010 - mae: 0.0236 - mape: 6.1303 - val_loss: 2.6787e-04 - val_mse: 2.6787e-04 - val_mae: 0.0126 - val_mape: 2.2537\n",
            "Epoch 78/200\n",
            "47/47 [==============================] - 1s 20ms/step - loss: 9.0903e-04 - mse: 9.0903e-04 - mae: 0.0228 - mape: 5.1389 - val_loss: 5.0511e-04 - val_mse: 5.0511e-04 - val_mae: 0.0185 - val_mape: 3.2679\n",
            "Epoch 79/200\n",
            "47/47 [==============================] - 1s 21ms/step - loss: 0.0011 - mse: 0.0011 - mae: 0.0243 - mape: 5.9848 - val_loss: 2.8472e-04 - val_mse: 2.8472e-04 - val_mae: 0.0132 - val_mape: 2.3958\n",
            "Epoch 80/200\n",
            "47/47 [==============================] - 1s 20ms/step - loss: 0.0011 - mse: 0.0011 - mae: 0.0244 - mape: 5.4615 - val_loss: 2.6212e-04 - val_mse: 2.6212e-04 - val_mae: 0.0125 - val_mape: 2.2741\n",
            "Epoch 81/200\n",
            "47/47 [==============================] - 1s 20ms/step - loss: 9.4925e-04 - mse: 9.4925e-04 - mae: 0.0224 - mape: 5.7165 - val_loss: 3.7060e-04 - val_mse: 3.7060e-04 - val_mae: 0.0153 - val_mape: 2.8021\n",
            "Epoch 82/200\n",
            "47/47 [==============================] - 1s 20ms/step - loss: 0.0012 - mse: 0.0012 - mae: 0.0254 - mape: 5.2666 - val_loss: 6.6923e-04 - val_mse: 6.6923e-04 - val_mae: 0.0221 - val_mape: 3.8641\n",
            "Epoch 83/200\n",
            "47/47 [==============================] - 1s 20ms/step - loss: 0.0011 - mse: 0.0011 - mae: 0.0243 - mape: 5.6933 - val_loss: 4.1701e-04 - val_mse: 4.1701e-04 - val_mae: 0.0165 - val_mape: 2.9611\n",
            "Epoch 84/200\n",
            "47/47 [==============================] - 1s 20ms/step - loss: 0.0011 - mse: 0.0011 - mae: 0.0239 - mape: 5.9090 - val_loss: 3.6521e-04 - val_mse: 3.6521e-04 - val_mae: 0.0152 - val_mape: 2.7065\n",
            "Epoch 85/200\n",
            "47/47 [==============================] - 1s 20ms/step - loss: 8.3866e-04 - mse: 8.3866e-04 - mae: 0.0212 - mape: 4.6266 - val_loss: 2.5436e-04 - val_mse: 2.5436e-04 - val_mae: 0.0120 - val_mape: 2.1637\n",
            "Epoch 86/200\n",
            "47/47 [==============================] - 1s 20ms/step - loss: 0.0010 - mse: 0.0010 - mae: 0.0237 - mape: 5.2706 - val_loss: 3.6744e-04 - val_mse: 3.6744e-04 - val_mae: 0.0151 - val_mape: 2.6513\n",
            "Epoch 87/200\n",
            "47/47 [==============================] - 1s 20ms/step - loss: 0.0011 - mse: 0.0011 - mae: 0.0246 - mape: 5.6458 - val_loss: 2.4521e-04 - val_mse: 2.4521e-04 - val_mae: 0.0119 - val_mape: 2.1366\n",
            "Epoch 88/200\n",
            "47/47 [==============================] - 1s 20ms/step - loss: 0.0011 - mse: 0.0011 - mae: 0.0242 - mape: 5.6947 - val_loss: 4.9469e-04 - val_mse: 4.9469e-04 - val_mae: 0.0184 - val_mape: 3.2426\n",
            "Epoch 89/200\n",
            "47/47 [==============================] - 1s 20ms/step - loss: 9.3598e-04 - mse: 9.3598e-04 - mae: 0.0222 - mape: 4.9385 - val_loss: 2.5998e-04 - val_mse: 2.5998e-04 - val_mae: 0.0125 - val_mape: 2.2463\n",
            "Epoch 90/200\n",
            "47/47 [==============================] - 1s 20ms/step - loss: 0.0010 - mse: 0.0010 - mae: 0.0232 - mape: 5.5318 - val_loss: 4.9403e-04 - val_mse: 4.9403e-04 - val_mae: 0.0183 - val_mape: 3.2296\n",
            "Epoch 91/200\n",
            "47/47 [==============================] - 1s 20ms/step - loss: 9.6732e-04 - mse: 9.6732e-04 - mae: 0.0230 - mape: 6.5004 - val_loss: 4.7912e-04 - val_mse: 4.7912e-04 - val_mae: 0.0182 - val_mape: 3.3180\n",
            "Epoch 92/200\n",
            "47/47 [==============================] - 1s 20ms/step - loss: 0.0014 - mse: 0.0014 - mae: 0.0279 - mape: 5.9833 - val_loss: 2.4613e-04 - val_mse: 2.4613e-04 - val_mae: 0.0119 - val_mape: 2.1485\n",
            "Epoch 93/200\n",
            "47/47 [==============================] - 1s 20ms/step - loss: 0.0010 - mse: 0.0010 - mae: 0.0235 - mape: 5.0050 - val_loss: 2.6401e-04 - val_mse: 2.6401e-04 - val_mae: 0.0123 - val_mape: 2.1910\n",
            "Epoch 94/200\n",
            "47/47 [==============================] - 1s 20ms/step - loss: 0.0010 - mse: 0.0010 - mae: 0.0238 - mape: 6.1621 - val_loss: 6.6854e-04 - val_mse: 6.6854e-04 - val_mae: 0.0222 - val_mape: 3.9548\n",
            "Epoch 95/200\n",
            "47/47 [==============================] - 1s 20ms/step - loss: 0.0010 - mse: 0.0010 - mae: 0.0232 - mape: 5.1648 - val_loss: 2.4675e-04 - val_mse: 2.4675e-04 - val_mae: 0.0119 - val_mape: 2.1466\n",
            "Epoch 96/200\n",
            "47/47 [==============================] - 1s 20ms/step - loss: 9.3229e-04 - mse: 9.3229e-04 - mae: 0.0220 - mape: 5.3395 - val_loss: 2.5740e-04 - val_mse: 2.5740e-04 - val_mae: 0.0123 - val_mape: 2.2242\n",
            "Epoch 97/200\n",
            "47/47 [==============================] - 1s 20ms/step - loss: 0.0010 - mse: 0.0010 - mae: 0.0233 - mape: 6.5147 - val_loss: 5.7348e-04 - val_mse: 5.7348e-04 - val_mae: 0.0201 - val_mape: 3.5949\n",
            "Epoch 98/200\n",
            "47/47 [==============================] - 1s 20ms/step - loss: 9.8541e-04 - mse: 9.8541e-04 - mae: 0.0236 - mape: 5.3953 - val_loss: 2.4742e-04 - val_mse: 2.4742e-04 - val_mae: 0.0121 - val_mape: 2.1800\n",
            "Epoch 99/200\n",
            "47/47 [==============================] - 1s 20ms/step - loss: 0.0011 - mse: 0.0011 - mae: 0.0231 - mape: 5.5519 - val_loss: 3.5206e-04 - val_mse: 3.5206e-04 - val_mae: 0.0148 - val_mape: 2.6286\n",
            "Epoch 100/200\n",
            "47/47 [==============================] - 1s 20ms/step - loss: 0.0011 - mse: 0.0011 - mae: 0.0248 - mape: 5.8985 - val_loss: 2.6079e-04 - val_mse: 2.6079e-04 - val_mae: 0.0123 - val_mape: 2.2224\n",
            "Epoch 101/200\n",
            "47/47 [==============================] - 1s 20ms/step - loss: 8.8778e-04 - mse: 8.8778e-04 - mae: 0.0215 - mape: 6.2451 - val_loss: 2.5993e-04 - val_mse: 2.5993e-04 - val_mae: 0.0123 - val_mape: 2.2219\n",
            "Epoch 102/200\n",
            "47/47 [==============================] - 1s 20ms/step - loss: 8.6990e-04 - mse: 8.6990e-04 - mae: 0.0214 - mape: 5.8701 - val_loss: 2.5520e-04 - val_mse: 2.5520e-04 - val_mae: 0.0123 - val_mape: 2.2367\n",
            "Epoch 103/200\n",
            "47/47 [==============================] - 1s 20ms/step - loss: 9.3667e-04 - mse: 9.3667e-04 - mae: 0.0219 - mape: 5.1866 - val_loss: 2.9325e-04 - val_mse: 2.9325e-04 - val_mae: 0.0132 - val_mape: 2.3551\n",
            "Epoch 104/200\n",
            "47/47 [==============================] - 1s 20ms/step - loss: 9.1253e-04 - mse: 9.1253e-04 - mae: 0.0220 - mape: 5.7511 - val_loss: 9.4921e-04 - val_mse: 9.4921e-04 - val_mae: 0.0274 - val_mape: 4.8465\n",
            "Epoch 105/200\n",
            "47/47 [==============================] - 1s 20ms/step - loss: 0.0010 - mse: 0.0010 - mae: 0.0237 - mape: 5.2900 - val_loss: 2.5930e-04 - val_mse: 2.5930e-04 - val_mae: 0.0124 - val_mape: 2.2296\n",
            "Epoch 106/200\n",
            "47/47 [==============================] - 1s 20ms/step - loss: 9.1600e-04 - mse: 9.1600e-04 - mae: 0.0220 - mape: 5.1689 - val_loss: 5.4804e-04 - val_mse: 5.4804e-04 - val_mae: 0.0195 - val_mape: 3.4451\n",
            "Epoch 107/200\n",
            "47/47 [==============================] - 1s 20ms/step - loss: 9.0989e-04 - mse: 9.0989e-04 - mae: 0.0219 - mape: 5.5366 - val_loss: 2.4161e-04 - val_mse: 2.4161e-04 - val_mae: 0.0117 - val_mape: 2.1007\n",
            "Epoch 108/200\n",
            "47/47 [==============================] - 1s 20ms/step - loss: 8.2824e-04 - mse: 8.2824e-04 - mae: 0.0208 - mape: 4.9890 - val_loss: 3.7144e-04 - val_mse: 3.7144e-04 - val_mae: 0.0155 - val_mape: 2.8359\n",
            "Epoch 109/200\n",
            "47/47 [==============================] - 1s 20ms/step - loss: 0.0010 - mse: 0.0010 - mae: 0.0232 - mape: 5.9654 - val_loss: 3.9780e-04 - val_mse: 3.9780e-04 - val_mae: 0.0159 - val_mape: 2.8031\n",
            "Epoch 110/200\n",
            "47/47 [==============================] - 1s 20ms/step - loss: 0.0010 - mse: 0.0010 - mae: 0.0234 - mape: 6.2606 - val_loss: 2.6398e-04 - val_mse: 2.6398e-04 - val_mae: 0.0124 - val_mape: 2.2504\n",
            "Epoch 111/200\n",
            "47/47 [==============================] - 1s 21ms/step - loss: 9.1291e-04 - mse: 9.1291e-04 - mae: 0.0211 - mape: 5.7243 - val_loss: 2.4277e-04 - val_mse: 2.4277e-04 - val_mae: 0.0118 - val_mape: 2.1204\n",
            "Epoch 112/200\n",
            "47/47 [==============================] - 1s 20ms/step - loss: 7.4794e-04 - mse: 7.4794e-04 - mae: 0.0196 - mape: 5.4793 - val_loss: 2.4029e-04 - val_mse: 2.4029e-04 - val_mae: 0.0117 - val_mape: 2.0975\n",
            "Epoch 113/200\n",
            "47/47 [==============================] - 1s 20ms/step - loss: 7.9772e-04 - mse: 7.9772e-04 - mae: 0.0206 - mape: 4.9657 - val_loss: 3.0108e-04 - val_mse: 3.0108e-04 - val_mae: 0.0135 - val_mape: 2.4042\n",
            "Epoch 114/200\n",
            "47/47 [==============================] - 1s 20ms/step - loss: 9.7128e-04 - mse: 9.7128e-04 - mae: 0.0227 - mape: 5.5613 - val_loss: 2.8743e-04 - val_mse: 2.8743e-04 - val_mae: 0.0132 - val_mape: 2.3696\n",
            "Epoch 115/200\n",
            "47/47 [==============================] - 1s 20ms/step - loss: 9.2613e-04 - mse: 9.2613e-04 - mae: 0.0225 - mape: 5.5490 - val_loss: 4.4439e-04 - val_mse: 4.4439e-04 - val_mae: 0.0171 - val_mape: 2.9997\n",
            "Epoch 116/200\n",
            "47/47 [==============================] - 1s 20ms/step - loss: 7.9782e-04 - mse: 7.9782e-04 - mae: 0.0206 - mape: 4.5396 - val_loss: 4.2202e-04 - val_mse: 4.2202e-04 - val_mae: 0.0167 - val_mape: 2.9599\n",
            "Epoch 117/200\n",
            "47/47 [==============================] - 1s 20ms/step - loss: 8.3981e-04 - mse: 8.3981e-04 - mae: 0.0205 - mape: 5.5246 - val_loss: 4.5458e-04 - val_mse: 4.5458e-04 - val_mae: 0.0175 - val_mape: 3.1116\n",
            "Epoch 118/200\n",
            "47/47 [==============================] - 1s 20ms/step - loss: 8.1433e-04 - mse: 8.1433e-04 - mae: 0.0204 - mape: 4.4683 - val_loss: 4.3285e-04 - val_mse: 4.3285e-04 - val_mae: 0.0166 - val_mape: 2.9048\n",
            "Epoch 119/200\n",
            "47/47 [==============================] - 1s 20ms/step - loss: 9.8024e-04 - mse: 9.8024e-04 - mae: 0.0228 - mape: 5.0973 - val_loss: 2.8815e-04 - val_mse: 2.8815e-04 - val_mae: 0.0131 - val_mape: 2.3376\n",
            "Epoch 120/200\n",
            "47/47 [==============================] - 1s 20ms/step - loss: 8.2318e-04 - mse: 8.2318e-04 - mae: 0.0215 - mape: 5.6105 - val_loss: 0.0012 - val_mse: 0.0012 - val_mae: 0.0308 - val_mape: 5.4266\n",
            "Epoch 121/200\n",
            "47/47 [==============================] - 1s 20ms/step - loss: 0.0011 - mse: 0.0011 - mae: 0.0248 - mape: 7.4489 - val_loss: 2.5778e-04 - val_mse: 2.5778e-04 - val_mae: 0.0124 - val_mape: 2.2449\n",
            "Epoch 122/200\n",
            "47/47 [==============================] - 1s 20ms/step - loss: 8.8516e-04 - mse: 8.8516e-04 - mae: 0.0211 - mape: 5.4467 - val_loss: 2.6161e-04 - val_mse: 2.6161e-04 - val_mae: 0.0123 - val_mape: 2.2028\n",
            "Epoch 123/200\n",
            "47/47 [==============================] - 1s 21ms/step - loss: 8.1727e-04 - mse: 8.1727e-04 - mae: 0.0209 - mape: 4.6525 - val_loss: 2.7181e-04 - val_mse: 2.7181e-04 - val_mae: 0.0125 - val_mape: 2.2645\n",
            "Epoch 124/200\n",
            "47/47 [==============================] - 1s 21ms/step - loss: 7.8313e-04 - mse: 7.8313e-04 - mae: 0.0202 - mape: 5.8303 - val_loss: 3.7476e-04 - val_mse: 3.7476e-04 - val_mae: 0.0157 - val_mape: 2.8833\n",
            "Epoch 125/200\n",
            "47/47 [==============================] - 1s 20ms/step - loss: 8.0436e-04 - mse: 8.0436e-04 - mae: 0.0210 - mape: 4.9520 - val_loss: 8.3186e-04 - val_mse: 8.3186e-04 - val_mae: 0.0254 - val_mape: 4.4888\n",
            "Epoch 126/200\n",
            "47/47 [==============================] - 1s 20ms/step - loss: 0.0011 - mse: 0.0011 - mae: 0.0248 - mape: 5.5962 - val_loss: 3.1574e-04 - val_mse: 3.1574e-04 - val_mae: 0.0138 - val_mape: 2.4773\n",
            "Epoch 127/200\n",
            "47/47 [==============================] - 1s 21ms/step - loss: 8.1396e-04 - mse: 8.1396e-04 - mae: 0.0210 - mape: 4.9084 - val_loss: 2.8501e-04 - val_mse: 2.8501e-04 - val_mae: 0.0133 - val_mape: 2.4321\n",
            "Epoch 128/200\n",
            "47/47 [==============================] - 1s 21ms/step - loss: 8.1901e-04 - mse: 8.1901e-04 - mae: 0.0209 - mape: 5.2469 - val_loss: 2.8508e-04 - val_mse: 2.8508e-04 - val_mae: 0.0132 - val_mape: 2.3926\n",
            "Epoch 129/200\n",
            "47/47 [==============================] - 1s 20ms/step - loss: 8.2789e-04 - mse: 8.2789e-04 - mae: 0.0206 - mape: 5.2793 - val_loss: 2.5277e-04 - val_mse: 2.5277e-04 - val_mae: 0.0121 - val_mape: 2.1861\n",
            "Epoch 130/200\n",
            "47/47 [==============================] - 1s 20ms/step - loss: 8.0765e-04 - mse: 8.0765e-04 - mae: 0.0207 - mape: 5.8758 - val_loss: 4.0316e-04 - val_mse: 4.0316e-04 - val_mae: 0.0161 - val_mape: 2.8420\n",
            "Epoch 131/200\n",
            "47/47 [==============================] - 1s 20ms/step - loss: 8.8603e-04 - mse: 8.8603e-04 - mae: 0.0212 - mape: 5.4606 - val_loss: 2.6533e-04 - val_mse: 2.6533e-04 - val_mae: 0.0124 - val_mape: 2.2053\n",
            "Epoch 132/200\n",
            "47/47 [==============================] - 1s 20ms/step - loss: 8.1088e-04 - mse: 8.1088e-04 - mae: 0.0206 - mape: 5.0140 - val_loss: 2.8537e-04 - val_mse: 2.8537e-04 - val_mae: 0.0130 - val_mape: 2.3077\n",
            "Epoch 133/200\n",
            "47/47 [==============================] - 1s 20ms/step - loss: 8.3785e-04 - mse: 8.3785e-04 - mae: 0.0202 - mape: 4.7528 - val_loss: 4.0595e-04 - val_mse: 4.0595e-04 - val_mae: 0.0163 - val_mape: 2.9018\n",
            "Epoch 134/200\n",
            "47/47 [==============================] - 1s 20ms/step - loss: 8.2773e-04 - mse: 8.2773e-04 - mae: 0.0211 - mape: 5.8495 - val_loss: 2.6084e-04 - val_mse: 2.6084e-04 - val_mae: 0.0124 - val_mape: 2.2226\n",
            "Epoch 135/200\n",
            "47/47 [==============================] - 1s 21ms/step - loss: 8.9332e-04 - mse: 8.9332e-04 - mae: 0.0210 - mape: 5.3696 - val_loss: 4.9917e-04 - val_mse: 4.9917e-04 - val_mae: 0.0188 - val_mape: 3.4217\n",
            "Epoch 136/200\n",
            "47/47 [==============================] - 1s 21ms/step - loss: 0.0010 - mse: 0.0010 - mae: 0.0242 - mape: 5.6747 - val_loss: 4.1143e-04 - val_mse: 4.1143e-04 - val_mae: 0.0164 - val_mape: 2.9268\n",
            "Epoch 137/200\n",
            "47/47 [==============================] - 1s 20ms/step - loss: 9.8658e-04 - mse: 9.8658e-04 - mae: 0.0234 - mape: 5.9312 - val_loss: 2.4184e-04 - val_mse: 2.4184e-04 - val_mae: 0.0118 - val_mape: 2.1261\n",
            "Epoch 138/200\n",
            "47/47 [==============================] - 1s 20ms/step - loss: 8.4734e-04 - mse: 8.4734e-04 - mae: 0.0209 - mape: 5.5315 - val_loss: 2.6283e-04 - val_mse: 2.6283e-04 - val_mae: 0.0123 - val_mape: 2.2031\n",
            "Epoch 139/200\n",
            "47/47 [==============================] - 1s 21ms/step - loss: 6.9675e-04 - mse: 6.9675e-04 - mae: 0.0193 - mape: 4.7017 - val_loss: 2.6605e-04 - val_mse: 2.6605e-04 - val_mae: 0.0125 - val_mape: 2.2311\n",
            "Epoch 140/200\n",
            "47/47 [==============================] - 1s 20ms/step - loss: 7.9108e-04 - mse: 7.9108e-04 - mae: 0.0203 - mape: 5.6509 - val_loss: 2.4289e-04 - val_mse: 2.4289e-04 - val_mae: 0.0118 - val_mape: 2.1476\n",
            "Epoch 141/200\n",
            "47/47 [==============================] - 1s 20ms/step - loss: 7.7120e-04 - mse: 7.7120e-04 - mae: 0.0202 - mape: 5.7555 - val_loss: 4.8204e-04 - val_mse: 4.8204e-04 - val_mae: 0.0180 - val_mape: 3.1444\n",
            "Epoch 142/200\n",
            "47/47 [==============================] - 1s 20ms/step - loss: 8.0770e-04 - mse: 8.0770e-04 - mae: 0.0201 - mape: 5.1937 - val_loss: 2.6316e-04 - val_mse: 2.6316e-04 - val_mae: 0.0125 - val_mape: 2.2893\n",
            "Epoch 143/200\n",
            "47/47 [==============================] - 1s 21ms/step - loss: 8.2731e-04 - mse: 8.2731e-04 - mae: 0.0214 - mape: 5.9418 - val_loss: 2.4765e-04 - val_mse: 2.4765e-04 - val_mae: 0.0119 - val_mape: 2.1394\n",
            "Epoch 144/200\n",
            "47/47 [==============================] - 1s 20ms/step - loss: 9.3002e-04 - mse: 9.3002e-04 - mae: 0.0214 - mape: 4.9763 - val_loss: 6.0485e-04 - val_mse: 6.0485e-04 - val_mae: 0.0208 - val_mape: 3.6655\n",
            "Epoch 145/200\n",
            "47/47 [==============================] - 1s 20ms/step - loss: 8.6885e-04 - mse: 8.6885e-04 - mae: 0.0215 - mape: 5.9150 - val_loss: 2.9252e-04 - val_mse: 2.9252e-04 - val_mae: 0.0131 - val_mape: 2.3245\n",
            "Epoch 146/200\n",
            "47/47 [==============================] - 1s 20ms/step - loss: 8.4517e-04 - mse: 8.4517e-04 - mae: 0.0209 - mape: 5.7180 - val_loss: 2.3936e-04 - val_mse: 2.3936e-04 - val_mae: 0.0117 - val_mape: 2.1048\n",
            "Epoch 147/200\n",
            "47/47 [==============================] - 1s 20ms/step - loss: 8.0197e-04 - mse: 8.0197e-04 - mae: 0.0199 - mape: 4.5790 - val_loss: 2.8054e-04 - val_mse: 2.8054e-04 - val_mae: 0.0130 - val_mape: 2.3050\n",
            "Epoch 148/200\n",
            "47/47 [==============================] - 1s 21ms/step - loss: 8.4772e-04 - mse: 8.4772e-04 - mae: 0.0215 - mape: 5.3158 - val_loss: 2.5060e-04 - val_mse: 2.5060e-04 - val_mae: 0.0118 - val_mape: 2.1262\n",
            "Epoch 149/200\n",
            "47/47 [==============================] - 1s 20ms/step - loss: 7.9098e-04 - mse: 7.9098e-04 - mae: 0.0201 - mape: 4.5126 - val_loss: 4.9042e-04 - val_mse: 4.9042e-04 - val_mae: 0.0183 - val_mape: 3.2099\n",
            "Epoch 150/200\n",
            "47/47 [==============================] - 1s 21ms/step - loss: 7.4653e-04 - mse: 7.4653e-04 - mae: 0.0196 - mape: 4.3604 - val_loss: 2.4186e-04 - val_mse: 2.4186e-04 - val_mae: 0.0117 - val_mape: 2.1107\n",
            "Epoch 151/200\n",
            "47/47 [==============================] - 1s 20ms/step - loss: 7.9340e-04 - mse: 7.9340e-04 - mae: 0.0198 - mape: 5.4642 - val_loss: 2.5443e-04 - val_mse: 2.5443e-04 - val_mae: 0.0120 - val_mape: 2.1387\n",
            "Epoch 152/200\n",
            "47/47 [==============================] - 1s 20ms/step - loss: 8.0880e-04 - mse: 8.0880e-04 - mae: 0.0207 - mape: 5.7127 - val_loss: 2.5035e-04 - val_mse: 2.5035e-04 - val_mae: 0.0120 - val_mape: 2.1420\n",
            "Epoch 153/200\n",
            "47/47 [==============================] - 1s 20ms/step - loss: 7.4322e-04 - mse: 7.4322e-04 - mae: 0.0199 - mape: 4.9781 - val_loss: 3.0385e-04 - val_mse: 3.0385e-04 - val_mae: 0.0136 - val_mape: 2.4146\n",
            "Epoch 154/200\n",
            "47/47 [==============================] - 1s 20ms/step - loss: 8.2241e-04 - mse: 8.2241e-04 - mae: 0.0212 - mape: 5.0257 - val_loss: 3.2356e-04 - val_mse: 3.2356e-04 - val_mae: 0.0137 - val_mape: 2.4162\n",
            "Epoch 155/200\n",
            "47/47 [==============================] - 1s 20ms/step - loss: 6.9754e-04 - mse: 6.9754e-04 - mae: 0.0194 - mape: 4.5025 - val_loss: 7.0373e-04 - val_mse: 7.0373e-04 - val_mae: 0.0229 - val_mape: 4.0364\n",
            "Epoch 156/200\n",
            "47/47 [==============================] - 1s 21ms/step - loss: 7.3412e-04 - mse: 7.3412e-04 - mae: 0.0194 - mape: 5.3577 - val_loss: 4.0289e-04 - val_mse: 4.0289e-04 - val_mae: 0.0160 - val_mape: 2.8028\n",
            "Epoch 157/200\n",
            "47/47 [==============================] - 1s 21ms/step - loss: 7.1372e-04 - mse: 7.1372e-04 - mae: 0.0193 - mape: 4.5864 - val_loss: 2.7836e-04 - val_mse: 2.7836e-04 - val_mae: 0.0128 - val_mape: 2.2822\n",
            "Epoch 158/200\n",
            "47/47 [==============================] - 1s 20ms/step - loss: 6.9170e-04 - mse: 6.9170e-04 - mae: 0.0190 - mape: 4.5477 - val_loss: 2.5212e-04 - val_mse: 2.5212e-04 - val_mae: 0.0120 - val_mape: 2.1450\n",
            "Epoch 159/200\n",
            "47/47 [==============================] - 1s 21ms/step - loss: 8.1135e-04 - mse: 8.1135e-04 - mae: 0.0202 - mape: 4.9442 - val_loss: 3.0036e-04 - val_mse: 3.0036e-04 - val_mae: 0.0135 - val_mape: 2.4023\n",
            "Epoch 160/200\n",
            "47/47 [==============================] - 1s 20ms/step - loss: 7.1794e-04 - mse: 7.1794e-04 - mae: 0.0193 - mape: 4.0770 - val_loss: 4.7355e-04 - val_mse: 4.7355e-04 - val_mae: 0.0179 - val_mape: 3.1649\n",
            "Epoch 161/200\n",
            "47/47 [==============================] - 1s 20ms/step - loss: 7.9720e-04 - mse: 7.9720e-04 - mae: 0.0204 - mape: 5.3518 - val_loss: 2.8711e-04 - val_mse: 2.8711e-04 - val_mae: 0.0131 - val_mape: 2.3291\n",
            "Epoch 162/200\n",
            "47/47 [==============================] - 1s 21ms/step - loss: 6.8816e-04 - mse: 6.8816e-04 - mae: 0.0188 - mape: 4.8994 - val_loss: 7.3682e-04 - val_mse: 7.3682e-04 - val_mae: 0.0235 - val_mape: 4.1236\n",
            "Epoch 163/200\n",
            "47/47 [==============================] - 1s 21ms/step - loss: 8.6912e-04 - mse: 8.6912e-04 - mae: 0.0216 - mape: 5.1112 - val_loss: 2.6223e-04 - val_mse: 2.6223e-04 - val_mae: 0.0125 - val_mape: 2.2245\n",
            "Epoch 164/200\n",
            "47/47 [==============================] - 1s 21ms/step - loss: 8.6187e-04 - mse: 8.6187e-04 - mae: 0.0206 - mape: 4.9890 - val_loss: 2.6765e-04 - val_mse: 2.6765e-04 - val_mae: 0.0125 - val_mape: 2.2895\n",
            "Epoch 165/200\n",
            "47/47 [==============================] - 1s 21ms/step - loss: 6.7038e-04 - mse: 6.7038e-04 - mae: 0.0185 - mape: 4.6244 - val_loss: 2.3992e-04 - val_mse: 2.3992e-04 - val_mae: 0.0117 - val_mape: 2.1041\n",
            "Epoch 166/200\n",
            "47/47 [==============================] - 1s 20ms/step - loss: 7.4149e-04 - mse: 7.4149e-04 - mae: 0.0190 - mape: 4.7655 - val_loss: 2.8775e-04 - val_mse: 2.8775e-04 - val_mae: 0.0131 - val_mape: 2.3521\n",
            "Epoch 167/200\n",
            "47/47 [==============================] - 1s 21ms/step - loss: 6.8485e-04 - mse: 6.8485e-04 - mae: 0.0190 - mape: 4.4486 - val_loss: 3.0327e-04 - val_mse: 3.0327e-04 - val_mae: 0.0133 - val_mape: 2.3923\n",
            "Epoch 168/200\n",
            "47/47 [==============================] - 1s 21ms/step - loss: 8.1753e-04 - mse: 8.1753e-04 - mae: 0.0205 - mape: 6.3751 - val_loss: 3.6247e-04 - val_mse: 3.6247e-04 - val_mae: 0.0152 - val_mape: 2.7160\n",
            "Epoch 169/200\n",
            "47/47 [==============================] - 1s 20ms/step - loss: 7.0647e-04 - mse: 7.0647e-04 - mae: 0.0197 - mape: 4.7493 - val_loss: 2.6953e-04 - val_mse: 2.6953e-04 - val_mae: 0.0125 - val_mape: 2.2394\n",
            "Epoch 170/200\n",
            "47/47 [==============================] - 1s 20ms/step - loss: 8.6033e-04 - mse: 8.6033e-04 - mae: 0.0215 - mape: 5.2654 - val_loss: 4.7157e-04 - val_mse: 4.7157e-04 - val_mae: 0.0177 - val_mape: 3.1081\n",
            "Epoch 171/200\n",
            "47/47 [==============================] - 1s 20ms/step - loss: 7.4867e-04 - mse: 7.4867e-04 - mae: 0.0199 - mape: 5.5782 - val_loss: 2.8173e-04 - val_mse: 2.8173e-04 - val_mae: 0.0129 - val_mape: 2.2918\n",
            "Epoch 172/200\n",
            "47/47 [==============================] - 1s 20ms/step - loss: 7.9422e-04 - mse: 7.9422e-04 - mae: 0.0202 - mape: 5.2372 - val_loss: 2.8616e-04 - val_mse: 2.8616e-04 - val_mae: 0.0131 - val_mape: 2.3619\n",
            "Epoch 173/200\n",
            "47/47 [==============================] - 1s 21ms/step - loss: 7.7339e-04 - mse: 7.7339e-04 - mae: 0.0203 - mape: 5.0908 - val_loss: 3.8476e-04 - val_mse: 3.8476e-04 - val_mae: 0.0158 - val_mape: 2.8170\n",
            "Epoch 174/200\n",
            "47/47 [==============================] - 1s 21ms/step - loss: 7.4051e-04 - mse: 7.4051e-04 - mae: 0.0194 - mape: 5.5375 - val_loss: 2.9116e-04 - val_mse: 2.9116e-04 - val_mae: 0.0132 - val_mape: 2.3497\n",
            "Epoch 175/200\n",
            "47/47 [==============================] - 1s 21ms/step - loss: 7.8925e-04 - mse: 7.8925e-04 - mae: 0.0201 - mape: 5.1200 - val_loss: 2.8517e-04 - val_mse: 2.8517e-04 - val_mae: 0.0130 - val_mape: 2.3456\n",
            "Epoch 176/200\n",
            "47/47 [==============================] - 1s 20ms/step - loss: 5.8238e-04 - mse: 5.8238e-04 - mae: 0.0174 - mape: 3.8847 - val_loss: 3.6096e-04 - val_mse: 3.6096e-04 - val_mae: 0.0150 - val_mape: 2.6340\n",
            "Epoch 177/200\n",
            "47/47 [==============================] - 1s 20ms/step - loss: 7.2334e-04 - mse: 7.2334e-04 - mae: 0.0188 - mape: 4.5403 - val_loss: 2.6958e-04 - val_mse: 2.6958e-04 - val_mae: 0.0127 - val_mape: 2.3185\n",
            "Epoch 178/200\n",
            "47/47 [==============================] - 1s 21ms/step - loss: 6.6653e-04 - mse: 6.6653e-04 - mae: 0.0184 - mape: 4.4784 - val_loss: 3.5720e-04 - val_mse: 3.5720e-04 - val_mae: 0.0150 - val_mape: 2.7168\n",
            "Epoch 179/200\n",
            "47/47 [==============================] - 1s 21ms/step - loss: 9.6541e-04 - mse: 9.6541e-04 - mae: 0.0222 - mape: 5.4350 - val_loss: 3.8289e-04 - val_mse: 3.8289e-04 - val_mae: 0.0156 - val_mape: 2.7484\n",
            "Epoch 180/200\n",
            "47/47 [==============================] - 1s 21ms/step - loss: 7.9206e-04 - mse: 7.9206e-04 - mae: 0.0205 - mape: 4.9277 - val_loss: 3.0629e-04 - val_mse: 3.0629e-04 - val_mae: 0.0135 - val_mape: 2.3936\n",
            "Epoch 181/200\n",
            "47/47 [==============================] - 1s 21ms/step - loss: 7.7424e-04 - mse: 7.7424e-04 - mae: 0.0195 - mape: 5.1634 - val_loss: 2.7239e-04 - val_mse: 2.7239e-04 - val_mae: 0.0125 - val_mape: 2.2492\n",
            "Epoch 182/200\n",
            "47/47 [==============================] - 1s 21ms/step - loss: 6.4280e-04 - mse: 6.4280e-04 - mae: 0.0186 - mape: 4.3714 - val_loss: 5.4202e-04 - val_mse: 5.4202e-04 - val_mae: 0.0194 - val_mape: 3.4655\n",
            "Epoch 183/200\n",
            "47/47 [==============================] - 1s 21ms/step - loss: 7.0723e-04 - mse: 7.0723e-04 - mae: 0.0195 - mape: 4.8303 - val_loss: 2.5449e-04 - val_mse: 2.5449e-04 - val_mae: 0.0121 - val_mape: 2.1833\n",
            "Epoch 184/200\n",
            "47/47 [==============================] - 1s 21ms/step - loss: 7.1171e-04 - mse: 7.1171e-04 - mae: 0.0189 - mape: 4.8744 - val_loss: 3.1739e-04 - val_mse: 3.1739e-04 - val_mae: 0.0136 - val_mape: 2.3864\n",
            "Epoch 185/200\n",
            "47/47 [==============================] - 1s 20ms/step - loss: 7.3622e-04 - mse: 7.3622e-04 - mae: 0.0191 - mape: 4.5514 - val_loss: 2.5297e-04 - val_mse: 2.5297e-04 - val_mae: 0.0122 - val_mape: 2.1871\n",
            "Epoch 186/200\n",
            "47/47 [==============================] - 1s 21ms/step - loss: 8.0394e-04 - mse: 8.0394e-04 - mae: 0.0209 - mape: 5.8199 - val_loss: 2.4295e-04 - val_mse: 2.4295e-04 - val_mae: 0.0117 - val_mape: 2.1146\n",
            "Epoch 187/200\n",
            "47/47 [==============================] - 1s 21ms/step - loss: 6.6019e-04 - mse: 6.6019e-04 - mae: 0.0187 - mape: 4.7769 - val_loss: 4.6439e-04 - val_mse: 4.6439e-04 - val_mae: 0.0176 - val_mape: 3.1186\n",
            "Epoch 188/200\n",
            "47/47 [==============================] - 1s 21ms/step - loss: 9.2368e-04 - mse: 9.2368e-04 - mae: 0.0217 - mape: 5.9286 - val_loss: 3.0004e-04 - val_mse: 3.0004e-04 - val_mae: 0.0132 - val_mape: 2.3275\n",
            "Epoch 189/200\n",
            "47/47 [==============================] - 1s 21ms/step - loss: 8.6199e-04 - mse: 8.6199e-04 - mae: 0.0206 - mape: 5.5645 - val_loss: 2.7541e-04 - val_mse: 2.7541e-04 - val_mae: 0.0127 - val_mape: 2.2888\n",
            "Epoch 190/200\n",
            "47/47 [==============================] - 1s 21ms/step - loss: 7.9641e-04 - mse: 7.9641e-04 - mae: 0.0207 - mape: 5.3368 - val_loss: 2.4445e-04 - val_mse: 2.4445e-04 - val_mae: 0.0117 - val_mape: 2.1147\n",
            "Epoch 191/200\n",
            "47/47 [==============================] - 1s 20ms/step - loss: 5.6355e-04 - mse: 5.6355e-04 - mae: 0.0172 - mape: 4.2551 - val_loss: 3.3024e-04 - val_mse: 3.3024e-04 - val_mae: 0.0142 - val_mape: 2.5056\n",
            "Epoch 192/200\n",
            "47/47 [==============================] - 1s 21ms/step - loss: 7.2041e-04 - mse: 7.2041e-04 - mae: 0.0191 - mape: 5.5230 - val_loss: 2.3866e-04 - val_mse: 2.3866e-04 - val_mae: 0.0114 - val_mape: 2.0518\n",
            "Epoch 193/200\n",
            "47/47 [==============================] - 1s 21ms/step - loss: 7.2190e-04 - mse: 7.2190e-04 - mae: 0.0191 - mape: 4.4923 - val_loss: 4.3615e-04 - val_mse: 4.3615e-04 - val_mae: 0.0168 - val_mape: 2.9183\n",
            "Epoch 194/200\n",
            "47/47 [==============================] - 1s 20ms/step - loss: 7.1183e-04 - mse: 7.1183e-04 - mae: 0.0195 - mape: 4.8365 - val_loss: 3.0648e-04 - val_mse: 3.0648e-04 - val_mae: 0.0137 - val_mape: 2.4517\n",
            "Epoch 195/200\n",
            "47/47 [==============================] - 1s 21ms/step - loss: 6.9112e-04 - mse: 6.9112e-04 - mae: 0.0188 - mape: 4.9326 - val_loss: 3.4063e-04 - val_mse: 3.4063e-04 - val_mae: 0.0148 - val_mape: 2.7100\n",
            "Epoch 196/200\n",
            "47/47 [==============================] - 1s 21ms/step - loss: 6.6903e-04 - mse: 6.6903e-04 - mae: 0.0190 - mape: 4.5197 - val_loss: 2.8712e-04 - val_mse: 2.8712e-04 - val_mae: 0.0130 - val_mape: 2.3553\n",
            "Epoch 197/200\n",
            "47/47 [==============================] - 1s 20ms/step - loss: 7.1918e-04 - mse: 7.1918e-04 - mae: 0.0197 - mape: 5.2915 - val_loss: 2.8481e-04 - val_mse: 2.8481e-04 - val_mae: 0.0130 - val_mape: 2.3555\n",
            "Epoch 198/200\n",
            "47/47 [==============================] - 1s 20ms/step - loss: 7.5438e-04 - mse: 7.5438e-04 - mae: 0.0198 - mape: 5.0190 - val_loss: 3.9780e-04 - val_mse: 3.9780e-04 - val_mae: 0.0158 - val_mape: 2.8104\n",
            "Epoch 199/200\n",
            "47/47 [==============================] - 1s 21ms/step - loss: 8.8144e-04 - mse: 8.8144e-04 - mae: 0.0215 - mape: 5.7033 - val_loss: 2.4427e-04 - val_mse: 2.4427e-04 - val_mae: 0.0117 - val_mape: 2.1162\n",
            "Epoch 200/200\n",
            "47/47 [==============================] - 1s 21ms/step - loss: 6.6429e-04 - mse: 6.6429e-04 - mae: 0.0182 - mape: 4.6028 - val_loss: 2.3908e-04 - val_mse: 2.3908e-04 - val_mae: 0.0115 - val_mape: 2.0755\n"
          ],
          "name": "stdout"
        }
      ]
    },
    {
      "cell_type": "code",
      "metadata": {
        "colab": {
          "base_uri": "https://localhost:8080/",
          "height": 282
        },
        "id": "j-XiS04oKXkR",
        "outputId": "550f4062-2341-4f1a-b14c-74cf993f2ac8"
      },
      "source": [
        "plt.plot(history.history['loss'],'r',label='train loss')\n",
        "plt.plot(history.history['val_loss'],'g',label='val loss')\n",
        "plt.xlabel('# epoch')\n",
        "plt.ylabel('loss')\n",
        "plt.legend()\n",
        "plt.show()"
      ],
      "execution_count": 8,
      "outputs": [
        {
          "output_type": "display_data",
          "data": {
            "image/png": "[encoded data removed]",
            "text/plain": [
              "<Figure size 432x288 with 1 Axes>"
            ]
          },
          "metadata": {
            "tags": [],
            "needs_background": "light"
          }
        }
      ]
    },
    {
      "cell_type": "code",
      "metadata": {
        "colab": {
          "base_uri": "https://localhost:8080/"
        },
        "id": "qrj15-veKY6B",
        "outputId": "ee0e5233-08a1-42e0-cf5d-c10d62e2f6b6"
      },
      "source": [
        "result=model.predict(test_data)\n",
        "\n",
        "from sklearn.metrics import r2_score\n",
        "\n",
        "r2=r2_score(test_target,result)\n",
        "print('r2 score:',r2)"
      ],
      "execution_count": 9,
      "outputs": [
        {
          "output_type": "stream",
          "text": [
            "r2 score: 0.8951680144042671\n"
          ],
          "name": "stdout"
        }
      ]
    },
    {
      "cell_type": "code",
      "metadata": {
        "colab": {
          "base_uri": "https://localhost:8080/"
        },
        "id": "e_TgiKATKaFM",
        "outputId": "dca17695-e9ed-4b91-870e-820b96671c88"
      },
      "source": [
        "score = model.evaluate(test_data, test_target, verbose = 0) \n",
        "print(\"%s: %.2f%%\" % (model.metrics_names[0], score[0]))\n",
        "print(\"%s: %.2f%%\" % (model.metrics_names[1], score[1]))\n",
        "print(\"%s: %.2f%%\" % (model.metrics_names[2], score[2]))\n",
        "print(\"%s: %.2f%%\" % (model.metrics_names[3], score[3]))\n",
        "#print('Test loss:', score[0]) \n",
        "print('MAPE:', score[3])"
      ],
      "execution_count": 10,
      "outputs": [
        {
          "output_type": "stream",
          "text": [
            "loss: 0.00%\n",
            "mse: 0.00%\n",
            "mae: 0.01%\n",
            "mape: 1.78%\n",
            "MAPE: 1.784776210784912\n"
          ],
          "name": "stdout"
        }
      ]
    },
    {
      "cell_type": "code",
      "metadata": {
        "colab": {
          "base_uri": "https://localhost:8080/",
          "height": 279
        },
        "id": "68fHXC52KbOo",
        "outputId": "c5a1510e-dde1-42fc-dd60-cf00b354d26c"
      },
      "source": [
        "#test_x_range=np.arange(1000,1209,1)\n",
        "\n",
        "test_x_range=np.arange(1647,2354,1)\n",
        "#test_x_range is an array of values between 1000-1208\n",
        "\n",
        "plt.plot(train_target,'r',label='train')\n",
        "plt.plot(test_x_range,test_target,'b',label='test')\n",
        "plt.plot(test_x_range,result,'g',label='predicted')\n",
        "\n",
        "plt.xlabel('Date')\n",
        "plt.ylabel('Open Value/$')\n",
        "plt.legend()\n",
        "plt.show()"
      ],
      "execution_count": 11,
      "outputs": [
        {
          "output_type": "display_data",
          "data": {
            "image/png": "[encoded data removed]",
            "text/plain": [
              "<Figure size 432x288 with 1 Axes>"
            ]
          },
          "metadata": {
            "tags": [],
            "needs_background": "light"
          }
        }
      ]
    },
    {
      "cell_type": "code",
      "metadata": {
        "colab": {
          "base_uri": "https://localhost:8080/",
          "height": 279
        },
        "id": "GEybiwtdKc1w",
        "outputId": "2d5944cc-d969-4394-a423-2101521b05cd"
      },
      "source": [
        "plt.plot(test_target,'b',label='test')\n",
        "plt.plot(result,'r',label='predicted')\n",
        "\n",
        "plt.xlabel('Date')\n",
        "plt.ylabel('Open Value/$')\n",
        "plt.legend()\n",
        "plt.show()"
      ],
      "execution_count": 12,
      "outputs": [
        {
          "output_type": "display_data",
          "data": {
            "image/png": "[encoded data removed]",
            "text/plain": [
              "<Figure size 432x288 with 1 Axes>"
            ]
          },
          "metadata": {
            "tags": [],
            "needs_background": "light"
          }
        }
      ]
    }
  ]
}