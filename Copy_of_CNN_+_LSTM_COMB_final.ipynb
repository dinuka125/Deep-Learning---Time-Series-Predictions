{
  "nbformat": 4,
  "nbformat_minor": 0,
  "metadata": {
    "colab": {
      "name": "Copy of CNN + LSTM  COMB final",
      "provenance": [],
      "collapsed_sections": [],
      "authorship_tag": "ABX9TyP2I15iQjdhTXfKZNPciTko",
      "include_colab_link": true
    },
    "kernelspec": {
      "name": "python3",
      "display_name": "Python 3"
    },
    "accelerator": "GPU"
  },
  "cells": [
    {
      "cell_type": "markdown",
      "metadata": {
        "id": "view-in-github",
        "colab_type": "text"
      },
      "source": [
        "<a href=\"https://colab.research.google.com/github/dinuka125/japura-Git-Workshop/blob/master/Copy_of_CNN_%2B_LSTM_COMB_final.ipynb\" target=\"_parent\"><img src=\"https://colab.research.google.com/assets/colab-badge.svg\" alt=\"Open In Colab\"/></a>"
      ]
    },
    {
      "cell_type": "code",
      "metadata": {
        "colab": {
          "base_uri": "https://localhost:8080/"
        },
        "id": "ZXLBqZkCucfr",
        "outputId": "ff11e083-f8c3-4e01-a5fe-47d8ffcfa3e0"
      },
      "source": [
        "from google.colab import drive\n",
        "drive.mount('/content/drive')\n",
        "path ='/content/drive/My Drive/csv_files/'"
      ],
      "execution_count": 1,
      "outputs": [
        {
          "output_type": "stream",
          "text": [
            "Mounted at /content/drive\n"
          ],
          "name": "stdout"
        }
      ]
    },
    {
      "cell_type": "code",
      "metadata": {
        "id": "Oqr2ukrXugF5"
      },
      "source": [
        "import numpy as np\n",
        "\n",
        "data=np.load(path+'datacomb.npy')\n",
        "target=np.load(path+'targetcomb.npy')"
      ],
      "execution_count": 2,
      "outputs": []
    },
    {
      "cell_type": "code",
      "metadata": {
        "colab": {
          "base_uri": "https://localhost:8080/"
        },
        "id": "CRIZr5b9uiga",
        "outputId": "b92df979-5911-43fd-f8f1-e979b51ecad1"
      },
      "source": [
        "print(data.shape)\n",
        "print(target.shape)\n",
        "print(data.shape[1:])"
      ],
      "execution_count": 3,
      "outputs": [
        {
          "output_type": "stream",
          "text": [
            "(2561, 50, 4)\n",
            "(2561,)\n",
            "(50, 4)\n"
          ],
          "name": "stdout"
        }
      ]
    },
    {
      "cell_type": "code",
      "metadata": {
        "id": "npzvvGsMujKp"
      },
      "source": [
        "train_data=data[:1792]\n",
        "train_target=target[:1792]\n",
        "\n",
        "test_data=data[1792:]\n",
        "test_target=target[1792:]"
      ],
      "execution_count": 4,
      "outputs": []
    },
    {
      "cell_type": "code",
      "metadata": {
        "colab": {
          "base_uri": "https://localhost:8080/",
          "height": 279
        },
        "id": "9cz3KeJ9ul7x",
        "outputId": "40d880f0-bea0-4a92-8b17-4ba2741db2cc"
      },
      "source": [
        "from matplotlib import pyplot as plt\n",
        "\n",
        "test_x_range=np.arange(1792,2561,1)\n",
        "#test_x_range is an array of values between 1000-1208\n",
        "\n",
        "plt.plot(train_target,'r',label='train')\n",
        "plt.plot(test_x_range,test_target,'b',label='test')\n",
        "plt.xlabel('Date')\n",
        "plt.ylabel('Open Value/$')\n",
        "plt.show()"
      ],
      "execution_count": 5,
      "outputs": [
        {
          "output_type": "display_data",
          "data": {
            "image/png": "[encoded data removed]",
            "text/plain": [
              "<Figure size 432x288 with 1 Axes>"
            ]
          },
          "metadata": {
            "tags": [],
            "needs_background": "light"
          }
        }
      ]
    },
    {
      "cell_type": "code",
      "metadata": {
        "colab": {
          "base_uri": "https://localhost:8080/"
        },
        "id": "hu9IHCDUunKJ",
        "outputId": "da98f697-b8e4-4f25-a935-5228e0525cc1"
      },
      "source": [
        "\n",
        "from keras.layers import Input\n",
        "from keras.models import Model\n",
        "from keras.layers import LSTM\n",
        "from keras.layers import Conv1D\n",
        "from keras.layers import MaxPooling1D\n",
        "from keras.layers import Dropout\n",
        "from keras.layers import Dense\n",
        "from keras.layers import Flatten\n",
        "\n",
        "input_layer = Input(shape=(data.shape[1:]))\n",
        "conv1 = Conv1D(filters=256,\n",
        "               kernel_size=3,\n",
        "               strides=1,\n",
        "               activation='relu',\n",
        "              padding='same')(input_layer)\n",
        "\n",
        "conv1=(MaxPooling1D(pool_size=2))(conv1)\n",
        "\n",
        "droup0=(Dropout(0.2))(conv1)\n",
        "#conv2=Conv1D(filters=128,kernel_size=3,activation='relu')(conv1)\n",
        "#pool1=(MaxPooling1D(pool_size=2))(conv2)\n",
        "#pool1=(Dropout(0.2))(pool1)\n",
        "#conv3=Conv1D(filters=64,kernel_size=3,activation='relu')(pool1)\n",
        "#pool2=(MaxPooling1D(pool_size=2))(conv3)\n",
        "\n",
        "#flt=Flatten()(pool2)\n",
        "#lstm1 = LSTM(96, return_sequences=True)(conv1)\n",
        "#droup9=(Dropout(0.2))(lstm1)\n",
        "\n",
        "lstm1 = LSTM(96, return_sequences=True)(conv1)\n",
        "droup9=(Dropout(0.2))(lstm1)\n",
        "\n",
        "lstm2=LSTM(units=96,return_sequences=True)(droup9)\n",
        "droup1=(Dropout(0.2))(lstm2)\n",
        "\n",
        "lstm3=LSTM(units=96,return_sequences=True)(droup1)\n",
        "drop2=Dropout(0.2)(lstm3)\n",
        "\n",
        "lstm4=LSTM(units=96,return_sequences=False)(drop2)\n",
        "drop3=(Dropout(0.2))(lstm4)\n",
        "\n",
        "\n",
        "#dense1=Dense(units=1,activation='linear')(drop3)\n",
        "\n",
        "output_layer = Dense(1, activation='linear')(drop3)\n",
        "model = Model(inputs=input_layer, outputs=output_layer)\n",
        "\n",
        "model.compile(loss='mse',optimizer='adam',metrics=['mse', 'mae', 'mape'])\n",
        "\n",
        "model.summary()\n",
        "\n"
      ],
      "execution_count": 6,
      "outputs": [
        {
          "output_type": "stream",
          "text": [
            "Model: \"model\"\n",
            "_________________________________________________________________\n",
            "Layer (type)                 Output Shape              Param #   \n",
            "=================================================================\n",
            "input_1 (InputLayer)         [(None, 50, 4)]           0         \n",
            "_________________________________________________________________\n",
            "conv1d (Conv1D)              (None, 50, 256)           3328      \n",
            "_________________________________________________________________\n",
            "max_pooling1d (MaxPooling1D) (None, 25, 256)           0         \n",
            "_________________________________________________________________\n",
            "lstm (LSTM)                  (None, 25, 96)            135552    \n",
            "_________________________________________________________________\n",
            "dropout_1 (Dropout)          (None, 25, 96)            0         \n",
            "_________________________________________________________________\n",
            "lstm_1 (LSTM)                (None, 25, 96)            74112     \n",
            "_________________________________________________________________\n",
            "dropout_2 (Dropout)          (None, 25, 96)            0         \n",
            "_________________________________________________________________\n",
            "lstm_2 (LSTM)                (None, 25, 96)            74112     \n",
            "_________________________________________________________________\n",
            "dropout_3 (Dropout)          (None, 25, 96)            0         \n",
            "_________________________________________________________________\n",
            "lstm_3 (LSTM)                (None, 96)                74112     \n",
            "_________________________________________________________________\n",
            "dropout_4 (Dropout)          (None, 96)                0         \n",
            "_________________________________________________________________\n",
            "dense (Dense)                (None, 1)                 97        \n",
            "=================================================================\n",
            "Total params: 361,313\n",
            "Trainable params: 361,313\n",
            "Non-trainable params: 0\n",
            "_________________________________________________________________\n"
          ],
          "name": "stdout"
        }
      ]
    },
    {
      "cell_type": "code",
      "metadata": {
        "id": "zgMTyhelzTiZ"
      },
      "source": [
        ""
      ],
      "execution_count": 6,
      "outputs": []
    },
    {
      "cell_type": "code",
      "metadata": {
        "colab": {
          "base_uri": "https://localhost:8080/"
        },
        "id": "n3WXn4Q4urxx",
        "outputId": "db08a054-b583-4355-da4a-28580b76abcf"
      },
      "source": [
        "history=model.fit(train_data,train_target,epochs=200,validation_split=0.10)"
      ],
      "execution_count": 7,
      "outputs": [
        {
          "output_type": "stream",
          "text": [
            "Epoch 1/200\n",
            "51/51 [==============================] - 39s 41ms/step - loss: 0.0605 - mse: 0.0605 - mae: 0.1746 - mape: 33.9729 - val_loss: 0.0018 - val_mse: 0.0018 - val_mae: 0.0359 - val_mape: 5.7355\n",
            "Epoch 2/200\n",
            "51/51 [==============================] - 1s 12ms/step - loss: 0.0051 - mse: 0.0051 - mae: 0.0540 - mape: 10.4461 - val_loss: 0.0042 - val_mse: 0.0042 - val_mae: 0.0591 - val_mape: 9.7514\n",
            "Epoch 3/200\n",
            "51/51 [==============================] - 1s 12ms/step - loss: 0.0049 - mse: 0.0049 - mae: 0.0531 - mape: 10.6061 - val_loss: 0.0028 - val_mse: 0.0028 - val_mae: 0.0468 - val_mape: 7.7400\n",
            "Epoch 4/200\n",
            "51/51 [==============================] - 1s 12ms/step - loss: 0.0042 - mse: 0.0042 - mae: 0.0498 - mape: 10.1239 - val_loss: 0.0012 - val_mse: 0.0012 - val_mae: 0.0246 - val_mape: 3.9907\n",
            "Epoch 5/200\n",
            "51/51 [==============================] - 1s 12ms/step - loss: 0.0036 - mse: 0.0036 - mae: 0.0456 - mape: 9.0522 - val_loss: 0.0013 - val_mse: 0.0013 - val_mae: 0.0276 - val_mape: 4.5835\n",
            "Epoch 6/200\n",
            "51/51 [==============================] - 1s 12ms/step - loss: 0.0043 - mse: 0.0043 - mae: 0.0502 - mape: 10.2497 - val_loss: 0.0011 - val_mse: 0.0011 - val_mae: 0.0229 - val_mape: 3.7917\n",
            "Epoch 7/200\n",
            "51/51 [==============================] - 1s 11ms/step - loss: 0.0039 - mse: 0.0039 - mae: 0.0472 - mape: 9.1933 - val_loss: 0.0011 - val_mse: 0.0011 - val_mae: 0.0234 - val_mape: 3.8613\n",
            "Epoch 8/200\n",
            "51/51 [==============================] - 1s 12ms/step - loss: 0.0034 - mse: 0.0034 - mae: 0.0440 - mape: 8.6933 - val_loss: 0.0010 - val_mse: 0.0010 - val_mae: 0.0234 - val_mape: 3.8609\n",
            "Epoch 9/200\n",
            "51/51 [==============================] - 1s 12ms/step - loss: 0.0032 - mse: 0.0032 - mae: 0.0433 - mape: 9.0918 - val_loss: 9.8754e-04 - val_mse: 9.8754e-04 - val_mae: 0.0226 - val_mape: 3.6868\n",
            "Epoch 10/200\n",
            "51/51 [==============================] - 1s 12ms/step - loss: 0.0031 - mse: 0.0031 - mae: 0.0416 - mape: 8.2384 - val_loss: 9.5101e-04 - val_mse: 9.5101e-04 - val_mae: 0.0240 - val_mape: 3.8934\n",
            "Epoch 11/200\n",
            "51/51 [==============================] - 1s 12ms/step - loss: 0.0032 - mse: 0.0032 - mae: 0.0424 - mape: 8.4254 - val_loss: 8.0609e-04 - val_mse: 8.0609e-04 - val_mae: 0.0206 - val_mape: 3.3816\n",
            "Epoch 12/200\n",
            "51/51 [==============================] - 1s 12ms/step - loss: 0.0031 - mse: 0.0031 - mae: 0.0416 - mape: 8.4969 - val_loss: 0.0011 - val_mse: 0.0011 - val_mae: 0.0260 - val_mape: 4.3020\n",
            "Epoch 13/200\n",
            "51/51 [==============================] - 1s 12ms/step - loss: 0.0028 - mse: 0.0028 - mae: 0.0392 - mape: 7.7656 - val_loss: 0.0015 - val_mse: 0.0015 - val_mae: 0.0338 - val_mape: 5.3966\n",
            "Epoch 14/200\n",
            "51/51 [==============================] - 1s 12ms/step - loss: 0.0027 - mse: 0.0027 - mae: 0.0388 - mape: 7.6857 - val_loss: 7.0987e-04 - val_mse: 7.0987e-04 - val_mae: 0.0221 - val_mape: 3.5584\n",
            "Epoch 15/200\n",
            "51/51 [==============================] - 1s 12ms/step - loss: 0.0024 - mse: 0.0024 - mae: 0.0362 - mape: 7.2705 - val_loss: 7.8270e-04 - val_mse: 7.8270e-04 - val_mae: 0.0239 - val_mape: 3.8302\n",
            "Epoch 16/200\n",
            "51/51 [==============================] - 1s 12ms/step - loss: 0.0024 - mse: 0.0024 - mae: 0.0376 - mape: 7.3281 - val_loss: 4.4594e-04 - val_mse: 4.4594e-04 - val_mae: 0.0168 - val_mape: 2.7341\n",
            "Epoch 17/200\n",
            "51/51 [==============================] - 1s 12ms/step - loss: 0.0022 - mse: 0.0022 - mae: 0.0352 - mape: 6.8489 - val_loss: 4.8976e-04 - val_mse: 4.8976e-04 - val_mae: 0.0183 - val_mape: 2.9525\n",
            "Epoch 18/200\n",
            "51/51 [==============================] - 1s 12ms/step - loss: 0.0024 - mse: 0.0024 - mae: 0.0363 - mape: 7.1625 - val_loss: 6.7052e-04 - val_mse: 6.7052e-04 - val_mae: 0.0216 - val_mape: 3.5560\n",
            "Epoch 19/200\n",
            "51/51 [==============================] - 1s 12ms/step - loss: 0.0019 - mse: 0.0019 - mae: 0.0323 - mape: 6.4552 - val_loss: 3.3960e-04 - val_mse: 3.3960e-04 - val_mae: 0.0152 - val_mape: 2.4574\n",
            "Epoch 20/200\n",
            "51/51 [==============================] - 1s 12ms/step - loss: 0.0017 - mse: 0.0017 - mae: 0.0318 - mape: 6.3164 - val_loss: 3.6396e-04 - val_mse: 3.6396e-04 - val_mae: 0.0161 - val_mape: 2.5859\n",
            "Epoch 21/200\n",
            "51/51 [==============================] - 1s 12ms/step - loss: 0.0020 - mse: 0.0020 - mae: 0.0339 - mape: 6.7369 - val_loss: 0.0022 - val_mse: 0.0022 - val_mae: 0.0446 - val_mape: 7.2677\n",
            "Epoch 22/200\n",
            "51/51 [==============================] - 1s 12ms/step - loss: 0.0021 - mse: 0.0021 - mae: 0.0355 - mape: 6.9144 - val_loss: 6.7421e-04 - val_mse: 6.7421e-04 - val_mae: 0.0227 - val_mape: 3.7066\n",
            "Epoch 23/200\n",
            "51/51 [==============================] - 1s 12ms/step - loss: 0.0015 - mse: 0.0015 - mae: 0.0294 - mape: 5.8102 - val_loss: 3.0441e-04 - val_mse: 3.0441e-04 - val_mae: 0.0138 - val_mape: 2.2718\n",
            "Epoch 24/200\n",
            "51/51 [==============================] - 1s 12ms/step - loss: 0.0016 - mse: 0.0016 - mae: 0.0305 - mape: 6.1324 - val_loss: 3.9320e-04 - val_mse: 3.9320e-04 - val_mae: 0.0165 - val_mape: 2.7080\n",
            "Epoch 25/200\n",
            "51/51 [==============================] - 1s 12ms/step - loss: 0.0016 - mse: 0.0016 - mae: 0.0308 - mape: 6.0678 - val_loss: 0.0010 - val_mse: 0.0010 - val_mae: 0.0289 - val_mape: 4.6314\n",
            "Epoch 26/200\n",
            "51/51 [==============================] - 1s 12ms/step - loss: 0.0017 - mse: 0.0017 - mae: 0.0305 - mape: 5.9819 - val_loss: 3.9437e-04 - val_mse: 3.9437e-04 - val_mae: 0.0170 - val_mape: 2.7360\n",
            "Epoch 27/200\n",
            "51/51 [==============================] - 1s 13ms/step - loss: 0.0015 - mse: 0.0015 - mae: 0.0285 - mape: 5.7395 - val_loss: 6.9769e-04 - val_mse: 6.9769e-04 - val_mae: 0.0236 - val_mape: 3.7818\n",
            "Epoch 28/200\n",
            "51/51 [==============================] - 1s 12ms/step - loss: 0.0015 - mse: 0.0015 - mae: 0.0289 - mape: 5.7894 - val_loss: 2.3840e-04 - val_mse: 2.3840e-04 - val_mae: 0.0121 - val_mape: 1.9875\n",
            "Epoch 29/200\n",
            "51/51 [==============================] - 1s 12ms/step - loss: 0.0013 - mse: 0.0013 - mae: 0.0270 - mape: 5.6728 - val_loss: 5.0990e-04 - val_mse: 5.0990e-04 - val_mae: 0.0200 - val_mape: 3.2056\n",
            "Epoch 30/200\n",
            "51/51 [==============================] - 1s 13ms/step - loss: 0.0014 - mse: 0.0014 - mae: 0.0279 - mape: 5.4551 - val_loss: 1.7984e-04 - val_mse: 1.7984e-04 - val_mae: 0.0106 - val_mape: 1.7178\n",
            "Epoch 31/200\n",
            "51/51 [==============================] - 1s 12ms/step - loss: 0.0013 - mse: 0.0013 - mae: 0.0270 - mape: 5.2809 - val_loss: 8.7890e-04 - val_mse: 8.7890e-04 - val_mae: 0.0271 - val_mape: 4.4161\n",
            "Epoch 32/200\n",
            "51/51 [==============================] - 1s 13ms/step - loss: 0.0013 - mse: 0.0013 - mae: 0.0274 - mape: 5.3576 - val_loss: 1.6013e-04 - val_mse: 1.6013e-04 - val_mae: 0.0097 - val_mape: 1.5718\n",
            "Epoch 33/200\n",
            "51/51 [==============================] - 1s 12ms/step - loss: 0.0012 - mse: 0.0012 - mae: 0.0269 - mape: 5.4061 - val_loss: 2.1703e-04 - val_mse: 2.1703e-04 - val_mae: 0.0116 - val_mape: 1.8943\n",
            "Epoch 34/200\n",
            "51/51 [==============================] - 1s 13ms/step - loss: 0.0014 - mse: 0.0014 - mae: 0.0286 - mape: 5.7209 - val_loss: 2.9867e-04 - val_mse: 2.9867e-04 - val_mae: 0.0144 - val_mape: 2.3516\n",
            "Epoch 35/200\n",
            "51/51 [==============================] - 1s 13ms/step - loss: 0.0011 - mse: 0.0011 - mae: 0.0253 - mape: 5.1110 - val_loss: 1.4208e-04 - val_mse: 1.4208e-04 - val_mae: 0.0089 - val_mape: 1.4523\n",
            "Epoch 36/200\n",
            "51/51 [==============================] - 1s 13ms/step - loss: 0.0013 - mse: 0.0013 - mae: 0.0277 - mape: 5.4129 - val_loss: 1.3837e-04 - val_mse: 1.3837e-04 - val_mae: 0.0088 - val_mape: 1.4346\n",
            "Epoch 37/200\n",
            "51/51 [==============================] - 1s 13ms/step - loss: 0.0012 - mse: 0.0012 - mae: 0.0256 - mape: 5.1578 - val_loss: 1.3499e-04 - val_mse: 1.3499e-04 - val_mae: 0.0085 - val_mape: 1.3861\n",
            "Epoch 38/200\n",
            "51/51 [==============================] - 1s 12ms/step - loss: 0.0013 - mse: 0.0013 - mae: 0.0281 - mape: 5.5596 - val_loss: 4.4274e-04 - val_mse: 4.4274e-04 - val_mae: 0.0185 - val_mape: 3.0194\n",
            "Epoch 39/200\n",
            "51/51 [==============================] - 1s 12ms/step - loss: 0.0012 - mse: 0.0012 - mae: 0.0252 - mape: 4.8118 - val_loss: 1.3952e-04 - val_mse: 1.3952e-04 - val_mae: 0.0088 - val_mape: 1.4303\n",
            "Epoch 40/200\n",
            "51/51 [==============================] - 1s 13ms/step - loss: 9.7913e-04 - mse: 9.7913e-04 - mae: 0.0238 - mape: 4.6911 - val_loss: 3.3258e-04 - val_mse: 3.3258e-04 - val_mae: 0.0158 - val_mape: 2.5420\n",
            "Epoch 41/200\n",
            "51/51 [==============================] - 1s 12ms/step - loss: 0.0011 - mse: 0.0011 - mae: 0.0248 - mape: 4.9286 - val_loss: 1.3323e-04 - val_mse: 1.3323e-04 - val_mae: 0.0084 - val_mape: 1.3668\n",
            "Epoch 42/200\n",
            "51/51 [==============================] - 1s 12ms/step - loss: 0.0010 - mse: 0.0010 - mae: 0.0239 - mape: 4.6852 - val_loss: 1.5526e-04 - val_mse: 1.5526e-04 - val_mae: 0.0091 - val_mape: 1.4842\n",
            "Epoch 43/200\n",
            "51/51 [==============================] - 1s 12ms/step - loss: 0.0011 - mse: 0.0011 - mae: 0.0253 - mape: 4.9650 - val_loss: 2.2205e-04 - val_mse: 2.2205e-04 - val_mae: 0.0123 - val_mape: 1.9755\n",
            "Epoch 44/200\n",
            "51/51 [==============================] - 1s 12ms/step - loss: 0.0010 - mse: 0.0010 - mae: 0.0237 - mape: 4.7435 - val_loss: 1.8153e-04 - val_mse: 1.8153e-04 - val_mae: 0.0106 - val_mape: 1.7367\n",
            "Epoch 45/200\n",
            "51/51 [==============================] - 1s 12ms/step - loss: 0.0011 - mse: 0.0011 - mae: 0.0245 - mape: 4.9053 - val_loss: 4.2129e-04 - val_mse: 4.2129e-04 - val_mae: 0.0181 - val_mape: 2.9568\n",
            "Epoch 46/200\n",
            "51/51 [==============================] - 1s 12ms/step - loss: 9.8824e-04 - mse: 9.8824e-04 - mae: 0.0239 - mape: 4.9729 - val_loss: 7.9257e-04 - val_mse: 7.9257e-04 - val_mae: 0.0259 - val_mape: 4.2315\n",
            "Epoch 47/200\n",
            "51/51 [==============================] - 1s 13ms/step - loss: 0.0011 - mse: 0.0011 - mae: 0.0251 - mape: 5.1816 - val_loss: 1.4034e-04 - val_mse: 1.4034e-04 - val_mae: 0.0087 - val_mape: 1.4248\n",
            "Epoch 48/200\n",
            "51/51 [==============================] - 1s 13ms/step - loss: 0.0011 - mse: 0.0011 - mae: 0.0246 - mape: 4.9028 - val_loss: 1.6796e-04 - val_mse: 1.6796e-04 - val_mae: 0.0106 - val_mape: 1.7025\n",
            "Epoch 49/200\n",
            "51/51 [==============================] - 1s 13ms/step - loss: 0.0012 - mse: 0.0012 - mae: 0.0258 - mape: 5.0110 - val_loss: 2.0459e-04 - val_mse: 2.0459e-04 - val_mae: 0.0117 - val_mape: 1.9106\n",
            "Epoch 50/200\n",
            "51/51 [==============================] - 1s 13ms/step - loss: 0.0012 - mse: 0.0012 - mae: 0.0254 - mape: 4.8804 - val_loss: 1.2805e-04 - val_mse: 1.2805e-04 - val_mae: 0.0086 - val_mape: 1.3976\n",
            "Epoch 51/200\n",
            "51/51 [==============================] - 1s 13ms/step - loss: 8.9530e-04 - mse: 8.9530e-04 - mae: 0.0221 - mape: 4.5029 - val_loss: 2.8842e-04 - val_mse: 2.8842e-04 - val_mae: 0.0145 - val_mape: 2.3762\n",
            "Epoch 52/200\n",
            "51/51 [==============================] - 1s 13ms/step - loss: 9.0537e-04 - mse: 9.0537e-04 - mae: 0.0219 - mape: 4.3521 - val_loss: 1.1922e-04 - val_mse: 1.1922e-04 - val_mae: 0.0079 - val_mape: 1.2871\n",
            "Epoch 53/200\n",
            "51/51 [==============================] - 1s 13ms/step - loss: 9.3375e-04 - mse: 9.3375e-04 - mae: 0.0221 - mape: 4.4009 - val_loss: 1.2640e-04 - val_mse: 1.2640e-04 - val_mae: 0.0082 - val_mape: 1.3436\n",
            "Epoch 54/200\n",
            "51/51 [==============================] - 1s 13ms/step - loss: 0.0010 - mse: 0.0010 - mae: 0.0240 - mape: 4.7808 - val_loss: 2.4668e-04 - val_mse: 2.4668e-04 - val_mae: 0.0135 - val_mape: 2.1588\n",
            "Epoch 55/200\n",
            "51/51 [==============================] - 1s 12ms/step - loss: 9.1186e-04 - mse: 9.1186e-04 - mae: 0.0223 - mape: 4.5985 - val_loss: 1.9321e-04 - val_mse: 1.9321e-04 - val_mae: 0.0114 - val_mape: 1.8620\n",
            "Epoch 56/200\n",
            "51/51 [==============================] - 1s 13ms/step - loss: 9.2015e-04 - mse: 9.2015e-04 - mae: 0.0228 - mape: 4.5917 - val_loss: 2.6088e-04 - val_mse: 2.6088e-04 - val_mae: 0.0138 - val_mape: 2.2138\n",
            "Epoch 57/200\n",
            "51/51 [==============================] - 1s 12ms/step - loss: 0.0010 - mse: 0.0010 - mae: 0.0238 - mape: 4.7857 - val_loss: 7.3916e-04 - val_mse: 7.3916e-04 - val_mae: 0.0253 - val_mape: 4.0685\n",
            "Epoch 58/200\n",
            "51/51 [==============================] - 1s 13ms/step - loss: 9.6045e-04 - mse: 9.6045e-04 - mae: 0.0237 - mape: 4.6561 - val_loss: 7.8881e-04 - val_mse: 7.8881e-04 - val_mae: 0.0262 - val_mape: 4.2621\n",
            "Epoch 59/200\n",
            "51/51 [==============================] - 1s 13ms/step - loss: 0.0010 - mse: 0.0010 - mae: 0.0244 - mape: 4.7669 - val_loss: 1.3913e-04 - val_mse: 1.3913e-04 - val_mae: 0.0093 - val_mape: 1.5000\n",
            "Epoch 60/200\n",
            "51/51 [==============================] - 1s 13ms/step - loss: 8.9471e-04 - mse: 8.9471e-04 - mae: 0.0222 - mape: 4.4426 - val_loss: 3.7037e-04 - val_mse: 3.7037e-04 - val_mae: 0.0173 - val_mape: 2.8079\n",
            "Epoch 61/200\n",
            "51/51 [==============================] - 1s 13ms/step - loss: 7.5575e-04 - mse: 7.5575e-04 - mae: 0.0204 - mape: 4.0342 - val_loss: 5.1364e-04 - val_mse: 5.1364e-04 - val_mae: 0.0207 - val_mape: 3.3218\n",
            "Epoch 62/200\n",
            "51/51 [==============================] - 1s 13ms/step - loss: 9.1102e-04 - mse: 9.1102e-04 - mae: 0.0224 - mape: 4.4537 - val_loss: 7.6748e-04 - val_mse: 7.6748e-04 - val_mae: 0.0260 - val_mape: 4.1793\n",
            "Epoch 63/200\n",
            "51/51 [==============================] - 1s 13ms/step - loss: 9.1774e-04 - mse: 9.1774e-04 - mae: 0.0227 - mape: 4.7809 - val_loss: 1.1371e-04 - val_mse: 1.1371e-04 - val_mae: 0.0078 - val_mape: 1.2839\n",
            "Epoch 64/200\n",
            "51/51 [==============================] - 1s 13ms/step - loss: 8.2506e-04 - mse: 8.2506e-04 - mae: 0.0216 - mape: 4.4028 - val_loss: 1.0413e-04 - val_mse: 1.0413e-04 - val_mae: 0.0072 - val_mape: 1.1662\n",
            "Epoch 65/200\n",
            "51/51 [==============================] - 1s 12ms/step - loss: 7.9047e-04 - mse: 7.9047e-04 - mae: 0.0203 - mape: 3.9742 - val_loss: 2.4078e-04 - val_mse: 2.4078e-04 - val_mae: 0.0133 - val_mape: 2.1725\n",
            "Epoch 66/200\n",
            "51/51 [==============================] - 1s 12ms/step - loss: 7.9609e-04 - mse: 7.9609e-04 - mae: 0.0210 - mape: 4.1692 - val_loss: 1.0698e-04 - val_mse: 1.0698e-04 - val_mae: 0.0074 - val_mape: 1.2176\n",
            "Epoch 67/200\n",
            "51/51 [==============================] - 1s 12ms/step - loss: 9.1699e-04 - mse: 9.1699e-04 - mae: 0.0225 - mape: 4.5875 - val_loss: 1.0327e-04 - val_mse: 1.0327e-04 - val_mae: 0.0071 - val_mape: 1.1565\n",
            "Epoch 68/200\n",
            "51/51 [==============================] - 1s 13ms/step - loss: 8.3181e-04 - mse: 8.3181e-04 - mae: 0.0214 - mape: 4.0613 - val_loss: 2.2783e-04 - val_mse: 2.2783e-04 - val_mae: 0.0128 - val_mape: 2.1049\n",
            "Epoch 69/200\n",
            "51/51 [==============================] - 1s 13ms/step - loss: 7.4079e-04 - mse: 7.4079e-04 - mae: 0.0204 - mape: 3.9832 - val_loss: 1.0456e-04 - val_mse: 1.0456e-04 - val_mae: 0.0073 - val_mape: 1.1880\n",
            "Epoch 70/200\n",
            "51/51 [==============================] - 1s 12ms/step - loss: 7.1219e-04 - mse: 7.1219e-04 - mae: 0.0201 - mape: 4.0668 - val_loss: 1.7024e-04 - val_mse: 1.7024e-04 - val_mae: 0.0107 - val_mape: 1.7180\n",
            "Epoch 71/200\n",
            "51/51 [==============================] - 1s 12ms/step - loss: 6.2982e-04 - mse: 6.2982e-04 - mae: 0.0186 - mape: 3.8971 - val_loss: 1.0881e-04 - val_mse: 1.0881e-04 - val_mae: 0.0075 - val_mape: 1.2320\n",
            "Epoch 72/200\n",
            "51/51 [==============================] - 1s 13ms/step - loss: 7.7520e-04 - mse: 7.7520e-04 - mae: 0.0210 - mape: 4.3131 - val_loss: 3.8819e-04 - val_mse: 3.8819e-04 - val_mae: 0.0178 - val_mape: 2.9033\n",
            "Epoch 73/200\n",
            "51/51 [==============================] - 1s 13ms/step - loss: 9.2638e-04 - mse: 9.2638e-04 - mae: 0.0226 - mape: 4.5289 - val_loss: 1.4807e-04 - val_mse: 1.4807e-04 - val_mae: 0.0098 - val_mape: 1.5835\n",
            "Epoch 74/200\n",
            "51/51 [==============================] - 1s 12ms/step - loss: 8.2282e-04 - mse: 8.2282e-04 - mae: 0.0218 - mape: 4.4380 - val_loss: 3.4832e-04 - val_mse: 3.4832e-04 - val_mae: 0.0168 - val_mape: 2.7267\n",
            "Epoch 75/200\n",
            "51/51 [==============================] - 1s 13ms/step - loss: 7.5961e-04 - mse: 7.5961e-04 - mae: 0.0202 - mape: 4.0282 - val_loss: 1.4219e-04 - val_mse: 1.4219e-04 - val_mae: 0.0096 - val_mape: 1.5398\n",
            "Epoch 76/200\n",
            "51/51 [==============================] - 1s 13ms/step - loss: 6.4914e-04 - mse: 6.4914e-04 - mae: 0.0187 - mape: 3.6833 - val_loss: 3.7728e-04 - val_mse: 3.7728e-04 - val_mae: 0.0173 - val_mape: 2.7918\n",
            "Epoch 77/200\n",
            "51/51 [==============================] - 1s 13ms/step - loss: 9.4479e-04 - mse: 9.4479e-04 - mae: 0.0233 - mape: 4.9182 - val_loss: 6.6033e-04 - val_mse: 6.6033e-04 - val_mae: 0.0239 - val_mape: 3.8560\n",
            "Epoch 78/200\n",
            "51/51 [==============================] - 1s 12ms/step - loss: 7.2716e-04 - mse: 7.2716e-04 - mae: 0.0201 - mape: 4.0535 - val_loss: 9.8133e-05 - val_mse: 9.8133e-05 - val_mae: 0.0070 - val_mape: 1.1345\n",
            "Epoch 79/200\n",
            "51/51 [==============================] - 1s 13ms/step - loss: 6.7156e-04 - mse: 6.7156e-04 - mae: 0.0190 - mape: 3.9103 - val_loss: 4.4255e-04 - val_mse: 4.4255e-04 - val_mae: 0.0190 - val_mape: 3.0594\n",
            "Epoch 80/200\n",
            "51/51 [==============================] - 1s 13ms/step - loss: 7.7173e-04 - mse: 7.7173e-04 - mae: 0.0206 - mape: 4.1837 - val_loss: 1.7295e-04 - val_mse: 1.7295e-04 - val_mae: 0.0109 - val_mape: 1.7562\n",
            "Epoch 81/200\n",
            "51/51 [==============================] - 1s 13ms/step - loss: 6.5063e-04 - mse: 6.5063e-04 - mae: 0.0189 - mape: 3.8041 - val_loss: 1.5604e-04 - val_mse: 1.5604e-04 - val_mae: 0.0103 - val_mape: 1.6646\n",
            "Epoch 82/200\n",
            "51/51 [==============================] - 1s 13ms/step - loss: 6.9455e-04 - mse: 6.9455e-04 - mae: 0.0190 - mape: 3.6836 - val_loss: 9.3389e-05 - val_mse: 9.3389e-05 - val_mae: 0.0068 - val_mape: 1.1125\n",
            "Epoch 83/200\n",
            "51/51 [==============================] - 1s 13ms/step - loss: 6.5656e-04 - mse: 6.5656e-04 - mae: 0.0187 - mape: 3.9756 - val_loss: 2.1012e-04 - val_mse: 2.1012e-04 - val_mae: 0.0124 - val_mape: 2.0099\n",
            "Epoch 84/200\n",
            "51/51 [==============================] - 1s 13ms/step - loss: 6.1678e-04 - mse: 6.1678e-04 - mae: 0.0183 - mape: 3.9656 - val_loss: 2.6054e-04 - val_mse: 2.6054e-04 - val_mae: 0.0139 - val_mape: 2.2349\n",
            "Epoch 85/200\n",
            "51/51 [==============================] - 1s 13ms/step - loss: 6.2871e-04 - mse: 6.2871e-04 - mae: 0.0189 - mape: 3.8416 - val_loss: 2.5192e-04 - val_mse: 2.5192e-04 - val_mae: 0.0139 - val_mape: 2.2668\n",
            "Epoch 86/200\n",
            "51/51 [==============================] - 1s 12ms/step - loss: 5.6764e-04 - mse: 5.6764e-04 - mae: 0.0177 - mape: 3.5538 - val_loss: 5.3393e-04 - val_mse: 5.3393e-04 - val_mae: 0.0213 - val_mape: 3.4175\n",
            "Epoch 87/200\n",
            "51/51 [==============================] - 1s 12ms/step - loss: 7.5010e-04 - mse: 7.5010e-04 - mae: 0.0207 - mape: 4.1220 - val_loss: 1.3693e-04 - val_mse: 1.3693e-04 - val_mae: 0.0093 - val_mape: 1.5193\n",
            "Epoch 88/200\n",
            "51/51 [==============================] - 1s 12ms/step - loss: 6.7051e-04 - mse: 6.7051e-04 - mae: 0.0190 - mape: 3.8900 - val_loss: 5.2900e-04 - val_mse: 5.2900e-04 - val_mae: 0.0211 - val_mape: 3.3824\n",
            "Epoch 89/200\n",
            "51/51 [==============================] - 1s 12ms/step - loss: 6.0497e-04 - mse: 6.0497e-04 - mae: 0.0189 - mape: 4.0096 - val_loss: 2.5027e-04 - val_mse: 2.5027e-04 - val_mae: 0.0139 - val_mape: 2.2618\n",
            "Epoch 90/200\n",
            "51/51 [==============================] - 1s 13ms/step - loss: 7.0937e-04 - mse: 7.0937e-04 - mae: 0.0192 - mape: 3.9631 - val_loss: 1.4486e-04 - val_mse: 1.4486e-04 - val_mae: 0.0097 - val_mape: 1.5813\n",
            "Epoch 91/200\n",
            "51/51 [==============================] - 1s 12ms/step - loss: 5.9845e-04 - mse: 5.9845e-04 - mae: 0.0179 - mape: 3.4755 - val_loss: 2.0126e-04 - val_mse: 2.0126e-04 - val_mae: 0.0122 - val_mape: 1.9930\n",
            "Epoch 92/200\n",
            "51/51 [==============================] - 1s 12ms/step - loss: 6.2096e-04 - mse: 6.2096e-04 - mae: 0.0183 - mape: 3.6808 - val_loss: 1.0335e-04 - val_mse: 1.0335e-04 - val_mae: 0.0077 - val_mape: 1.2495\n",
            "Epoch 93/200\n",
            "51/51 [==============================] - 1s 13ms/step - loss: 6.4450e-04 - mse: 6.4450e-04 - mae: 0.0191 - mape: 3.9538 - val_loss: 2.7372e-04 - val_mse: 2.7372e-04 - val_mae: 0.0147 - val_mape: 2.3893\n",
            "Epoch 94/200\n",
            "51/51 [==============================] - 1s 12ms/step - loss: 7.3519e-04 - mse: 7.3519e-04 - mae: 0.0198 - mape: 4.1424 - val_loss: 3.7858e-04 - val_mse: 3.7858e-04 - val_mae: 0.0174 - val_mape: 2.8062\n",
            "Epoch 95/200\n",
            "51/51 [==============================] - 1s 12ms/step - loss: 6.3460e-04 - mse: 6.3460e-04 - mae: 0.0190 - mape: 3.8105 - val_loss: 1.6892e-04 - val_mse: 1.6892e-04 - val_mae: 0.0109 - val_mape: 1.7702\n",
            "Epoch 96/200\n",
            "51/51 [==============================] - 1s 12ms/step - loss: 6.3559e-04 - mse: 6.3559e-04 - mae: 0.0186 - mape: 3.9390 - val_loss: 3.6691e-04 - val_mse: 3.6691e-04 - val_mae: 0.0171 - val_mape: 2.7537\n",
            "Epoch 97/200\n",
            "51/51 [==============================] - 1s 12ms/step - loss: 6.3146e-04 - mse: 6.3146e-04 - mae: 0.0180 - mape: 3.4681 - val_loss: 3.0091e-04 - val_mse: 3.0091e-04 - val_mae: 0.0155 - val_mape: 2.5214\n",
            "Epoch 98/200\n",
            "51/51 [==============================] - 1s 13ms/step - loss: 5.5631e-04 - mse: 5.5631e-04 - mae: 0.0174 - mape: 3.5519 - val_loss: 1.7940e-04 - val_mse: 1.7940e-04 - val_mae: 0.0112 - val_mape: 1.8278\n",
            "Epoch 99/200\n",
            "51/51 [==============================] - 1s 12ms/step - loss: 5.5651e-04 - mse: 5.5651e-04 - mae: 0.0174 - mape: 3.6323 - val_loss: 9.2372e-05 - val_mse: 9.2372e-05 - val_mae: 0.0067 - val_mape: 1.0911\n",
            "Epoch 100/200\n",
            "51/51 [==============================] - 1s 13ms/step - loss: 8.0677e-04 - mse: 8.0677e-04 - mae: 0.0208 - mape: 4.0477 - val_loss: 2.2716e-04 - val_mse: 2.2716e-04 - val_mae: 0.0130 - val_mape: 2.1124\n",
            "Epoch 101/200\n",
            "51/51 [==============================] - 1s 12ms/step - loss: 5.3101e-04 - mse: 5.3101e-04 - mae: 0.0164 - mape: 3.2714 - val_loss: 1.0181e-04 - val_mse: 1.0181e-04 - val_mae: 0.0075 - val_mape: 1.2150\n",
            "Epoch 102/200\n",
            "51/51 [==============================] - 1s 12ms/step - loss: 4.9487e-04 - mse: 4.9487e-04 - mae: 0.0163 - mape: 3.4608 - val_loss: 8.5451e-04 - val_mse: 8.5451e-04 - val_mae: 0.0277 - val_mape: 4.4633\n",
            "Epoch 103/200\n",
            "51/51 [==============================] - 1s 12ms/step - loss: 7.7912e-04 - mse: 7.7912e-04 - mae: 0.0210 - mape: 4.3611 - val_loss: 1.5151e-04 - val_mse: 1.5151e-04 - val_mae: 0.0101 - val_mape: 1.6311\n",
            "Epoch 104/200\n",
            "51/51 [==============================] - 1s 12ms/step - loss: 5.9450e-04 - mse: 5.9450e-04 - mae: 0.0181 - mape: 3.7819 - val_loss: 4.3289e-04 - val_mse: 4.3289e-04 - val_mae: 0.0189 - val_mape: 3.0576\n",
            "Epoch 105/200\n",
            "51/51 [==============================] - 1s 12ms/step - loss: 6.0119e-04 - mse: 6.0119e-04 - mae: 0.0177 - mape: 3.5603 - val_loss: 9.7002e-05 - val_mse: 9.7002e-05 - val_mae: 0.0072 - val_mape: 1.1695\n",
            "Epoch 106/200\n",
            "51/51 [==============================] - 1s 12ms/step - loss: 5.7578e-04 - mse: 5.7578e-04 - mae: 0.0171 - mape: 3.4629 - val_loss: 1.2515e-04 - val_mse: 1.2515e-04 - val_mae: 0.0088 - val_mape: 1.4299\n",
            "Epoch 107/200\n",
            "51/51 [==============================] - 1s 12ms/step - loss: 5.4318e-04 - mse: 5.4318e-04 - mae: 0.0172 - mape: 3.4556 - val_loss: 1.0304e-04 - val_mse: 1.0304e-04 - val_mae: 0.0075 - val_mape: 1.2278\n",
            "Epoch 108/200\n",
            "51/51 [==============================] - 1s 12ms/step - loss: 6.6842e-04 - mse: 6.6842e-04 - mae: 0.0197 - mape: 4.1294 - val_loss: 2.3121e-04 - val_mse: 2.3121e-04 - val_mae: 0.0133 - val_mape: 2.1713\n",
            "Epoch 109/200\n",
            "51/51 [==============================] - 1s 12ms/step - loss: 6.8534e-04 - mse: 6.8534e-04 - mae: 0.0196 - mape: 4.0616 - val_loss: 5.7874e-04 - val_mse: 5.7874e-04 - val_mae: 0.0224 - val_mape: 3.6175\n",
            "Epoch 110/200\n",
            "51/51 [==============================] - 1s 13ms/step - loss: 5.4924e-04 - mse: 5.4924e-04 - mae: 0.0172 - mape: 3.4994 - val_loss: 1.4381e-04 - val_mse: 1.4381e-04 - val_mae: 0.0097 - val_mape: 1.5641\n",
            "Epoch 111/200\n",
            "51/51 [==============================] - 1s 13ms/step - loss: 5.1777e-04 - mse: 5.1777e-04 - mae: 0.0168 - mape: 3.4199 - val_loss: 1.0027e-04 - val_mse: 1.0027e-04 - val_mae: 0.0076 - val_mape: 1.2235\n",
            "Epoch 112/200\n",
            "51/51 [==============================] - 1s 13ms/step - loss: 5.6602e-04 - mse: 5.6602e-04 - mae: 0.0179 - mape: 3.8843 - val_loss: 9.3224e-05 - val_mse: 9.3224e-05 - val_mae: 0.0067 - val_mape: 1.0985\n",
            "Epoch 113/200\n",
            "51/51 [==============================] - 1s 12ms/step - loss: 5.2844e-04 - mse: 5.2844e-04 - mae: 0.0168 - mape: 3.5758 - val_loss: 1.5225e-04 - val_mse: 1.5225e-04 - val_mae: 0.0100 - val_mape: 1.6136\n",
            "Epoch 114/200\n",
            "51/51 [==============================] - 1s 13ms/step - loss: 5.8666e-04 - mse: 5.8666e-04 - mae: 0.0175 - mape: 3.5697 - val_loss: 6.8802e-04 - val_mse: 6.8802e-04 - val_mae: 0.0246 - val_mape: 3.9494\n",
            "Epoch 115/200\n",
            "51/51 [==============================] - 1s 13ms/step - loss: 5.2706e-04 - mse: 5.2706e-04 - mae: 0.0168 - mape: 3.5108 - val_loss: 9.8352e-05 - val_mse: 9.8352e-05 - val_mae: 0.0072 - val_mape: 1.1603\n",
            "Epoch 116/200\n",
            "51/51 [==============================] - 1s 13ms/step - loss: 5.0244e-04 - mse: 5.0244e-04 - mae: 0.0162 - mape: 3.4706 - val_loss: 1.0460e-04 - val_mse: 1.0460e-04 - val_mae: 0.0079 - val_mape: 1.2717\n",
            "Epoch 117/200\n",
            "51/51 [==============================] - 1s 13ms/step - loss: 5.5335e-04 - mse: 5.5335e-04 - mae: 0.0167 - mape: 3.5509 - val_loss: 9.5792e-05 - val_mse: 9.5792e-05 - val_mae: 0.0067 - val_mape: 1.0865\n",
            "Epoch 118/200\n",
            "51/51 [==============================] - 1s 13ms/step - loss: 4.7594e-04 - mse: 4.7594e-04 - mae: 0.0158 - mape: 3.3380 - val_loss: 1.7290e-04 - val_mse: 1.7290e-04 - val_mae: 0.0110 - val_mape: 1.7896\n",
            "Epoch 119/200\n",
            "51/51 [==============================] - 1s 13ms/step - loss: 4.4502e-04 - mse: 4.4502e-04 - mae: 0.0154 - mape: 3.2632 - val_loss: 1.1591e-04 - val_mse: 1.1591e-04 - val_mae: 0.0082 - val_mape: 1.3347\n",
            "Epoch 120/200\n",
            "51/51 [==============================] - 1s 13ms/step - loss: 5.7384e-04 - mse: 5.7384e-04 - mae: 0.0177 - mape: 3.6511 - val_loss: 1.1028e-04 - val_mse: 1.1028e-04 - val_mae: 0.0082 - val_mape: 1.3152\n",
            "Epoch 121/200\n",
            "51/51 [==============================] - 1s 12ms/step - loss: 5.0604e-04 - mse: 5.0604e-04 - mae: 0.0162 - mape: 3.1857 - val_loss: 8.9327e-05 - val_mse: 8.9327e-05 - val_mae: 0.0065 - val_mape: 1.0560\n",
            "Epoch 122/200\n",
            "51/51 [==============================] - 1s 13ms/step - loss: 4.8702e-04 - mse: 4.8702e-04 - mae: 0.0165 - mape: 3.6173 - val_loss: 1.4472e-04 - val_mse: 1.4472e-04 - val_mae: 0.0098 - val_mape: 1.5963\n",
            "Epoch 123/200\n",
            "51/51 [==============================] - 1s 13ms/step - loss: 4.8730e-04 - mse: 4.8730e-04 - mae: 0.0161 - mape: 3.2995 - val_loss: 1.7496e-04 - val_mse: 1.7496e-04 - val_mae: 0.0112 - val_mape: 1.8247\n",
            "Epoch 124/200\n",
            "51/51 [==============================] - 1s 13ms/step - loss: 5.1964e-04 - mse: 5.1964e-04 - mae: 0.0170 - mape: 3.4186 - val_loss: 1.1633e-04 - val_mse: 1.1633e-04 - val_mae: 0.0084 - val_mape: 1.3614\n",
            "Epoch 125/200\n",
            "51/51 [==============================] - 1s 13ms/step - loss: 4.1857e-04 - mse: 4.1857e-04 - mae: 0.0148 - mape: 3.0858 - val_loss: 1.7579e-04 - val_mse: 1.7579e-04 - val_mae: 0.0112 - val_mape: 1.8122\n",
            "Epoch 126/200\n",
            "51/51 [==============================] - 1s 13ms/step - loss: 5.6300e-04 - mse: 5.6300e-04 - mae: 0.0179 - mape: 3.7909 - val_loss: 1.0006e-04 - val_mse: 1.0006e-04 - val_mae: 0.0070 - val_mape: 1.1302\n",
            "Epoch 127/200\n",
            "51/51 [==============================] - 1s 13ms/step - loss: 5.6345e-04 - mse: 5.6345e-04 - mae: 0.0166 - mape: 3.4839 - val_loss: 3.9848e-04 - val_mse: 3.9848e-04 - val_mae: 0.0180 - val_mape: 2.8916\n",
            "Epoch 128/200\n",
            "51/51 [==============================] - 1s 13ms/step - loss: 5.7423e-04 - mse: 5.7423e-04 - mae: 0.0171 - mape: 3.7386 - val_loss: 1.1936e-04 - val_mse: 1.1936e-04 - val_mae: 0.0086 - val_mape: 1.3855\n",
            "Epoch 129/200\n",
            "51/51 [==============================] - 1s 13ms/step - loss: 5.8158e-04 - mse: 5.8158e-04 - mae: 0.0178 - mape: 3.7827 - val_loss: 1.7308e-04 - val_mse: 1.7308e-04 - val_mae: 0.0109 - val_mape: 1.7556\n",
            "Epoch 130/200\n",
            "51/51 [==============================] - 1s 13ms/step - loss: 4.7753e-04 - mse: 4.7753e-04 - mae: 0.0158 - mape: 3.1019 - val_loss: 9.6100e-05 - val_mse: 9.6100e-05 - val_mae: 0.0070 - val_mape: 1.1441\n",
            "Epoch 131/200\n",
            "51/51 [==============================] - 1s 13ms/step - loss: 4.8628e-04 - mse: 4.8628e-04 - mae: 0.0156 - mape: 3.1541 - val_loss: 9.7850e-05 - val_mse: 9.7850e-05 - val_mae: 0.0072 - val_mape: 1.1741\n",
            "Epoch 132/200\n",
            "51/51 [==============================] - 1s 13ms/step - loss: 6.1309e-04 - mse: 6.1309e-04 - mae: 0.0181 - mape: 4.0474 - val_loss: 1.5426e-04 - val_mse: 1.5426e-04 - val_mae: 0.0101 - val_mape: 1.6292\n",
            "Epoch 133/200\n",
            "51/51 [==============================] - 1s 13ms/step - loss: 4.3032e-04 - mse: 4.3032e-04 - mae: 0.0152 - mape: 3.1816 - val_loss: 1.0578e-04 - val_mse: 1.0578e-04 - val_mae: 0.0077 - val_mape: 1.2491\n",
            "Epoch 134/200\n",
            "51/51 [==============================] - 1s 13ms/step - loss: 4.5166e-04 - mse: 4.5166e-04 - mae: 0.0153 - mape: 3.1732 - val_loss: 9.0278e-05 - val_mse: 9.0278e-05 - val_mae: 0.0068 - val_mape: 1.1057\n",
            "Epoch 135/200\n",
            "51/51 [==============================] - 1s 12ms/step - loss: 4.7582e-04 - mse: 4.7582e-04 - mae: 0.0159 - mape: 3.3144 - val_loss: 3.7984e-04 - val_mse: 3.7984e-04 - val_mae: 0.0178 - val_mape: 2.8865\n",
            "Epoch 136/200\n",
            "51/51 [==============================] - 1s 13ms/step - loss: 4.4699e-04 - mse: 4.4699e-04 - mae: 0.0153 - mape: 3.2964 - val_loss: 3.9371e-04 - val_mse: 3.9371e-04 - val_mae: 0.0181 - val_mape: 2.9390\n",
            "Epoch 137/200\n",
            "51/51 [==============================] - 1s 12ms/step - loss: 5.5896e-04 - mse: 5.5896e-04 - mae: 0.0172 - mape: 3.6229 - val_loss: 1.6332e-04 - val_mse: 1.6332e-04 - val_mae: 0.0107 - val_mape: 1.7452\n",
            "Epoch 138/200\n",
            "51/51 [==============================] - 1s 12ms/step - loss: 4.1361e-04 - mse: 4.1361e-04 - mae: 0.0150 - mape: 3.3546 - val_loss: 1.3309e-04 - val_mse: 1.3309e-04 - val_mae: 0.0092 - val_mape: 1.4996\n",
            "Epoch 139/200\n",
            "51/51 [==============================] - 1s 12ms/step - loss: 4.8237e-04 - mse: 4.8237e-04 - mae: 0.0158 - mape: 3.3953 - val_loss: 2.3364e-04 - val_mse: 2.3364e-04 - val_mae: 0.0134 - val_mape: 2.1792\n",
            "Epoch 140/200\n",
            "51/51 [==============================] - 1s 13ms/step - loss: 4.8949e-04 - mse: 4.8949e-04 - mae: 0.0166 - mape: 3.4745 - val_loss: 1.3944e-04 - val_mse: 1.3944e-04 - val_mae: 0.0095 - val_mape: 1.5367\n",
            "Epoch 141/200\n",
            "51/51 [==============================] - 1s 12ms/step - loss: 4.2019e-04 - mse: 4.2019e-04 - mae: 0.0147 - mape: 3.0879 - val_loss: 2.3508e-04 - val_mse: 2.3508e-04 - val_mae: 0.0131 - val_mape: 2.1147\n",
            "Epoch 142/200\n",
            "51/51 [==============================] - 1s 12ms/step - loss: 4.8161e-04 - mse: 4.8161e-04 - mae: 0.0155 - mape: 3.1663 - val_loss: 2.3235e-04 - val_mse: 2.3235e-04 - val_mae: 0.0134 - val_mape: 2.1806\n",
            "Epoch 143/200\n",
            "51/51 [==============================] - 1s 12ms/step - loss: 4.5518e-04 - mse: 4.5518e-04 - mae: 0.0160 - mape: 3.3143 - val_loss: 1.5219e-04 - val_mse: 1.5219e-04 - val_mae: 0.0103 - val_mape: 1.6785\n",
            "Epoch 144/200\n",
            "51/51 [==============================] - 1s 12ms/step - loss: 4.4600e-04 - mse: 4.4600e-04 - mae: 0.0158 - mape: 3.2868 - val_loss: 1.7344e-04 - val_mse: 1.7344e-04 - val_mae: 0.0111 - val_mape: 1.7936\n",
            "Epoch 145/200\n",
            "51/51 [==============================] - 1s 12ms/step - loss: 4.2973e-04 - mse: 4.2973e-04 - mae: 0.0149 - mape: 3.4000 - val_loss: 3.3493e-04 - val_mse: 3.3493e-04 - val_mae: 0.0166 - val_mape: 2.6995\n",
            "Epoch 146/200\n",
            "51/51 [==============================] - 1s 12ms/step - loss: 5.0667e-04 - mse: 5.0667e-04 - mae: 0.0165 - mape: 3.5675 - val_loss: 1.1116e-04 - val_mse: 1.1116e-04 - val_mae: 0.0081 - val_mape: 1.3135\n",
            "Epoch 147/200\n",
            "51/51 [==============================] - 1s 12ms/step - loss: 4.9840e-04 - mse: 4.9840e-04 - mae: 0.0161 - mape: 3.6885 - val_loss: 1.3210e-04 - val_mse: 1.3210e-04 - val_mae: 0.0093 - val_mape: 1.5066\n",
            "Epoch 148/200\n",
            "51/51 [==============================] - 1s 13ms/step - loss: 4.8300e-04 - mse: 4.8300e-04 - mae: 0.0157 - mape: 3.2832 - val_loss: 1.6621e-04 - val_mse: 1.6621e-04 - val_mae: 0.0105 - val_mape: 1.6998\n",
            "Epoch 149/200\n",
            "51/51 [==============================] - 1s 13ms/step - loss: 4.4555e-04 - mse: 4.4555e-04 - mae: 0.0151 - mape: 3.2457 - val_loss: 1.0741e-04 - val_mse: 1.0741e-04 - val_mae: 0.0079 - val_mape: 1.2882\n",
            "Epoch 150/200\n",
            "51/51 [==============================] - 1s 13ms/step - loss: 4.3961e-04 - mse: 4.3961e-04 - mae: 0.0156 - mape: 3.2002 - val_loss: 9.8620e-05 - val_mse: 9.8620e-05 - val_mae: 0.0074 - val_mape: 1.1979\n",
            "Epoch 151/200\n",
            "51/51 [==============================] - 1s 12ms/step - loss: 7.1968e-04 - mse: 7.1968e-04 - mae: 0.0195 - mape: 4.1129 - val_loss: 9.0864e-05 - val_mse: 9.0864e-05 - val_mae: 0.0068 - val_mape: 1.0959\n",
            "Epoch 152/200\n",
            "51/51 [==============================] - 1s 12ms/step - loss: 3.7243e-04 - mse: 3.7243e-04 - mae: 0.0139 - mape: 2.9014 - val_loss: 1.8713e-04 - val_mse: 1.8713e-04 - val_mae: 0.0114 - val_mape: 1.8320\n",
            "Epoch 153/200\n",
            "51/51 [==============================] - 1s 12ms/step - loss: 4.6007e-04 - mse: 4.6007e-04 - mae: 0.0158 - mape: 3.2961 - val_loss: 3.2354e-04 - val_mse: 3.2354e-04 - val_mae: 0.0162 - val_mape: 2.6263\n",
            "Epoch 154/200\n",
            "51/51 [==============================] - 1s 12ms/step - loss: 4.5604e-04 - mse: 4.5604e-04 - mae: 0.0157 - mape: 3.2189 - val_loss: 3.8126e-04 - val_mse: 3.8126e-04 - val_mae: 0.0175 - val_mape: 2.8284\n",
            "Epoch 155/200\n",
            "51/51 [==============================] - 1s 12ms/step - loss: 4.4511e-04 - mse: 4.4511e-04 - mae: 0.0157 - mape: 3.5223 - val_loss: 9.5123e-05 - val_mse: 9.5123e-05 - val_mae: 0.0072 - val_mape: 1.1585\n",
            "Epoch 156/200\n",
            "51/51 [==============================] - 1s 12ms/step - loss: 4.0723e-04 - mse: 4.0723e-04 - mae: 0.0149 - mape: 3.2908 - val_loss: 4.1113e-04 - val_mse: 4.1113e-04 - val_mae: 0.0183 - val_mape: 2.9446\n",
            "Epoch 157/200\n",
            "51/51 [==============================] - 1s 12ms/step - loss: 5.1152e-04 - mse: 5.1152e-04 - mae: 0.0170 - mape: 3.5566 - val_loss: 1.6948e-04 - val_mse: 1.6948e-04 - val_mae: 0.0111 - val_mape: 1.8104\n",
            "Epoch 158/200\n",
            "51/51 [==============================] - 1s 12ms/step - loss: 5.5868e-04 - mse: 5.5868e-04 - mae: 0.0180 - mape: 3.9435 - val_loss: 9.8498e-05 - val_mse: 9.8498e-05 - val_mae: 0.0073 - val_mape: 1.1840\n",
            "Epoch 159/200\n",
            "51/51 [==============================] - 1s 12ms/step - loss: 4.3016e-04 - mse: 4.3016e-04 - mae: 0.0146 - mape: 3.0693 - val_loss: 6.4714e-04 - val_mse: 6.4714e-04 - val_mae: 0.0238 - val_mape: 3.8585\n",
            "Epoch 160/200\n",
            "51/51 [==============================] - 1s 12ms/step - loss: 5.4143e-04 - mse: 5.4143e-04 - mae: 0.0164 - mape: 3.4561 - val_loss: 6.4030e-04 - val_mse: 6.4030e-04 - val_mae: 0.0237 - val_mape: 3.8431\n",
            "Epoch 161/200\n",
            "51/51 [==============================] - 1s 12ms/step - loss: 5.1304e-04 - mse: 5.1304e-04 - mae: 0.0162 - mape: 3.6325 - val_loss: 8.7583e-05 - val_mse: 8.7583e-05 - val_mae: 0.0067 - val_mape: 1.0855\n",
            "Epoch 162/200\n",
            "51/51 [==============================] - 1s 12ms/step - loss: 3.7014e-04 - mse: 3.7014e-04 - mae: 0.0139 - mape: 3.0216 - val_loss: 1.7523e-04 - val_mse: 1.7523e-04 - val_mae: 0.0112 - val_mape: 1.8221\n",
            "Epoch 163/200\n",
            "51/51 [==============================] - 1s 12ms/step - loss: 3.9600e-04 - mse: 3.9600e-04 - mae: 0.0142 - mape: 3.0464 - val_loss: 1.5680e-04 - val_mse: 1.5680e-04 - val_mae: 0.0105 - val_mape: 1.7165\n",
            "Epoch 164/200\n",
            "51/51 [==============================] - 1s 12ms/step - loss: 4.1165e-04 - mse: 4.1165e-04 - mae: 0.0148 - mape: 3.4579 - val_loss: 1.2608e-04 - val_mse: 1.2608e-04 - val_mae: 0.0091 - val_mape: 1.4831\n",
            "Epoch 165/200\n",
            "51/51 [==============================] - 1s 12ms/step - loss: 4.4866e-04 - mse: 4.4866e-04 - mae: 0.0152 - mape: 3.2426 - val_loss: 3.1081e-04 - val_mse: 3.1081e-04 - val_mae: 0.0159 - val_mape: 2.5751\n",
            "Epoch 166/200\n",
            "51/51 [==============================] - 1s 12ms/step - loss: 4.4071e-04 - mse: 4.4071e-04 - mae: 0.0149 - mape: 3.2090 - val_loss: 9.2989e-05 - val_mse: 9.2989e-05 - val_mae: 0.0071 - val_mape: 1.1491\n",
            "Epoch 167/200\n",
            "51/51 [==============================] - 1s 12ms/step - loss: 4.9500e-04 - mse: 4.9500e-04 - mae: 0.0160 - mape: 3.3060 - val_loss: 9.7864e-05 - val_mse: 9.7864e-05 - val_mae: 0.0074 - val_mape: 1.1870\n",
            "Epoch 168/200\n",
            "51/51 [==============================] - 1s 12ms/step - loss: 4.4338e-04 - mse: 4.4338e-04 - mae: 0.0153 - mape: 3.4487 - val_loss: 3.2023e-04 - val_mse: 3.2023e-04 - val_mae: 0.0159 - val_mape: 2.5430\n",
            "Epoch 169/200\n",
            "51/51 [==============================] - 1s 12ms/step - loss: 5.1480e-04 - mse: 5.1480e-04 - mae: 0.0164 - mape: 3.6751 - val_loss: 1.2368e-04 - val_mse: 1.2368e-04 - val_mae: 0.0087 - val_mape: 1.4048\n",
            "Epoch 170/200\n",
            "51/51 [==============================] - 1s 12ms/step - loss: 3.6469e-04 - mse: 3.6469e-04 - mae: 0.0137 - mape: 2.9246 - val_loss: 9.2936e-05 - val_mse: 9.2936e-05 - val_mae: 0.0067 - val_mape: 1.0938\n",
            "Epoch 171/200\n",
            "51/51 [==============================] - 1s 12ms/step - loss: 3.7499e-04 - mse: 3.7499e-04 - mae: 0.0142 - mape: 3.0555 - val_loss: 2.8962e-04 - val_mse: 2.8962e-04 - val_mae: 0.0152 - val_mape: 2.4838\n",
            "Epoch 172/200\n",
            "51/51 [==============================] - 1s 12ms/step - loss: 4.3368e-04 - mse: 4.3368e-04 - mae: 0.0152 - mape: 3.2554 - val_loss: 5.7987e-04 - val_mse: 5.7987e-04 - val_mae: 0.0223 - val_mape: 3.5975\n",
            "Epoch 173/200\n",
            "51/51 [==============================] - 1s 12ms/step - loss: 5.2391e-04 - mse: 5.2391e-04 - mae: 0.0166 - mape: 3.3416 - val_loss: 9.9289e-05 - val_mse: 9.9289e-05 - val_mae: 0.0071 - val_mape: 1.1445\n",
            "Epoch 174/200\n",
            "51/51 [==============================] - 1s 13ms/step - loss: 4.1965e-04 - mse: 4.1965e-04 - mae: 0.0148 - mape: 3.3868 - val_loss: 1.2029e-04 - val_mse: 1.2029e-04 - val_mae: 0.0086 - val_mape: 1.4049\n",
            "Epoch 175/200\n",
            "51/51 [==============================] - 1s 12ms/step - loss: 3.7236e-04 - mse: 3.7236e-04 - mae: 0.0140 - mape: 3.0412 - val_loss: 9.4796e-05 - val_mse: 9.4796e-05 - val_mae: 0.0072 - val_mape: 1.1609\n",
            "Epoch 176/200\n",
            "51/51 [==============================] - 1s 12ms/step - loss: 4.8481e-04 - mse: 4.8481e-04 - mae: 0.0168 - mape: 3.5324 - val_loss: 1.2855e-04 - val_mse: 1.2855e-04 - val_mae: 0.0091 - val_mape: 1.4814\n",
            "Epoch 177/200\n",
            "51/51 [==============================] - 1s 13ms/step - loss: 4.2824e-04 - mse: 4.2824e-04 - mae: 0.0152 - mape: 3.3378 - val_loss: 1.0544e-04 - val_mse: 1.0544e-04 - val_mae: 0.0078 - val_mape: 1.2638\n",
            "Epoch 178/200\n",
            "51/51 [==============================] - 1s 12ms/step - loss: 4.0795e-04 - mse: 4.0795e-04 - mae: 0.0150 - mape: 3.2383 - val_loss: 9.7034e-05 - val_mse: 9.7034e-05 - val_mae: 0.0071 - val_mape: 1.1549\n",
            "Epoch 179/200\n",
            "51/51 [==============================] - 1s 13ms/step - loss: 3.8497e-04 - mse: 3.8497e-04 - mae: 0.0143 - mape: 3.1373 - val_loss: 1.4068e-04 - val_mse: 1.4068e-04 - val_mae: 0.0095 - val_mape: 1.5294\n",
            "Epoch 180/200\n",
            "51/51 [==============================] - 1s 13ms/step - loss: 3.8957e-04 - mse: 3.8957e-04 - mae: 0.0145 - mape: 2.9317 - val_loss: 1.2573e-04 - val_mse: 1.2573e-04 - val_mae: 0.0086 - val_mape: 1.3920\n",
            "Epoch 181/200\n",
            "51/51 [==============================] - 1s 13ms/step - loss: 3.8261e-04 - mse: 3.8261e-04 - mae: 0.0143 - mape: 3.0938 - val_loss: 2.7019e-04 - val_mse: 2.7019e-04 - val_mae: 0.0146 - val_mape: 2.3645\n",
            "Epoch 182/200\n",
            "51/51 [==============================] - 1s 13ms/step - loss: 4.1618e-04 - mse: 4.1618e-04 - mae: 0.0148 - mape: 3.2257 - val_loss: 2.3709e-04 - val_mse: 2.3709e-04 - val_mae: 0.0135 - val_mape: 2.1919\n",
            "Epoch 183/200\n",
            "51/51 [==============================] - 1s 13ms/step - loss: 3.7005e-04 - mse: 3.7005e-04 - mae: 0.0140 - mape: 3.1224 - val_loss: 8.6385e-05 - val_mse: 8.6385e-05 - val_mae: 0.0065 - val_mape: 1.0513\n",
            "Epoch 184/200\n",
            "51/51 [==============================] - 1s 12ms/step - loss: 3.5363e-04 - mse: 3.5363e-04 - mae: 0.0137 - mape: 2.9757 - val_loss: 1.2267e-04 - val_mse: 1.2267e-04 - val_mae: 0.0087 - val_mape: 1.4150\n",
            "Epoch 185/200\n",
            "51/51 [==============================] - 1s 13ms/step - loss: 3.6351e-04 - mse: 3.6351e-04 - mae: 0.0139 - mape: 2.9726 - val_loss: 1.8200e-04 - val_mse: 1.8200e-04 - val_mae: 0.0112 - val_mape: 1.8007\n",
            "Epoch 186/200\n",
            "51/51 [==============================] - 1s 12ms/step - loss: 4.2253e-04 - mse: 4.2253e-04 - mae: 0.0149 - mape: 3.3373 - val_loss: 2.0781e-04 - val_mse: 2.0781e-04 - val_mae: 0.0122 - val_mape: 1.9597\n",
            "Epoch 187/200\n",
            "51/51 [==============================] - 1s 13ms/step - loss: 3.7104e-04 - mse: 3.7104e-04 - mae: 0.0137 - mape: 3.1629 - val_loss: 5.4024e-04 - val_mse: 5.4024e-04 - val_mae: 0.0216 - val_mape: 3.4936\n",
            "Epoch 188/200\n",
            "51/51 [==============================] - 1s 13ms/step - loss: 5.7572e-04 - mse: 5.7572e-04 - mae: 0.0175 - mape: 3.6552 - val_loss: 1.6424e-04 - val_mse: 1.6424e-04 - val_mae: 0.0108 - val_mape: 1.7531\n",
            "Epoch 189/200\n",
            "51/51 [==============================] - 1s 13ms/step - loss: 3.9582e-04 - mse: 3.9582e-04 - mae: 0.0148 - mape: 3.2982 - val_loss: 3.5594e-04 - val_mse: 3.5594e-04 - val_mae: 0.0170 - val_mape: 2.7527\n",
            "Epoch 190/200\n",
            "51/51 [==============================] - 1s 13ms/step - loss: 3.8589e-04 - mse: 3.8589e-04 - mae: 0.0145 - mape: 3.1134 - val_loss: 9.9364e-05 - val_mse: 9.9364e-05 - val_mae: 0.0075 - val_mape: 1.2103\n",
            "Epoch 191/200\n",
            "51/51 [==============================] - 1s 12ms/step - loss: 6.0481e-04 - mse: 6.0481e-04 - mae: 0.0179 - mape: 4.0464 - val_loss: 9.0518e-05 - val_mse: 9.0518e-05 - val_mae: 0.0070 - val_mape: 1.1335\n",
            "Epoch 192/200\n",
            "51/51 [==============================] - 1s 13ms/step - loss: 3.7448e-04 - mse: 3.7448e-04 - mae: 0.0144 - mape: 3.1746 - val_loss: 9.7197e-05 - val_mse: 9.7197e-05 - val_mae: 0.0070 - val_mape: 1.1364\n",
            "Epoch 193/200\n",
            "51/51 [==============================] - 1s 13ms/step - loss: 3.8188e-04 - mse: 3.8188e-04 - mae: 0.0142 - mape: 3.1521 - val_loss: 0.0011 - val_mse: 0.0011 - val_mae: 0.0312 - val_mape: 5.0309\n",
            "Epoch 194/200\n",
            "51/51 [==============================] - 1s 13ms/step - loss: 6.4124e-04 - mse: 6.4124e-04 - mae: 0.0192 - mape: 3.9978 - val_loss: 9.7685e-05 - val_mse: 9.7685e-05 - val_mae: 0.0070 - val_mape: 1.1413\n",
            "Epoch 195/200\n",
            "51/51 [==============================] - 1s 13ms/step - loss: 4.1638e-04 - mse: 4.1638e-04 - mae: 0.0144 - mape: 2.9624 - val_loss: 9.8748e-05 - val_mse: 9.8748e-05 - val_mae: 0.0074 - val_mape: 1.2010\n",
            "Epoch 196/200\n",
            "51/51 [==============================] - 1s 13ms/step - loss: 4.1093e-04 - mse: 4.1093e-04 - mae: 0.0146 - mape: 3.2559 - val_loss: 8.7224e-05 - val_mse: 8.7224e-05 - val_mae: 0.0066 - val_mape: 1.0642\n",
            "Epoch 197/200\n",
            "51/51 [==============================] - 1s 13ms/step - loss: 3.3721e-04 - mse: 3.3721e-04 - mae: 0.0132 - mape: 2.8555 - val_loss: 3.7303e-04 - val_mse: 3.7303e-04 - val_mae: 0.0176 - val_mape: 2.8489\n",
            "Epoch 198/200\n",
            "51/51 [==============================] - 1s 13ms/step - loss: 4.2693e-04 - mse: 4.2693e-04 - mae: 0.0150 - mape: 3.2097 - val_loss: 1.9688e-04 - val_mse: 1.9688e-04 - val_mae: 0.0120 - val_mape: 1.9481\n",
            "Epoch 199/200\n",
            "51/51 [==============================] - 1s 13ms/step - loss: 3.6991e-04 - mse: 3.6991e-04 - mae: 0.0139 - mape: 3.1554 - val_loss: 1.6417e-04 - val_mse: 1.6417e-04 - val_mae: 0.0105 - val_mape: 1.6858\n",
            "Epoch 200/200\n",
            "51/51 [==============================] - 1s 13ms/step - loss: 4.7537e-04 - mse: 4.7537e-04 - mae: 0.0161 - mape: 3.5645 - val_loss: 4.1808e-04 - val_mse: 4.1808e-04 - val_mae: 0.0185 - val_mape: 2.9790\n"
          ],
          "name": "stdout"
        }
      ]
    },
    {
      "cell_type": "code",
      "metadata": {
        "colab": {
          "base_uri": "https://localhost:8080/",
          "height": 282
        },
        "id": "64flD5CxuvWx",
        "outputId": "c2f64312-957b-451a-f0af-f071d0e6b958"
      },
      "source": [
        "plt.plot(history.history['loss'],'r',label='train loss')\n",
        "plt.plot(history.history['val_loss'],'g',label='val loss')\n",
        "plt.xlabel('# epoch')\n",
        "plt.ylabel('loss')\n",
        "plt.legend()\n",
        "plt.show()"
      ],
      "execution_count": 8,
      "outputs": [
        {
          "output_type": "display_data",
          "data": {
            "image/png": "[encoded data removed]",
            "text/plain": [
              "<Figure size 432x288 with 1 Axes>"
            ]
          },
          "metadata": {
            "tags": [],
            "needs_background": "light"
          }
        }
      ]
    },
    {
      "cell_type": "code",
      "metadata": {
        "colab": {
          "base_uri": "https://localhost:8080/"
        },
        "id": "XT0MB5c5uxR5",
        "outputId": "71c3a2cd-3d30-4d4e-d02b-884c091c4e52"
      },
      "source": [
        "result=model.predict(test_data)\n",
        "\n",
        "from sklearn.metrics import r2_score\n",
        "\n",
        "r2=r2_score(test_target,result)\n",
        "print('r2 score:',r2)"
      ],
      "execution_count": 9,
      "outputs": [
        {
          "output_type": "stream",
          "text": [
            "r2 score: 0.9870146443633244\n"
          ],
          "name": "stdout"
        }
      ]
    },
    {
      "cell_type": "code",
      "metadata": {
        "colab": {
          "base_uri": "https://localhost:8080/"
        },
        "id": "ACptkYvFDdwA",
        "outputId": "dc1aeff1-9b63-4d56-d493-1909daf3a7ea"
      },
      "source": [
        "score = model.evaluate(test_data, test_target, verbose = 0) \n",
        "print(\"%s: %.2f%%\" % (model.metrics_names[0], score[0]))\n",
        "print(\"%s: %.2f%%\" % (model.metrics_names[1], score[1]))\n",
        "print(\"%s: %.2f%%\" % (model.metrics_names[2], score[2]))\n",
        "print(\"%s: %.2f%%\" % (model.metrics_names[3], score[3]))\n",
        "#print('Test loss:', score[0]) \n",
        "print('MAPE:', score[3])"
      ],
      "execution_count": 10,
      "outputs": [
        {
          "output_type": "stream",
          "text": [
            "loss: 0.00%\n",
            "mse: 0.00%\n",
            "mae: 0.01%\n",
            "mape: 78565.13%\n",
            "MAPE: 78565.1328125\n"
          ],
          "name": "stdout"
        }
      ]
    },
    {
      "cell_type": "code",
      "metadata": {
        "colab": {
          "base_uri": "https://localhost:8080/",
          "height": 279
        },
        "id": "WWRRj41fuzdh",
        "outputId": "167beb41-bc79-49c5-bdf3-e71c75bd5587"
      },
      "source": [
        "#test_x_range=np.arange(1000,1209,1)\n",
        "test_x_range=np.arange(1792,2561,1)\n",
        "#test_x_range is an array of values between 1000-1208\n",
        "\n",
        "plt.plot(train_target,'r',label='train')\n",
        "plt.plot(test_x_range,test_target,'b',label='test')\n",
        "plt.plot(test_x_range,result,'g',label='predicted')\n",
        "\n",
        "plt.xlabel('Date')\n",
        "plt.ylabel('Open Value/$')\n",
        "plt.legend()\n",
        "plt.show()"
      ],
      "execution_count": 11,
      "outputs": [
        {
          "output_type": "display_data",
          "data": {
            "image/png": "[encoded data removed]",
            "text/plain": [
              "<Figure size 432x288 with 1 Axes>"
            ]
          },
          "metadata": {
            "tags": [],
            "needs_background": "light"
          }
        }
      ]
    },
    {
      "cell_type": "code",
      "metadata": {
        "colab": {
          "base_uri": "https://localhost:8080/",
          "height": 279
        },
        "id": "T4CR9lrAu7XR",
        "outputId": "9fba9244-9670-4ff8-bc2f-7c3f22652c18"
      },
      "source": [
        "plt.plot(test_target,'b',label='test')\n",
        "plt.plot(result,'r',label='predicted')\n",
        "\n",
        "plt.xlabel('Date')\n",
        "plt.ylabel('Open Value/$')\n",
        "plt.legend()\n",
        "plt.show()"
      ],
      "execution_count": 12,
      "outputs": [
        {
          "output_type": "display_data",
          "data": {
            "image/png": "[encoded data removed]",
            "text/plain": [
              "<Figure size 432x288 with 1 Axes>"
            ]
          },
          "metadata": {
            "tags": [],
            "needs_background": "light"
          }
        }
      ]
    }
  ]
}