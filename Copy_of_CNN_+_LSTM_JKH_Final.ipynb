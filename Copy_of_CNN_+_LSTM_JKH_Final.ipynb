{
  "nbformat": 4,
  "nbformat_minor": 0,
  "metadata": {
    "colab": {
      "name": "Copy of CNN + LSTM  JKH Final",
      "provenance": [],
      "authorship_tag": "ABX9TyOnh4CaL36CAQ1SqCYd0zEA",
      "include_colab_link": true
    },
    "kernelspec": {
      "name": "python3",
      "display_name": "Python 3"
    },
    "accelerator": "GPU"
  },
  "cells": [
    {
      "cell_type": "markdown",
      "metadata": {
        "id": "view-in-github",
        "colab_type": "text"
      },
      "source": [
        "<a href=\"https://colab.research.google.com/github/dinuka125/japura-Git-Workshop/blob/master/Copy_of_CNN_%2B_LSTM_JKH_Final.ipynb\" target=\"_parent\"><img src=\"https://colab.research.google.com/assets/colab-badge.svg\" alt=\"Open In Colab\"/></a>"
      ]
    },
    {
      "cell_type": "code",
      "metadata": {
        "colab": {
          "base_uri": "https://localhost:8080/"
        },
        "id": "ZXLBqZkCucfr",
        "outputId": "23dc89c0-e797-490a-a28c-63c9dd3419b6"
      },
      "source": [
        "from google.colab import drive\n",
        "drive.mount('/content/drive')\n",
        "path ='/content/drive/My Drive/csv_files/'"
      ],
      "execution_count": null,
      "outputs": [
        {
          "output_type": "stream",
          "text": [
            "Mounted at /content/drive\n"
          ],
          "name": "stdout"
        }
      ]
    },
    {
      "cell_type": "code",
      "metadata": {
        "id": "Oqr2ukrXugF5"
      },
      "source": [
        "import numpy as np\n",
        "\n",
        "data=np.load(path+'datajkh1.npy')\n",
        "target=np.load(path+'targetjkh1.npy')"
      ],
      "execution_count": null,
      "outputs": []
    },
    {
      "cell_type": "code",
      "metadata": {
        "colab": {
          "base_uri": "https://localhost:8080/"
        },
        "id": "CRIZr5b9uiga",
        "outputId": "8bce1150-6a47-4ba3-8d38-49b3bf24138d"
      },
      "source": [
        "print(data.shape)\n",
        "print(target.shape)\n",
        "print(data.shape[1:])"
      ],
      "execution_count": null,
      "outputs": [
        {
          "output_type": "stream",
          "text": [
            "(2554, 50, 4)\n",
            "(2554,)\n",
            "(50, 4)\n"
          ],
          "name": "stdout"
        }
      ]
    },
    {
      "cell_type": "code",
      "metadata": {
        "id": "npzvvGsMujKp"
      },
      "source": [
        "train_data=data[:1787]\n",
        "train_target=target[:1787]\n",
        "\n",
        "test_data=data[1787:]\n",
        "test_target=target[1787:]"
      ],
      "execution_count": null,
      "outputs": []
    },
    {
      "cell_type": "code",
      "metadata": {
        "colab": {
          "base_uri": "https://localhost:8080/",
          "height": 279
        },
        "id": "9cz3KeJ9ul7x",
        "outputId": "5010121e-9989-441b-ce95-ad1d1ad8dc55"
      },
      "source": [
        "from matplotlib import pyplot as plt\n",
        "\n",
        "test_x_range=np.arange(1787,2554,1)\n",
        "#test_x_range is an array of values between 1000-1208\n",
        "\n",
        "plt.plot(train_target,'r',label='train')\n",
        "plt.plot(test_x_range,test_target,'b',label='test')\n",
        "plt.xlabel('Date')\n",
        "plt.ylabel('Open Value/$')\n",
        "plt.show()"
      ],
      "execution_count": null,
      "outputs": [
        {
          "output_type": "display_data",
          "data": {
            "image/png": "[encoded data removed]",
            "text/plain": [
              "<Figure size 432x288 with 1 Axes>"
            ]
          },
          "metadata": {
            "tags": [],
            "needs_background": "light"
          }
        }
      ]
    },
    {
      "cell_type": "code",
      "metadata": {
        "colab": {
          "base_uri": "https://localhost:8080/"
        },
        "id": "hu9IHCDUunKJ",
        "outputId": "079f518c-a15f-4372-8693-8da64aa064f3"
      },
      "source": [
        "\n",
        "from keras.layers import Input\n",
        "from keras.models import Model\n",
        "from keras.layers import LSTM\n",
        "from keras.layers import Conv1D\n",
        "from keras.layers import MaxPooling1D\n",
        "from keras.layers import Dropout\n",
        "from keras.layers import Dense\n",
        "from keras.layers import Flatten\n",
        "\n",
        "input_layer = Input(shape=(data.shape[1:]))\n",
        "conv1 = Conv1D(filters=256,\n",
        "               kernel_size=3,\n",
        "               strides=1,\n",
        "               activation='relu',\n",
        "              padding='same')(input_layer)\n",
        "\n",
        "conv1=(MaxPooling1D(pool_size=2))(conv1)\n",
        "\n",
        "droup0=(Dropout(0.2))(conv1)\n",
        "#conv2=Conv1D(filters=128,kernel_size=3,activation='relu')(conv1)\n",
        "#pool1=(MaxPooling1D(pool_size=2))(conv2)\n",
        "#pool1=(Dropout(0.2))(pool1)\n",
        "#conv3=Conv1D(filters=64,kernel_size=3,activation='relu')(pool1)\n",
        "#pool2=(MaxPooling1D(pool_size=2))(conv3)\n",
        "\n",
        "#flt=Flatten()(pool2)\n",
        "#lstm1 = LSTM(96, return_sequences=True)(conv1)\n",
        "#droup9=(Dropout(0.2))(lstm1)\n",
        "\n",
        "lstm1 = LSTM(96, return_sequences=True)(conv1)\n",
        "droup9=(Dropout(0.2))(lstm1)\n",
        "\n",
        "lstm2=LSTM(units=96,return_sequences=True)(droup9)\n",
        "droup1=(Dropout(0.2))(lstm2)\n",
        "\n",
        "lstm3=LSTM(units=96,return_sequences=True)(droup1)\n",
        "drop2=Dropout(0.2)(lstm3)\n",
        "\n",
        "lstm4=LSTM(units=96,return_sequences=False)(drop2)\n",
        "drop3=(Dropout(0.2))(lstm4)\n",
        "\n",
        "\n",
        "#dense1=Dense(units=1,activation='linear')(drop3)\n",
        "\n",
        "output_layer = Dense(1, activation='linear')(drop3)\n",
        "model = Model(inputs=input_layer, outputs=output_layer)\n",
        "\n",
        "model.compile(loss='mse',optimizer='adam')\n",
        "\n",
        "model.summary()\n",
        "\n"
      ],
      "execution_count": null,
      "outputs": [
        {
          "output_type": "stream",
          "text": [
            "Model: \"model\"\n",
            "_________________________________________________________________\n",
            "Layer (type)                 Output Shape              Param #   \n",
            "=================================================================\n",
            "input_1 (InputLayer)         [(None, 50, 4)]           0         \n",
            "_________________________________________________________________\n",
            "conv1d (Conv1D)              (None, 50, 256)           3328      \n",
            "_________________________________________________________________\n",
            "max_pooling1d (MaxPooling1D) (None, 25, 256)           0         \n",
            "_________________________________________________________________\n",
            "lstm (LSTM)                  (None, 25, 96)            135552    \n",
            "_________________________________________________________________\n",
            "dropout_1 (Dropout)          (None, 25, 96)            0         \n",
            "_________________________________________________________________\n",
            "lstm_1 (LSTM)                (None, 25, 96)            74112     \n",
            "_________________________________________________________________\n",
            "dropout_2 (Dropout)          (None, 25, 96)            0         \n",
            "_________________________________________________________________\n",
            "lstm_2 (LSTM)                (None, 25, 96)            74112     \n",
            "_________________________________________________________________\n",
            "dropout_3 (Dropout)          (None, 25, 96)            0         \n",
            "_________________________________________________________________\n",
            "lstm_3 (LSTM)                (None, 96)                74112     \n",
            "_________________________________________________________________\n",
            "dropout_4 (Dropout)          (None, 96)                0         \n",
            "_________________________________________________________________\n",
            "dense (Dense)                (None, 1)                 97        \n",
            "=================================================================\n",
            "Total params: 361,313\n",
            "Trainable params: 361,313\n",
            "Non-trainable params: 0\n",
            "_________________________________________________________________\n"
          ],
          "name": "stdout"
        }
      ]
    },
    {
      "cell_type": "code",
      "metadata": {
        "id": "zgMTyhelzTiZ"
      },
      "source": [
        ""
      ],
      "execution_count": null,
      "outputs": []
    },
    {
      "cell_type": "code",
      "metadata": {
        "colab": {
          "base_uri": "https://localhost:8080/"
        },
        "id": "n3WXn4Q4urxx",
        "outputId": "01e846c7-7ce2-43de-b953-50ccbbeb235e"
      },
      "source": [
        "history=model.fit(train_data,train_target,epochs=200,validation_split=0.10)"
      ],
      "execution_count": null,
      "outputs": [
        {
          "output_type": "stream",
          "text": [
            "Epoch 1/200\n",
            "51/51 [==============================] - 38s 39ms/step - loss: 0.0562 - val_loss: 0.0024\n",
            "Epoch 2/200\n",
            "51/51 [==============================] - 1s 11ms/step - loss: 0.0076 - val_loss: 0.0020\n",
            "Epoch 3/200\n",
            "51/51 [==============================] - 1s 11ms/step - loss: 0.0065 - val_loss: 0.0040\n",
            "Epoch 4/200\n",
            "51/51 [==============================] - 1s 11ms/step - loss: 0.0057 - val_loss: 0.0024\n",
            "Epoch 5/200\n",
            "51/51 [==============================] - 1s 12ms/step - loss: 0.0056 - val_loss: 0.0026\n",
            "Epoch 6/200\n",
            "51/51 [==============================] - 1s 11ms/step - loss: 0.0048 - val_loss: 0.0020\n",
            "Epoch 7/200\n",
            "51/51 [==============================] - 1s 11ms/step - loss: 0.0045 - val_loss: 0.0011\n",
            "Epoch 8/200\n",
            "51/51 [==============================] - 1s 11ms/step - loss: 0.0034 - val_loss: 0.0011\n",
            "Epoch 9/200\n",
            "51/51 [==============================] - 1s 11ms/step - loss: 0.0034 - val_loss: 5.8764e-04\n",
            "Epoch 10/200\n",
            "51/51 [==============================] - 1s 11ms/step - loss: 0.0026 - val_loss: 5.1908e-04\n",
            "Epoch 11/200\n",
            "51/51 [==============================] - 1s 11ms/step - loss: 0.0025 - val_loss: 5.9314e-04\n",
            "Epoch 12/200\n",
            "51/51 [==============================] - 1s 11ms/step - loss: 0.0024 - val_loss: 5.5900e-04\n",
            "Epoch 13/200\n",
            "51/51 [==============================] - 1s 11ms/step - loss: 0.0023 - val_loss: 5.1581e-04\n",
            "Epoch 14/200\n",
            "51/51 [==============================] - 1s 11ms/step - loss: 0.0023 - val_loss: 4.6589e-04\n",
            "Epoch 15/200\n",
            "51/51 [==============================] - 1s 11ms/step - loss: 0.0022 - val_loss: 3.7764e-04\n",
            "Epoch 16/200\n",
            "51/51 [==============================] - 1s 11ms/step - loss: 0.0020 - val_loss: 3.6481e-04\n",
            "Epoch 17/200\n",
            "51/51 [==============================] - 1s 11ms/step - loss: 0.0019 - val_loss: 4.6429e-04\n",
            "Epoch 18/200\n",
            "51/51 [==============================] - 1s 11ms/step - loss: 0.0019 - val_loss: 3.8365e-04\n",
            "Epoch 19/200\n",
            "51/51 [==============================] - 1s 11ms/step - loss: 0.0020 - val_loss: 5.1153e-04\n",
            "Epoch 20/200\n",
            "51/51 [==============================] - 1s 11ms/step - loss: 0.0017 - val_loss: 4.5017e-04\n",
            "Epoch 21/200\n",
            "51/51 [==============================] - 1s 11ms/step - loss: 0.0015 - val_loss: 3.4707e-04\n",
            "Epoch 22/200\n",
            "51/51 [==============================] - 1s 11ms/step - loss: 0.0015 - val_loss: 3.0810e-04\n",
            "Epoch 23/200\n",
            "51/51 [==============================] - 1s 11ms/step - loss: 0.0015 - val_loss: 4.2134e-04\n",
            "Epoch 24/200\n",
            "51/51 [==============================] - 1s 11ms/step - loss: 0.0016 - val_loss: 3.9418e-04\n",
            "Epoch 25/200\n",
            "51/51 [==============================] - 1s 11ms/step - loss: 0.0015 - val_loss: 4.1974e-04\n",
            "Epoch 26/200\n",
            "51/51 [==============================] - 1s 11ms/step - loss: 0.0017 - val_loss: 2.6774e-04\n",
            "Epoch 27/200\n",
            "51/51 [==============================] - 1s 11ms/step - loss: 0.0014 - val_loss: 3.0477e-04\n",
            "Epoch 28/200\n",
            "51/51 [==============================] - 1s 11ms/step - loss: 0.0016 - val_loss: 3.5690e-04\n",
            "Epoch 29/200\n",
            "51/51 [==============================] - 1s 11ms/step - loss: 0.0016 - val_loss: 2.8312e-04\n",
            "Epoch 30/200\n",
            "51/51 [==============================] - 1s 11ms/step - loss: 0.0015 - val_loss: 2.4483e-04\n",
            "Epoch 31/200\n",
            "51/51 [==============================] - 1s 11ms/step - loss: 0.0012 - val_loss: 3.3529e-04\n",
            "Epoch 32/200\n",
            "51/51 [==============================] - 1s 12ms/step - loss: 0.0012 - val_loss: 2.5600e-04\n",
            "Epoch 33/200\n",
            "51/51 [==============================] - 1s 11ms/step - loss: 0.0012 - val_loss: 3.0798e-04\n",
            "Epoch 34/200\n",
            "51/51 [==============================] - 1s 11ms/step - loss: 0.0013 - val_loss: 3.4110e-04\n",
            "Epoch 35/200\n",
            "51/51 [==============================] - 1s 11ms/step - loss: 0.0013 - val_loss: 2.1863e-04\n",
            "Epoch 36/200\n",
            "51/51 [==============================] - 1s 11ms/step - loss: 0.0011 - val_loss: 2.8299e-04\n",
            "Epoch 37/200\n",
            "51/51 [==============================] - 1s 12ms/step - loss: 0.0012 - val_loss: 3.6544e-04\n",
            "Epoch 38/200\n",
            "51/51 [==============================] - 1s 11ms/step - loss: 0.0011 - val_loss: 2.7417e-04\n",
            "Epoch 39/200\n",
            "51/51 [==============================] - 1s 11ms/step - loss: 0.0014 - val_loss: 5.4718e-04\n",
            "Epoch 40/200\n",
            "51/51 [==============================] - 1s 12ms/step - loss: 0.0013 - val_loss: 2.1606e-04\n",
            "Epoch 41/200\n",
            "51/51 [==============================] - 1s 12ms/step - loss: 0.0011 - val_loss: 2.6682e-04\n",
            "Epoch 42/200\n",
            "51/51 [==============================] - 1s 12ms/step - loss: 0.0011 - val_loss: 2.2453e-04\n",
            "Epoch 43/200\n",
            "51/51 [==============================] - 1s 11ms/step - loss: 0.0011 - val_loss: 2.3511e-04\n",
            "Epoch 44/200\n",
            "51/51 [==============================] - 1s 11ms/step - loss: 0.0010 - val_loss: 3.5022e-04\n",
            "Epoch 45/200\n",
            "51/51 [==============================] - 1s 11ms/step - loss: 0.0011 - val_loss: 1.9314e-04\n",
            "Epoch 46/200\n",
            "51/51 [==============================] - 1s 11ms/step - loss: 0.0010 - val_loss: 1.6974e-04\n",
            "Epoch 47/200\n",
            "51/51 [==============================] - 1s 12ms/step - loss: 0.0010 - val_loss: 2.4221e-04\n",
            "Epoch 48/200\n",
            "51/51 [==============================] - 1s 12ms/step - loss: 9.8269e-04 - val_loss: 2.1019e-04\n",
            "Epoch 49/200\n",
            "51/51 [==============================] - 1s 11ms/step - loss: 0.0010 - val_loss: 2.7009e-04\n",
            "Epoch 50/200\n",
            "51/51 [==============================] - 1s 12ms/step - loss: 0.0010 - val_loss: 2.2157e-04\n",
            "Epoch 51/200\n",
            "51/51 [==============================] - 1s 12ms/step - loss: 0.0011 - val_loss: 1.9135e-04\n",
            "Epoch 52/200\n",
            "51/51 [==============================] - 1s 11ms/step - loss: 8.4605e-04 - val_loss: 2.1707e-04\n",
            "Epoch 53/200\n",
            "51/51 [==============================] - 1s 11ms/step - loss: 8.9447e-04 - val_loss: 1.7685e-04\n",
            "Epoch 54/200\n",
            "51/51 [==============================] - 1s 11ms/step - loss: 8.6196e-04 - val_loss: 1.6994e-04\n",
            "Epoch 55/200\n",
            "51/51 [==============================] - 1s 11ms/step - loss: 8.2187e-04 - val_loss: 1.5954e-04\n",
            "Epoch 56/200\n",
            "51/51 [==============================] - 1s 11ms/step - loss: 8.5103e-04 - val_loss: 2.2595e-04\n",
            "Epoch 57/200\n",
            "51/51 [==============================] - 1s 11ms/step - loss: 9.6210e-04 - val_loss: 2.5225e-04\n",
            "Epoch 58/200\n",
            "51/51 [==============================] - 1s 11ms/step - loss: 8.4286e-04 - val_loss: 1.5764e-04\n",
            "Epoch 59/200\n",
            "51/51 [==============================] - 1s 12ms/step - loss: 0.0012 - val_loss: 1.4393e-04\n",
            "Epoch 60/200\n",
            "51/51 [==============================] - 1s 12ms/step - loss: 7.1650e-04 - val_loss: 1.3770e-04\n",
            "Epoch 61/200\n",
            "51/51 [==============================] - 1s 11ms/step - loss: 7.9326e-04 - val_loss: 2.6541e-04\n",
            "Epoch 62/200\n",
            "51/51 [==============================] - 1s 12ms/step - loss: 7.3586e-04 - val_loss: 1.3069e-04\n",
            "Epoch 63/200\n",
            "51/51 [==============================] - 1s 12ms/step - loss: 7.6732e-04 - val_loss: 1.4327e-04\n",
            "Epoch 64/200\n",
            "51/51 [==============================] - 1s 12ms/step - loss: 8.3594e-04 - val_loss: 3.1081e-04\n",
            "Epoch 65/200\n",
            "51/51 [==============================] - 1s 12ms/step - loss: 7.7365e-04 - val_loss: 2.1584e-04\n",
            "Epoch 66/200\n",
            "51/51 [==============================] - 1s 12ms/step - loss: 7.8006e-04 - val_loss: 1.4165e-04\n",
            "Epoch 67/200\n",
            "51/51 [==============================] - 1s 11ms/step - loss: 7.2765e-04 - val_loss: 1.2583e-04\n",
            "Epoch 68/200\n",
            "51/51 [==============================] - 1s 12ms/step - loss: 6.8842e-04 - val_loss: 2.5543e-04\n",
            "Epoch 69/200\n",
            "51/51 [==============================] - 1s 11ms/step - loss: 7.6856e-04 - val_loss: 2.3538e-04\n",
            "Epoch 70/200\n",
            "51/51 [==============================] - 1s 11ms/step - loss: 6.5368e-04 - val_loss: 2.7755e-04\n",
            "Epoch 71/200\n",
            "51/51 [==============================] - 1s 11ms/step - loss: 7.0348e-04 - val_loss: 2.4706e-04\n",
            "Epoch 72/200\n",
            "51/51 [==============================] - 1s 11ms/step - loss: 7.0921e-04 - val_loss: 0.0010\n",
            "Epoch 73/200\n",
            "51/51 [==============================] - 1s 11ms/step - loss: 9.4652e-04 - val_loss: 1.1994e-04\n",
            "Epoch 74/200\n",
            "51/51 [==============================] - 1s 11ms/step - loss: 5.9189e-04 - val_loss: 2.9455e-04\n",
            "Epoch 75/200\n",
            "51/51 [==============================] - 1s 11ms/step - loss: 6.5199e-04 - val_loss: 1.7136e-04\n",
            "Epoch 76/200\n",
            "51/51 [==============================] - 1s 11ms/step - loss: 6.3602e-04 - val_loss: 1.5353e-04\n",
            "Epoch 77/200\n",
            "51/51 [==============================] - 1s 11ms/step - loss: 6.4589e-04 - val_loss: 1.1577e-04\n",
            "Epoch 78/200\n",
            "51/51 [==============================] - 1s 12ms/step - loss: 6.4800e-04 - val_loss: 1.4166e-04\n",
            "Epoch 79/200\n",
            "51/51 [==============================] - 1s 11ms/step - loss: 7.5817e-04 - val_loss: 1.4695e-04\n",
            "Epoch 80/200\n",
            "51/51 [==============================] - 1s 12ms/step - loss: 6.8680e-04 - val_loss: 1.8031e-04\n",
            "Epoch 81/200\n",
            "51/51 [==============================] - 1s 11ms/step - loss: 6.1431e-04 - val_loss: 1.2346e-04\n",
            "Epoch 82/200\n",
            "51/51 [==============================] - 1s 11ms/step - loss: 6.4515e-04 - val_loss: 1.7745e-04\n",
            "Epoch 83/200\n",
            "51/51 [==============================] - 1s 11ms/step - loss: 6.4330e-04 - val_loss: 1.9530e-04\n",
            "Epoch 84/200\n",
            "51/51 [==============================] - 1s 11ms/step - loss: 6.3681e-04 - val_loss: 1.3484e-04\n",
            "Epoch 85/200\n",
            "51/51 [==============================] - 1s 11ms/step - loss: 7.3251e-04 - val_loss: 1.1036e-04\n",
            "Epoch 86/200\n",
            "51/51 [==============================] - 1s 11ms/step - loss: 6.3287e-04 - val_loss: 1.1176e-04\n",
            "Epoch 87/200\n",
            "51/51 [==============================] - 1s 11ms/step - loss: 6.2680e-04 - val_loss: 2.2390e-04\n",
            "Epoch 88/200\n",
            "51/51 [==============================] - 1s 11ms/step - loss: 6.4667e-04 - val_loss: 1.3831e-04\n",
            "Epoch 89/200\n",
            "51/51 [==============================] - 1s 11ms/step - loss: 6.2934e-04 - val_loss: 1.1119e-04\n",
            "Epoch 90/200\n",
            "51/51 [==============================] - 1s 11ms/step - loss: 6.5856e-04 - val_loss: 2.0316e-04\n",
            "Epoch 91/200\n",
            "51/51 [==============================] - 1s 11ms/step - loss: 6.4329e-04 - val_loss: 2.5023e-04\n",
            "Epoch 92/200\n",
            "51/51 [==============================] - 1s 11ms/step - loss: 6.2162e-04 - val_loss: 1.4752e-04\n",
            "Epoch 93/200\n",
            "51/51 [==============================] - 1s 11ms/step - loss: 6.1447e-04 - val_loss: 1.0723e-04\n",
            "Epoch 94/200\n",
            "51/51 [==============================] - 1s 11ms/step - loss: 5.9904e-04 - val_loss: 1.0309e-04\n",
            "Epoch 95/200\n",
            "51/51 [==============================] - 1s 11ms/step - loss: 5.7465e-04 - val_loss: 9.9868e-05\n",
            "Epoch 96/200\n",
            "51/51 [==============================] - 1s 12ms/step - loss: 4.9207e-04 - val_loss: 1.3245e-04\n",
            "Epoch 97/200\n",
            "51/51 [==============================] - 1s 11ms/step - loss: 5.1498e-04 - val_loss: 2.1526e-04\n",
            "Epoch 98/200\n",
            "51/51 [==============================] - 1s 11ms/step - loss: 5.4249e-04 - val_loss: 1.1461e-04\n",
            "Epoch 99/200\n",
            "51/51 [==============================] - 1s 11ms/step - loss: 5.1972e-04 - val_loss: 1.5809e-04\n",
            "Epoch 100/200\n",
            "51/51 [==============================] - 1s 12ms/step - loss: 6.1114e-04 - val_loss: 4.2251e-04\n",
            "Epoch 101/200\n",
            "51/51 [==============================] - 1s 11ms/step - loss: 6.2752e-04 - val_loss: 4.8210e-04\n",
            "Epoch 102/200\n",
            "51/51 [==============================] - 1s 11ms/step - loss: 5.8207e-04 - val_loss: 1.2925e-04\n",
            "Epoch 103/200\n",
            "51/51 [==============================] - 1s 12ms/step - loss: 4.9624e-04 - val_loss: 2.4274e-04\n",
            "Epoch 104/200\n",
            "51/51 [==============================] - 1s 12ms/step - loss: 6.0014e-04 - val_loss: 1.6267e-04\n",
            "Epoch 105/200\n",
            "51/51 [==============================] - 1s 12ms/step - loss: 4.8759e-04 - val_loss: 1.0231e-04\n",
            "Epoch 106/200\n",
            "51/51 [==============================] - 1s 12ms/step - loss: 5.5070e-04 - val_loss: 1.4879e-04\n",
            "Epoch 107/200\n",
            "51/51 [==============================] - 1s 12ms/step - loss: 5.1102e-04 - val_loss: 9.4497e-05\n",
            "Epoch 108/200\n",
            "51/51 [==============================] - 1s 11ms/step - loss: 5.5816e-04 - val_loss: 1.5519e-04\n",
            "Epoch 109/200\n",
            "51/51 [==============================] - 1s 12ms/step - loss: 5.3295e-04 - val_loss: 1.2394e-04\n",
            "Epoch 110/200\n",
            "51/51 [==============================] - 1s 12ms/step - loss: 5.3627e-04 - val_loss: 9.4268e-05\n",
            "Epoch 111/200\n",
            "51/51 [==============================] - 1s 11ms/step - loss: 4.4029e-04 - val_loss: 1.0081e-04\n",
            "Epoch 112/200\n",
            "51/51 [==============================] - 1s 11ms/step - loss: 5.7484e-04 - val_loss: 1.1415e-04\n",
            "Epoch 113/200\n",
            "51/51 [==============================] - 1s 11ms/step - loss: 5.2279e-04 - val_loss: 1.2969e-04\n",
            "Epoch 114/200\n",
            "51/51 [==============================] - 1s 11ms/step - loss: 4.5213e-04 - val_loss: 1.1084e-04\n",
            "Epoch 115/200\n",
            "51/51 [==============================] - 1s 11ms/step - loss: 5.6576e-04 - val_loss: 1.0627e-04\n",
            "Epoch 116/200\n",
            "51/51 [==============================] - 1s 11ms/step - loss: 4.3344e-04 - val_loss: 3.5695e-04\n",
            "Epoch 117/200\n",
            "51/51 [==============================] - 1s 11ms/step - loss: 5.0768e-04 - val_loss: 1.0331e-04\n",
            "Epoch 118/200\n",
            "51/51 [==============================] - 1s 11ms/step - loss: 4.6525e-04 - val_loss: 3.6485e-04\n",
            "Epoch 119/200\n",
            "51/51 [==============================] - 1s 11ms/step - loss: 4.8046e-04 - val_loss: 1.4758e-04\n",
            "Epoch 120/200\n",
            "51/51 [==============================] - 1s 11ms/step - loss: 4.6866e-04 - val_loss: 5.3952e-04\n",
            "Epoch 121/200\n",
            "51/51 [==============================] - 1s 11ms/step - loss: 6.6166e-04 - val_loss: 2.3030e-04\n",
            "Epoch 122/200\n",
            "51/51 [==============================] - 1s 11ms/step - loss: 4.8907e-04 - val_loss: 2.0772e-04\n",
            "Epoch 123/200\n",
            "51/51 [==============================] - 1s 11ms/step - loss: 4.7279e-04 - val_loss: 8.8800e-05\n",
            "Epoch 124/200\n",
            "51/51 [==============================] - 1s 11ms/step - loss: 5.6180e-04 - val_loss: 1.0005e-04\n",
            "Epoch 125/200\n",
            "51/51 [==============================] - 1s 11ms/step - loss: 4.5657e-04 - val_loss: 1.9812e-04\n",
            "Epoch 126/200\n",
            "51/51 [==============================] - 1s 11ms/step - loss: 4.6244e-04 - val_loss: 1.0553e-04\n",
            "Epoch 127/200\n",
            "51/51 [==============================] - 1s 11ms/step - loss: 4.6781e-04 - val_loss: 1.1482e-04\n",
            "Epoch 128/200\n",
            "51/51 [==============================] - 1s 11ms/step - loss: 5.7138e-04 - val_loss: 1.0297e-04\n",
            "Epoch 129/200\n",
            "51/51 [==============================] - 1s 11ms/step - loss: 7.8862e-04 - val_loss: 1.0961e-04\n",
            "Epoch 130/200\n",
            "51/51 [==============================] - 1s 11ms/step - loss: 4.7042e-04 - val_loss: 2.6910e-04\n",
            "Epoch 131/200\n",
            "51/51 [==============================] - 1s 12ms/step - loss: 4.4102e-04 - val_loss: 2.5009e-04\n",
            "Epoch 132/200\n",
            "51/51 [==============================] - 1s 12ms/step - loss: 5.0707e-04 - val_loss: 1.3096e-04\n",
            "Epoch 133/200\n",
            "51/51 [==============================] - 1s 11ms/step - loss: 4.0859e-04 - val_loss: 1.1063e-04\n",
            "Epoch 134/200\n",
            "51/51 [==============================] - 1s 12ms/step - loss: 4.7956e-04 - val_loss: 8.6170e-05\n",
            "Epoch 135/200\n",
            "51/51 [==============================] - 1s 11ms/step - loss: 5.1616e-04 - val_loss: 9.5525e-05\n",
            "Epoch 136/200\n",
            "51/51 [==============================] - 1s 11ms/step - loss: 4.4875e-04 - val_loss: 8.8733e-05\n",
            "Epoch 137/200\n",
            "51/51 [==============================] - 1s 11ms/step - loss: 4.9164e-04 - val_loss: 2.8684e-04\n",
            "Epoch 138/200\n",
            "51/51 [==============================] - 1s 11ms/step - loss: 4.7988e-04 - val_loss: 1.0060e-04\n",
            "Epoch 139/200\n",
            "51/51 [==============================] - 1s 11ms/step - loss: 4.8198e-04 - val_loss: 9.5241e-05\n",
            "Epoch 140/200\n",
            "51/51 [==============================] - 1s 11ms/step - loss: 5.1518e-04 - val_loss: 9.6128e-05\n",
            "Epoch 141/200\n",
            "51/51 [==============================] - 1s 12ms/step - loss: 4.0806e-04 - val_loss: 1.1065e-04\n",
            "Epoch 142/200\n",
            "51/51 [==============================] - 1s 11ms/step - loss: 4.4344e-04 - val_loss: 1.6364e-04\n",
            "Epoch 143/200\n",
            "51/51 [==============================] - 1s 11ms/step - loss: 4.5027e-04 - val_loss: 1.1591e-04\n",
            "Epoch 144/200\n",
            "51/51 [==============================] - 1s 11ms/step - loss: 4.5867e-04 - val_loss: 1.2557e-04\n",
            "Epoch 145/200\n",
            "51/51 [==============================] - 1s 11ms/step - loss: 3.7353e-04 - val_loss: 2.0008e-04\n",
            "Epoch 146/200\n",
            "51/51 [==============================] - 1s 11ms/step - loss: 4.3396e-04 - val_loss: 1.5430e-04\n",
            "Epoch 147/200\n",
            "51/51 [==============================] - 1s 11ms/step - loss: 4.6430e-04 - val_loss: 9.9396e-05\n",
            "Epoch 148/200\n",
            "51/51 [==============================] - 1s 13ms/step - loss: 5.3138e-04 - val_loss: 4.3507e-04\n",
            "Epoch 149/200\n",
            "51/51 [==============================] - 1s 12ms/step - loss: 6.1177e-04 - val_loss: 8.7636e-05\n",
            "Epoch 150/200\n",
            "51/51 [==============================] - 1s 12ms/step - loss: 4.3304e-04 - val_loss: 1.1022e-04\n",
            "Epoch 151/200\n",
            "51/51 [==============================] - 1s 12ms/step - loss: 3.6831e-04 - val_loss: 1.2481e-04\n",
            "Epoch 152/200\n",
            "51/51 [==============================] - 1s 12ms/step - loss: 4.3170e-04 - val_loss: 9.3575e-05\n",
            "Epoch 153/200\n",
            "51/51 [==============================] - 1s 11ms/step - loss: 3.9590e-04 - val_loss: 3.8118e-04\n",
            "Epoch 154/200\n",
            "51/51 [==============================] - 1s 12ms/step - loss: 4.8044e-04 - val_loss: 2.8947e-04\n",
            "Epoch 155/200\n",
            "51/51 [==============================] - 1s 11ms/step - loss: 4.5754e-04 - val_loss: 8.9666e-05\n",
            "Epoch 156/200\n",
            "51/51 [==============================] - 1s 11ms/step - loss: 3.7367e-04 - val_loss: 1.6326e-04\n",
            "Epoch 157/200\n",
            "51/51 [==============================] - 1s 11ms/step - loss: 4.3855e-04 - val_loss: 1.6829e-04\n",
            "Epoch 158/200\n",
            "51/51 [==============================] - 1s 12ms/step - loss: 5.8025e-04 - val_loss: 5.8327e-04\n",
            "Epoch 159/200\n",
            "51/51 [==============================] - 1s 12ms/step - loss: 5.2292e-04 - val_loss: 8.6716e-05\n",
            "Epoch 160/200\n",
            "51/51 [==============================] - 1s 11ms/step - loss: 3.5700e-04 - val_loss: 8.6853e-05\n",
            "Epoch 161/200\n",
            "51/51 [==============================] - 1s 12ms/step - loss: 4.1421e-04 - val_loss: 1.3583e-04\n",
            "Epoch 162/200\n",
            "51/51 [==============================] - 1s 12ms/step - loss: 4.7655e-04 - val_loss: 9.8746e-05\n",
            "Epoch 163/200\n",
            "51/51 [==============================] - 1s 12ms/step - loss: 4.8603e-04 - val_loss: 2.9834e-04\n",
            "Epoch 164/200\n",
            "51/51 [==============================] - 1s 12ms/step - loss: 4.0273e-04 - val_loss: 2.7412e-04\n",
            "Epoch 165/200\n",
            "51/51 [==============================] - 1s 12ms/step - loss: 4.8413e-04 - val_loss: 3.7844e-04\n",
            "Epoch 166/200\n",
            "51/51 [==============================] - 1s 12ms/step - loss: 3.7631e-04 - val_loss: 2.6568e-04\n",
            "Epoch 167/200\n",
            "51/51 [==============================] - 1s 11ms/step - loss: 5.0549e-04 - val_loss: 1.1706e-04\n",
            "Epoch 168/200\n",
            "51/51 [==============================] - 1s 12ms/step - loss: 4.1865e-04 - val_loss: 1.0363e-04\n",
            "Epoch 169/200\n",
            "51/51 [==============================] - 1s 11ms/step - loss: 4.8104e-04 - val_loss: 2.0695e-04\n",
            "Epoch 170/200\n",
            "51/51 [==============================] - 1s 11ms/step - loss: 4.0802e-04 - val_loss: 9.1659e-05\n",
            "Epoch 171/200\n",
            "51/51 [==============================] - 1s 11ms/step - loss: 3.7941e-04 - val_loss: 1.0696e-04\n",
            "Epoch 172/200\n",
            "51/51 [==============================] - 1s 11ms/step - loss: 3.4669e-04 - val_loss: 1.1617e-04\n",
            "Epoch 173/200\n",
            "51/51 [==============================] - 1s 11ms/step - loss: 4.8634e-04 - val_loss: 3.2848e-04\n",
            "Epoch 174/200\n",
            "51/51 [==============================] - 1s 11ms/step - loss: 3.7369e-04 - val_loss: 2.1760e-04\n",
            "Epoch 175/200\n",
            "51/51 [==============================] - 1s 11ms/step - loss: 4.7946e-04 - val_loss: 1.3351e-04\n",
            "Epoch 176/200\n",
            "51/51 [==============================] - 1s 11ms/step - loss: 4.4623e-04 - val_loss: 1.3897e-04\n",
            "Epoch 177/200\n",
            "51/51 [==============================] - 1s 11ms/step - loss: 4.8246e-04 - val_loss: 1.2449e-04\n",
            "Epoch 178/200\n",
            "51/51 [==============================] - 1s 11ms/step - loss: 4.0483e-04 - val_loss: 8.6405e-05\n",
            "Epoch 179/200\n",
            "51/51 [==============================] - 1s 11ms/step - loss: 4.1519e-04 - val_loss: 1.0600e-04\n",
            "Epoch 180/200\n",
            "51/51 [==============================] - 1s 11ms/step - loss: 4.2724e-04 - val_loss: 7.6245e-05\n",
            "Epoch 181/200\n",
            "51/51 [==============================] - 1s 11ms/step - loss: 4.6348e-04 - val_loss: 9.7111e-05\n",
            "Epoch 182/200\n",
            "51/51 [==============================] - 1s 11ms/step - loss: 4.0694e-04 - val_loss: 1.0656e-04\n",
            "Epoch 183/200\n",
            "51/51 [==============================] - 1s 11ms/step - loss: 4.6106e-04 - val_loss: 1.4213e-04\n",
            "Epoch 184/200\n",
            "51/51 [==============================] - 1s 11ms/step - loss: 3.5423e-04 - val_loss: 1.3768e-04\n",
            "Epoch 185/200\n",
            "51/51 [==============================] - 1s 11ms/step - loss: 4.0082e-04 - val_loss: 1.6023e-04\n",
            "Epoch 186/200\n",
            "51/51 [==============================] - 1s 11ms/step - loss: 3.5100e-04 - val_loss: 1.0016e-04\n",
            "Epoch 187/200\n",
            "51/51 [==============================] - 1s 11ms/step - loss: 3.9719e-04 - val_loss: 1.6568e-04\n",
            "Epoch 188/200\n",
            "51/51 [==============================] - 1s 11ms/step - loss: 4.4145e-04 - val_loss: 2.6978e-04\n",
            "Epoch 189/200\n",
            "51/51 [==============================] - 1s 11ms/step - loss: 3.6092e-04 - val_loss: 1.5214e-04\n",
            "Epoch 190/200\n",
            "51/51 [==============================] - 1s 11ms/step - loss: 4.6624e-04 - val_loss: 1.1174e-04\n",
            "Epoch 191/200\n",
            "51/51 [==============================] - 1s 11ms/step - loss: 3.8899e-04 - val_loss: 3.4527e-04\n",
            "Epoch 192/200\n",
            "51/51 [==============================] - 1s 11ms/step - loss: 3.4746e-04 - val_loss: 1.5076e-04\n",
            "Epoch 193/200\n",
            "51/51 [==============================] - 1s 11ms/step - loss: 3.9091e-04 - val_loss: 8.1890e-05\n",
            "Epoch 194/200\n",
            "51/51 [==============================] - 1s 11ms/step - loss: 3.6201e-04 - val_loss: 1.2730e-04\n",
            "Epoch 195/200\n",
            "51/51 [==============================] - 1s 11ms/step - loss: 4.3438e-04 - val_loss: 1.0222e-04\n",
            "Epoch 196/200\n",
            "51/51 [==============================] - 1s 11ms/step - loss: 4.0635e-04 - val_loss: 8.2430e-05\n",
            "Epoch 197/200\n",
            "51/51 [==============================] - 1s 11ms/step - loss: 3.7312e-04 - val_loss: 2.4671e-04\n",
            "Epoch 198/200\n",
            "51/51 [==============================] - 1s 11ms/step - loss: 3.8910e-04 - val_loss: 1.0533e-04\n",
            "Epoch 199/200\n",
            "51/51 [==============================] - 1s 12ms/step - loss: 4.1320e-04 - val_loss: 7.4497e-05\n",
            "Epoch 200/200\n",
            "51/51 [==============================] - 1s 12ms/step - loss: 3.4942e-04 - val_loss: 7.3109e-05\n"
          ],
          "name": "stdout"
        }
      ]
    },
    {
      "cell_type": "code",
      "metadata": {
        "colab": {
          "base_uri": "https://localhost:8080/",
          "height": 279
        },
        "id": "64flD5CxuvWx",
        "outputId": "94df8bb9-1cea-4aff-c41c-5261bd269e46"
      },
      "source": [
        "plt.plot(history.history['loss'],'r',label='train loss')\n",
        "plt.plot(history.history['val_loss'],'g',label='val loss')\n",
        "plt.xlabel('# epoch')\n",
        "plt.ylabel('loss')\n",
        "plt.legend()\n",
        "plt.show()"
      ],
      "execution_count": null,
      "outputs": [
        {
          "output_type": "display_data",
          "data": {
            "image/png": "[encoded data removed]",
            "text/plain": [
              "<Figure size 432x288 with 1 Axes>"
            ]
          },
          "metadata": {
            "tags": [],
            "needs_background": "light"
          }
        }
      ]
    },
    {
      "cell_type": "code",
      "metadata": {
        "colab": {
          "base_uri": "https://localhost:8080/"
        },
        "id": "XT0MB5c5uxR5",
        "outputId": "ed101978-f223-443e-8278-eee93d0ed2e1"
      },
      "source": [
        "result=model.predict(test_data)\n",
        "\n",
        "from sklearn.metrics import r2_score\n",
        "\n",
        "r2=r2_score(test_target,result)\n",
        "print('r2 score:',r2)"
      ],
      "execution_count": null,
      "outputs": [
        {
          "output_type": "stream",
          "text": [
            "r2 score: 0.9708752614935972\n"
          ],
          "name": "stdout"
        }
      ]
    },
    {
      "cell_type": "code",
      "metadata": {
        "colab": {
          "base_uri": "https://localhost:8080/",
          "height": 279
        },
        "id": "WWRRj41fuzdh",
        "outputId": "1b6a865a-2d55-4a75-bb56-63598809d2eb"
      },
      "source": [
        "#test_x_range=np.arange(1000,1209,1)\n",
        "test_x_range=np.arange(1787,2554,1)\n",
        "#test_x_range is an array of values between 1000-1208\n",
        "\n",
        "plt.plot(train_target,'r',label='train')\n",
        "plt.plot(test_x_range,test_target,'b',label='test')\n",
        "plt.plot(test_x_range,result,'g',label='predicted')\n",
        "\n",
        "plt.xlabel('Date')\n",
        "plt.ylabel('Open Value/$')\n",
        "plt.legend()\n",
        "plt.show()"
      ],
      "execution_count": null,
      "outputs": [
        {
          "output_type": "display_data",
          "data": {
            "image/png": "[encoded data removed]",
            "text/plain": [
              "<Figure size 432x288 with 1 Axes>"
            ]
          },
          "metadata": {
            "tags": [],
            "needs_background": "light"
          }
        }
      ]
    },
    {
      "cell_type": "code",
      "metadata": {
        "colab": {
          "base_uri": "https://localhost:8080/",
          "height": 279
        },
        "id": "T4CR9lrAu7XR",
        "outputId": "ca477117-c21f-49db-ee86-3ac7131d72f4"
      },
      "source": [
        "plt.plot(test_target,'b',label='test')\n",
        "plt.plot(result,'r',label='predicted')\n",
        "\n",
        "plt.xlabel('Date')\n",
        "plt.ylabel('Open Value/$')\n",
        "plt.legend()\n",
        "plt.show()"
      ],
      "execution_count": null,
      "outputs": [
        {
          "output_type": "display_data",
          "data": {
            "image/png": "[encoded data removed]",
            "text/plain": [
              "<Figure size 432x288 with 1 Axes>"
            ]
          },
          "metadata": {
            "tags": [],
            "needs_background": "light"
          }
        }
      ]
    }
  ]
}