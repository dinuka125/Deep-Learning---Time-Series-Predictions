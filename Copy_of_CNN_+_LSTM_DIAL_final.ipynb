{
  "nbformat": 4,
  "nbformat_minor": 0,
  "metadata": {
    "colab": {
      "name": "Copy of CNN + LSTM  DIAL final",
      "provenance": [],
      "authorship_tag": "ABX9TyM23B8eJlBKDiZblPq0g+De",
      "include_colab_link": true
    },
    "kernelspec": {
      "name": "python3",
      "display_name": "Python 3"
    },
    "accelerator": "GPU"
  },
  "cells": [
    {
      "cell_type": "markdown",
      "metadata": {
        "id": "view-in-github",
        "colab_type": "text"
      },
      "source": [
        "<a href=\"https://colab.research.google.com/github/dinuka125/japura-Git-Workshop/blob/master/Copy_of_CNN_%2B_LSTM_DIAL_final.ipynb\" target=\"_parent\"><img src=\"https://colab.research.google.com/assets/colab-badge.svg\" alt=\"Open In Colab\"/></a>"
      ]
    },
    {
      "cell_type": "code",
      "metadata": {
        "colab": {
          "base_uri": "https://localhost:8080/"
        },
        "id": "ZXLBqZkCucfr",
        "outputId": "08be202a-68b4-4d04-af4d-9b1967583719"
      },
      "source": [
        "from google.colab import drive\n",
        "drive.mount('/content/drive')\n",
        "path ='/content/drive/My Drive/csv_files/'"
      ],
      "execution_count": null,
      "outputs": [
        {
          "output_type": "stream",
          "text": [
            "Drive already mounted at /content/drive; to attempt to forcibly remount, call drive.mount(\"/content/drive\", force_remount=True).\n"
          ],
          "name": "stdout"
        }
      ]
    },
    {
      "cell_type": "code",
      "metadata": {
        "id": "Oqr2ukrXugF5"
      },
      "source": [
        "import numpy as np\n",
        "\n",
        "data=np.load(path+'datadial.npy')\n",
        "target=np.load(path+'targetdial.npy')"
      ],
      "execution_count": null,
      "outputs": []
    },
    {
      "cell_type": "code",
      "metadata": {
        "colab": {
          "base_uri": "https://localhost:8080/"
        },
        "id": "CRIZr5b9uiga",
        "outputId": "b86cf2c8-ab0a-4143-d809-308a29f166bb"
      },
      "source": [
        "print(data.shape)\n",
        "print(target.shape)\n",
        "print(data.shape[1:])"
      ],
      "execution_count": null,
      "outputs": [
        {
          "output_type": "stream",
          "text": [
            "(2371, 50, 4)\n",
            "(2371,)\n",
            "(50, 4)\n"
          ],
          "name": "stdout"
        }
      ]
    },
    {
      "cell_type": "code",
      "metadata": {
        "id": "npzvvGsMujKp"
      },
      "source": [
        "train_data=data[:1659]\n",
        "train_target=target[:1659]\n",
        "\n",
        "test_data=data[1659:]\n",
        "test_target=target[1659:]"
      ],
      "execution_count": null,
      "outputs": []
    },
    {
      "cell_type": "code",
      "metadata": {
        "colab": {
          "base_uri": "https://localhost:8080/",
          "height": 279
        },
        "id": "9cz3KeJ9ul7x",
        "outputId": "349b6c5b-7d74-433b-b994-94c7bbc978c4"
      },
      "source": [
        "from matplotlib import pyplot as plt\n",
        "\n",
        "test_x_range=np.arange(1659,2371,1)\n",
        "#test_x_range is an array of values between 1000-1208\n",
        "\n",
        "plt.plot(train_target,'r',label='train')\n",
        "plt.plot(test_x_range,test_target,'b',label='test')\n",
        "plt.xlabel('Date')\n",
        "plt.ylabel('Open Value/$')\n",
        "plt.show()"
      ],
      "execution_count": null,
      "outputs": [
        {
          "output_type": "display_data",
          "data": {
            "image/png": "[encoded data removed]",
            "text/plain": [
              "<Figure size 432x288 with 1 Axes>"
            ]
          },
          "metadata": {
            "tags": [],
            "needs_background": "light"
          }
        }
      ]
    },
    {
      "cell_type": "code",
      "metadata": {
        "colab": {
          "base_uri": "https://localhost:8080/"
        },
        "id": "hu9IHCDUunKJ",
        "outputId": "483832d6-867d-40f3-fa56-fa94c2df51d4"
      },
      "source": [
        "\n",
        "from keras.layers import Input\n",
        "from keras.models import Model\n",
        "from keras.layers import LSTM\n",
        "from keras.layers import Conv1D\n",
        "from keras.layers import MaxPooling1D\n",
        "from keras.layers import Dropout\n",
        "from keras.layers import Dense\n",
        "from keras.layers import Flatten\n",
        "\n",
        "input_layer = Input(shape=(data.shape[1:]))\n",
        "conv1 = Conv1D(filters=256,\n",
        "               kernel_size=3,\n",
        "               strides=1,\n",
        "               activation='relu',\n",
        "              padding='same')(input_layer)\n",
        "\n",
        "conv1=(MaxPooling1D(pool_size=2))(conv1)\n",
        "\n",
        "droup0=(Dropout(0.2))(conv1)\n",
        "#conv2=Conv1D(filters=128,kernel_size=3,activation='relu')(conv1)\n",
        "#pool1=(MaxPooling1D(pool_size=2))(conv2)\n",
        "#pool1=(Dropout(0.2))(pool1)\n",
        "#conv3=Conv1D(filters=64,kernel_size=3,activation='relu')(pool1)\n",
        "#pool2=(MaxPooling1D(pool_size=2))(conv3)\n",
        "\n",
        "#flt=Flatten()(pool2)\n",
        "#lstm1 = LSTM(96, return_sequences=True)(conv1)\n",
        "#droup9=(Dropout(0.2))(lstm1)\n",
        "\n",
        "#lstm1 = LSTM(96, return_sequences=True)(conv1)\n",
        "#droup9=(Dropout(0.2))(lstm1)\n",
        "\n",
        "lstm2=LSTM(units=96,return_sequences=True)(droup0)\n",
        "droup1=(Dropout(0.2))(lstm2)\n",
        "\n",
        "lstm3=LSTM(units=96,return_sequences=True)(droup1)\n",
        "drop2=Dropout(0.2)(lstm3)\n",
        "\n",
        "lstm4=LSTM(units=96,return_sequences=False)(drop2)\n",
        "drop3=(Dropout(0.2))(lstm4)\n",
        "\n",
        "\n",
        "#dense1=Dense(units=1,activation='linear')(drop3)\n",
        "\n",
        "output_layer = Dense(1, activation='linear')(drop3)\n",
        "model = Model(inputs=input_layer, outputs=output_layer)\n",
        "\n",
        "model.compile(loss='mse',optimizer='adam',metrics=['mse', 'mae', 'mape'])\n",
        "\n",
        "model.summary()\n",
        "\n"
      ],
      "execution_count": null,
      "outputs": [
        {
          "output_type": "stream",
          "text": [
            "Model: \"model\"\n",
            "_________________________________________________________________\n",
            "Layer (type)                 Output Shape              Param #   \n",
            "=================================================================\n",
            "input_1 (InputLayer)         [(None, 50, 4)]           0         \n",
            "_________________________________________________________________\n",
            "conv1d (Conv1D)              (None, 50, 256)           3328      \n",
            "_________________________________________________________________\n",
            "max_pooling1d (MaxPooling1D) (None, 25, 256)           0         \n",
            "_________________________________________________________________\n",
            "dropout (Dropout)            (None, 25, 256)           0         \n",
            "_________________________________________________________________\n",
            "lstm (LSTM)                  (None, 25, 96)            135552    \n",
            "_________________________________________________________________\n",
            "dropout_1 (Dropout)          (None, 25, 96)            0         \n",
            "_________________________________________________________________\n",
            "lstm_1 (LSTM)                (None, 25, 96)            74112     \n",
            "_________________________________________________________________\n",
            "dropout_2 (Dropout)          (None, 25, 96)            0         \n",
            "_________________________________________________________________\n",
            "lstm_2 (LSTM)                (None, 96)                74112     \n",
            "_________________________________________________________________\n",
            "dropout_3 (Dropout)          (None, 96)                0         \n",
            "_________________________________________________________________\n",
            "dense (Dense)                (None, 1)                 97        \n",
            "=================================================================\n",
            "Total params: 287,201\n",
            "Trainable params: 287,201\n",
            "Non-trainable params: 0\n",
            "_________________________________________________________________\n"
          ],
          "name": "stdout"
        }
      ]
    },
    {
      "cell_type": "code",
      "metadata": {
        "id": "zgMTyhelzTiZ"
      },
      "source": [
        ""
      ],
      "execution_count": null,
      "outputs": []
    },
    {
      "cell_type": "code",
      "metadata": {
        "colab": {
          "base_uri": "https://localhost:8080/"
        },
        "id": "n3WXn4Q4urxx",
        "outputId": "d68da658-9831-46d3-8ad3-2aaa485ffc52"
      },
      "source": [
        "history=model.fit(train_data,train_target,epochs=200,validation_split=0.10)"
      ],
      "execution_count": null,
      "outputs": [
        {
          "output_type": "stream",
          "text": [
            "Epoch 1/200\n",
            "47/47 [==============================] - 8s 36ms/step - loss: 0.0366 - mse: 0.0366 - mae: 0.1399 - mape: 51567.4170 - val_loss: 0.0029 - val_mse: 0.0029 - val_mae: 0.0413 - val_mape: 7.2320\n",
            "Epoch 2/200\n",
            "47/47 [==============================] - 0s 10ms/step - loss: 0.0056 - mse: 0.0056 - mae: 0.0560 - mape: 26346.4770 - val_loss: 0.0016 - val_mse: 0.0016 - val_mae: 0.0345 - val_mape: 5.6958\n",
            "Epoch 3/200\n",
            "47/47 [==============================] - 0s 10ms/step - loss: 0.0043 - mse: 0.0043 - mae: 0.0498 - mape: 4049.8096 - val_loss: 0.0013 - val_mse: 0.0013 - val_mae: 0.0311 - val_mape: 5.1874\n",
            "Epoch 4/200\n",
            "47/47 [==============================] - 0s 10ms/step - loss: 0.0041 - mse: 0.0041 - mae: 0.0473 - mape: 8983.7326 - val_loss: 0.0063 - val_mse: 0.0063 - val_mae: 0.0734 - val_mape: 12.4605\n",
            "Epoch 5/200\n",
            "47/47 [==============================] - 0s 10ms/step - loss: 0.0044 - mse: 0.0044 - mae: 0.0502 - mape: 25003.0469 - val_loss: 8.1052e-04 - val_mse: 8.1052e-04 - val_mae: 0.0183 - val_mape: 3.1759\n",
            "Epoch 6/200\n",
            "47/47 [==============================] - 0s 10ms/step - loss: 0.0034 - mse: 0.0034 - mae: 0.0448 - mape: 89972.2771 - val_loss: 9.9278e-04 - val_mse: 9.9278e-04 - val_mae: 0.0275 - val_mape: 4.5786\n",
            "Epoch 7/200\n",
            "47/47 [==============================] - 0s 11ms/step - loss: 0.0026 - mse: 0.0026 - mae: 0.0398 - mape: 46905.1714 - val_loss: 5.6900e-04 - val_mse: 5.6900e-04 - val_mae: 0.0176 - val_mape: 2.9774\n",
            "Epoch 8/200\n",
            "47/47 [==============================] - 0s 10ms/step - loss: 0.0024 - mse: 0.0024 - mae: 0.0371 - mape: 128817.1788 - val_loss: 7.8774e-04 - val_mse: 7.8774e-04 - val_mae: 0.0205 - val_mape: 3.5572\n",
            "Epoch 9/200\n",
            "47/47 [==============================] - 1s 11ms/step - loss: 0.0033 - mse: 0.0033 - mae: 0.0438 - mape: 29791.2401 - val_loss: 4.3731e-04 - val_mse: 4.3731e-04 - val_mae: 0.0140 - val_mape: 2.4051\n",
            "Epoch 10/200\n",
            "47/47 [==============================] - 0s 10ms/step - loss: 0.0024 - mse: 0.0024 - mae: 0.0365 - mape: 69861.0149 - val_loss: 9.3963e-04 - val_mse: 9.3963e-04 - val_mae: 0.0278 - val_mape: 4.6016\n",
            "Epoch 11/200\n",
            "47/47 [==============================] - 0s 10ms/step - loss: 0.0023 - mse: 0.0023 - mae: 0.0364 - mape: 2519.2109 - val_loss: 0.0023 - val_mse: 0.0023 - val_mae: 0.0456 - val_mape: 7.5371\n",
            "Epoch 12/200\n",
            "47/47 [==============================] - 0s 10ms/step - loss: 0.0031 - mse: 0.0031 - mae: 0.0429 - mape: 16777.0044 - val_loss: 5.3792e-04 - val_mse: 5.3792e-04 - val_mae: 0.0192 - val_mape: 3.1744\n",
            "Epoch 13/200\n",
            "47/47 [==============================] - 0s 10ms/step - loss: 0.0021 - mse: 0.0021 - mae: 0.0343 - mape: 6491.9655 - val_loss: 7.3048e-04 - val_mse: 7.3048e-04 - val_mae: 0.0213 - val_mape: 3.6588\n",
            "Epoch 14/200\n",
            "47/47 [==============================] - 0s 10ms/step - loss: 0.0022 - mse: 0.0022 - mae: 0.0356 - mape: 4744.0547 - val_loss: 3.5149e-04 - val_mse: 3.5149e-04 - val_mae: 0.0132 - val_mape: 2.2636\n",
            "Epoch 15/200\n",
            "47/47 [==============================] - 0s 10ms/step - loss: 0.0021 - mse: 0.0021 - mae: 0.0342 - mape: 139568.3878 - val_loss: 4.7082e-04 - val_mse: 4.7082e-04 - val_mae: 0.0161 - val_mape: 2.7686\n",
            "Epoch 16/200\n",
            "47/47 [==============================] - 0s 10ms/step - loss: 0.0020 - mse: 0.0020 - mae: 0.0339 - mape: 1616.4731 - val_loss: 3.9019e-04 - val_mse: 3.9019e-04 - val_mae: 0.0152 - val_mape: 2.5369\n",
            "Epoch 17/200\n",
            "47/47 [==============================] - 0s 10ms/step - loss: 0.0018 - mse: 0.0018 - mae: 0.0319 - mape: 12434.9306 - val_loss: 0.0013 - val_mse: 0.0013 - val_mae: 0.0321 - val_mape: 5.4461\n",
            "Epoch 18/200\n",
            "47/47 [==============================] - 0s 10ms/step - loss: 0.0022 - mse: 0.0022 - mae: 0.0348 - mape: 56562.9634 - val_loss: 0.0012 - val_mse: 0.0012 - val_mae: 0.0314 - val_mape: 5.1808\n",
            "Epoch 19/200\n",
            "47/47 [==============================] - 0s 10ms/step - loss: 0.0020 - mse: 0.0020 - mae: 0.0341 - mape: 82230.4050 - val_loss: 2.7193e-04 - val_mse: 2.7193e-04 - val_mae: 0.0118 - val_mape: 2.0038\n",
            "Epoch 20/200\n",
            "47/47 [==============================] - 0s 10ms/step - loss: 0.0017 - mse: 0.0017 - mae: 0.0314 - mape: 82689.8741 - val_loss: 3.8718e-04 - val_mse: 3.8718e-04 - val_mae: 0.0146 - val_mape: 2.5159\n",
            "Epoch 21/200\n",
            "47/47 [==============================] - 0s 10ms/step - loss: 0.0018 - mse: 0.0018 - mae: 0.0320 - mape: 51378.3081 - val_loss: 5.4201e-04 - val_mse: 5.4201e-04 - val_mae: 0.0190 - val_mape: 3.2402\n",
            "Epoch 22/200\n",
            "47/47 [==============================] - 0s 10ms/step - loss: 0.0017 - mse: 0.0017 - mae: 0.0310 - mape: 37967.1147 - val_loss: 3.7760e-04 - val_mse: 3.7760e-04 - val_mae: 0.0156 - val_mape: 2.5860\n",
            "Epoch 23/200\n",
            "47/47 [==============================] - 0s 10ms/step - loss: 0.0015 - mse: 0.0015 - mae: 0.0286 - mape: 4599.1875 - val_loss: 4.6499e-04 - val_mse: 4.6499e-04 - val_mae: 0.0171 - val_mape: 2.9212\n",
            "Epoch 24/200\n",
            "47/47 [==============================] - 0s 10ms/step - loss: 0.0016 - mse: 0.0016 - mae: 0.0307 - mape: 13099.8506 - val_loss: 5.2898e-04 - val_mse: 5.2898e-04 - val_mae: 0.0198 - val_mape: 3.2718\n",
            "Epoch 25/200\n",
            "47/47 [==============================] - 0s 10ms/step - loss: 0.0017 - mse: 0.0017 - mae: 0.0308 - mape: 24495.0801 - val_loss: 7.9052e-04 - val_mse: 7.9052e-04 - val_mae: 0.0251 - val_mape: 4.1381\n",
            "Epoch 26/200\n",
            "47/47 [==============================] - 0s 10ms/step - loss: 0.0016 - mse: 0.0016 - mae: 0.0297 - mape: 38359.0499 - val_loss: 3.1231e-04 - val_mse: 3.1231e-04 - val_mae: 0.0138 - val_mape: 2.2968\n",
            "Epoch 27/200\n",
            "47/47 [==============================] - 0s 10ms/step - loss: 0.0013 - mse: 0.0013 - mae: 0.0282 - mape: 23835.3143 - val_loss: 2.3521e-04 - val_mse: 2.3521e-04 - val_mae: 0.0111 - val_mape: 1.8897\n",
            "Epoch 28/200\n",
            "47/47 [==============================] - 0s 10ms/step - loss: 0.0013 - mse: 0.0013 - mae: 0.0265 - mape: 9772.3500 - val_loss: 5.3149e-04 - val_mse: 5.3149e-04 - val_mae: 0.0189 - val_mape: 3.2151\n",
            "Epoch 29/200\n",
            "47/47 [==============================] - 0s 10ms/step - loss: 0.0015 - mse: 0.0015 - mae: 0.0288 - mape: 21723.9022 - val_loss: 0.0011 - val_mse: 0.0011 - val_mae: 0.0293 - val_mape: 4.9549\n",
            "Epoch 30/200\n",
            "47/47 [==============================] - 0s 11ms/step - loss: 0.0015 - mse: 0.0015 - mae: 0.0297 - mape: 50451.3490 - val_loss: 2.7004e-04 - val_mse: 2.7004e-04 - val_mae: 0.0121 - val_mape: 2.0728\n",
            "Epoch 31/200\n",
            "47/47 [==============================] - 0s 11ms/step - loss: 0.0015 - mse: 0.0015 - mae: 0.0292 - mape: 3737.4146 - val_loss: 2.6742e-04 - val_mse: 2.6742e-04 - val_mae: 0.0125 - val_mape: 2.0901\n",
            "Epoch 32/200\n",
            "47/47 [==============================] - 1s 11ms/step - loss: 0.0015 - mse: 0.0015 - mae: 0.0295 - mape: 21264.3032 - val_loss: 2.2100e-04 - val_mse: 2.2100e-04 - val_mae: 0.0106 - val_mape: 1.7857\n",
            "Epoch 33/200\n",
            "47/47 [==============================] - 0s 10ms/step - loss: 0.0013 - mse: 0.0013 - mae: 0.0272 - mape: 9468.6330 - val_loss: 2.2384e-04 - val_mse: 2.2384e-04 - val_mae: 0.0108 - val_mape: 1.8174\n",
            "Epoch 34/200\n",
            "47/47 [==============================] - 1s 11ms/step - loss: 0.0012 - mse: 0.0012 - mae: 0.0261 - mape: 16212.4902 - val_loss: 6.6131e-04 - val_mse: 6.6131e-04 - val_mae: 0.0223 - val_mape: 3.7739\n",
            "Epoch 35/200\n",
            "47/47 [==============================] - 0s 10ms/step - loss: 0.0017 - mse: 0.0017 - mae: 0.0306 - mape: 25982.4566 - val_loss: 6.6892e-04 - val_mse: 6.6892e-04 - val_mae: 0.0229 - val_mape: 3.7712\n",
            "Epoch 36/200\n",
            "47/47 [==============================] - 1s 11ms/step - loss: 0.0014 - mse: 0.0014 - mae: 0.0280 - mape: 48705.0560 - val_loss: 4.2109e-04 - val_mse: 4.2109e-04 - val_mae: 0.0165 - val_mape: 2.8259\n",
            "Epoch 37/200\n",
            "47/47 [==============================] - 0s 10ms/step - loss: 0.0012 - mse: 0.0012 - mae: 0.0270 - mape: 40615.9674 - val_loss: 2.0755e-04 - val_mse: 2.0755e-04 - val_mae: 0.0104 - val_mape: 1.7696\n",
            "Epoch 38/200\n",
            "47/47 [==============================] - 1s 12ms/step - loss: 0.0013 - mse: 0.0013 - mae: 0.0275 - mape: 24283.1220 - val_loss: 2.4688e-04 - val_mse: 2.4688e-04 - val_mae: 0.0117 - val_mape: 2.0061\n",
            "Epoch 39/200\n",
            "47/47 [==============================] - 1s 11ms/step - loss: 0.0012 - mse: 0.0012 - mae: 0.0260 - mape: 9738.9398 - val_loss: 2.3930e-04 - val_mse: 2.3930e-04 - val_mae: 0.0119 - val_mape: 1.9888\n",
            "Epoch 40/200\n",
            "47/47 [==============================] - 1s 11ms/step - loss: 0.0011 - mse: 0.0011 - mae: 0.0245 - mape: 8713.7056 - val_loss: 1.9993e-04 - val_mse: 1.9993e-04 - val_mae: 0.0104 - val_mape: 1.7755\n",
            "Epoch 41/200\n",
            "47/47 [==============================] - 0s 11ms/step - loss: 0.0013 - mse: 0.0013 - mae: 0.0262 - mape: 107094.5092 - val_loss: 1.9506e-04 - val_mse: 1.9506e-04 - val_mae: 0.0102 - val_mape: 1.7193\n",
            "Epoch 42/200\n",
            "47/47 [==============================] - 0s 10ms/step - loss: 0.0013 - mse: 0.0013 - mae: 0.0270 - mape: 130773.9549 - val_loss: 4.5157e-04 - val_mse: 4.5157e-04 - val_mae: 0.0181 - val_mape: 2.9978\n",
            "Epoch 43/200\n",
            "47/47 [==============================] - 1s 11ms/step - loss: 0.0013 - mse: 0.0013 - mae: 0.0269 - mape: 6601.3686 - val_loss: 1.9729e-04 - val_mse: 1.9729e-04 - val_mae: 0.0105 - val_mape: 1.7678\n",
            "Epoch 44/200\n",
            "47/47 [==============================] - 0s 11ms/step - loss: 0.0012 - mse: 0.0012 - mae: 0.0254 - mape: 71455.2964 - val_loss: 3.1534e-04 - val_mse: 3.1534e-04 - val_mae: 0.0143 - val_mape: 2.4326\n",
            "Epoch 45/200\n",
            "47/47 [==============================] - 0s 11ms/step - loss: 0.0011 - mse: 0.0011 - mae: 0.0248 - mape: 24006.9194 - val_loss: 2.0465e-04 - val_mse: 2.0465e-04 - val_mae: 0.0106 - val_mape: 1.8033\n",
            "Epoch 46/200\n",
            "47/47 [==============================] - 0s 11ms/step - loss: 0.0012 - mse: 0.0012 - mae: 0.0256 - mape: 68932.9421 - val_loss: 2.0811e-04 - val_mse: 2.0811e-04 - val_mae: 0.0106 - val_mape: 1.7867\n",
            "Epoch 47/200\n",
            "47/47 [==============================] - 0s 10ms/step - loss: 0.0010 - mse: 0.0010 - mae: 0.0239 - mape: 48478.4777 - val_loss: 4.4865e-04 - val_mse: 4.4865e-04 - val_mae: 0.0178 - val_mape: 2.9634\n",
            "Epoch 48/200\n",
            "47/47 [==============================] - 1s 11ms/step - loss: 0.0011 - mse: 0.0011 - mae: 0.0250 - mape: 14967.6486 - val_loss: 2.0707e-04 - val_mse: 2.0707e-04 - val_mae: 0.0107 - val_mape: 1.8082\n",
            "Epoch 49/200\n",
            "47/47 [==============================] - 0s 10ms/step - loss: 0.0011 - mse: 0.0011 - mae: 0.0247 - mape: 10034.9088 - val_loss: 4.6630e-04 - val_mse: 4.6630e-04 - val_mae: 0.0186 - val_mape: 3.0653\n",
            "Epoch 50/200\n",
            "47/47 [==============================] - 1s 11ms/step - loss: 0.0010 - mse: 0.0010 - mae: 0.0239 - mape: 5191.3044 - val_loss: 1.9159e-04 - val_mse: 1.9159e-04 - val_mae: 0.0103 - val_mape: 1.7365\n",
            "Epoch 51/200\n",
            "47/47 [==============================] - 1s 11ms/step - loss: 0.0011 - mse: 0.0011 - mae: 0.0243 - mape: 84833.9738 - val_loss: 4.8155e-04 - val_mse: 4.8155e-04 - val_mae: 0.0189 - val_mape: 3.1272\n",
            "Epoch 52/200\n",
            "47/47 [==============================] - 0s 11ms/step - loss: 0.0010 - mse: 0.0010 - mae: 0.0242 - mape: 33852.7556 - val_loss: 2.7919e-04 - val_mse: 2.7919e-04 - val_mae: 0.0133 - val_mape: 2.2126\n",
            "Epoch 53/200\n",
            "47/47 [==============================] - 0s 11ms/step - loss: 0.0010 - mse: 0.0010 - mae: 0.0234 - mape: 989.8848 - val_loss: 1.8015e-04 - val_mse: 1.8015e-04 - val_mae: 0.0097 - val_mape: 1.6435\n",
            "Epoch 54/200\n",
            "47/47 [==============================] - 1s 11ms/step - loss: 0.0011 - mse: 0.0011 - mae: 0.0242 - mape: 22041.5085 - val_loss: 3.0604e-04 - val_mse: 3.0604e-04 - val_mae: 0.0142 - val_mape: 2.4047\n",
            "Epoch 55/200\n",
            "47/47 [==============================] - 1s 11ms/step - loss: 9.9597e-04 - mse: 9.9597e-04 - mae: 0.0237 - mape: 16351.0556 - val_loss: 1.8826e-04 - val_mse: 1.8826e-04 - val_mae: 0.0098 - val_mape: 1.6614\n",
            "Epoch 56/200\n",
            "47/47 [==============================] - 0s 11ms/step - loss: 0.0012 - mse: 0.0012 - mae: 0.0263 - mape: 19649.2419 - val_loss: 2.1155e-04 - val_mse: 2.1155e-04 - val_mae: 0.0108 - val_mape: 1.8289\n",
            "Epoch 57/200\n",
            "47/47 [==============================] - 0s 11ms/step - loss: 0.0010 - mse: 0.0010 - mae: 0.0242 - mape: 15131.9907 - val_loss: 5.6271e-04 - val_mse: 5.6271e-04 - val_mae: 0.0208 - val_mape: 3.4433\n",
            "Epoch 58/200\n",
            "47/47 [==============================] - 1s 11ms/step - loss: 9.8006e-04 - mse: 9.8006e-04 - mae: 0.0230 - mape: 149728.4459 - val_loss: 1.8800e-04 - val_mse: 1.8800e-04 - val_mae: 0.0101 - val_mape: 1.7283\n",
            "Epoch 59/200\n",
            "47/47 [==============================] - 0s 10ms/step - loss: 0.0010 - mse: 0.0010 - mae: 0.0241 - mape: 75219.5309 - val_loss: 2.0035e-04 - val_mse: 2.0035e-04 - val_mae: 0.0105 - val_mape: 1.8034\n",
            "Epoch 60/200\n",
            "47/47 [==============================] - 0s 11ms/step - loss: 8.8696e-04 - mse: 8.8696e-04 - mae: 0.0224 - mape: 2419.6897 - val_loss: 5.5472e-04 - val_mse: 5.5472e-04 - val_mae: 0.0204 - val_mape: 3.4191\n",
            "Epoch 61/200\n",
            "47/47 [==============================] - 0s 10ms/step - loss: 9.3228e-04 - mse: 9.3228e-04 - mae: 0.0234 - mape: 72615.4535 - val_loss: 6.8965e-04 - val_mse: 6.8965e-04 - val_mae: 0.0233 - val_mape: 3.9326\n",
            "Epoch 62/200\n",
            "47/47 [==============================] - 0s 10ms/step - loss: 0.0010 - mse: 0.0010 - mae: 0.0238 - mape: 21868.6640 - val_loss: 3.8578e-04 - val_mse: 3.8578e-04 - val_mae: 0.0165 - val_mape: 2.7727\n",
            "Epoch 63/200\n",
            "47/47 [==============================] - 0s 10ms/step - loss: 8.8464e-04 - mse: 8.8464e-04 - mae: 0.0223 - mape: 55251.4784 - val_loss: 3.0921e-04 - val_mse: 3.0921e-04 - val_mae: 0.0142 - val_mape: 2.4120\n",
            "Epoch 64/200\n",
            "47/47 [==============================] - 1s 11ms/step - loss: 0.0010 - mse: 0.0010 - mae: 0.0235 - mape: 9135.5369 - val_loss: 2.9862e-04 - val_mse: 2.9862e-04 - val_mae: 0.0141 - val_mape: 2.3344\n",
            "Epoch 65/200\n",
            "47/47 [==============================] - 1s 11ms/step - loss: 8.6899e-04 - mse: 8.6899e-04 - mae: 0.0222 - mape: 29990.1196 - val_loss: 2.4937e-04 - val_mse: 2.4937e-04 - val_mae: 0.0123 - val_mape: 2.0946\n",
            "Epoch 66/200\n",
            "47/47 [==============================] - 1s 11ms/step - loss: 8.0710e-04 - mse: 8.0710e-04 - mae: 0.0214 - mape: 20859.2398 - val_loss: 2.0281e-04 - val_mse: 2.0281e-04 - val_mae: 0.0107 - val_mape: 1.8242\n",
            "Epoch 67/200\n",
            "47/47 [==============================] - 0s 10ms/step - loss: 0.0011 - mse: 0.0011 - mae: 0.0242 - mape: 126494.7567 - val_loss: 1.8046e-04 - val_mse: 1.8046e-04 - val_mae: 0.0100 - val_mape: 1.6875\n",
            "Epoch 68/200\n",
            "47/47 [==============================] - 0s 11ms/step - loss: 9.1347e-04 - mse: 9.1347e-04 - mae: 0.0225 - mape: 36734.6934 - val_loss: 7.8024e-04 - val_mse: 7.8024e-04 - val_mae: 0.0254 - val_mape: 4.2144\n",
            "Epoch 69/200\n",
            "47/47 [==============================] - 0s 10ms/step - loss: 9.4289e-04 - mse: 9.4289e-04 - mae: 0.0233 - mape: 76083.7826 - val_loss: 1.9928e-04 - val_mse: 1.9928e-04 - val_mae: 0.0107 - val_mape: 1.8222\n",
            "Epoch 70/200\n",
            "47/47 [==============================] - 0s 10ms/step - loss: 9.4763e-04 - mse: 9.4763e-04 - mae: 0.0226 - mape: 34169.1739 - val_loss: 2.1633e-04 - val_mse: 2.1633e-04 - val_mae: 0.0114 - val_mape: 1.9049\n",
            "Epoch 71/200\n",
            "47/47 [==============================] - 0s 10ms/step - loss: 9.4381e-04 - mse: 9.4381e-04 - mae: 0.0236 - mape: 86674.8588 - val_loss: 2.2872e-04 - val_mse: 2.2872e-04 - val_mae: 0.0117 - val_mape: 1.9869\n",
            "Epoch 72/200\n",
            "47/47 [==============================] - 0s 11ms/step - loss: 8.3520e-04 - mse: 8.3520e-04 - mae: 0.0216 - mape: 25658.0023 - val_loss: 2.3384e-04 - val_mse: 2.3384e-04 - val_mae: 0.0117 - val_mape: 1.9727\n",
            "Epoch 73/200\n",
            "47/47 [==============================] - 0s 10ms/step - loss: 8.3348e-04 - mse: 8.3348e-04 - mae: 0.0212 - mape: 5659.5596 - val_loss: 2.2910e-04 - val_mse: 2.2910e-04 - val_mae: 0.0116 - val_mape: 1.9454\n",
            "Epoch 74/200\n",
            "47/47 [==============================] - 0s 10ms/step - loss: 7.6960e-04 - mse: 7.6960e-04 - mae: 0.0210 - mape: 24678.5261 - val_loss: 4.5433e-04 - val_mse: 4.5433e-04 - val_mae: 0.0183 - val_mape: 3.0285\n",
            "Epoch 75/200\n",
            "47/47 [==============================] - 0s 10ms/step - loss: 0.0010 - mse: 0.0010 - mae: 0.0242 - mape: 9820.9546 - val_loss: 4.3323e-04 - val_mse: 4.3323e-04 - val_mae: 0.0177 - val_mape: 3.0013\n",
            "Epoch 76/200\n",
            "47/47 [==============================] - 0s 10ms/step - loss: 0.0011 - mse: 0.0011 - mae: 0.0257 - mape: 29934.6646 - val_loss: 4.8276e-04 - val_mse: 4.8276e-04 - val_mae: 0.0187 - val_mape: 3.1244\n",
            "Epoch 77/200\n",
            "47/47 [==============================] - 0s 10ms/step - loss: 8.7622e-04 - mse: 8.7622e-04 - mae: 0.0222 - mape: 8901.1963 - val_loss: 1.7763e-04 - val_mse: 1.7763e-04 - val_mae: 0.0096 - val_mape: 1.6323\n",
            "Epoch 78/200\n",
            "47/47 [==============================] - 0s 10ms/step - loss: 7.7789e-04 - mse: 7.7789e-04 - mae: 0.0208 - mape: 12532.0969 - val_loss: 1.8873e-04 - val_mse: 1.8873e-04 - val_mae: 0.0100 - val_mape: 1.6936\n",
            "Epoch 79/200\n",
            "47/47 [==============================] - 0s 11ms/step - loss: 8.5842e-04 - mse: 8.5842e-04 - mae: 0.0215 - mape: 24734.7055 - val_loss: 2.3756e-04 - val_mse: 2.3756e-04 - val_mae: 0.0121 - val_mape: 2.0597\n",
            "Epoch 80/200\n",
            "47/47 [==============================] - 0s 10ms/step - loss: 8.3962e-04 - mse: 8.3962e-04 - mae: 0.0222 - mape: 50942.6152 - val_loss: 1.7523e-04 - val_mse: 1.7523e-04 - val_mae: 0.0099 - val_mape: 1.6775\n",
            "Epoch 81/200\n",
            "47/47 [==============================] - 0s 10ms/step - loss: 9.3842e-04 - mse: 9.3842e-04 - mae: 0.0229 - mape: 28940.8133 - val_loss: 3.8312e-04 - val_mse: 3.8312e-04 - val_mae: 0.0163 - val_mape: 2.7164\n",
            "Epoch 82/200\n",
            "47/47 [==============================] - 1s 11ms/step - loss: 7.1497e-04 - mse: 7.1497e-04 - mae: 0.0202 - mape: 70020.7219 - val_loss: 1.6837e-04 - val_mse: 1.6837e-04 - val_mae: 0.0094 - val_mape: 1.5974\n",
            "Epoch 83/200\n",
            "47/47 [==============================] - 0s 10ms/step - loss: 9.2152e-04 - mse: 9.2152e-04 - mae: 0.0228 - mape: 12320.6527 - val_loss: 3.2998e-04 - val_mse: 3.2998e-04 - val_mae: 0.0140 - val_mape: 2.3793\n",
            "Epoch 84/200\n",
            "47/47 [==============================] - 0s 10ms/step - loss: 8.0274e-04 - mse: 8.0274e-04 - mae: 0.0213 - mape: 93481.0590 - val_loss: 5.3469e-04 - val_mse: 5.3469e-04 - val_mae: 0.0202 - val_mape: 3.4175\n",
            "Epoch 85/200\n",
            "47/47 [==============================] - 0s 11ms/step - loss: 9.8684e-04 - mse: 9.8684e-04 - mae: 0.0237 - mape: 16799.2951 - val_loss: 1.9013e-04 - val_mse: 1.9013e-04 - val_mae: 0.0101 - val_mape: 1.7122\n",
            "Epoch 86/200\n",
            "47/47 [==============================] - 0s 10ms/step - loss: 0.0010 - mse: 0.0010 - mae: 0.0230 - mape: 30182.6264 - val_loss: 1.7566e-04 - val_mse: 1.7566e-04 - val_mae: 0.0095 - val_mape: 1.6180\n",
            "Epoch 87/200\n",
            "47/47 [==============================] - 1s 11ms/step - loss: 8.0675e-04 - mse: 8.0675e-04 - mae: 0.0208 - mape: 51688.6526 - val_loss: 2.9420e-04 - val_mse: 2.9420e-04 - val_mae: 0.0139 - val_mape: 2.3174\n",
            "Epoch 88/200\n",
            "47/47 [==============================] - 0s 10ms/step - loss: 9.2401e-04 - mse: 9.2401e-04 - mae: 0.0227 - mape: 16414.2245 - val_loss: 3.1185e-04 - val_mse: 3.1185e-04 - val_mae: 0.0146 - val_mape: 2.4670\n",
            "Epoch 89/200\n",
            "47/47 [==============================] - 0s 10ms/step - loss: 8.1074e-04 - mse: 8.1074e-04 - mae: 0.0209 - mape: 5291.6719 - val_loss: 1.6815e-04 - val_mse: 1.6815e-04 - val_mae: 0.0096 - val_mape: 1.6262\n",
            "Epoch 90/200\n",
            "47/47 [==============================] - 1s 11ms/step - loss: 6.9923e-04 - mse: 6.9923e-04 - mae: 0.0198 - mape: 39643.3853 - val_loss: 3.1604e-04 - val_mse: 3.1604e-04 - val_mae: 0.0147 - val_mape: 2.4623\n",
            "Epoch 91/200\n",
            "47/47 [==============================] - 0s 10ms/step - loss: 7.8611e-04 - mse: 7.8611e-04 - mae: 0.0211 - mape: 15979.8630 - val_loss: 1.9605e-04 - val_mse: 1.9605e-04 - val_mae: 0.0105 - val_mape: 1.7937\n",
            "Epoch 92/200\n",
            "47/47 [==============================] - 0s 10ms/step - loss: 8.1471e-04 - mse: 8.1471e-04 - mae: 0.0215 - mape: 19833.3535 - val_loss: 2.5065e-04 - val_mse: 2.5065e-04 - val_mae: 0.0125 - val_mape: 2.1309\n",
            "Epoch 93/200\n",
            "47/47 [==============================] - 0s 11ms/step - loss: 8.2668e-04 - mse: 8.2668e-04 - mae: 0.0213 - mape: 62683.9838 - val_loss: 1.7247e-04 - val_mse: 1.7247e-04 - val_mae: 0.0095 - val_mape: 1.6113\n",
            "Epoch 94/200\n",
            "47/47 [==============================] - 0s 10ms/step - loss: 7.4206e-04 - mse: 7.4206e-04 - mae: 0.0209 - mape: 2926.5772 - val_loss: 2.0257e-04 - val_mse: 2.0257e-04 - val_mae: 0.0108 - val_mape: 1.8467\n",
            "Epoch 95/200\n",
            "47/47 [==============================] - 0s 11ms/step - loss: 7.9455e-04 - mse: 7.9455e-04 - mae: 0.0207 - mape: 1185.2567 - val_loss: 2.0310e-04 - val_mse: 2.0310e-04 - val_mae: 0.0108 - val_mape: 1.8131\n",
            "Epoch 96/200\n",
            "47/47 [==============================] - 0s 11ms/step - loss: 8.5309e-04 - mse: 8.5309e-04 - mae: 0.0214 - mape: 31644.5064 - val_loss: 4.8925e-04 - val_mse: 4.8925e-04 - val_mae: 0.0192 - val_mape: 3.2269\n",
            "Epoch 97/200\n",
            "47/47 [==============================] - 1s 11ms/step - loss: 7.6595e-04 - mse: 7.6595e-04 - mae: 0.0202 - mape: 56941.3361 - val_loss: 2.9682e-04 - val_mse: 2.9682e-04 - val_mae: 0.0140 - val_mape: 2.3270\n",
            "Epoch 98/200\n",
            "47/47 [==============================] - 0s 10ms/step - loss: 7.4195e-04 - mse: 7.4195e-04 - mae: 0.0206 - mape: 2035.7394 - val_loss: 2.1677e-04 - val_mse: 2.1677e-04 - val_mae: 0.0113 - val_mape: 1.9008\n",
            "Epoch 99/200\n",
            "47/47 [==============================] - 1s 11ms/step - loss: 8.4255e-04 - mse: 8.4255e-04 - mae: 0.0212 - mape: 6150.2368 - val_loss: 2.4958e-04 - val_mse: 2.4958e-04 - val_mae: 0.0126 - val_mape: 2.1502\n",
            "Epoch 100/200\n",
            "47/47 [==============================] - 0s 10ms/step - loss: 7.9443e-04 - mse: 7.9443e-04 - mae: 0.0205 - mape: 31061.1785 - val_loss: 0.0012 - val_mse: 0.0012 - val_mae: 0.0323 - val_mape: 5.3498\n",
            "Epoch 101/200\n",
            "47/47 [==============================] - 0s 10ms/step - loss: 8.3365e-04 - mse: 8.3365e-04 - mae: 0.0219 - mape: 11191.1602 - val_loss: 2.0412e-04 - val_mse: 2.0412e-04 - val_mae: 0.0109 - val_mape: 1.8365\n",
            "Epoch 102/200\n",
            "47/47 [==============================] - 0s 10ms/step - loss: 7.8213e-04 - mse: 7.8213e-04 - mae: 0.0208 - mape: 4458.1481 - val_loss: 2.1906e-04 - val_mse: 2.1906e-04 - val_mae: 0.0115 - val_mape: 1.9566\n",
            "Epoch 103/200\n",
            "47/47 [==============================] - 0s 10ms/step - loss: 7.4356e-04 - mse: 7.4356e-04 - mae: 0.0203 - mape: 21869.3425 - val_loss: 3.2714e-04 - val_mse: 3.2714e-04 - val_mae: 0.0151 - val_mape: 2.5376\n",
            "Epoch 104/200\n",
            "47/47 [==============================] - 0s 10ms/step - loss: 7.2517e-04 - mse: 7.2517e-04 - mae: 0.0200 - mape: 6195.8259 - val_loss: 2.0429e-04 - val_mse: 2.0429e-04 - val_mae: 0.0107 - val_mape: 1.8056\n",
            "Epoch 105/200\n",
            "47/47 [==============================] - 0s 11ms/step - loss: 7.2700e-04 - mse: 7.2700e-04 - mae: 0.0200 - mape: 10743.5078 - val_loss: 2.3975e-04 - val_mse: 2.3975e-04 - val_mae: 0.0121 - val_mape: 2.0190\n",
            "Epoch 106/200\n",
            "47/47 [==============================] - 0s 10ms/step - loss: 7.3697e-04 - mse: 7.3697e-04 - mae: 0.0207 - mape: 33737.7382 - val_loss: 2.7428e-04 - val_mse: 2.7428e-04 - val_mae: 0.0132 - val_mape: 2.2017\n",
            "Epoch 107/200\n",
            "47/47 [==============================] - 1s 11ms/step - loss: 7.3668e-04 - mse: 7.3668e-04 - mae: 0.0203 - mape: 42025.9094 - val_loss: 2.4269e-04 - val_mse: 2.4269e-04 - val_mae: 0.0124 - val_mape: 2.1040\n",
            "Epoch 108/200\n",
            "47/47 [==============================] - 1s 12ms/step - loss: 7.7524e-04 - mse: 7.7524e-04 - mae: 0.0205 - mape: 9345.6756 - val_loss: 2.3089e-04 - val_mse: 2.3089e-04 - val_mae: 0.0117 - val_mape: 1.9754\n",
            "Epoch 109/200\n",
            "47/47 [==============================] - 1s 12ms/step - loss: 6.9281e-04 - mse: 6.9281e-04 - mae: 0.0198 - mape: 13578.0277 - val_loss: 2.8169e-04 - val_mse: 2.8169e-04 - val_mae: 0.0135 - val_mape: 2.2488\n",
            "Epoch 110/200\n",
            "47/47 [==============================] - 1s 12ms/step - loss: 7.1419e-04 - mse: 7.1419e-04 - mae: 0.0199 - mape: 30044.5381 - val_loss: 4.0616e-04 - val_mse: 4.0616e-04 - val_mae: 0.0170 - val_mape: 2.8489\n",
            "Epoch 111/200\n",
            "47/47 [==============================] - 0s 10ms/step - loss: 8.2051e-04 - mse: 8.2051e-04 - mae: 0.0215 - mape: 38335.3373 - val_loss: 1.8151e-04 - val_mse: 1.8151e-04 - val_mae: 0.0100 - val_mape: 1.7135\n",
            "Epoch 112/200\n",
            "47/47 [==============================] - 0s 10ms/step - loss: 6.0609e-04 - mse: 6.0609e-04 - mae: 0.0186 - mape: 19785.8957 - val_loss: 2.3175e-04 - val_mse: 2.3175e-04 - val_mae: 0.0117 - val_mape: 1.9674\n",
            "Epoch 113/200\n",
            "47/47 [==============================] - 0s 10ms/step - loss: 7.3116e-04 - mse: 7.3116e-04 - mae: 0.0201 - mape: 3056.7086 - val_loss: 3.7800e-04 - val_mse: 3.7800e-04 - val_mae: 0.0164 - val_mape: 2.7184\n",
            "Epoch 114/200\n",
            "47/47 [==============================] - 0s 10ms/step - loss: 7.7626e-04 - mse: 7.7626e-04 - mae: 0.0204 - mape: 37544.0897 - val_loss: 1.8687e-04 - val_mse: 1.8687e-04 - val_mae: 0.0103 - val_mape: 1.7318\n",
            "Epoch 115/200\n",
            "47/47 [==============================] - 1s 11ms/step - loss: 6.3294e-04 - mse: 6.3294e-04 - mae: 0.0186 - mape: 15574.1843 - val_loss: 1.6641e-04 - val_mse: 1.6641e-04 - val_mae: 0.0097 - val_mape: 1.6499\n",
            "Epoch 116/200\n",
            "47/47 [==============================] - 1s 11ms/step - loss: 8.0350e-04 - mse: 8.0350e-04 - mae: 0.0208 - mape: 15976.8205 - val_loss: 1.9757e-04 - val_mse: 1.9757e-04 - val_mae: 0.0106 - val_mape: 1.8013\n",
            "Epoch 117/200\n",
            "47/47 [==============================] - 1s 11ms/step - loss: 7.3098e-04 - mse: 7.3098e-04 - mae: 0.0190 - mape: 5496.0334 - val_loss: 2.5824e-04 - val_mse: 2.5824e-04 - val_mae: 0.0129 - val_mape: 2.1927\n",
            "Epoch 118/200\n",
            "47/47 [==============================] - 0s 10ms/step - loss: 6.7768e-04 - mse: 6.7768e-04 - mae: 0.0199 - mape: 20098.7611 - val_loss: 1.9828e-04 - val_mse: 1.9828e-04 - val_mae: 0.0106 - val_mape: 1.8241\n",
            "Epoch 119/200\n",
            "47/47 [==============================] - 1s 11ms/step - loss: 6.8773e-04 - mse: 6.8773e-04 - mae: 0.0193 - mape: 64316.1577 - val_loss: 1.9089e-04 - val_mse: 1.9089e-04 - val_mae: 0.0105 - val_mape: 1.7632\n",
            "Epoch 120/200\n",
            "47/47 [==============================] - 0s 11ms/step - loss: 6.2393e-04 - mse: 6.2393e-04 - mae: 0.0187 - mape: 1639.4528 - val_loss: 8.5900e-04 - val_mse: 8.5900e-04 - val_mae: 0.0269 - val_mape: 4.4709\n",
            "Epoch 121/200\n",
            "47/47 [==============================] - 0s 11ms/step - loss: 6.6003e-04 - mse: 6.6003e-04 - mae: 0.0190 - mape: 4656.8599 - val_loss: 4.9291e-04 - val_mse: 4.9291e-04 - val_mae: 0.0192 - val_mape: 3.2690\n",
            "Epoch 122/200\n",
            "47/47 [==============================] - 1s 11ms/step - loss: 7.7392e-04 - mse: 7.7392e-04 - mae: 0.0211 - mape: 37769.1387 - val_loss: 1.7929e-04 - val_mse: 1.7929e-04 - val_mae: 0.0100 - val_mape: 1.7127\n",
            "Epoch 123/200\n",
            "47/47 [==============================] - 1s 11ms/step - loss: 7.1334e-04 - mse: 7.1334e-04 - mae: 0.0199 - mape: 39587.5262 - val_loss: 1.7946e-04 - val_mse: 1.7946e-04 - val_mae: 0.0099 - val_mape: 1.6719\n",
            "Epoch 124/200\n",
            "47/47 [==============================] - 1s 11ms/step - loss: 5.6837e-04 - mse: 5.6837e-04 - mae: 0.0177 - mape: 19786.9867 - val_loss: 7.2292e-04 - val_mse: 7.2292e-04 - val_mae: 0.0241 - val_mape: 4.0755\n",
            "Epoch 125/200\n",
            "47/47 [==============================] - 0s 11ms/step - loss: 8.7654e-04 - mse: 8.7654e-04 - mae: 0.0214 - mape: 13846.3633 - val_loss: 3.0099e-04 - val_mse: 3.0099e-04 - val_mae: 0.0143 - val_mape: 2.4150\n",
            "Epoch 126/200\n",
            "47/47 [==============================] - 1s 11ms/step - loss: 6.6853e-04 - mse: 6.6853e-04 - mae: 0.0193 - mape: 45017.5995 - val_loss: 3.9402e-04 - val_mse: 3.9402e-04 - val_mae: 0.0166 - val_mape: 2.7592\n",
            "Epoch 127/200\n",
            "47/47 [==============================] - 1s 11ms/step - loss: 5.7113e-04 - mse: 5.7113e-04 - mae: 0.0178 - mape: 36732.5594 - val_loss: 2.0404e-04 - val_mse: 2.0404e-04 - val_mae: 0.0109 - val_mape: 1.8318\n",
            "Epoch 128/200\n",
            "47/47 [==============================] - 1s 11ms/step - loss: 7.3090e-04 - mse: 7.3090e-04 - mae: 0.0207 - mape: 9433.3584 - val_loss: 4.4679e-04 - val_mse: 4.4679e-04 - val_mae: 0.0181 - val_mape: 3.0190\n",
            "Epoch 129/200\n",
            "47/47 [==============================] - 1s 12ms/step - loss: 7.4301e-04 - mse: 7.4301e-04 - mae: 0.0202 - mape: 7792.0888 - val_loss: 2.0979e-04 - val_mse: 2.0979e-04 - val_mae: 0.0114 - val_mape: 1.9005\n",
            "Epoch 130/200\n",
            "47/47 [==============================] - 1s 11ms/step - loss: 7.2872e-04 - mse: 7.2872e-04 - mae: 0.0192 - mape: 18614.6297 - val_loss: 2.6714e-04 - val_mse: 2.6714e-04 - val_mae: 0.0131 - val_mape: 2.1767\n",
            "Epoch 131/200\n",
            "47/47 [==============================] - 1s 11ms/step - loss: 6.4813e-04 - mse: 6.4813e-04 - mae: 0.0190 - mape: 86647.7321 - val_loss: 2.3694e-04 - val_mse: 2.3694e-04 - val_mae: 0.0122 - val_mape: 2.0383\n",
            "Epoch 132/200\n",
            "47/47 [==============================] - 1s 11ms/step - loss: 6.7106e-04 - mse: 6.7106e-04 - mae: 0.0199 - mape: 14505.1245 - val_loss: 1.6917e-04 - val_mse: 1.6917e-04 - val_mae: 0.0094 - val_mape: 1.5959\n",
            "Epoch 133/200\n",
            "47/47 [==============================] - 1s 11ms/step - loss: 5.9000e-04 - mse: 5.9000e-04 - mae: 0.0177 - mape: 5091.3743 - val_loss: 1.6292e-04 - val_mse: 1.6292e-04 - val_mae: 0.0095 - val_mape: 1.6039\n",
            "Epoch 134/200\n",
            "47/47 [==============================] - 1s 11ms/step - loss: 6.4455e-04 - mse: 6.4455e-04 - mae: 0.0191 - mape: 20889.3409 - val_loss: 2.3710e-04 - val_mse: 2.3710e-04 - val_mae: 0.0121 - val_mape: 2.0218\n",
            "Epoch 135/200\n",
            "47/47 [==============================] - 0s 10ms/step - loss: 5.9081e-04 - mse: 5.9081e-04 - mae: 0.0181 - mape: 3011.1498 - val_loss: 1.8268e-04 - val_mse: 1.8268e-04 - val_mae: 0.0100 - val_mape: 1.7193\n",
            "Epoch 136/200\n",
            "47/47 [==============================] - 1s 11ms/step - loss: 6.4378e-04 - mse: 6.4378e-04 - mae: 0.0190 - mape: 62111.4369 - val_loss: 7.3257e-04 - val_mse: 7.3257e-04 - val_mae: 0.0244 - val_mape: 4.0338\n",
            "Epoch 137/200\n",
            "47/47 [==============================] - 1s 11ms/step - loss: 6.4977e-04 - mse: 6.4977e-04 - mae: 0.0188 - mape: 5588.3896 - val_loss: 1.6552e-04 - val_mse: 1.6552e-04 - val_mae: 0.0095 - val_mape: 1.6023\n",
            "Epoch 138/200\n",
            "47/47 [==============================] - 1s 11ms/step - loss: 7.3954e-04 - mse: 7.3954e-04 - mae: 0.0201 - mape: 8806.8041 - val_loss: 2.0257e-04 - val_mse: 2.0257e-04 - val_mae: 0.0109 - val_mape: 1.8435\n",
            "Epoch 139/200\n",
            "47/47 [==============================] - 1s 11ms/step - loss: 6.4923e-04 - mse: 6.4923e-04 - mae: 0.0189 - mape: 35193.0026 - val_loss: 3.0278e-04 - val_mse: 3.0278e-04 - val_mae: 0.0144 - val_mape: 2.4236\n",
            "Epoch 140/200\n",
            "47/47 [==============================] - 1s 11ms/step - loss: 6.0828e-04 - mse: 6.0828e-04 - mae: 0.0185 - mape: 15229.8254 - val_loss: 3.6946e-04 - val_mse: 3.6946e-04 - val_mae: 0.0159 - val_mape: 2.6521\n",
            "Epoch 141/200\n",
            "47/47 [==============================] - 1s 11ms/step - loss: 6.0149e-04 - mse: 6.0149e-04 - mae: 0.0183 - mape: 917.7755 - val_loss: 2.5064e-04 - val_mse: 2.5064e-04 - val_mae: 0.0119 - val_mape: 2.0584\n",
            "Epoch 142/200\n",
            "47/47 [==============================] - 0s 11ms/step - loss: 6.4216e-04 - mse: 6.4216e-04 - mae: 0.0192 - mape: 83491.7756 - val_loss: 2.6070e-04 - val_mse: 2.6070e-04 - val_mae: 0.0125 - val_mape: 2.1002\n",
            "Epoch 143/200\n",
            "47/47 [==============================] - 1s 11ms/step - loss: 6.5249e-04 - mse: 6.5249e-04 - mae: 0.0192 - mape: 59525.3115 - val_loss: 1.9487e-04 - val_mse: 1.9487e-04 - val_mae: 0.0105 - val_mape: 1.7863\n",
            "Epoch 144/200\n",
            "47/47 [==============================] - 0s 10ms/step - loss: 7.7192e-04 - mse: 7.7192e-04 - mae: 0.0213 - mape: 7993.1545 - val_loss: 2.8517e-04 - val_mse: 2.8517e-04 - val_mae: 0.0138 - val_mape: 2.3096\n",
            "Epoch 145/200\n",
            "47/47 [==============================] - 0s 10ms/step - loss: 6.4508e-04 - mse: 6.4508e-04 - mae: 0.0190 - mape: 1700.2658 - val_loss: 2.6744e-04 - val_mse: 2.6744e-04 - val_mae: 0.0128 - val_mape: 2.1508\n",
            "Epoch 146/200\n",
            "47/47 [==============================] - 1s 11ms/step - loss: 5.4921e-04 - mse: 5.4921e-04 - mae: 0.0172 - mape: 12772.0973 - val_loss: 2.8497e-04 - val_mse: 2.8497e-04 - val_mae: 0.0135 - val_mape: 2.2444\n",
            "Epoch 147/200\n",
            "47/47 [==============================] - 0s 10ms/step - loss: 7.0340e-04 - mse: 7.0340e-04 - mae: 0.0193 - mape: 4479.4762 - val_loss: 1.7100e-04 - val_mse: 1.7100e-04 - val_mae: 0.0096 - val_mape: 1.6242\n",
            "Epoch 148/200\n",
            "47/47 [==============================] - 1s 11ms/step - loss: 5.8546e-04 - mse: 5.8546e-04 - mae: 0.0183 - mape: 8174.7525 - val_loss: 2.6400e-04 - val_mse: 2.6400e-04 - val_mae: 0.0130 - val_mape: 2.1654\n",
            "Epoch 149/200\n",
            "47/47 [==============================] - 0s 11ms/step - loss: 6.7820e-04 - mse: 6.7820e-04 - mae: 0.0193 - mape: 11024.7337 - val_loss: 2.5756e-04 - val_mse: 2.5756e-04 - val_mae: 0.0128 - val_mape: 2.1377\n",
            "Epoch 150/200\n",
            "47/47 [==============================] - 1s 11ms/step - loss: 6.7984e-04 - mse: 6.7984e-04 - mae: 0.0186 - mape: 71607.6623 - val_loss: 1.9661e-04 - val_mse: 1.9661e-04 - val_mae: 0.0106 - val_mape: 1.7850\n",
            "Epoch 151/200\n",
            "47/47 [==============================] - 0s 10ms/step - loss: 6.2247e-04 - mse: 6.2247e-04 - mae: 0.0179 - mape: 55621.1014 - val_loss: 2.0953e-04 - val_mse: 2.0953e-04 - val_mae: 0.0110 - val_mape: 1.8895\n",
            "Epoch 152/200\n",
            "47/47 [==============================] - 0s 11ms/step - loss: 6.5866e-04 - mse: 6.5866e-04 - mae: 0.0191 - mape: 19165.4006 - val_loss: 1.6603e-04 - val_mse: 1.6603e-04 - val_mae: 0.0093 - val_mape: 1.5761\n",
            "Epoch 153/200\n",
            "47/47 [==============================] - 1s 11ms/step - loss: 5.9609e-04 - mse: 5.9609e-04 - mae: 0.0182 - mape: 1427.4219 - val_loss: 1.6347e-04 - val_mse: 1.6347e-04 - val_mae: 0.0094 - val_mape: 1.5939\n",
            "Epoch 154/200\n",
            "47/47 [==============================] - 0s 10ms/step - loss: 6.1493e-04 - mse: 6.1493e-04 - mae: 0.0183 - mape: 45891.7279 - val_loss: 2.9747e-04 - val_mse: 2.9747e-04 - val_mae: 0.0141 - val_mape: 2.3966\n",
            "Epoch 155/200\n",
            "47/47 [==============================] - 0s 10ms/step - loss: 8.0085e-04 - mse: 8.0085e-04 - mae: 0.0217 - mape: 11440.7555 - val_loss: 2.7145e-04 - val_mse: 2.7145e-04 - val_mae: 0.0129 - val_mape: 2.1705\n",
            "Epoch 156/200\n",
            "47/47 [==============================] - 0s 10ms/step - loss: 7.3390e-04 - mse: 7.3390e-04 - mae: 0.0199 - mape: 16303.9604 - val_loss: 4.3300e-04 - val_mse: 4.3300e-04 - val_mae: 0.0178 - val_mape: 3.0004\n",
            "Epoch 157/200\n",
            "47/47 [==============================] - 0s 10ms/step - loss: 6.9740e-04 - mse: 6.9740e-04 - mae: 0.0194 - mape: 18328.2562 - val_loss: 1.7379e-04 - val_mse: 1.7379e-04 - val_mae: 0.0098 - val_mape: 1.6780\n",
            "Epoch 158/200\n",
            "47/47 [==============================] - 1s 11ms/step - loss: 7.1685e-04 - mse: 7.1685e-04 - mae: 0.0208 - mape: 312.2251 - val_loss: 3.1626e-04 - val_mse: 3.1626e-04 - val_mae: 0.0146 - val_mape: 2.4329\n",
            "Epoch 159/200\n",
            "47/47 [==============================] - 1s 11ms/step - loss: 5.9364e-04 - mse: 5.9364e-04 - mae: 0.0180 - mape: 60725.3959 - val_loss: 3.2663e-04 - val_mse: 3.2663e-04 - val_mae: 0.0149 - val_mape: 2.4720\n",
            "Epoch 160/200\n",
            "47/47 [==============================] - 1s 11ms/step - loss: 8.0991e-04 - mse: 8.0991e-04 - mae: 0.0210 - mape: 8438.2813 - val_loss: 2.3766e-04 - val_mse: 2.3766e-04 - val_mae: 0.0122 - val_mape: 2.0643\n",
            "Epoch 161/200\n",
            "47/47 [==============================] - 0s 10ms/step - loss: 6.5934e-04 - mse: 6.5934e-04 - mae: 0.0183 - mape: 5556.9272 - val_loss: 2.9340e-04 - val_mse: 2.9340e-04 - val_mae: 0.0139 - val_mape: 2.3554\n",
            "Epoch 162/200\n",
            "47/47 [==============================] - 0s 11ms/step - loss: 5.9013e-04 - mse: 5.9013e-04 - mae: 0.0181 - mape: 20542.9934 - val_loss: 2.9424e-04 - val_mse: 2.9424e-04 - val_mae: 0.0141 - val_mape: 2.3829\n",
            "Epoch 163/200\n",
            "47/47 [==============================] - 1s 11ms/step - loss: 5.7883e-04 - mse: 5.7883e-04 - mae: 0.0182 - mape: 110713.9242 - val_loss: 2.3161e-04 - val_mse: 2.3161e-04 - val_mae: 0.0120 - val_mape: 2.0321\n",
            "Epoch 164/200\n",
            "47/47 [==============================] - 1s 11ms/step - loss: 6.0436e-04 - mse: 6.0436e-04 - mae: 0.0179 - mape: 106642.8361 - val_loss: 1.9972e-04 - val_mse: 1.9972e-04 - val_mae: 0.0109 - val_mape: 1.8321\n",
            "Epoch 165/200\n",
            "47/47 [==============================] - 0s 11ms/step - loss: 5.6634e-04 - mse: 5.6634e-04 - mae: 0.0179 - mape: 198831.9153 - val_loss: 3.5812e-04 - val_mse: 3.5812e-04 - val_mae: 0.0160 - val_mape: 2.6272\n",
            "Epoch 166/200\n",
            "47/47 [==============================] - 1s 11ms/step - loss: 7.6879e-04 - mse: 7.6879e-04 - mae: 0.0209 - mape: 179803.3071 - val_loss: 4.1329e-04 - val_mse: 4.1329e-04 - val_mae: 0.0171 - val_mape: 2.9224\n",
            "Epoch 167/200\n",
            "47/47 [==============================] - 1s 11ms/step - loss: 6.0584e-04 - mse: 6.0584e-04 - mae: 0.0181 - mape: 3819.4606 - val_loss: 1.7709e-04 - val_mse: 1.7709e-04 - val_mae: 0.0098 - val_mape: 1.6566\n",
            "Epoch 168/200\n",
            "47/47 [==============================] - 1s 11ms/step - loss: 5.9923e-04 - mse: 5.9923e-04 - mae: 0.0183 - mape: 5545.6207 - val_loss: 1.9555e-04 - val_mse: 1.9555e-04 - val_mae: 0.0108 - val_mape: 1.8056\n",
            "Epoch 169/200\n",
            "47/47 [==============================] - 0s 11ms/step - loss: 5.9255e-04 - mse: 5.9255e-04 - mae: 0.0176 - mape: 24690.6934 - val_loss: 3.7614e-04 - val_mse: 3.7614e-04 - val_mae: 0.0163 - val_mape: 2.7712\n",
            "Epoch 170/200\n",
            "47/47 [==============================] - 0s 10ms/step - loss: 6.3282e-04 - mse: 6.3282e-04 - mae: 0.0188 - mape: 23497.2297 - val_loss: 2.4854e-04 - val_mse: 2.4854e-04 - val_mae: 0.0127 - val_mape: 2.1400\n",
            "Epoch 171/200\n",
            "47/47 [==============================] - 0s 10ms/step - loss: 6.2537e-04 - mse: 6.2537e-04 - mae: 0.0187 - mape: 85.9275 - val_loss: 6.9676e-04 - val_mse: 6.9676e-04 - val_mae: 0.0236 - val_mape: 4.0057\n",
            "Epoch 172/200\n",
            "47/47 [==============================] - 1s 11ms/step - loss: 8.4432e-04 - mse: 8.4432e-04 - mae: 0.0222 - mape: 17141.1497 - val_loss: 3.7668e-04 - val_mse: 3.7668e-04 - val_mae: 0.0164 - val_mape: 2.7690\n",
            "Epoch 173/200\n",
            "47/47 [==============================] - 0s 10ms/step - loss: 5.8696e-04 - mse: 5.8696e-04 - mae: 0.0176 - mape: 11237.8326 - val_loss: 1.7777e-04 - val_mse: 1.7777e-04 - val_mae: 0.0099 - val_mape: 1.6953\n",
            "Epoch 174/200\n",
            "47/47 [==============================] - 1s 11ms/step - loss: 7.0976e-04 - mse: 7.0976e-04 - mae: 0.0193 - mape: 147328.3678 - val_loss: 3.9075e-04 - val_mse: 3.9075e-04 - val_mae: 0.0167 - val_mape: 2.8277\n",
            "Epoch 175/200\n",
            "47/47 [==============================] - 0s 11ms/step - loss: 5.4049e-04 - mse: 5.4049e-04 - mae: 0.0171 - mape: 10444.1171 - val_loss: 2.8142e-04 - val_mse: 2.8142e-04 - val_mae: 0.0134 - val_mape: 2.2331\n",
            "Epoch 176/200\n",
            "47/47 [==============================] - 1s 11ms/step - loss: 6.4785e-04 - mse: 6.4785e-04 - mae: 0.0191 - mape: 171505.8751 - val_loss: 2.5817e-04 - val_mse: 2.5817e-04 - val_mae: 0.0127 - val_mape: 2.1187\n",
            "Epoch 177/200\n",
            "47/47 [==============================] - 1s 11ms/step - loss: 6.9573e-04 - mse: 6.9573e-04 - mae: 0.0196 - mape: 12377.4832 - val_loss: 1.8566e-04 - val_mse: 1.8566e-04 - val_mae: 0.0103 - val_mape: 1.7686\n",
            "Epoch 178/200\n",
            "47/47 [==============================] - 0s 10ms/step - loss: 5.5984e-04 - mse: 5.5984e-04 - mae: 0.0175 - mape: 11693.7675 - val_loss: 3.9280e-04 - val_mse: 3.9280e-04 - val_mae: 0.0167 - val_mape: 2.7654\n",
            "Epoch 179/200\n",
            "47/47 [==============================] - 1s 11ms/step - loss: 6.1752e-04 - mse: 6.1752e-04 - mae: 0.0185 - mape: 11511.3612 - val_loss: 2.0168e-04 - val_mse: 2.0168e-04 - val_mae: 0.0110 - val_mape: 1.8346\n",
            "Epoch 180/200\n",
            "47/47 [==============================] - 1s 11ms/step - loss: 6.8008e-04 - mse: 6.8008e-04 - mae: 0.0191 - mape: 23125.2984 - val_loss: 1.6832e-04 - val_mse: 1.6832e-04 - val_mae: 0.0094 - val_mape: 1.5997\n",
            "Epoch 181/200\n",
            "47/47 [==============================] - 1s 11ms/step - loss: 5.6124e-04 - mse: 5.6124e-04 - mae: 0.0177 - mape: 22159.9854 - val_loss: 1.7719e-04 - val_mse: 1.7719e-04 - val_mae: 0.0099 - val_mape: 1.6729\n",
            "Epoch 182/200\n",
            "47/47 [==============================] - 1s 11ms/step - loss: 5.2632e-04 - mse: 5.2632e-04 - mae: 0.0171 - mape: 2918.3562 - val_loss: 4.8852e-04 - val_mse: 4.8852e-04 - val_mae: 0.0191 - val_mape: 3.1626\n",
            "Epoch 183/200\n",
            "47/47 [==============================] - 1s 11ms/step - loss: 6.5850e-04 - mse: 6.5850e-04 - mae: 0.0187 - mape: 54439.2409 - val_loss: 2.0831e-04 - val_mse: 2.0831e-04 - val_mae: 0.0111 - val_mape: 1.8758\n",
            "Epoch 184/200\n",
            "47/47 [==============================] - 1s 11ms/step - loss: 5.8456e-04 - mse: 5.8456e-04 - mae: 0.0181 - mape: 937.7633 - val_loss: 4.5164e-04 - val_mse: 4.5164e-04 - val_mae: 0.0183 - val_mape: 3.0034\n",
            "Epoch 185/200\n",
            "47/47 [==============================] - 0s 10ms/step - loss: 5.8337e-04 - mse: 5.8337e-04 - mae: 0.0176 - mape: 10474.4058 - val_loss: 2.0728e-04 - val_mse: 2.0728e-04 - val_mae: 0.0111 - val_mape: 1.8861\n",
            "Epoch 186/200\n",
            "47/47 [==============================] - 1s 11ms/step - loss: 5.5160e-04 - mse: 5.5160e-04 - mae: 0.0173 - mape: 72014.0238 - val_loss: 2.5529e-04 - val_mse: 2.5529e-04 - val_mae: 0.0125 - val_mape: 2.0956\n",
            "Epoch 187/200\n",
            "47/47 [==============================] - 1s 11ms/step - loss: 5.1893e-04 - mse: 5.1893e-04 - mae: 0.0168 - mape: 11716.1882 - val_loss: 4.4060e-04 - val_mse: 4.4060e-04 - val_mae: 0.0180 - val_mape: 3.0248\n",
            "Epoch 188/200\n",
            "47/47 [==============================] - 1s 11ms/step - loss: 6.0276e-04 - mse: 6.0276e-04 - mae: 0.0187 - mape: 6751.9556 - val_loss: 1.7067e-04 - val_mse: 1.7067e-04 - val_mae: 0.0098 - val_mape: 1.6508\n",
            "Epoch 189/200\n",
            "47/47 [==============================] - 1s 11ms/step - loss: 6.5460e-04 - mse: 6.5460e-04 - mae: 0.0186 - mape: 9182.5435 - val_loss: 1.6625e-04 - val_mse: 1.6625e-04 - val_mae: 0.0094 - val_mape: 1.6013\n",
            "Epoch 190/200\n",
            "47/47 [==============================] - 1s 11ms/step - loss: 6.9324e-04 - mse: 6.9324e-04 - mae: 0.0191 - mape: 11943.5324 - val_loss: 1.7906e-04 - val_mse: 1.7906e-04 - val_mae: 0.0104 - val_mape: 1.7431\n",
            "Epoch 191/200\n",
            "47/47 [==============================] - 1s 11ms/step - loss: 6.2005e-04 - mse: 6.2005e-04 - mae: 0.0185 - mape: 44982.2822 - val_loss: 1.6906e-04 - val_mse: 1.6906e-04 - val_mae: 0.0095 - val_mape: 1.6256\n",
            "Epoch 192/200\n",
            "47/47 [==============================] - 1s 11ms/step - loss: 5.9740e-04 - mse: 5.9740e-04 - mae: 0.0181 - mape: 26578.2390 - val_loss: 2.6596e-04 - val_mse: 2.6596e-04 - val_mae: 0.0131 - val_mape: 2.2353\n",
            "Epoch 193/200\n",
            "47/47 [==============================] - 1s 12ms/step - loss: 6.1525e-04 - mse: 6.1525e-04 - mae: 0.0182 - mape: 12166.0484 - val_loss: 7.0198e-04 - val_mse: 7.0198e-04 - val_mae: 0.0238 - val_mape: 3.9135\n",
            "Epoch 194/200\n",
            "47/47 [==============================] - 1s 11ms/step - loss: 7.0119e-04 - mse: 7.0119e-04 - mae: 0.0196 - mape: 138696.2280 - val_loss: 1.7857e-04 - val_mse: 1.7857e-04 - val_mae: 0.0100 - val_mape: 1.7058\n",
            "Epoch 195/200\n",
            "47/47 [==============================] - 1s 11ms/step - loss: 5.4413e-04 - mse: 5.4413e-04 - mae: 0.0167 - mape: 14189.4169 - val_loss: 2.0556e-04 - val_mse: 2.0556e-04 - val_mae: 0.0111 - val_mape: 1.8956\n",
            "Epoch 196/200\n",
            "47/47 [==============================] - 1s 11ms/step - loss: 5.7202e-04 - mse: 5.7202e-04 - mae: 0.0181 - mape: 17810.4568 - val_loss: 2.2748e-04 - val_mse: 2.2748e-04 - val_mae: 0.0112 - val_mape: 1.8926\n",
            "Epoch 197/200\n",
            "47/47 [==============================] - 1s 11ms/step - loss: 5.3637e-04 - mse: 5.3637e-04 - mae: 0.0169 - mape: 20108.9133 - val_loss: 1.7909e-04 - val_mse: 1.7909e-04 - val_mae: 0.0096 - val_mape: 1.6326\n",
            "Epoch 198/200\n",
            "47/47 [==============================] - 1s 11ms/step - loss: 6.2953e-04 - mse: 6.2953e-04 - mae: 0.0185 - mape: 15716.6073 - val_loss: 1.9294e-04 - val_mse: 1.9294e-04 - val_mae: 0.0104 - val_mape: 1.7862\n",
            "Epoch 199/200\n",
            "47/47 [==============================] - 1s 11ms/step - loss: 7.2160e-04 - mse: 7.2160e-04 - mae: 0.0190 - mape: 10718.2527 - val_loss: 1.7858e-04 - val_mse: 1.7858e-04 - val_mae: 0.0101 - val_mape: 1.7120\n",
            "Epoch 200/200\n",
            "47/47 [==============================] - 1s 11ms/step - loss: 5.2965e-04 - mse: 5.2965e-04 - mae: 0.0169 - mape: 36766.1437 - val_loss: 1.6602e-04 - val_mse: 1.6602e-04 - val_mae: 0.0094 - val_mape: 1.5932\n"
          ],
          "name": "stdout"
        }
      ]
    },
    {
      "cell_type": "code",
      "metadata": {
        "colab": {
          "base_uri": "https://localhost:8080/",
          "height": 279
        },
        "id": "64flD5CxuvWx",
        "outputId": "a5089c35-d962-43fb-f3c0-8541b229e0ec"
      },
      "source": [
        "plt.plot(history.history['loss'],'r',label='train loss')\n",
        "plt.plot(history.history['val_loss'],'g',label='val loss')\n",
        "plt.xlabel('# epoch')\n",
        "plt.ylabel('loss')\n",
        "plt.legend()\n",
        "plt.show()"
      ],
      "execution_count": null,
      "outputs": [
        {
          "output_type": "display_data",
          "data": {
            "image/png": "[encoded data removed]",
            "text/plain": [
              "<Figure size 432x288 with 1 Axes>"
            ]
          },
          "metadata": {
            "tags": [],
            "needs_background": "light"
          }
        }
      ]
    },
    {
      "cell_type": "code",
      "metadata": {
        "colab": {
          "base_uri": "https://localhost:8080/"
        },
        "id": "XT0MB5c5uxR5",
        "outputId": "6adf0546-971a-463a-82b1-e2955a4b9dfc"
      },
      "source": [
        "result=model.predict(test_data)\n",
        "\n",
        "from sklearn.metrics import r2_score\n",
        "\n",
        "r2=r2_score(test_target,result)\n",
        "print('r2 score:',r2)"
      ],
      "execution_count": null,
      "outputs": [
        {
          "output_type": "stream",
          "text": [
            "r2 score: 0.9837420998289329\n"
          ],
          "name": "stdout"
        }
      ]
    },
    {
      "cell_type": "code",
      "metadata": {
        "colab": {
          "base_uri": "https://localhost:8080/"
        },
        "id": "ACptkYvFDdwA",
        "outputId": "1f13b8ea-7e89-413e-e89e-becdf8fd3d08"
      },
      "source": [
        "score = model.evaluate(test_data, test_target, verbose = 0) \n",
        "print(\"%s: %.2f%%\" % (model.metrics_names[0], score[0]))\n",
        "print(\"%s: %.2f%%\" % (model.metrics_names[1], score[1]))\n",
        "print(\"%s: %.2f%%\" % (model.metrics_names[2], score[2]))\n",
        "print(\"%s: %.2f%%\" % (model.metrics_names[3], score[3]))\n",
        "#print('Test loss:', score[0]) \n",
        "print('MAPE:', score[3])"
      ],
      "execution_count": null,
      "outputs": [
        {
          "output_type": "stream",
          "text": [
            "loss: 0.00%\n",
            "mse: 0.00%\n",
            "mae: 0.01%\n",
            "mape: 2.09%\n",
            "MAPE: 2.0949783325195312\n"
          ],
          "name": "stdout"
        }
      ]
    },
    {
      "cell_type": "code",
      "metadata": {
        "colab": {
          "base_uri": "https://localhost:8080/",
          "height": 279
        },
        "id": "WWRRj41fuzdh",
        "outputId": "6447b6f2-d0ec-4bc9-b4f0-c702951ab486"
      },
      "source": [
        "#test_x_range=np.arange(1000,1209,1)\n",
        "test_x_range=np.arange(1659,2371,1)\n",
        "#test_x_range is an array of values between 1000-1208\n",
        "\n",
        "plt.plot(train_target,'r',label='train')\n",
        "plt.plot(test_x_range,test_target,'b',label='test')\n",
        "plt.plot(test_x_range,result,'g',label='predicted')\n",
        "\n",
        "plt.xlabel('Date')\n",
        "plt.ylabel('Open Value/$')\n",
        "plt.legend()\n",
        "plt.show()"
      ],
      "execution_count": null,
      "outputs": [
        {
          "output_type": "display_data",
          "data": {
            "image/png": "[encoded data removed]",
            "text/plain": [
              "<Figure size 432x288 with 1 Axes>"
            ]
          },
          "metadata": {
            "tags": [],
            "needs_background": "light"
          }
        }
      ]
    },
    {
      "cell_type": "code",
      "metadata": {
        "colab": {
          "base_uri": "https://localhost:8080/",
          "height": 279
        },
        "id": "T4CR9lrAu7XR",
        "outputId": "9b50c6a9-f87a-4c1b-cc84-7e208d1354a5"
      },
      "source": [
        "plt.plot(test_target,'b',label='test')\n",
        "plt.plot(result,'r',label='predicted')\n",
        "\n",
        "plt.xlabel('Date')\n",
        "plt.ylabel('Open Value/$')\n",
        "plt.legend()\n",
        "plt.show()"
      ],
      "execution_count": null,
      "outputs": [
        {
          "output_type": "display_data",
          "data": {
            "image/png": "[encoded data removed]",
            "text/plain": [
              "<Figure size 432x288 with 1 Axes>"
            ]
          },
          "metadata": {
            "tags": [],
            "needs_background": "light"
          }
        }
      ]
    }
  ]
}